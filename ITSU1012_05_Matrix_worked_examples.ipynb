{
  "cells": [
    {
      "cell_type": "markdown",
      "source": [
        "# RUNME FIRST"
      ],
      "metadata": {
        "id": "6fybr3p4HxML"
      }
    },
    {
      "cell_type": "code",
      "execution_count": null,
      "metadata": {
        "id": "9P4S_uxJHd4h"
      },
      "outputs": [],
      "source": [
        "import numpy as np\n",
        "from sympy import Matrix"
      ]
    },
    {
      "cell_type": "markdown",
      "metadata": {
        "id": "xgITE2HXHd4i"
      },
      "source": [
        "# ITSU1012-05 Matrix Worked Example 01"
      ]
    },
    {
      "cell_type": "markdown",
      "metadata": {
        "id": "9F3570EtHd4i"
      },
      "source": [
        "Define matrices"
      ]
    },
    {
      "cell_type": "code",
      "execution_count": null,
      "metadata": {
        "id": "rRsmbQpNHd4j"
      },
      "outputs": [],
      "source": [
        "# A = [[2, 5],\n",
        "#      [3, 6],\n",
        "#      [4, 7]]\n",
        "\n",
        "# define A as an matrix using numpy array\n",
        "A = np.array([[2, 5],\n",
        "                 [3, 6],\n",
        "                 [4, 7]])"
      ]
    },
    {
      "cell_type": "code",
      "execution_count": null,
      "metadata": {
        "id": "k5FIJkOSHd4j"
      },
      "outputs": [],
      "source": [
        "# B = [[1, 2, 3],\n",
        "#      [-1, -2, -3]]\n",
        "\n",
        "# Define B using numpy array\n",
        "B = np.array([[1, 2, 3],\n",
        "              [-1, -2, -3]])"
      ]
    },
    {
      "cell_type": "code",
      "execution_count": null,
      "metadata": {
        "id": "eAx_2LjzHd4j"
      },
      "outputs": [],
      "source": [
        "# C = [[-1],\n",
        "#      [-2],\n",
        "#      [-3]]\n",
        "\n",
        "# Define C using numpy array\n",
        "C = np.array([[-1],\n",
        "              [-2],\n",
        "              [-3]])\n"
      ]
    },
    {
      "cell_type": "markdown",
      "metadata": {
        "id": "kNLsCEllHd4k"
      },
      "source": [
        "D is not a matrix because the number of elements in each row is not the same<br>\n",
        "D = [[1, 2, 3], [6 <blank> <blank>]]"
      ]
    },
    {
      "cell_type": "markdown",
      "metadata": {
        "id": "x0M8s32YHd4k"
      },
      "source": [
        "Note the difference between C and C1"
      ]
    },
    {
      "cell_type": "code",
      "execution_count": null,
      "metadata": {
        "id": "xhThfht1Hd4k"
      },
      "outputs": [],
      "source": [
        "# C1 = [[-1, -2, -3]]\n",
        "\n",
        "# Define C1 using numpy array\n",
        "C1 = np.array([[-1, -2, -3]])\n"
      ]
    },
    {
      "cell_type": "markdown",
      "metadata": {
        "id": "WbJbdhoYHd4k"
      },
      "source": [
        "Print the order of the matrices"
      ]
    },
    {
      "cell_type": "code",
      "execution_count": null,
      "metadata": {
        "colab": {
          "base_uri": "https://localhost:8080/"
        },
        "id": "C69rTSYIHd4k",
        "outputId": "90df7acd-d697-4271-ac7e-35d168fa41ec"
      },
      "outputs": [
        {
          "output_type": "stream",
          "name": "stdout",
          "text": [
            "The order of matrix A is (2, 2)\n",
            "The order of matrix B is (2, 2)\n",
            "The order of matrix C is (3, 1)\n"
          ]
        }
      ],
      "source": [
        "# print(\"The order of matrix A is\", len(A), \"x\", len(A[0]))\n",
        "# print(\"The order of matrix B is\", len(B), \"x\", len(B[0]))\n",
        "# print(\"The order of matrix C is\", len(C), \"x\", len(C[0]))\n",
        "\n",
        "# print the order of matrix A, B, C\n",
        "print(\"The order of matrix A is\", np.shape(A))\n",
        "print(\"The order of matrix B is\", np.shape(B))\n",
        "print(\"The order of matrix C is\", np.shape(C))"
      ]
    },
    {
      "cell_type": "markdown",
      "metadata": {
        "id": "g2VdJokZHd4l"
      },
      "source": [
        "Print the elements of the matrices at position (2, 1)<br>\n",
        "Note that the index is 0-based (the index starts from 0)"
      ]
    },
    {
      "cell_type": "code",
      "execution_count": null,
      "metadata": {
        "colab": {
          "base_uri": "https://localhost:8080/"
        },
        "id": "jJhL-xYOHd4l",
        "outputId": "40cbf0ab-d057-4704-d187-e31691aafbe4"
      },
      "outputs": [
        {
          "output_type": "stream",
          "name": "stdout",
          "text": [
            "The element at position (2, 1) in matrix A is 4\n",
            "The element at position (2, 1) in matrix B is -3\n",
            "The element at position (2, 1) in matrix C is -2\n"
          ]
        }
      ],
      "source": [
        "print(\"The element at position (2, 1) in matrix A is\", A[1][0])\n",
        "print(\"The element at position (2, 1) in matrix B is\", B[1][0])\n",
        "print(\"The element at position (2, 1) in matrix C is\", C[1][0])"
      ]
    },
    {
      "cell_type": "markdown",
      "metadata": {
        "id": "BWiW1MM5Hd4l"
      },
      "source": [
        "Print the elements of the matrices at position (1, 3)<br>\n",
        "Note that the index is 0-based (the index starts from 0)<br>\n",
        "Should these lines work?<br>\n",
        "print(\"The element at position (1, 3) in matrix A is\", A[0][2])<br>\n",
        "print(\"The element at position (1, 3) in matrix B is\", B[0][2])<br>\n",
        "print(\"The element at position (1, 3) in matrix C is\", C[0][2])"
      ]
    },
    {
      "cell_type": "markdown",
      "metadata": {
        "id": "bh2EY8NSHd4l"
      },
      "source": [
        "# ITSU1012-05 Matrix Worked Example 02"
      ]
    },
    {
      "cell_type": "markdown",
      "metadata": {
        "id": "56ks-AjLHd4m"
      },
      "source": [
        "Matrix addition"
      ]
    },
    {
      "cell_type": "code",
      "execution_count": null,
      "metadata": {
        "id": "X8eZFTuNHd4m"
      },
      "outputs": [],
      "source": [
        "# A = [[1, 2],\n",
        "#      [3, 4]]\n",
        "\n",
        "# Define A using numpy array\n",
        "A = np.array([[1, 2],\n",
        "                 [3, 4]])\n"
      ]
    },
    {
      "cell_type": "code",
      "execution_count": null,
      "metadata": {
        "id": "EKHd-oH_Hd4m"
      },
      "outputs": [],
      "source": [
        "# B = [[1, 4],\n",
        "#      [2, 3]]\n",
        "\n",
        "# Define B using numpy array\n",
        "B = np.array([[1, 4],\n",
        "              [2, 3]])"
      ]
    },
    {
      "cell_type": "code",
      "execution_count": null,
      "metadata": {
        "id": "sid52YFiHd4m"
      },
      "outputs": [],
      "source": [
        "# C = [[2, 2, 0],\n",
        "#      [2, 2, 0]]\n",
        "\n",
        "# Define C using numpy array\n",
        "C = np.array([[2, 2, 0],\n",
        "              [2, 2, 0]])\n"
      ]
    },
    {
      "cell_type": "markdown",
      "metadata": {
        "id": "-lFAp6-5Hd4m"
      },
      "source": [
        "print A and B"
      ]
    },
    {
      "cell_type": "code",
      "execution_count": null,
      "metadata": {
        "colab": {
          "base_uri": "https://localhost:8080/"
        },
        "id": "Zt1yyauHHd4m",
        "outputId": "49a3737d-3f25-4e2b-886d-cb027f1bee72"
      },
      "outputs": [
        {
          "output_type": "stream",
          "name": "stdout",
          "text": [
            "Matrix A [[1 2]\n",
            " [3 4]]\n"
          ]
        }
      ],
      "source": [
        "print(\"Matrix A\", A)\n",
        "\n"
      ]
    },
    {
      "cell_type": "code",
      "execution_count": null,
      "metadata": {
        "colab": {
          "base_uri": "https://localhost:8080/"
        },
        "id": "6SRbdjJNHd4n",
        "outputId": "55188771-8352-4d48-8a81-c3e714466b8f"
      },
      "outputs": [
        {
          "output_type": "stream",
          "name": "stdout",
          "text": [
            "Matrix B [[1 4]\n",
            " [2 3]]\n"
          ]
        }
      ],
      "source": [
        "print(\"Matrix B\", B)"
      ]
    },
    {
      "cell_type": "markdown",
      "metadata": {
        "id": "Fv5k-DNWHd4n"
      },
      "source": [
        "Matrix addition"
      ]
    },
    {
      "cell_type": "code",
      "execution_count": null,
      "metadata": {
        "colab": {
          "base_uri": "https://localhost:8080/"
        },
        "id": "SilXc-3IHd4n",
        "outputId": "a514be4d-0a68-49d8-d855-e9bbf6d27e69"
      },
      "outputs": [
        {
          "output_type": "stream",
          "name": "stdout",
          "text": [
            "Matrix D\n",
            "[[2 6]\n",
            " [5 7]]\n"
          ]
        }
      ],
      "source": [
        "D = A + B\n",
        "# Print the result\n",
        "print(\"Matrix D\")\n",
        "print(D)\n"
      ]
    },
    {
      "cell_type": "markdown",
      "metadata": {
        "id": "4Z4yk6tkHd4n"
      },
      "source": [
        "Matrix subtraction<br>\n",
        "Should this work?<br>\n",
        "D = A - B"
      ]
    },
    {
      "cell_type": "markdown",
      "metadata": {
        "id": "HGScjabkHd4n"
      },
      "source": [
        "Should we use the following code?<br>\n",
        "Should it work?<br>\n",
        "D = B - C"
      ]
    },
    {
      "cell_type": "markdown",
      "metadata": {
        "id": "lKPXt_iiHd4n"
      },
      "source": [
        "# ITSU1012-05 Matrix Worked Example 03"
      ]
    },
    {
      "cell_type": "markdown",
      "metadata": {
        "id": "r8GcdDz7Hd4n"
      },
      "source": [
        "Matrix multiplication by scalar"
      ]
    },
    {
      "cell_type": "code",
      "execution_count": null,
      "metadata": {
        "id": "fWuea643Hd4o"
      },
      "outputs": [],
      "source": [
        "# A = [[2, -3],\n",
        "#     [4, 1]]\n",
        "\n",
        "# Define A using numpy array\n",
        "A = np.array([[2, -3],\n",
        "              [4, 1]])"
      ]
    },
    {
      "cell_type": "code",
      "execution_count": null,
      "metadata": {
        "id": "vExLoTMoHd4o"
      },
      "outputs": [],
      "source": [
        "# B = [[3, 3],\n",
        "#      [-3, -2]]\n",
        "\n",
        "# Define B using numpy array\n",
        "B = np.array([[3, 3],\n",
        "              [-3, -2]])"
      ]
    },
    {
      "cell_type": "markdown",
      "metadata": {
        "id": "htMPbbvHHd4o"
      },
      "source": [
        "Print A and B"
      ]
    },
    {
      "cell_type": "code",
      "execution_count": null,
      "metadata": {
        "colab": {
          "base_uri": "https://localhost:8080/"
        },
        "id": "hDuzTXvsHd4o",
        "outputId": "590e0550-6c72-4bf4-87bc-0fefa94a4bc0"
      },
      "outputs": [
        {
          "output_type": "stream",
          "name": "stdout",
          "text": [
            "Matrix A\n",
            "[[ 2 -3]\n",
            " [ 4  1]]\n",
            "Matrix B\n",
            "[[1 4]\n",
            " [2 3]]\n"
          ]
        }
      ],
      "source": [
        "print(\"Matrix A\")\n",
        "print(A)\n"
      ]
    },
    {
      "cell_type": "code",
      "execution_count": null,
      "metadata": {
        "colab": {
          "base_uri": "https://localhost:8080/"
        },
        "id": "68G-IjtlHd4o",
        "outputId": "cb7cfbc2-2a79-4c6b-df95-96c5f1393fc5"
      },
      "outputs": [
        {
          "output_type": "stream",
          "name": "stdout",
          "text": [
            "Matrix B\n",
            "[[1 4]\n",
            " [2 3]]\n"
          ]
        }
      ],
      "source": [
        "print(\"Matrix B\")\n",
        "print(B)"
      ]
    },
    {
      "cell_type": "markdown",
      "metadata": {
        "id": "Ao6QDueGHd4o"
      },
      "source": [
        "Multiply A by 2"
      ]
    },
    {
      "cell_type": "code",
      "execution_count": null,
      "metadata": {
        "colab": {
          "base_uri": "https://localhost:8080/"
        },
        "id": "kz6zx7MwHd4p",
        "outputId": "462a3632-513d-45ad-d0cd-e22145286a0a"
      },
      "outputs": [
        {
          "output_type": "stream",
          "name": "stdout",
          "text": [
            "Matrix C\n",
            "[[ 4 -6]\n",
            " [ 8  2]]\n"
          ]
        }
      ],
      "source": [
        "C = 2 * A\n",
        "# Print the result\n",
        "print(\"Matrix C\")\n",
        "print(C)\n"
      ]
    },
    {
      "cell_type": "markdown",
      "metadata": {
        "id": "mCumiKzYHd4p"
      },
      "source": [
        "Multiply B by 5"
      ]
    },
    {
      "cell_type": "code",
      "execution_count": null,
      "metadata": {
        "colab": {
          "base_uri": "https://localhost:8080/"
        },
        "id": "YvNuBGDxHd4q",
        "outputId": "8e328fd1-a187-440c-faff-9b7ad0a1366a"
      },
      "outputs": [
        {
          "output_type": "stream",
          "name": "stdout",
          "text": [
            "Matrix C\n",
            "[[ 5 20]\n",
            " [10 15]]\n"
          ]
        }
      ],
      "source": [
        "C = 5 * B\n",
        "# Print the result\n",
        "print(\"Matrix C\")\n",
        "print(C)"
      ]
    },
    {
      "cell_type": "markdown",
      "metadata": {
        "id": "DS8Vn6sPHd4q"
      },
      "source": [
        "Calculate 2*A + 5*B"
      ]
    },
    {
      "cell_type": "code",
      "execution_count": null,
      "metadata": {
        "colab": {
          "base_uri": "https://localhost:8080/"
        },
        "id": "WNvPYVoLHd4q",
        "outputId": "e17a7b41-3f7f-4943-e218-aec199c57eda"
      },
      "outputs": [
        {
          "output_type": "stream",
          "name": "stdout",
          "text": [
            "Matrix C\n",
            "[[ 9 14]\n",
            " [18 17]]\n"
          ]
        }
      ],
      "source": [
        "C = 2 * A + 5 * B\n",
        "# Print the result\n",
        "print(\"Matrix C\")\n",
        "print(C)"
      ]
    },
    {
      "cell_type": "markdown",
      "metadata": {
        "id": "SAHN6E8MHd4q"
      },
      "source": [
        "Calculate 4*(A + B)"
      ]
    },
    {
      "cell_type": "code",
      "execution_count": null,
      "metadata": {
        "colab": {
          "base_uri": "https://localhost:8080/"
        },
        "id": "4HjJveweHd4q",
        "outputId": "1842906c-7f73-4bf9-d885-bf3a91e01528"
      },
      "outputs": [
        {
          "output_type": "stream",
          "name": "stdout",
          "text": [
            "Matrix C\n",
            "[[12  4]\n",
            " [24 16]]\n"
          ]
        }
      ],
      "source": [
        "C = 4 * (A + B)\n",
        "# Print the result\n",
        "print(\"Matrix C\")\n",
        "print(C)"
      ]
    },
    {
      "cell_type": "markdown",
      "metadata": {
        "id": "eRclXqabHd4q"
      },
      "source": [
        "Calculate 2*(B - A)"
      ]
    },
    {
      "cell_type": "code",
      "execution_count": null,
      "metadata": {
        "colab": {
          "base_uri": "https://localhost:8080/"
        },
        "id": "Z7_FbDicHd4r",
        "outputId": "7e2bf300-910c-43ec-d26d-67e01862acc8"
      },
      "outputs": [
        {
          "output_type": "stream",
          "name": "stdout",
          "text": [
            "Matrix C\n",
            "[[-2 14]\n",
            " [-4  4]]\n"
          ]
        }
      ],
      "source": [
        "C = 2 * (B - A)\n",
        "# Print the result\n",
        "print(\"Matrix C\")\n",
        "print(C)\n"
      ]
    },
    {
      "cell_type": "markdown",
      "metadata": {
        "id": "MLKLlsR_Hd4r"
      },
      "source": [
        "# ITSU1012-05 Matrix Worked Example 03.1"
      ]
    },
    {
      "cell_type": "markdown",
      "metadata": {
        "id": "50dICZBLHd4r"
      },
      "source": [
        "Define matrices"
      ]
    },
    {
      "cell_type": "code",
      "execution_count": null,
      "metadata": {
        "id": "JqLqNoE7Hd4r"
      },
      "outputs": [],
      "source": [
        "C = Matrix([[50, 35],\n",
        "             [-15, 20]])"
      ]
    },
    {
      "cell_type": "markdown",
      "metadata": {
        "id": "IslKQcuJHd4r"
      },
      "source": [
        "solve for A:  5*A = c"
      ]
    },
    {
      "cell_type": "code",
      "execution_count": null,
      "metadata": {
        "colab": {
          "base_uri": "https://localhost:8080/"
        },
        "id": "K_CNNJs6Hd4s",
        "outputId": "72a0c00d-dc0d-4468-a930-07ee37a7b5a8"
      },
      "outputs": [
        {
          "output_type": "stream",
          "name": "stdout",
          "text": [
            "Matrix A\n",
            "Matrix([[10, 7], [-3, 4]])\n"
          ]
        }
      ],
      "source": [
        "A = C / 5\n",
        "print(\"Matrix A\")\n",
        "print(A)"
      ]
    },
    {
      "cell_type": "code",
      "execution_count": null,
      "metadata": {
        "id": "tjeZ6DgYHd4s"
      },
      "outputs": [],
      "source": [
        "# B = [[3, 2],\n",
        "#      [1, 5]]\n",
        "# C = [[6, 9],\n",
        "#      [-2, 4]]\n",
        "\n",
        "# Define B, C using numpy array\n",
        "B = np.array([[3, 2],\n",
        "                 [1, 5]])\n",
        "C = np.array([[6, 9],\n",
        "              [-2, 4]])"
      ]
    },
    {
      "cell_type": "markdown",
      "metadata": {
        "id": "6E6k8O2aHd4s"
      },
      "source": [
        "Solve for P: P + B = C"
      ]
    },
    {
      "cell_type": "code",
      "execution_count": null,
      "metadata": {
        "colab": {
          "base_uri": "https://localhost:8080/"
        },
        "id": "6CUCaa8DHd4s",
        "outputId": "8a822b8e-3661-402d-fa67-7530e2379a55"
      },
      "outputs": [
        {
          "output_type": "stream",
          "name": "stdout",
          "text": [
            "Matrix P\n",
            "[[ 3  7]\n",
            " [-3 -1]]\n"
          ]
        }
      ],
      "source": [
        "\n",
        "P = C - B\n",
        "print(\"Matrix P\")\n",
        "print(P)"
      ]
    },
    {
      "cell_type": "code",
      "execution_count": null,
      "metadata": {
        "id": "HFnS0SLcHd4s"
      },
      "outputs": [],
      "source": [
        "# C = [[1, 2, -3],\n",
        "#      [2, 0, 1]]\n",
        "# D = [[3, 4, 7],\n",
        "#      [-2, 6, -5]]\n",
        "\n",
        "# Define C, D usin numpy array\n",
        "C = np.array([[1, 2, -3],\n",
        "              [2, 0, 1]])\n",
        "D = np.array([[3, 4, 7],\n",
        "              [-2, 6, -5]])"
      ]
    },
    {
      "cell_type": "markdown",
      "metadata": {
        "id": "arPR5gBaHd4t"
      },
      "source": [
        "Solve for B: 2*B - C = D"
      ]
    },
    {
      "cell_type": "code",
      "execution_count": null,
      "metadata": {
        "colab": {
          "base_uri": "https://localhost:8080/"
        },
        "id": "IZeIltezHd4t",
        "outputId": "8df948c0-d1b3-4fe9-a40b-4ff280f071f9"
      },
      "outputs": [
        {
          "output_type": "stream",
          "name": "stdout",
          "text": [
            "Matrix B\n",
            "[[4.  7.5]\n",
            " [1.5 5.5]]\n"
          ]
        }
      ],
      "source": [
        "# B = (Matrix(D) + Matrix(C)) / 2\n",
        "\n",
        "B = (D + C) / 2\n",
        "print(\"Matrix B\")\n",
        "print(B)"
      ]
    },
    {
      "cell_type": "markdown",
      "metadata": {
        "id": "fSH7moW8Hd4t"
      },
      "source": [
        "# ITSU1012-05 Matrix Worked Example 04"
      ]
    },
    {
      "cell_type": "markdown",
      "metadata": {
        "id": "ym0byjl_Hd4t"
      },
      "source": [
        "Define the matrix using numpy"
      ]
    },
    {
      "cell_type": "code",
      "execution_count": null,
      "metadata": {
        "id": "-EJlkhDNHd4t"
      },
      "outputs": [],
      "source": [
        "points_matrix = np.array([[60, 63, 51],\n",
        "                          [71, 64, 74],\n",
        "                          [64, 69, 71],\n",
        "                          [69, 72, 68]])"
      ]
    },
    {
      "cell_type": "markdown",
      "metadata": {
        "id": "JHldg4t9Hd4u"
      },
      "source": [
        "Calculate sum in every row (axis=1)"
      ]
    },
    {
      "cell_type": "code",
      "execution_count": null,
      "metadata": {
        "id": "oU5lFcRlHd4u"
      },
      "outputs": [],
      "source": [
        "row_sums = points_matrix.sum(axis=1)"
      ]
    },
    {
      "cell_type": "markdown",
      "metadata": {
        "id": "t4ZdDSOqHd4u"
      },
      "source": [
        "Calculate sum in every column (axis=0)"
      ]
    },
    {
      "cell_type": "code",
      "execution_count": null,
      "metadata": {
        "id": "R6Z5HX5BHd4u"
      },
      "outputs": [],
      "source": [
        "column_sums = points_matrix.sum(axis=0)"
      ]
    },
    {
      "cell_type": "code",
      "execution_count": null,
      "metadata": {
        "colab": {
          "base_uri": "https://localhost:8080/"
        },
        "id": "pxNyMAa-Hd4u",
        "outputId": "fe9ffc97-38af-4ed2-8fe7-4f5e8adc07d6"
      },
      "outputs": [
        {
          "output_type": "stream",
          "name": "stdout",
          "text": [
            "Sum of each row: [174 209 204 209]\n",
            "Sum of each column: [264 268 264]\n"
          ]
        }
      ],
      "source": [
        "print(\"Sum of each row:\", row_sums)\n",
        "print(\"Sum of each column:\", column_sums)"
      ]
    },
    {
      "cell_type": "markdown",
      "metadata": {
        "id": "JW9pQ0nXHd4u"
      },
      "source": [
        "# ITSU1012-05 Matrix Worked Example 05"
      ]
    },
    {
      "cell_type": "markdown",
      "metadata": {
        "id": "uMxcvxyeHd4v"
      },
      "source": [
        "Matrix multiplication"
      ]
    },
    {
      "cell_type": "code",
      "execution_count": null,
      "metadata": {
        "id": "l-NbMyNhHd4v"
      },
      "outputs": [],
      "source": [
        "A = Matrix([[1, 2, 3],\n",
        "            [4, 5, 6]])\n",
        "B = Matrix([[2, -1],\n",
        "            [0, 4],\n",
        "            [5, 3]])"
      ]
    },
    {
      "cell_type": "markdown",
      "metadata": {
        "id": "Q5EQdu_PHd4v"
      },
      "source": [
        "Print A and B"
      ]
    },
    {
      "cell_type": "code",
      "execution_count": null,
      "metadata": {
        "colab": {
          "base_uri": "https://localhost:8080/"
        },
        "id": "u7a6QX4cHd4v",
        "outputId": "c9b1ad24-821d-4de9-90cf-0c4eaaa0ef34"
      },
      "outputs": [
        {
          "output_type": "stream",
          "name": "stdout",
          "text": [
            "Matrix A\n",
            "Matrix([[1, 2, 3], [4, 5, 6]])\n",
            "Matrix B\n",
            "Matrix([[2, -1], [0, 4], [5, 3]])\n"
          ]
        }
      ],
      "source": [
        "print(\"Matrix A\")\n",
        "print(A)\n",
        "print(\"Matrix B\")\n",
        "print(B)"
      ]
    },
    {
      "cell_type": "markdown",
      "metadata": {
        "id": "lLwq5KZJHd4v"
      },
      "source": [
        "Print order of matrices"
      ]
    },
    {
      "cell_type": "code",
      "execution_count": null,
      "metadata": {
        "colab": {
          "base_uri": "https://localhost:8080/"
        },
        "id": "AtJnool5Hd4v",
        "outputId": "f00ab5ae-8286-4831-fa3b-d184630edc71"
      },
      "outputs": [
        {
          "output_type": "stream",
          "name": "stdout",
          "text": [
            "The order of matrix A is (2, 3)\n",
            "The order of matrix B is (3, 2)\n"
          ]
        }
      ],
      "source": [
        "print(\"The order of matrix A is\", A.shape)\n",
        "print(\"The order of matrix B is\", B.shape)"
      ]
    },
    {
      "cell_type": "markdown",
      "metadata": {
        "id": "RrngdI9XHd4w"
      },
      "source": [
        "Multiply A by B"
      ]
    },
    {
      "cell_type": "code",
      "execution_count": null,
      "metadata": {
        "colab": {
          "base_uri": "https://localhost:8080/"
        },
        "id": "EAPYBSNZHd4w",
        "outputId": "2fec9966-c0ef-45df-e748-75d4ab2a041f"
      },
      "outputs": [
        {
          "output_type": "stream",
          "name": "stdout",
          "text": [
            "Matrix C\n",
            "Matrix([[17, 16], [38, 34]])\n"
          ]
        }
      ],
      "source": [
        "C = A * B\n",
        "print(\"Matrix C\")\n",
        "print(C)"
      ]
    },
    {
      "cell_type": "markdown",
      "metadata": {
        "id": "wkyFcAcEHd4w"
      },
      "source": [
        "Multiply B by A"
      ]
    },
    {
      "cell_type": "code",
      "execution_count": null,
      "metadata": {
        "colab": {
          "base_uri": "https://localhost:8080/"
        },
        "id": "0zqh294dHd4w",
        "outputId": "9fa8f82e-34ec-4392-d7a8-958114bf1d46"
      },
      "outputs": [
        {
          "output_type": "stream",
          "name": "stdout",
          "text": [
            "Matrix D\n",
            "Matrix([[-2, -1, 0], [16, 20, 24], [17, 25, 33]])\n"
          ]
        }
      ],
      "source": [
        "D = B * A\n",
        "print(\"Matrix D\")\n",
        "print(D)"
      ]
    },
    {
      "cell_type": "markdown",
      "metadata": {
        "id": "t7l8npJwHd4w"
      },
      "source": [
        "# ITSU1012-05 Matrix Worked Example 06 (No ex 06)\n",
        "\n",
        "\n",
        "\n",
        "\n"
      ]
    },
    {
      "cell_type": "markdown",
      "metadata": {
        "id": "CYpZSQq9Hd4w"
      },
      "source": [
        "# ITSU1012-05 Matrix Worked Example 07"
      ]
    },
    {
      "cell_type": "code",
      "execution_count": null,
      "metadata": {
        "id": "GP-28sbBHd4x"
      },
      "outputs": [],
      "source": [
        "A = Matrix([[4, 1],\n",
        "            [6, 3]])\n",
        "B = Matrix([[3, -1],\n",
        "            [-6, 4]])"
      ]
    },
    {
      "cell_type": "markdown",
      "metadata": {
        "id": "doQT4JSXHd4x"
      },
      "source": [
        "Print A and B"
      ]
    },
    {
      "cell_type": "code",
      "execution_count": null,
      "metadata": {
        "colab": {
          "base_uri": "https://localhost:8080/"
        },
        "id": "Cs9NCIKqHd4x",
        "outputId": "9371e354-e137-4c92-c87b-d80e43780613"
      },
      "outputs": [
        {
          "output_type": "stream",
          "name": "stdout",
          "text": [
            "Matrix A\n",
            "Matrix([[4, 1], [6, 3]])\n",
            "Matrix B\n",
            "Matrix([[3, -1], [-6, 4]])\n"
          ]
        }
      ],
      "source": [
        "print(\"Matrix A\")\n",
        "print(A)\n",
        "print(\"Matrix B\")\n",
        "print(B)"
      ]
    },
    {
      "cell_type": "markdown",
      "metadata": {
        "id": "NSEaDSbwHd4x"
      },
      "source": [
        "Find A*B"
      ]
    },
    {
      "cell_type": "code",
      "execution_count": null,
      "metadata": {
        "colab": {
          "base_uri": "https://localhost:8080/"
        },
        "id": "LtT4aZS3Hd4x",
        "outputId": "c017d5c5-4c2f-4825-b298-5e9f4841d0ea"
      },
      "outputs": [
        {
          "output_type": "stream",
          "name": "stdout",
          "text": [
            "Matrix C\n",
            "Matrix([[6, 0], [0, 6]])\n"
          ]
        }
      ],
      "source": [
        "C = A * B\n",
        "print(\"Matrix C\")\n",
        "print(C)"
      ]
    },
    {
      "cell_type": "markdown",
      "metadata": {
        "id": "eVBDs3g3Hd4y"
      },
      "source": [
        "Find the inverse of A"
      ]
    },
    {
      "cell_type": "code",
      "execution_count": null,
      "metadata": {
        "colab": {
          "base_uri": "https://localhost:8080/"
        },
        "id": "-tzYAfMLHd4y",
        "outputId": "2e5b8991-756e-4967-97e0-32fe7677fc15"
      },
      "outputs": [
        {
          "output_type": "stream",
          "name": "stdout",
          "text": [
            "Matrix A_inv\n",
            "Matrix([[1/2, -1/6], [-1, 2/3]])\n"
          ]
        }
      ],
      "source": [
        "A_inv = A.inv()\n",
        "print(\"Matrix A_inv\")\n",
        "print(A_inv)"
      ]
    },
    {
      "cell_type": "markdown",
      "metadata": {
        "id": "NLoVyDH-Hd4y"
      },
      "source": [
        "# ITSU1012-05 Matrix Worked Example 07 (inverse of a 2x2 matrix)"
      ]
    },
    {
      "cell_type": "markdown",
      "metadata": {
        "id": "vsSOgJlNHd4y"
      },
      "source": [
        "Define a 2x2 matrix using sympy"
      ]
    },
    {
      "cell_type": "markdown",
      "metadata": {
        "id": "Ws_hKW1SHd4y"
      },
      "source": [
        "Define symbols a, b, c, d with sympy"
      ]
    },
    {
      "cell_type": "code",
      "execution_count": null,
      "metadata": {
        "id": "_pOMCDs0Hd4y"
      },
      "outputs": [],
      "source": [
        "from sympy import symbols\n",
        "a, b, c, d = symbols('a b c d')"
      ]
    },
    {
      "cell_type": "code",
      "execution_count": null,
      "metadata": {
        "id": "kELwujiiHd4z"
      },
      "outputs": [],
      "source": [
        "A = Matrix([[a, b],\n",
        "            [c, d]])"
      ]
    },
    {
      "cell_type": "markdown",
      "metadata": {
        "id": "jFAQ0eYbHd4z"
      },
      "source": [
        "Find the inverse of A"
      ]
    },
    {
      "cell_type": "code",
      "execution_count": null,
      "metadata": {
        "colab": {
          "base_uri": "https://localhost:8080/"
        },
        "id": "O7XNm8cNHd4z",
        "outputId": "b4b668c4-f370-42b4-adfa-c2ccb28b3c73"
      },
      "outputs": [
        {
          "output_type": "stream",
          "name": "stdout",
          "text": [
            "Matrix A_inv\n",
            "Matrix([[d/(a*d - b*c), -b/(a*d - b*c)], [-c/(a*d - b*c), a/(a*d - b*c)]])\n"
          ]
        }
      ],
      "source": [
        "A_inv = A.inv()\n",
        "print(\"Matrix A_inv\")\n",
        "print(A_inv)"
      ]
    },
    {
      "cell_type": "markdown",
      "metadata": {
        "id": "J-S5l_98Hd4z"
      },
      "source": [
        "# ITSU1012-05 Matrix Worked Example 08"
      ]
    },
    {
      "cell_type": "markdown",
      "metadata": {
        "id": "tTj5KQrOHd4z"
      },
      "source": [
        "Using sympy to declare matrix C"
      ]
    },
    {
      "cell_type": "code",
      "execution_count": null,
      "metadata": {
        "id": "SZb4DD_zHd42"
      },
      "outputs": [],
      "source": [
        "C = Matrix([[2, -3],\n",
        "            [1, 5]])"
      ]
    },
    {
      "cell_type": "markdown",
      "metadata": {
        "id": "-00J5hYhHd42"
      },
      "source": [
        "Find C^(-1)"
      ]
    },
    {
      "cell_type": "code",
      "execution_count": null,
      "metadata": {
        "id": "yPRmhQd9Hd42"
      },
      "outputs": [],
      "source": [
        "C_inv = C.inv()"
      ]
    },
    {
      "cell_type": "code",
      "execution_count": null,
      "metadata": {
        "colab": {
          "base_uri": "https://localhost:8080/"
        },
        "id": "6iEVDgm1Hd42",
        "outputId": "e22d3b44-b9af-4f3e-e8ea-c7b2266a6f5c"
      },
      "outputs": [
        {
          "output_type": "stream",
          "name": "stdout",
          "text": [
            "Matrix C_inv\n"
          ]
        }
      ],
      "source": [
        "print(\"Matrix C_inv\")"
      ]
    },
    {
      "cell_type": "markdown",
      "metadata": {
        "id": "8B0-cM-3Hd43"
      },
      "source": [
        "# ITSU1012-05 Matrix Worked Example 09"
      ]
    },
    {
      "cell_type": "code",
      "execution_count": null,
      "metadata": {
        "id": "11c7KVkoHd43"
      },
      "outputs": [],
      "source": [
        "A = Matrix([[1, 2],\n",
        "            [0, 3]])"
      ]
    },
    {
      "cell_type": "code",
      "execution_count": null,
      "metadata": {
        "id": "J-xMO-u3Hd43"
      },
      "outputs": [],
      "source": [
        "B = Matrix([[2, 5],\n",
        "            [-2, 1]])"
      ]
    },
    {
      "cell_type": "markdown",
      "metadata": {
        "id": "6QjS7YxKHd43"
      },
      "source": [
        "Solve for X: A*X = B"
      ]
    },
    {
      "cell_type": "code",
      "execution_count": null,
      "metadata": {
        "colab": {
          "base_uri": "https://localhost:8080/"
        },
        "id": "fwqBiJ1EHd43",
        "outputId": "36957a1a-1880-485d-dee3-37ded48c159c"
      },
      "outputs": [
        {
          "output_type": "stream",
          "name": "stdout",
          "text": [
            "Matrix X (AX = B):  Matrix([[10/3, 13/3], [-2/3, 1/3]])\n"
          ]
        }
      ],
      "source": [
        "X = A.inv() * B\n",
        "print(\"Matrix X (AX = B): \", X)"
      ]
    },
    {
      "cell_type": "markdown",
      "metadata": {
        "id": "c-JQwz5bHd43"
      },
      "source": [
        "Solve for X: X*A = B"
      ]
    },
    {
      "cell_type": "code",
      "execution_count": null,
      "metadata": {
        "colab": {
          "base_uri": "https://localhost:8080/"
        },
        "id": "0-ryMEFrHd44",
        "outputId": "eb0f0fd3-e39c-412e-fb63-2a4ffbbaf20f"
      },
      "outputs": [
        {
          "output_type": "stream",
          "name": "stdout",
          "text": [
            "Matrix X (XA = B) Matrix([[2, 1/3], [-2, 5/3]])\n"
          ]
        }
      ],
      "source": [
        "X = B * A.inv()\n",
        "print(\"Matrix X (XA = B)\", X)"
      ]
    },
    {
      "cell_type": "markdown",
      "metadata": {
        "id": "LjBOplH1Hd44"
      },
      "source": [
        "# ITSU1012-05 Matrix Worked Example 10"
      ]
    },
    {
      "cell_type": "markdown",
      "metadata": {
        "id": "___kJB9THd44"
      },
      "source": [
        "Solve <br>\n",
        "3*x - y = 16<br>\n",
        "2*x + 5*y = 5<br>\n",
        "by matrix methods"
      ]
    },
    {
      "cell_type": "code",
      "execution_count": null,
      "metadata": {
        "id": "5EickO-rHd44"
      },
      "outputs": [],
      "source": [
        "A = Matrix([[3, -1],\n",
        "            [2, 5]])"
      ]
    },
    {
      "cell_type": "code",
      "execution_count": null,
      "metadata": {
        "id": "AbmNEiIOHd44"
      },
      "outputs": [],
      "source": [
        "B = Matrix([[16],\n",
        "            [5]])"
      ]
    },
    {
      "cell_type": "markdown",
      "metadata": {
        "id": "ZvZxEkvcHd44"
      },
      "source": [
        "Solve for X: A*X = B"
      ]
    },
    {
      "cell_type": "code",
      "execution_count": null,
      "metadata": {
        "id": "-Ezux9eBHd45"
      },
      "outputs": [],
      "source": [
        "X = A.inv() * B"
      ]
    },
    {
      "cell_type": "code",
      "execution_count": null,
      "metadata": {
        "colab": {
          "base_uri": "https://localhost:8080/"
        },
        "id": "uPWiiWkXHd45",
        "outputId": "f8dc8ea6-42c9-4ae3-e4cf-d47392983a07"
      },
      "outputs": [
        {
          "output_type": "stream",
          "name": "stdout",
          "text": [
            "Matrix X (AX = B) Matrix([[5], [-1]])\n"
          ]
        }
      ],
      "source": [
        "print(\"Matrix X (AX = B)\", X)"
      ]
    },
    {
      "cell_type": "markdown",
      "metadata": {
        "id": "YbXbMBI8Hd45"
      },
      "source": [
        "*Section: TODO: Solving Matrix equations using MathGPTPro"
      ]
    },
    {
      "cell_type": "markdown",
      "metadata": {
        "id": "7YQnfcKZHd45"
      },
      "source": [
        "* *italicized text*Section: Solving Matrix equations using Bing Chat"
      ]
    },
    {
      "cell_type": "markdown",
      "metadata": {
        "id": "QNCEjAq8Hd45"
      },
      "source": [
        "*Section: Solving Matrix equations using Wolfram Alpha"
      ]
    },
    {
      "cell_type": "markdown",
      "metadata": {
        "id": "UG65YY5vHd46"
      },
      "source": [
        "ITSU1012-05 Matrix Worked Example 11"
      ]
    },
    {
      "cell_type": "markdown",
      "metadata": {
        "id": "amizO3_PHd46"
      },
      "source": [
        "Find the matrix which translate P(3, -2) to P1(-2, 1)"
      ]
    },
    {
      "cell_type": "markdown",
      "metadata": {
        "id": "v_WyDEDOHd46"
      },
      "source": [
        "Translation matrix T (= P1 - P)"
      ]
    },
    {
      "cell_type": "code",
      "execution_count": null,
      "metadata": {
        "id": "4Qm6ojn3Hd46"
      },
      "outputs": [],
      "source": [
        "T = Matrix([[-2 - 3],\n",
        "            [1 - (-2)]])"
      ]
    },
    {
      "cell_type": "code",
      "execution_count": null,
      "metadata": {
        "colab": {
          "base_uri": "https://localhost:8080/"
        },
        "id": "Jr6s2605Hd46",
        "outputId": "cb3d3463-6642-4839-e389-b0076f6d3720"
      },
      "outputs": [
        {
          "output_type": "stream",
          "name": "stdout",
          "text": [
            "Matrix T: Matrix([[-5], [3]])\n"
          ]
        }
      ],
      "source": [
        "print(\"Matrix T:\", T)"
      ]
    },
    {
      "cell_type": "markdown",
      "metadata": {
        "id": "wR3bytKcHd46"
      },
      "source": [
        "# End of ITSU1012  Matrix Worked Example 11"
      ]
    },
    {
      "cell_type": "markdown",
      "metadata": {
        "id": "a-NBkJGnHd46"
      },
      "source": [
        "Reflection over x-axis"
      ]
    },
    {
      "cell_type": "code",
      "execution_count": null,
      "metadata": {
        "id": "qTrPmu_oHd46"
      },
      "outputs": [],
      "source": [
        "Mox = Matrix([[1, 0],\n",
        "                [0, -1]])"
      ]
    },
    {
      "cell_type": "markdown",
      "metadata": {
        "id": "Ns2oxSBYHd47"
      },
      "source": [
        "Reflection over y-axis"
      ]
    },
    {
      "cell_type": "code",
      "execution_count": null,
      "metadata": {
        "id": "Q_SA7bGFHd47"
      },
      "outputs": [],
      "source": [
        "Moy = Matrix([[-1, 0],\n",
        "                [0, 1]])"
      ]
    },
    {
      "cell_type": "markdown",
      "metadata": {
        "id": "zr-c7HnLHd47"
      },
      "source": [
        "Reflection over y = x"
      ]
    },
    {
      "cell_type": "code",
      "execution_count": null,
      "metadata": {
        "id": "cxMIx7LXHd47"
      },
      "outputs": [],
      "source": [
        "Moyx = Matrix([[0, 1],\n",
        "                [1, 0]])"
      ]
    },
    {
      "cell_type": "markdown",
      "metadata": {
        "id": "e0OwAvmNHd47"
      },
      "source": [
        "Reflection over y = -x"
      ]
    },
    {
      "cell_type": "code",
      "execution_count": null,
      "metadata": {
        "id": "DNAXnwesHd47"
      },
      "outputs": [],
      "source": [
        "Moy_x = Matrix([[0, -1],\n",
        "                [-1, 0]])"
      ]
    },
    {
      "cell_type": "markdown",
      "metadata": {
        "id": "kDJCBc9cHd47"
      },
      "source": [
        "# ITSU1012-05 Matrix Worked Example 12"
      ]
    },
    {
      "cell_type": "markdown",
      "metadata": {
        "id": "Yk_svuGVHd47"
      },
      "source": [
        "Find the image of the point P(-2, 5) under reflection in <br>\n",
        "a) the x-axis <br>\n",
        "b) the y-axis<br>\n",
        "c) the line y = x"
      ]
    },
    {
      "cell_type": "code",
      "execution_count": null,
      "metadata": {
        "id": "Ft623L7LHd48"
      },
      "outputs": [],
      "source": [
        "P = Matrix([[-2],\n",
        "            [5]])"
      ]
    },
    {
      "cell_type": "markdown",
      "metadata": {
        "id": "EoSZ33r3Hd48"
      },
      "source": [
        "Reflection over x-axis"
      ]
    },
    {
      "cell_type": "code",
      "execution_count": null,
      "metadata": {
        "id": "MQkDzB2-Hd48"
      },
      "outputs": [],
      "source": [
        "Mox = Matrix([[1, 0],\n",
        "                [0, -1]])"
      ]
    },
    {
      "cell_type": "code",
      "execution_count": null,
      "metadata": {
        "colab": {
          "base_uri": "https://localhost:8080/"
        },
        "id": "BbReCgS_Hd48",
        "outputId": "d032fd53-990a-4720-da73-ff7e03f71167"
      },
      "outputs": [
        {
          "output_type": "stream",
          "name": "stdout",
          "text": [
            "Matrix P1 Matrix([[-2], [-5]])\n"
          ]
        }
      ],
      "source": [
        "P1 = Mox * P\n",
        "print(\"Matrix P1\", P1)"
      ]
    },
    {
      "cell_type": "markdown",
      "metadata": {
        "id": "L_9lq1qoHd48"
      },
      "source": [
        "Reflection over y-axis"
      ]
    },
    {
      "cell_type": "code",
      "execution_count": null,
      "metadata": {
        "id": "nWHAKs0yHd48"
      },
      "outputs": [],
      "source": [
        "Moy = Matrix([[-1, 0],\n",
        "                [0, 1]])"
      ]
    },
    {
      "cell_type": "code",
      "execution_count": null,
      "metadata": {
        "id": "06fJ4ysKHd48"
      },
      "outputs": [],
      "source": [
        "P2 = Moy * P\n",
        "print(\"Matrix P2\", P2)"
      ]
    },
    {
      "cell_type": "markdown",
      "metadata": {
        "id": "Zxrbgi5_Hd49"
      },
      "source": [
        "Reflection over y = x"
      ]
    },
    {
      "cell_type": "code",
      "execution_count": null,
      "metadata": {
        "id": "u4MQCNA9Hd49"
      },
      "outputs": [],
      "source": [
        "Moyx = Matrix([[0, 1],\n",
        "                [1, 0]])"
      ]
    },
    {
      "cell_type": "code",
      "execution_count": null,
      "metadata": {
        "colab": {
          "base_uri": "https://localhost:8080/"
        },
        "id": "yJ4L4hm-Hd49",
        "outputId": "09c2575e-37cf-457f-d80d-f60d4e64eb0c"
      },
      "outputs": [
        {
          "output_type": "stream",
          "name": "stdout",
          "text": [
            "Matrix P3 Matrix([[5], [-2]])\n"
          ]
        }
      ],
      "source": [
        "P3 = Moyx * P\n",
        "print(\"Matrix P3\", P3)"
      ]
    },
    {
      "cell_type": "markdown",
      "metadata": {
        "id": "GI6enujYHd49"
      },
      "source": [
        "# ITSU1012-05 Matrix Worked Example 13"
      ]
    },
    {
      "cell_type": "markdown",
      "metadata": {
        "id": "EozlELsIHd49"
      },
      "source": [
        "Rotation using matrix"
      ]
    },
    {
      "cell_type": "markdown",
      "metadata": {
        "id": "cObGBOPZHd49"
      },
      "source": [
        "Find the image of the point P(2, 5) under anti-clockwise rotation about of origin by <br>\n",
        "a) 30 degrees<br>\n",
        "b) 90 degrees"
      ]
    },
    {
      "cell_type": "code",
      "execution_count": null,
      "metadata": {
        "id": "dfKLGEdVHd49"
      },
      "outputs": [],
      "source": [
        "P = Matrix([[2],\n",
        "            [5]])"
      ]
    },
    {
      "cell_type": "markdown",
      "metadata": {
        "id": "NjWjC8HmHd4-"
      },
      "source": [
        "Rotation by 30 degrees"
      ]
    },
    {
      "cell_type": "code",
      "execution_count": null,
      "metadata": {
        "id": "u1vBZWmYHd4-"
      },
      "outputs": [],
      "source": [
        "theta = 30\n",
        "R30 = Matrix([[np.cos(np.radians(theta)), -np.sin(np.radians(theta))],\n",
        "              [np.sin(np.radians(theta)), np.cos(np.radians(theta))]])"
      ]
    },
    {
      "cell_type": "code",
      "execution_count": null,
      "metadata": {
        "colab": {
          "base_uri": "https://localhost:8080/"
        },
        "id": "EqTd9MpVHd4-",
        "outputId": "14ae1470-47ea-429c-a3bf-c919ec9eb171"
      },
      "outputs": [
        {
          "output_type": "stream",
          "name": "stdout",
          "text": [
            "Matrix P1 Matrix([[-0.767949192431122], [5.33012701892219]])\n"
          ]
        }
      ],
      "source": [
        "P1 = R30 * P\n",
        "print(\"Matrix P1\", P1)"
      ]
    },
    {
      "cell_type": "markdown",
      "metadata": {
        "id": "frim1ipAHd4-"
      },
      "source": [
        "Rotation by 90 degrees"
      ]
    },
    {
      "cell_type": "code",
      "execution_count": null,
      "metadata": {
        "id": "r1Xcqgu_Hd4-"
      },
      "outputs": [],
      "source": [
        "theta = 90\n",
        "R90 = Matrix([[np.cos(np.radians(theta)), -np.sin(np.radians(theta))],\n",
        "              [np.sin(np.radians(theta)), np.cos(np.radians(theta))]])"
      ]
    },
    {
      "cell_type": "code",
      "execution_count": null,
      "metadata": {
        "colab": {
          "base_uri": "https://localhost:8080/"
        },
        "id": "OlUDghdVHd4-",
        "outputId": "7314d3cf-bba1-4be3-a6b6-49ed0129df58"
      },
      "outputs": [
        {
          "output_type": "stream",
          "name": "stdout",
          "text": [
            "Matrix P2 Matrix([[-5.00000000000000], [2.00000000000000]])\n"
          ]
        }
      ],
      "source": [
        "P2 = R90 * P\n",
        "print(\"Matrix P2\", P2)"
      ]
    },
    {
      "cell_type": "markdown",
      "metadata": {
        "id": "irlTdiqKHd4_"
      },
      "source": [
        "# ITSU1012-05 Matrix Bonus content  "
      ]
    },
    {
      "cell_type": "code",
      "execution_count": null,
      "metadata": {
        "id": "3p9TxkYXHd4_"
      },
      "outputs": [],
      "source": [
        "k = 2"
      ]
    },
    {
      "cell_type": "markdown",
      "metadata": {
        "id": "keIYfVELHd4_"
      },
      "source": [
        "The matrices for dilations by a factor of k in the X direction"
      ]
    },
    {
      "cell_type": "code",
      "execution_count": null,
      "metadata": {
        "id": "waJx7BSsHd4_"
      },
      "outputs": [],
      "source": [
        "Dxk = Matrix([[k, 0],\n",
        "                [0, 1]])"
      ]
    },
    {
      "cell_type": "markdown",
      "metadata": {
        "id": "0hUCnLL4Hd4_"
      },
      "source": [
        "The matrices for dilations by a factor of k in the Y direction"
      ]
    },
    {
      "cell_type": "code",
      "execution_count": null,
      "metadata": {
        "id": "JL6bm564Hd5A"
      },
      "outputs": [],
      "source": [
        "Dyk = Matrix([[1, 0],\n",
        "                [0, k]])"
      ]
    },
    {
      "cell_type": "markdown",
      "metadata": {
        "id": "I2ree8zDHd5A"
      },
      "source": [
        "The matrices for dilations by a factor of k about the origin"
      ]
    },
    {
      "cell_type": "code",
      "execution_count": null,
      "metadata": {
        "id": "MSYwo2fjHd5A"
      },
      "outputs": [],
      "source": [
        "Dk = Matrix([[k, 0],\n",
        "                [0, k]])"
      ]
    }
  ],
  "metadata": {
    "kernelspec": {
      "display_name": "Python 3",
      "language": "python",
      "name": "python3"
    },
    "language_info": {
      "codemirror_mode": {
        "name": "ipython",
        "version": 3
      },
      "file_extension": ".py",
      "mimetype": "text/x-python",
      "name": "python",
      "nbconvert_exporter": "python",
      "pygments_lexer": "ipython3",
      "version": "3.6.4"
    },
    "colab": {
      "provenance": [],
      "toc_visible": true
    }
  },
  "nbformat": 4,
  "nbformat_minor": 0
}