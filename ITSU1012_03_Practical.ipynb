{
  "nbformat": 4,
  "nbformat_minor": 0,
  "metadata": {
    "colab": {
      "provenance": [],
      "toc_visible": true,
      "collapsed_sections": [
        "4185_inEkAIQ",
        "aawpWC85kJ6o"
      ]
    },
    "kernelspec": {
      "name": "python3",
      "display_name": "Python 3"
    },
    "language_info": {
      "name": "python"
    }
  },
  "cells": [
    {
      "cell_type": "markdown",
      "source": [
        "# RUN ME FIRST!"
      ],
      "metadata": {
        "id": "kVvTMl6sKAnO"
      }
    },
    {
      "cell_type": "code",
      "source": [
        "# Import the packages required for the module\n",
        "\n",
        "import math\n",
        "import sympy as sp\n",
        "import numpy as np"
      ],
      "metadata": {
        "id": "Li27ADqoKFBw"
      },
      "execution_count": null,
      "outputs": []
    },
    {
      "cell_type": "markdown",
      "source": [
        "# Worked Example 1"
      ],
      "metadata": {
        "id": "4185_inEkAIQ"
      }
    },
    {
      "cell_type": "code",
      "source": [
        "# Problem 01 - Practical\n",
        "\n",
        "print(\"Problem 01 - Practical\")\n",
        "\n",
        "# Evaluate cos(2*pi) + sin (pi/3) - tan(5*pi/3)\n",
        "\n",
        "result = math.cos(2 * math.pi) + math.sin(math.pi / 3) - math.tan(5 * math.pi / 3)\n",
        "print(result)\n",
        "\n",
        "# Define the symbols\n",
        "pi = sp.pi\n",
        "\n",
        "# Evaluate the expression using sympy\n",
        "exact_result = sp.cos(2 * pi) + sp.sin(pi / 3) - sp.tan(5 * pi / 3)\n",
        "print(exact_result)\n",
        "print(exact_result.evalf()) # Evaluate the expression\n",
        "\n",
        "# Evaluate the expression using sympy: cos^2(3) + sin^2(3)\n",
        "\n",
        "expression = sp.cos(3)**2 + sp.sin(3)**2\n",
        "simplified_expression = sp.simplify(expression)\n",
        "print(simplified_expression)\n",
        "print(simplified_expression.evalf())\n",
        "\n",
        "# End of Problem 01 - Practical\n"
      ],
      "metadata": {
        "colab": {
          "base_uri": "https://localhost:8080/"
        },
        "id": "CZzrjZI4iHeq",
        "outputId": "455b4341-14e9-4721-91c0-64e3a6eb8db1"
      },
      "execution_count": null,
      "outputs": [
        {
          "output_type": "stream",
          "name": "stdout",
          "text": [
            "Problem 01 - Practical\n",
            "3.5980762113533156\n",
            "1 + 3*sqrt(3)/2\n",
            "3.59807621135332\n",
            "1\n",
            "1.00000000000000\n"
          ]
        }
      ]
    },
    {
      "cell_type": "markdown",
      "source": [
        "# Worked Example 2"
      ],
      "metadata": {
        "id": "aawpWC85kJ6o"
      }
    },
    {
      "cell_type": "code",
      "source": [
        "# Problem 02 - Practical\n",
        "\n",
        "print(\"Problem 02 - Practical\")\n",
        "\n",
        "# if sin (theta) = 3/7, and cos (theta)  2*sqrt(10)/7, find the value of tan(theta)\n",
        "\n",
        "# Define the symbol\n",
        "theta = sp.symbols('theta')\n",
        "\n",
        "# Given values\n",
        "sin_theta = 3 / 7\n",
        "cos_theta = 2 * sp.sqrt(10) / 7\n",
        "\n",
        "# Calculate tan(theta)\n",
        "tan_theta = sin_theta / cos_theta\n",
        "print(tan_theta)\n",
        "print(tan_theta.evalf())\n",
        "\n",
        "# End of Problem 02 - Practical"
      ],
      "metadata": {
        "colab": {
          "base_uri": "https://localhost:8080/"
        },
        "id": "0VlVLLXniQgN",
        "outputId": "fe567b9c-7463-450c-8ec0-a208275401dc"
      },
      "execution_count": null,
      "outputs": [
        {
          "output_type": "stream",
          "name": "stdout",
          "text": [
            "Problem 02 - Practical\n",
            "0.15*sqrt(10)\n",
            "0.474341649025257\n"
          ]
        }
      ]
    },
    {
      "cell_type": "markdown",
      "source": [
        "# Worked Example 3"
      ],
      "metadata": {
        "id": "Zn9mS-FYkcV3"
      }
    },
    {
      "cell_type": "code",
      "source": [
        "# Problem 03 - Practical\n",
        "\n",
        "print(\"Problem 03 - Practical\")\n",
        "\n",
        "# h(t) = 2*sin(pi/12*t) + 4\n",
        "# note: t is in hours, starting from 12pm (noon)\n",
        "# find h(t) when t = 2 (2pm = 14h = 12h + 2h)\n",
        "# find h(t) when t = 18 (= 12 + 6 morning)\n",
        "\n",
        "# Define the symbol\n",
        "t = sp.symbols('t')\n",
        "\n",
        "# Define the function h(t)\n",
        "h = 2 * sp.sin(sp.pi / 12 * t) + 4\n",
        "\n",
        "# Find h(t) when t = 2\n",
        "h_at_2 = h.subs(t, 2)\n",
        "print(f\"h(2) = {h_at_2}\")\n",
        "print(h_at_2.evalf())\n",
        "\n",
        "# Find h(t) when t = 18\n",
        "h_at_18 = h.subs(t, 18)\n",
        "print(f\"h(18) = {h_at_18}\")\n",
        "print(h_at_18.evalf())\n",
        "\n",
        "# End of Problem 03 - Practical"
      ],
      "metadata": {
        "colab": {
          "base_uri": "https://localhost:8080/"
        },
        "id": "270-DfkyiXTz",
        "outputId": "169e409d-b737-496f-f516-418d38d543ee"
      },
      "execution_count": null,
      "outputs": [
        {
          "output_type": "stream",
          "name": "stdout",
          "text": [
            "Problem 03 - Practical\n",
            "h(2) = 5\n",
            "5.00000000000000\n",
            "h(18) = 2\n",
            "2.00000000000000\n"
          ]
        }
      ]
    },
    {
      "cell_type": "markdown",
      "source": [
        "# Worked Example 4"
      ],
      "metadata": {
        "id": "SsQ-FUlJkjNs"
      }
    },
    {
      "cell_type": "code",
      "source": [
        "# Problem 04 - Practical\n",
        "\n",
        "print(\"Problem 04 - Practical\")\n",
        "\n",
        "# Find exact value of\n",
        "# tan((2*pi/3)  - cos(11*pi/6))\n",
        "# Define the symbols\n",
        "pi = sp.pi\n",
        "\n",
        "# Evaluate the expression using sympy\n",
        "exact_result = sp.tan(2 * pi / 3) - sp.cos(11 * pi / 6)\n",
        "print(exact_result) # should be -3*sqrt(3)/2\n",
        "print(exact_result.evalf()) # Evaluate the expression\n",
        "\n",
        "# Find the exact value of\n",
        "# cos(3*pi/4) - sin(7*pi/4)\n",
        "exact_result_2 = sp.cos(3 * pi / 4) - sp.sin(7 * pi / 4)\n",
        "print(exact_result_2)\n",
        "print(exact_result_2.evalf())\n",
        "\n",
        "\n",
        "# End of Problem 04 - Practical"
      ],
      "metadata": {
        "colab": {
          "base_uri": "https://localhost:8080/"
        },
        "id": "luSjsJzRib1c",
        "outputId": "cf5fa903-e8b9-4aa4-d7bf-17e69086bf96"
      },
      "execution_count": null,
      "outputs": [
        {
          "output_type": "stream",
          "name": "stdout",
          "text": [
            "Problem 04 - Practical\n",
            "-3*sqrt(3)/2\n",
            "-2.59807621135332\n",
            "0\n",
            "0\n"
          ]
        }
      ]
    },
    {
      "cell_type": "markdown",
      "source": [
        "# Worked Example 5"
      ],
      "metadata": {
        "id": "OVMxCp6rkobp"
      }
    },
    {
      "cell_type": "code",
      "source": [
        "# Problem 05 - Practical\n",
        "\n",
        "print(\"Problem 05 - Practical\")\n",
        "\n",
        "# sin(x) = 0.4\n",
        "# cos(y) = 0.5\n",
        "# tan(z) = 0.6\n",
        "\n",
        "# find the value of\n",
        "# sin (pi + x)\n",
        "# tan (pi - z)\n",
        "# cos (pi/2 - x)\n",
        "# sin (3*pi/2 + y)\n",
        "\n",
        "# Define the symbols\n",
        "x, y, z = sp.symbols('x y z')\n",
        "\n",
        "# Given values\n",
        "sin_x = 0.4\n",
        "cos_y = 0.5\n",
        "tan_z = 0.6\n",
        "\n",
        "# Find the values of the expressions\n",
        "sin_pi_plus_x = sp.sin(sp.pi + x).subs(x, sp.asin(sin_x))\n",
        "tan_pi_minus_z = sp.tan(sp.pi - z).subs(z, sp.atan(tan_z))\n",
        "cos_pi_over_2_minus_x = sp.cos(sp.pi / 2 - x).subs(x, sp.asin(sin_x))\n",
        "sin_3pi_over_2_plus_y = sp.sin(3 * sp.pi / 2 + y).subs(y, sp.acos(cos_y))\n",
        "\n",
        "# Print the results\n",
        "print(f\"sin(pi + x) = {sin_pi_plus_x}\")\n",
        "print(f\"tan(pi - z) = {tan_pi_minus_z}\")\n",
        "print(f\"cos(pi/2 - x) = {cos_pi_over_2_minus_x}\")\n",
        "print(f\"sin(3*pi/2 + y) = {sin_3pi_over_2_plus_y}\")\n",
        "\n",
        "# Evaluate the results\n",
        "print(sin_pi_plus_x.evalf())\n",
        "print(tan_pi_minus_z.evalf())\n",
        "print(cos_pi_over_2_minus_x.evalf())\n",
        "print(sin_3pi_over_2_plus_y.evalf())\n",
        "\n",
        "# End of Problem 05 - Practical"
      ],
      "metadata": {
        "colab": {
          "base_uri": "https://localhost:8080/"
        },
        "id": "ZaWXE3jBif86",
        "outputId": "8e41ee3d-8630-4f81-fba5-6a9ffbb39a4e"
      },
      "execution_count": null,
      "outputs": [
        {
          "output_type": "stream",
          "name": "stdout",
          "text": [
            "Problem 05 - Practical\n",
            "sin(pi + x) = -0.400000000000000\n",
            "tan(pi - z) = -0.600000000000000\n",
            "cos(pi/2 - x) = 0.400000000000000\n",
            "sin(3*pi/2 + y) = -0.500000000000000\n",
            "-0.400000000000000\n",
            "-0.600000000000000\n",
            "0.400000000000000\n",
            "-0.500000000000000\n"
          ]
        }
      ]
    },
    {
      "cell_type": "markdown",
      "source": [
        "# Worked Example 6"
      ],
      "metadata": {
        "id": "11cHJDGkkxFh"
      }
    },
    {
      "cell_type": "code",
      "source": [
        "# Problem 06 - Practical\n",
        "\n",
        "# TODO Find the solutions with mathgptpro\n",
        "\n",
        "\n",
        "print(\"Problem 06 - Practical\")\n",
        "\n",
        "# if tan(theta) = 4 and pi < theta < 3*pi/2, using sympy, find the exact values for\n",
        "# sin (theta)\n",
        "# cos (theta)\n",
        "\n",
        "# Given value\n",
        "tan_theta = 4\n",
        "\n",
        "# Since tan(theta) = sin(theta) / cos(theta), we can use the Pythagorean identity\n",
        "# sin^2(theta) + cos^2(theta) = 1 to find sin(theta) and cos(theta)\n",
        "\n",
        "# Let sin(theta) = 4k and cos(theta) = k, then tan(theta) = 4k / k = 4\n",
        "# Using the Pythagorean identity: (4k)^2 + k^2 = 1\n",
        "# 16k^2 + k^2 = 1\n",
        "# 17k^2 = 1\n",
        "# k^2 = 1/17\n",
        "# k = sqrt(1/17)\n",
        "\n",
        "k = sp.sqrt(1 / 17)\n",
        "\n",
        "# Since pi < theta < 3*pi/2, both sin(theta) and cos(theta) are negative in this quadrant\n",
        "sin_theta = 4 * k\n",
        "cos_theta = k\n",
        "\n",
        "# Adjust signs for the correct quadrant\n",
        "sin_theta = -sin_theta\n",
        "cos_theta = -cos_theta\n",
        "\n",
        "print(f\"sin(theta) = {sin_theta}\")\n",
        "print(f\"cos(theta) = {cos_theta}\")\n",
        "\n",
        "# Evaluate the results\n",
        "print(sin_theta.evalf())\n",
        "print(cos_theta.evalf())\n",
        "\n",
        "# End of Problem 06 - Practical"
      ],
      "metadata": {
        "colab": {
          "base_uri": "https://localhost:8080/"
        },
        "id": "vnqa2hooikMt",
        "outputId": "c47216ac-b2ef-4fe6-96e2-4ee7dcd5cc39"
      },
      "execution_count": null,
      "outputs": [
        {
          "output_type": "stream",
          "name": "stdout",
          "text": [
            "Problem 06 - Practical\n",
            "sin(theta) = -0.970142500145332\n",
            "cos(theta) = -0.242535625036333\n",
            "-0.970142500145332\n",
            "-0.242535625036333\n"
          ]
        }
      ]
    },
    {
      "cell_type": "markdown",
      "source": [
        "# Worked Example 7"
      ],
      "metadata": {
        "id": "MTpN7O8DnOT9"
      }
    },
    {
      "cell_type": "code",
      "source": [
        "# Problem 07 - Practical\n",
        "\n",
        "print(\"Problem 07 - Practical\")\n",
        "\n",
        "# x(t) = 3 - 4*cos(2*pi*t/5)\n",
        "# find x(0), x(30)\n",
        "# find the maximum value of x(t) and the time at which it occurs\n",
        "\n",
        "# Define the symbol\n",
        "t = sp.symbols('t')\n",
        "\n",
        "# Define the function x(t)\n",
        "x = 3 - 4 * sp.cos(2 * sp.pi * t / 5)\n",
        "\n",
        "# Find x(0)\n",
        "x_at_0 = x.subs(t, 0)\n",
        "print(f\"x(0) = {x_at_0}\")\n",
        "print(x_at_0.evalf())\n",
        "\n",
        "# Find x(30)\n",
        "x_at_30 = x.subs(t, 30)\n",
        "print(f\"x(30) = {x_at_30}\")\n",
        "print(x_at_30.evalf())\n",
        "\n",
        "# Find the maximum value of x(t) and the time at which it occurs\n",
        "# The maximum value occurs when cos(2*pi*t/5) is minimized, which is -1\n",
        "# Solve for t when cos(2*pi*t/5) = -1\n",
        "max_t = sp.solve(sp.cos(2 * sp.pi * t / 5) + 1, t)\n",
        "max_x = x.subs(t, max_t[0])\n",
        "print(f\"Maximum value of x(t) = {max_x} at t = {max_t[0]}\")\n",
        "print(max_x.evalf())\n",
        "print(max_t[0].evalf())\n",
        "\n",
        "# End of Problem 07 - Practical"
      ],
      "metadata": {
        "colab": {
          "base_uri": "https://localhost:8080/"
        },
        "id": "084EqP1xinE1",
        "outputId": "2373c030-2c78-4d0a-ea76-1cbf25e6d3cd"
      },
      "execution_count": null,
      "outputs": [
        {
          "output_type": "stream",
          "name": "stdout",
          "text": [
            "Problem 07 - Practical\n",
            "x(0) = -1\n",
            "-1.00000000000000\n",
            "x(30) = -1\n",
            "-1.00000000000000\n",
            "Maximum value of x(t) = 7 at t = 5/2\n",
            "7.00000000000000\n",
            "2.50000000000000\n"
          ]
        }
      ]
    },
    {
      "cell_type": "markdown",
      "source": [
        "# Worked Example 8"
      ],
      "metadata": {
        "id": "7atyfWqknXGv"
      }
    },
    {
      "cell_type": "code",
      "source": [
        "# Problem 08 - Practical\n",
        "\n",
        "print(\"Problem 08 - Practical\")\n",
        "\n",
        "# Find all the exact solutions between 0 and 4*pi for the equation\n",
        "# 4 = 20*sin(x) - 6\n",
        "# Define the symbol\n",
        "x = sp.symbols('x')\n",
        "\n",
        "# Define the equation\n",
        "equation_1 = 4 - 20 * sp.sin(x) + 6\n",
        "\n",
        "# Solve the equation\n",
        "solutions_1 = sp.solve(equation_1, x)\n",
        "\n",
        "# Filter solutions between 0 and 4*pi\n",
        "solutions_1 = [sol for sol in solutions_1 if 0 <= sol <= 4 * sp.pi]\n",
        "\n",
        "print(f\"Solutions for 4 = 20*sin(x) - 6 between 0 and 4*pi: {solutions_1}\")\n",
        "# Solutions for 4 = 20*sin(x) - 6 between 0 and 4*pi: [pi/6, 5*pi/6]\n",
        "# TODO check. Should be [pi/6, 5*pi/6, 13*pi/6, 17*pi/6]???\n",
        "\n",
        "# Find all the exact solutions between 0 and 4*pi for the equation\n",
        "# 5 = 6*cos^2(x) + 2\n",
        "\n",
        "# Define the equation\n",
        "equation_2 = 5 - 6 * sp.cos(x)**2 - 2\n",
        "\n",
        "# Solve the equation\n",
        "solutions_2 = sp.solve(equation_2, x)\n",
        "\n",
        "# Filter solutions between 0 and 4*pi\n",
        "solutions_2 = [sol for sol in solutions_2 if 0 <= sol <= 4 * sp.pi]\n",
        "\n",
        "print(f\"Solutions for 5 = 6*cos^2(x) + 2 between 0 and 4*pi: {solutions_2}\")\n",
        "# Solutions for 5 = 6*cos^2(x) + 2 between 0 and 4*pi: [pi/4, 3*pi/4, 5*pi/4, 7*pi/4]\n",
        "# TODO: should have 8 solutions? [pi/4, 3*pi/4, 5*pi/4, 7*pi/4, 9*pi/4, 11*pi/4, 13*pi/4, 15*pi/4]\n",
        "\n",
        "# End of Problem 08 - Practical\n"
      ],
      "metadata": {
        "colab": {
          "base_uri": "https://localhost:8080/"
        },
        "id": "q4hbBlQ6iqXW",
        "outputId": "d59ad69e-888c-4df9-887d-61c14b49d26a"
      },
      "execution_count": null,
      "outputs": [
        {
          "output_type": "stream",
          "name": "stdout",
          "text": [
            "Problem 08 - Practical\n",
            "Solutions for 4 = 20*sin(x) - 6 between 0 and 4*pi: [pi/6, 5*pi/6]\n",
            "Solutions for 5 = 6*cos^2(x) + 2 between 0 and 4*pi: [pi/4, 3*pi/4, 5*pi/4, 7*pi/4]\n"
          ]
        }
      ]
    },
    {
      "cell_type": "markdown",
      "source": [
        "# Worked Example 9"
      ],
      "metadata": {
        "id": "6aoJ9ifinaMw"
      }
    },
    {
      "cell_type": "code",
      "source": [
        "# Problem 09 - Practical\n",
        "\n",
        "print(\"Problem 09 - Practical\")\n",
        "\n",
        "# Find all the solutions, correct to 3 decimal places, between 0 and 2*pi for the equation\n",
        "# 2 = 7*tan(2*x) - 6\n",
        "\n",
        "# Define the equation\n",
        "equation_3 = 2 - 7 * sp.tan(2 * x) + 6\n",
        "\n",
        "# Solve the equation\n",
        "solutions_3 = sp.solve(equation_3, x)\n",
        "\n",
        "# Filter solutions between 0 and 2*pi and evaluate to 3 decimal places\n",
        "solutions_3 = [sol.evalf() for sol in solutions_3 if 0 <= sol <= 2 * sp.pi]\n",
        "\n",
        "print(f\"Solutions for 2 = 7*tan(2*x) - 6 between 0 and 2*pi: {solutions_3}\")\n",
        "# Solutions for 2 = 7*tan(2*x) - 6 between 0 and 2*pi: [0.425983163586636]\n",
        "# TODO Check. Should have 4 solutions: 0.426, 1.997, 3.568, 5.138\n",
        "\n",
        "# Find all the solutions, correct to 3 decimal places, between 0 and 2*pi for the equation\n",
        "# 2 = 3*sin(x) + 1\n",
        "\n",
        "# Define the equation\n",
        "equation_4 = 2 - 3 * sp.sin(x) - 1\n",
        "\n",
        "# Solve the equation\n",
        "solutions_4 = sp.solve(equation_4, x)\n",
        "\n",
        "# Filter solutions between 0 and 2*pi and evaluate to 3 decimal places\n",
        "solutions_4 = [sol.evalf() for sol in solutions_4 if 0 <= sol <= 2 * sp.pi]\n",
        "\n",
        "print(f\"Solutions for 2 = 3*sin(x) + 1 between 0 and 2*pi: {solutions_4}\")\n",
        "# Solutions for 2 = 3*sin(x) + 1 between 0 and 2*pi: [pi/6, 5*pi/6]\n",
        "\n",
        "# Solutions for 2 = 3*sin(x) + 1 between 0 and 2*pi: [2.80175574413567, 0.339836909454122]\n",
        "# TODO should have 4 solutions?: 0.615, 2.526, 3.757, 5.668\n",
        "\n",
        "# End of Problem 09 - Practical\n"
      ],
      "metadata": {
        "colab": {
          "base_uri": "https://localhost:8080/"
        },
        "id": "cDiC4kvfitRq",
        "outputId": "805fc833-93a5-48dc-f6f3-aaceac285c38"
      },
      "execution_count": null,
      "outputs": [
        {
          "output_type": "stream",
          "name": "stdout",
          "text": [
            "Worked example 9\n",
            "The product of (2 - 3j)(2 + 3j) is: \n",
            "(15.860000000000001+0j)\n",
            "15.860000000000001\n",
            "15.860000000000001\n"
          ]
        }
      ]
    },
    {
      "cell_type": "markdown",
      "source": [
        "# Worked Example 10"
      ],
      "metadata": {
        "id": "OI-1hEQenfcJ"
      }
    },
    {
      "cell_type": "code",
      "source": [
        "# Problem 10 - Practical\n",
        "\n",
        "print(\"Problem 10 - Practical\")\n",
        "\n",
        "# v(t) = 5*sin(2*pi*t/24) - 2\n",
        "# find solutions for v(t) = 0 between 0 and 60\n",
        "\n",
        "# Define the symbol\n",
        "t = sp.symbols('t')\n",
        "\n",
        "# Define the function v(t)\n",
        "v = 5 * sp.sin(sp.pi * t / 24) - 2\n",
        "\n",
        "# Define the equation v(t) = 0\n",
        "equation_5 = sp.Eq(v, 0)\n",
        "\n",
        "# Solve the equation\n",
        "solutions_5 = sp.solve(equation_5, t)\n",
        "\n",
        "# Filter solutions between 0 and 60\n",
        "solutions_5 = [sol.evalf() for sol in solutions_5 if 0 <= sol <= 60]\n",
        "\n",
        "print(f\"Solutions for v(t) = 0 between 0 and 60: {solutions_5}\")\n",
        "# Solutions for v(t) = 0 between 0 and 60: [3.14375713042691, 20.8562428695731]\n",
        "# TODO. Missing one solution: 3.14, 20.86, 51.14 seconds\n",
        "\n",
        "# End of Problem 10 - Practical"
      ],
      "metadata": {
        "colab": {
          "base_uri": "https://localhost:8080/"
        },
        "id": "L0z2AL2JiwZ4",
        "outputId": "c0141b07-04b7-421f-e504-f6133dc63390"
      },
      "execution_count": null,
      "outputs": [
        {
          "output_type": "stream",
          "name": "stdout",
          "text": [
            "Worked example 10\n",
            " Re(z^2w) + Im(zw^2) is: \n",
            "37.0\n"
          ]
        }
      ]
    },
    {
      "cell_type": "markdown",
      "source": [
        "# Worked Example 11"
      ],
      "metadata": {
        "id": "7E2ZqD3enwBb"
      }
    },
    {
      "cell_type": "code",
      "source": [
        "\n",
        "# Problem 11 - Practical\n",
        "\n",
        "print(\"Problem 11 - Practical\")\n",
        "\n",
        "# y = 3*cos(2*x)\n",
        "# sketch the graph of y for one cycle\n",
        "# find the amplitude, period and range of the function\n",
        "\n",
        "import matplotlib.pyplot as plt\n",
        "\n",
        "# Define the function y = 3*cos(2*x)\n",
        "def y(x):\n",
        "    return 3 * np.cos(2 * x)\n",
        "\n",
        "# the cycle of the function is 2*pi/2 = pi\n",
        "\n",
        "# Define the range for one cycle of the function\n",
        "x_vals = np.linspace(0, np.pi, 400)\n",
        "y_vals = y(x_vals)\n",
        "\n",
        "# Plot the function\n",
        "plt.plot(x_vals, y_vals, label='y = 3*cos(2*x)')\n",
        "plt.xlabel('x')\n",
        "plt.ylabel('y')\n",
        "plt.title('Graph of y = 3*cos(2*x) for one cycle')\n",
        "plt.axhline(0, color='black',linewidth=0.5)\n",
        "plt.axvline(0, color='black',linewidth=0.5)\n",
        "plt.grid(color = 'gray', linestyle = '--', linewidth = 0.5)\n",
        "\n",
        "# express the points pi/2, pi on the x-axis\n",
        "plt.xticks([np.pi/2, np.pi], [r'$\\frac{\\pi}{2}$', r'$\\pi$'])\n",
        "\n",
        "# express the points -3, 3 on the y-axis\n",
        "plt.yticks([-3, 3], ['-3', '3'])\n",
        "\n",
        "plt.legend()\n",
        "plt.show()\n",
        "\n",
        "# Find the amplitude, period, and range of the function\n",
        "amplitude = 3\n",
        "period = np.pi  # 2*pi / 2\n",
        "range_y = (-3, 3)\n",
        "\n",
        "print(f\"Amplitude: {amplitude}\")\n",
        "print(f\"Period: {period}\")\n",
        "print(f\"Range: {range_y}\")\n",
        "\n",
        "# Define the function y = 0.5*cos(0.25*x)\n",
        "def y(x):\n",
        "    return 0.5 * np.cos(0.25 * x)\n",
        "\n",
        "# the cycle of the function is 2*pi/0.25 = 8*pi\n",
        "\n",
        "# Define the range for one cycle of the function\n",
        "x_vals = np.linspace(0, 8 * np.pi, 400)\n",
        "y_vals = y(x_vals)\n",
        "\n",
        "# Plot the function\n",
        "plt.plot(x_vals, y_vals, label='y = 0.5*cos(0.25*x)')\n",
        "plt.xlabel('x')\n",
        "plt.ylabel('y')\n",
        "plt.title('Graph of y = 0.5*cos(0.25*x) for one cycle')\n",
        "plt.axhline(0, color='black', linewidth=0.5)\n",
        "plt.axvline(0, color='black', linewidth=0.5)\n",
        "plt.grid(color='gray', linestyle='--', linewidth=0.5)\n",
        "\n",
        "# express the points 2*pi, 4*pi, 6*pi, 8*pi on the x-axis\n",
        "plt.xticks([2 * np.pi, 4 * np.pi, 6 * np.pi, 8 * np.pi],\n",
        "           [r'$2\\pi$', r'$4\\pi$', r'$6\\pi$', r'$8\\pi$'])\n",
        "\n",
        "# express the points -0.5, 0.5 on the y-axis\n",
        "plt.yticks([-0.5, 0.5], ['-0.5', '0.5'])\n",
        "\n",
        "plt.legend()\n",
        "plt.show()\n",
        "\n",
        "# Find the amplitude, period, and range of the function\n",
        "amplitude = 0.5\n",
        "period = 8 * np.pi  # 2*pi / 0.25\n",
        "range_y = (-0.5, 0.5)\n",
        "\n",
        "print(f\"Amplitude: {amplitude}\")\n",
        "print(f\"Period: {period}\")\n",
        "print(f\"Range: {range_y}\")\n",
        "\n",
        "# TODO\n",
        "# y = -cos(3*x)\n",
        "# sketch the graph of y for one cycle\n",
        "# find the amplitude, period and range of the function\n",
        "\n",
        "# Define the function y = -cos(3*x)\n",
        "def y(x):\n",
        "    return -np.cos(3 * x)\n",
        "\n",
        "# the cycle of the function is 2*pi/3\n",
        "\n",
        "# Define the range for one cycle of the function\n",
        "x_vals = np.linspace(0, 2 * np.pi / 3, 400)\n",
        "y_vals = y(x_vals)\n",
        "\n",
        "# Plot the function\n",
        "plt.plot(x_vals, y_vals, label='y = -cos(3*x)')\n",
        "plt.xlabel('x')\n",
        "plt.ylabel('y')\n",
        "plt.title('Graph of y = -cos(3*x) for one cycle')\n",
        "plt.axhline(0, color='black', linewidth=0.5)\n",
        "plt.axvline(0, color='black', linewidth=0.5)\n",
        "plt.grid(color='gray', linestyle='--', linewidth=0.5)\n",
        "\n",
        "# express the points pi/6, pi/3, pi/2, 2*pi/3 on the x-axis\n",
        "plt.xticks([np.pi / 6, np.pi / 3, np.pi / 2, 2 * np.pi / 3],\n",
        "           [r'$\\frac{\\pi}{6}$', r'$\\frac{\\pi}{3}$', r'$\\frac{\\pi}{2}$', r'$\\frac{2\\pi}{3}$'])\n",
        "\n",
        "# express the points -1, 1 on the y-axis\n",
        "plt.yticks([-1, 1], ['-1', '1'])\n",
        "\n",
        "plt.legend()\n",
        "plt.show()\n",
        "\n",
        "# Find the amplitude, period, and range of the function\n",
        "amplitude = 1\n",
        "period = 2 * np.pi / 3\n",
        "range_y = (-1, 1)\n",
        "\n",
        "print(f\"Amplitude: {amplitude}\")\n",
        "print(f\"Period: {period}\")\n",
        "print(f\"Range: {range_y}\")\n",
        "\n",
        "# End of Problem 11 - Practical"
      ],
      "metadata": {
        "colab": {
          "base_uri": "https://localhost:8080/"
        },
        "id": "UZUbsx_Ai0uK",
        "outputId": "33e7dc97-00ac-4d6e-ddec-b48146e515f7"
      },
      "execution_count": null,
      "outputs": [
        {
          "output_type": "stream",
          "name": "stdout",
          "text": [
            "Worked example 11\n",
            "The value of x is: \n",
            "7.0\n",
            "The value of y is: \n",
            "-2.0\n"
          ]
        }
      ]
    },
    {
      "cell_type": "markdown",
      "source": [
        "# Worked Example 12"
      ],
      "metadata": {
        "id": "-I5KjyCdnyf_"
      }
    },
    {
      "cell_type": "code",
      "source": [
        "# Problem 12 - Practical\n",
        "\n",
        "# State the horizontal translation from the basic graph of\n",
        "# y = sin(x) and y = cos(x) for the following function\n",
        "# and then sketch the graph of the function from 0 to 2*pi\n",
        "# express (xticks, yticks) important points on the graph\n",
        "# y = 3*sin(x - pi/4) + 5\n",
        "\n",
        "import matplotlib.pyplot as plt\n",
        "\n",
        "# Define the function y = 3*sin(x - pi/4) + 5\n",
        "def y(x):\n",
        "    return 3 * np.sin(x - np.pi / 4) + 5\n",
        "\n",
        "# Define the range for the function from 0 to 2*pi\n",
        "x_vals = np.linspace(0, 2 * np.pi, 400)\n",
        "y_vals = y(x_vals)\n",
        "\n",
        "# Plot the function\n",
        "plt.plot(x_vals, y_vals, label='y = 3*sin(x - pi/4) + 5')\n",
        "plt.xlabel('x')\n",
        "plt.ylabel('y')\n",
        "plt.title('Graph of y = 3*sin(x - pi/4) + 5 from 0 to 2*pi')\n",
        "plt.axhline(0, color='black', linewidth=0.5)\n",
        "plt.axvline(0, color='black', linewidth=0.5)\n",
        "plt.grid(color='gray', linestyle='--', linewidth=0.5)\n",
        "\n",
        "# express the points 3*pi/4, 7*pi/4, pi/2, pi, 3*pi/2, 2*pi on the x-axis\n",
        "plt.xticks([3 * np.pi / 4, 7 * np.pi / 4, np.pi / 2, np.pi, 3 * np.pi / 2, 2 * np.pi],\n",
        "           [r'$\\frac{3\\pi}{4}$', r'$\\frac{7\\pi}{4}$', r'$\\frac{\\pi}{2}$', r'$\\pi$', r'$\\frac{3\\pi}{2}$', r'$2\\pi$'])\n",
        "\n",
        "# express the points pi/2, pi, 3*pi/2, 2*pi on the x-axis\n",
        "# plt.xticks([np.pi / 2, np.pi, 3 * np.pi / 2, 2 * np.pi],\n",
        "#            [r'$\\frac{\\pi}{2}$', r'$\\pi$', r'$\\frac{3\\pi}{2}$', r'$2\\pi$'])\n",
        "\n",
        "# express the points 2, 4, 5, 6, 8 on the y-axis\n",
        "# plt.yticks([2, 4, 5, 6, 8], ['2', '4', '5', '6', '8'])\n",
        "# plt.yticks([2, 5, 8], ['2', '5', '8'])\n",
        "\n",
        "plt.legend()\n",
        "plt.show()\n",
        "\n",
        "# The horizontal translation from the basic graph of y = sin(x) is pi/4 to the right.\n",
        "\n",
        "\n",
        "# State the horizontal translation from the basic graph of\n",
        "# y = sin(x) and y = cos(x) for the following function\n",
        "# and then sketch the graph of the function from 0 to 2*pi\n",
        "# express (xticks, yticks) important points on the graph\n",
        "# xticks = pi/2, pi, 3*pi/2, 2*pi\n",
        "# yticks = 4, 3, 2, 1, 0, -1, -2, -3, -4, -5, -6\n",
        "# y = 4*cos(x + pi/2) - 1\n",
        "\n",
        "import matplotlib.pyplot as plt\n",
        "\n",
        "# Define the function y = 4*cos(x + pi/2) - 1\n",
        "def y(x):\n",
        "    return 4 * np.cos(x + np.pi / 2) - 1\n",
        "\n",
        "# Define the range for the function from 0 to 2*pi\n",
        "x_vals = np.linspace(0, 2 * np.pi, 400)\n",
        "y_vals = y(x_vals)\n",
        "\n",
        "# Plot the function\n",
        "plt.plot(x_vals, y_vals, label='y = 4*cos(x + pi/2) - 1')\n",
        "plt.xlabel('x')\n",
        "plt.ylabel('y')\n",
        "plt.title('Graph of y = 4*cos(x + pi/2) - 1 from 0 to 2*pi')\n",
        "plt.axhline(0, color='black', linewidth=0.5)\n",
        "plt.axvline(0, color='black', linewidth=0.5)\n",
        "plt.grid(color='gray', linestyle='--', linewidth=0.5)\n",
        "\n",
        "# express the points pi/2, pi, 3*pi/2, 2*pi on the x-axis\n",
        "\n",
        "plt.xticks([0, np.pi / 2, np.pi, 3 * np.pi / 2, 2 * np.pi],\n",
        "           ['0', r'$\\frac{\\pi}{2}$', r'$\\pi$', r'$\\frac{3\\pi}{2}$', r'$2\\pi$'])\n",
        "\n",
        "# express the points 4, 3, 2, 1, 0, -1, -2, -3, -4, -5, -6 on the y-axis\n",
        "plt.yticks([4, 3, 2, 1, 0, -1, -2, -3, -4, -5, -6],\n",
        "           ['4', '3', '2', '1', '0', '-1', '-2', '-3', '-4', '-5', '-6'])\n",
        "\n",
        "plt.legend()\n",
        "plt.show()\n",
        "\n",
        "# The horizontal translation from the basic graph of y = cos(x) is pi/2 to the left.\n",
        "\n",
        "\n",
        "# State the horizontal translation from the basic graph of\n",
        "# y = sin(x) and y = cos(x) for the following function\n",
        "# and then sketch the graph of the function from 0 to 2*pi\n",
        "# express (xticks, yticks) important points on the graph\n",
        "# xticks = 0, pi/3, pi/2, 5*pi/6, pi, 13pi/12, 4pi/3, 3pi/2, 19pi/12, 11pi/6, 2pi\n",
        "# yticks = 0, 1, 2, 3, 4, 5, 6, 7\n",
        "# y = 4 - 3*sin(2*(x- pi/3))\n",
        "\n",
        "import matplotlib.pyplot as plt\n",
        "\n",
        "# Define the function y = 4 - 3*sin(2*(x - pi/3))\n",
        "def y(x):\n",
        "    return 4 - 3 * np.sin(2 * (x - np.pi / 3))\n",
        "\n",
        "# Define the range for the function from 0 to 2*pi\n",
        "x_vals = np.linspace(0, 2 * np.pi, 400)\n",
        "y_vals = y(x_vals)\n",
        "\n",
        "# Plot the function\n",
        "plt.plot(x_vals, y_vals, label='y = 4 - 3*sin(2*(x - pi/3))')\n",
        "plt.xlabel('x')\n",
        "plt.ylabel('y')\n",
        "plt.title('Graph of y = 4 - 3*sin(2*(x - pi/3)) from 0 to 2*pi')\n",
        "plt.axhline(0, color='black', linewidth=0.5)\n",
        "plt.axvline(0, color='black', linewidth=0.5)\n",
        "plt.grid(color='gray', linestyle='--', linewidth=0.5)\n",
        "\n",
        "# express the points 0, pi/3, pi/2, 5*pi/6, pi, 13*pi/12, 4*pi/3, 3*pi/2, 19*pi/12, 11*pi/6, 2*pi on the x-axis\n",
        "plt.xticks([0, np.pi / 3, 7 * np.pi / 12, np.pi / 2, 5 * np.pi / 6, np.pi, 13 * np.pi / 12, 4 * np.pi / 3, 3 * np.pi / 2, 19 * np.pi / 12, 11 * np.pi / 6, 2 * np.pi],\n",
        "           ['0', r'$\\frac{\\pi}{3}$', r'$\\frac{7\\pi}{12}$', r'$\\frac{\\pi}{2}$', r'$\\frac{5\\pi}{6}$', r'$\\pi$', r'$\\frac{13\\pi}{12}$', r'$\\frac{4\\pi}{3}$', r'$\\frac{3\\pi}{2}$', r'$\\frac{19\\pi}{12}$', r'$\\frac{11\\pi}{6}$', r'$2\\pi$'])\n",
        "plt.scatter([0], [y(0)], color='red')  # Add the point (0, y(0)) to the plot\n",
        "\n",
        "# express the points 0, 1, 2, 3, 4, 5, 6, 7 on the y-axis\n",
        "plt.yticks([0, 1, 2, 3, 4, 5, 6, 7], ['0', '1', '2', '3', '4', '5', '6', '7'])\n",
        "\n",
        "plt.legend()\n",
        "plt.show()\n",
        "\n",
        "# The horizontal translation from the basic graph of y = sin(x) is pi/3 to the right.\n",
        "\n",
        "# End of Problem 12 - Practical"
      ],
      "metadata": {
        "colab": {
          "base_uri": "https://localhost:8080/"
        },
        "id": "gsrgAeQui5dl",
        "outputId": "299723d1-237c-4dd5-ae6b-35efaa3c1f7a"
      },
      "execution_count": null,
      "outputs": [
        {
          "output_type": "stream",
          "name": "stdout",
          "text": [
            "Worked example 12\n",
            "The conjugate of 8 + 5j is: \n",
            "(8-5j)\n",
            "The conjugate of -2 - 3j is: \n",
            "(-2+3j)\n",
            "The conjugate of 4 + sqrt(5)*j is: \n",
            "(4-2.23606797749979j)\n",
            "(8-5j)\n"
          ]
        }
      ]
    },
    {
      "cell_type": "markdown",
      "source": [
        "# Worked Example 13"
      ],
      "metadata": {
        "id": "OsmK-p0Hn03X"
      }
    },
    {
      "cell_type": "code",
      "source": [
        "# Problem 13 - Practical\n",
        "\n",
        "print(\"Problem 23 - Practical\")\n",
        "\n",
        "# State the maximum and minimum values of the function\n",
        "# y = 7*sin(x - pi/3) + 4\n",
        "\n",
        "# Define the function y = 7*sin(x - pi/3) + 4\n",
        "def y(x):\n",
        "    return 7 * np.sin(x - np.pi / 3) + 4\n",
        "\n",
        "# The maximum value of sin(x) is 1 and the minimum value is -1\n",
        "# Therefore, the maximum value of y is 7*1 + 4 = 11\n",
        "# and the minimum value of y is 7*(-1) + 4 = -3\n",
        "\n",
        "max_value = 7 * 1 + 4\n",
        "min_value = 7 * (-1) + 4\n",
        "\n",
        "print(f\"Maximum value: {max_value}\")\n",
        "print(f\"Minimum value: {min_value}\")\n",
        "\n",
        "# State the maximum and minimum values of the function\n",
        "# y = 0.5cos(x + pi) - 7/2\n",
        "# TODO\n",
        "# IDEA: Draw the graph of the function in one cycle and find the maximum and minimum values\n",
        "\n",
        "# State the maximum and minimum values of the function\n",
        "# y = 2 - 5*cos(x - pi/6)\n",
        "# TODO\n",
        "# IDEA: Draw the graph of the function in one cycle and find the maximum and minimum values\n",
        "# IDEA: Calculate the values of the function at 400 points in the range 0 to 2*pi and find the maximum and minimum values\n",
        "\n",
        "# End of Problem 13 - Practical\n"
      ],
      "metadata": {
        "colab": {
          "base_uri": "https://localhost:8080/"
        },
        "id": "anvqbtRHi92w",
        "outputId": "1ee2d5c6-13af-4ae0-fb6d-f2fe0a27d5de"
      },
      "execution_count": null,
      "outputs": [
        {
          "output_type": "stream",
          "name": "stdout",
          "text": [
            "Problem 23 - Practical\n",
            "Maximum value: 11\n",
            "Minimum value: -3\n"
          ]
        }
      ]
    },
    {
      "cell_type": "markdown",
      "source": [
        "# Worked Example 14"
      ],
      "metadata": {
        "id": "X5Joc6Idn20W"
      }
    },
    {
      "cell_type": "markdown",
      "source": [],
      "metadata": {
        "id": "r4gdCdsbn4-y"
      }
    },
    {
      "cell_type": "code",
      "source": [
        "# Problem 14 - Practical\n",
        "\n",
        "print(\"Problem 14 - Practical\")\n",
        "\n",
        "# Find the new equation when the equation undergoes the translation\n",
        "# y = 5*cos(x) is translated pi/3 unit to the right and 4 unit down\n",
        "\n",
        "# The translation of pi/3 units to the right means we replace x with (x - pi/3)\n",
        "# The translation of 4 units down means we subtract 4 from the function\n",
        "\n",
        "# Therefore, the new equation is:\n",
        "new_equation = 5 * sp.cos(x - sp.pi / 3) - 4\n",
        "\n",
        "print(f\"The new equation after translation is: y = {new_equation}\")\n",
        "\n",
        "# TODO: Using mathgptpro, find the new equation when the equation undergoes the translation\n",
        "# TODO: Draw the graph of y = 5*cos(x) and perform the translation (to become y = 5*cos(x - pi/3) - 4)\n",
        "\n",
        "# Find the new equation when the equation undergoes the translation\n",
        "# y = -3*sin(0.5*x) is translated pi/4 unit to the left and 3 unit up\n",
        "\n",
        "# TODO: Using mathgptpro, find the new equation when the equation undergoes the translation\n",
        "# TODO: Draw the graph of y -3*sin(0.5*x), perform the translation (to become y = -3*sin(0.5*(x + pi/4)) + 3)\n",
        "\n",
        "# End of Problem 14 - Practical"
      ],
      "metadata": {
        "colab": {
          "base_uri": "https://localhost:8080/"
        },
        "id": "sRgAW2E6jChQ",
        "outputId": "e7bf93a0-86da-4328-fe1f-613af076b557"
      },
      "execution_count": null,
      "outputs": [
        {
          "output_type": "stream",
          "name": "stdout",
          "text": [
            "Worked example 14\n",
            "(0.6+0.8j)\n"
          ]
        }
      ]
    },
    {
      "cell_type": "markdown",
      "source": [
        "# Worked Example 15"
      ],
      "metadata": {
        "id": "8CIQE5uxn_7T"
      }
    },
    {
      "cell_type": "code",
      "source": [
        "# Problem 15 - Practical\n",
        "\n",
        "print(\"Problem 15 - Practical\")\n",
        "\n",
        "\"\"\"\n",
        "# Use addition or ordinates to sketch the graph of the function\n",
        "# y3 = 3*sin(x) + cos(3*x)\n",
        "# for x in [0, 2*pi]\n",
        "# express (xticks, yticks) important points on the graph\n",
        "# xticks = 0, pi/2, pi, 3pi/2, 2pi\n",
        "# yticks = -5, -4, -3, -2, -1, 0, 1, 2, 3, 4, 5\n",
        "\n",
        "# also draw the graph of y1 = 3*sin(x) and y2 = cos(3*x) on the same graph\n",
        "# using different colors for each function\n",
        "\"\"\"\n",
        "import matplotlib.pyplot as plt\n",
        "\n",
        "# Define the functions y1 = 3*sin(x) and y2 = cos(3*x)\n",
        "def y1(x):\n",
        "    return 3 * np.sin(x)\n",
        "\n",
        "def y2(x):\n",
        "    return np.cos(3 * x)\n",
        "\n",
        "# Define the function y3 = 3*sin(x) + cos(3*x)\n",
        "def y3(x):\n",
        "    return y1(x) + y2(x)\n",
        "\n",
        "# Define the range for the function from 0 to 2*pi\n",
        "x_vals = np.linspace(0, 2 * np.pi, 400)\n",
        "y1_vals = y1(x_vals)\n",
        "y2_vals = y2(x_vals)\n",
        "y3_vals = y3(x_vals)\n",
        "\n",
        "# Plot the functions\n",
        "plt.plot(x_vals, y1_vals, label='y1 = 3*sin(x)', color='blue')\n",
        "plt.plot(x_vals, y2_vals, label='y2 = cos(3*x)', color='green')\n",
        "plt.plot(x_vals, y3_vals, label='y3 = 3*sin(x) + cos(3*x)', color='red')\n",
        "plt.xlabel('x')\n",
        "plt.ylabel('y')\n",
        "plt.title('Graph of y3 = 3*sin(x) + cos(3*x) for x in [0, 2*pi]')\n",
        "plt.axhline(0, color='black', linewidth=0.5)\n",
        "plt.axvline(0, color='black', linewidth=0.5)\n",
        "plt.grid(color='gray', linestyle='--', linewidth=0.5)\n",
        "\n",
        "# express the points 0, pi/2, pi, 3*pi/2, 2*pi on the x-axis\n",
        "plt.xticks([0, np.pi / 2, np.pi, 3 * np.pi / 2, 2 * np.pi],\n",
        "           ['0', r'$\\frac{\\pi}{2}$', r'$\\pi$', r'$\\frac{3\\pi}{2}$', r'$2\\pi$'])\n",
        "\n",
        "# express the points -5, -4, -3, -2, -1, 0, 1, 2, 3, 4, 5 on the y-axis\n",
        "plt.yticks([-5, -4, -3, -2, -1, 0, 1, 2, 3, 4, 5],\n",
        "           ['-5', '-4', '-3', '-2', '-1', '0', '1', '2', '3', '4', '5'])\n",
        "\n",
        "plt.legend()\n",
        "plt.show()\n",
        "\n",
        "# End of Problem 15 - Practical"
      ],
      "metadata": {
        "colab": {
          "base_uri": "https://localhost:8080/"
        },
        "id": "ih_waJwSjFFI",
        "outputId": "2ed68338-7a33-4331-fa9a-7cd498df133c"
      },
      "execution_count": null,
      "outputs": [
        {
          "output_type": "stream",
          "name": "stdout",
          "text": [
            "Worked example 15\n",
            "The inverse of z is: \n",
            "(0.12-0.16j)\n",
            "(0.12-0.16j)\n"
          ]
        }
      ]
    },
    {
      "cell_type": "markdown",
      "source": [
        "# Worked Example 16"
      ],
      "metadata": {
        "id": "4c8859KpoEkK"
      }
    },
    {
      "cell_type": "code",
      "source": [
        "# Problem 16 - Practical\n",
        "\n",
        "print(\"Problem 26 - Practical\")\n",
        "\n",
        "# THREE (3) cycles of the sin(x) function appear in the interval [0, 2*pi]\n",
        "# Therefore, the period of the function is 2*pi / 3\n",
        "\n",
        "# The maximum value of the function is 4 and the minimum value is -4,\n",
        "\n",
        "# Therefore, the function is\n",
        "\n",
        "# y = 4*sin(3*x)\n",
        "\n",
        "# End of Problem 16 - Practical"
      ],
      "metadata": {
        "colab": {
          "base_uri": "https://localhost:8080/"
        },
        "id": "jw896AcPjI0p",
        "outputId": "f83a3e3d-9444-4c8e-b690-2e5baa4fdbc5"
      },
      "execution_count": null,
      "outputs": [
        {
          "output_type": "stream",
          "name": "stdout",
          "text": [
            "Worked example 16\n",
            "The imaginary part of 4z - w is: \n",
            "3.8823529411764706\n"
          ]
        }
      ]
    },
    {
      "cell_type": "markdown",
      "source": [
        "# Worked Example 17"
      ],
      "metadata": {
        "id": "R2z4RbbpoK1d"
      }
    },
    {
      "cell_type": "code",
      "source": [
        "# Problem 17 - Practical\n",
        "\n",
        "# a = -0.5\n",
        "# n = 2/3\n",
        "\n",
        "# y = 0.5*cos(3*x/2)\n",
        "\n",
        "# End of Problem 17 - Practical"
      ],
      "metadata": {
        "id": "k-5Cu5b5jNVC"
      },
      "execution_count": null,
      "outputs": []
    },
    {
      "cell_type": "code",
      "source": [],
      "metadata": {
        "colab": {
          "base_uri": "https://localhost:8080/",
          "height": 552
        },
        "id": "YZc2_VNQjREH",
        "outputId": "a0b3fc29-2e6c-4bb2-9cdb-2f29460a024f"
      },
      "execution_count": null,
      "outputs": [
        {
          "output_type": "stream",
          "name": "stdout",
          "text": [
            "Worked example 17 and 18\n",
            "The magnitude of z is: \n",
            "10.0\n",
            "10.0\n"
          ]
        },
        {
          "output_type": "display_data",
          "data": {
            "text/plain": [
              "<Figure size 640x480 with 1 Axes>"
            ],
            "image/png": "[encoded data removed]"
          },
          "metadata": {}
        },
        {
          "output_type": "stream",
          "name": "stdout",
          "text": [
            "The position of w - z on the Argand diagram is: \n",
            "The magnitude of w - z is: \n",
            "5.0\n"
          ]
        }
      ]
    },
    {
      "cell_type": "markdown",
      "source": [
        "# Worked Example 18"
      ],
      "metadata": {
        "id": "_FeeRZkG04nb"
      }
    },
    {
      "cell_type": "code",
      "source": [
        "# Problem 18 - Practical\n",
        "\n",
        "# End of Problem 18 - Practical"
      ],
      "metadata": {
        "id": "rphcYzlS3M5i"
      },
      "execution_count": null,
      "outputs": []
    },
    {
      "cell_type": "markdown",
      "source": [
        "# Worked Example 19"
      ],
      "metadata": {
        "id": "yZYM0nSr3Rq9"
      }
    },
    {
      "cell_type": "code",
      "source": [
        "# Problem 19 - Practical\n",
        "\n",
        "# Determine the equation in the form of\n",
        "# y = a*cos(n*(x + epsilon)) + c\n",
        "# if the amplitude is 6,\n",
        "# and there is an upward shift of 2 and the period is 8\n",
        "\n",
        "# End of Problem 19 - Practical"
      ],
      "metadata": {
        "id": "fbst5iVe3XeT"
      },
      "execution_count": null,
      "outputs": []
    },
    {
      "cell_type": "markdown",
      "source": [
        "No Worked example 19"
      ],
      "metadata": {
        "id": "DqVlnwE4jOat"
      }
    },
    {
      "cell_type": "markdown",
      "source": [
        "# Worked Example 20"
      ],
      "metadata": {
        "id": "vK8GnkOdoRcE"
      }
    },
    {
      "cell_type": "code",
      "source": [
        "# Problem 20 - Practical\n",
        "\n",
        "# Determine the equation in the form of\n",
        "# y = a*sin(n*(x + epsilon)) + c\n",
        "# if the amplitude is 5,\n",
        "# there is a downward shift of 4,\n",
        "# a shift to the left of pi/2,\n",
        "# and the period is 8*pi\n",
        "\n",
        "# The amplitude (a) is 5\n",
        "a = 5\n",
        "\n",
        "# The downward shift (c) is -4\n",
        "c = -4\n",
        "\n",
        "# The shift to the left (epsilon) is pi/2\n",
        "epsilon = sp.pi / 2\n",
        "\n",
        "# The period (T) is 8*pi, so n can be found using the formula T = 2*pi / n\n",
        "T = 8 * sp.pi\n",
        "n = 2 * sp.pi / T\n",
        "\n",
        "# Therefore, the equation is:\n",
        "equation = a * sp.sin(n * (x + epsilon)) + c\n",
        "print(f\"The equation is: y = {equation}\")\n",
        "\n",
        "# End of Problem 20 - Practical"
      ],
      "metadata": {
        "colab": {
          "base_uri": "https://localhost:8080/"
        },
        "id": "SZzaT9ByjWms",
        "outputId": "38b2a5a2-bec8-4007-ec5e-5e70681f7f38"
      },
      "execution_count": null,
      "outputs": [
        {
          "output_type": "stream",
          "name": "stdout",
          "text": [
            "The equation is: y = 5*sin(x/4 + pi/8) - 4\n"
          ]
        }
      ]
    }
  ]
}