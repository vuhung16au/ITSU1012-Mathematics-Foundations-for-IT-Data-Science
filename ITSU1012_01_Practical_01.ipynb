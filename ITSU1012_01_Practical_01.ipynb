{
  "nbformat": 4,
  "nbformat_minor": 0,
  "metadata": {
    "colab": {
      "provenance": [],
      "toc_visible": true
    },
    "kernelspec": {
      "name": "python3",
      "display_name": "Python 3"
    },
    "language_info": {
      "name": "python"
    }
  },
  "cells": [
    {
      "cell_type": "markdown",
      "source": [
        "# RUN ME FIRST"
      ],
      "metadata": {
        "id": "FWqumAGdKsdg"
      }
    },
    {
      "cell_type": "code",
      "execution_count": null,
      "metadata": {
        "id": "PT8ftwoXk8tL"
      },
      "outputs": [],
      "source": [
        "import cmath\n",
        "import math\n",
        "\n",
        "# ITSU1012\n",
        "# MATHEMATICS FOUNDATIONS FOR IT Practical – 01"
      ]
    },
    {
      "cell_type": "markdown",
      "source": [
        "# Problem 01"
      ],
      "metadata": {
        "id": "DvCQUgjdlHRK"
      }
    },
    {
      "cell_type": "code",
      "source": [
        "# Problem 01\n",
        "print(\"Problem 1\")\n",
        "\n",
        "# Using the imaginary number i, write down expressions for:\n",
        "\n",
        "i = 1j\n",
        "z1 = cmath.sqrt(-81)\n",
        "z2 = cmath.sqrt(-5)\n",
        "\n",
        "print(\"z1 = \", z1) # should be 9j\n",
        "print(\"z2 = \", z2) # should be 2.236j\n"
      ],
      "metadata": {
        "colab": {
          "base_uri": "https://localhost:8080/"
        },
        "id": "fUWAijUalk6d",
        "outputId": "f92122a0-859e-4300-e5c0-38ff799e4c55"
      },
      "execution_count": null,
      "outputs": [
        {
          "output_type": "stream",
          "name": "stdout",
          "text": [
            "Problem 1\n",
            "z1 =  9j\n",
            "z2 =  2.23606797749979j\n"
          ]
        }
      ]
    },
    {
      "cell_type": "markdown",
      "source": [
        "# Problem 02"
      ],
      "metadata": {
        "id": "9r2XXSSNlH8W"
      }
    },
    {
      "cell_type": "code",
      "source": [
        "# Problem 02\n",
        "\n",
        "print(\"Problem 2\")\n",
        "# Simplify the following expressions:\n",
        "\n",
        "z = i**3 - 2*(i**5) + 5*(i**6) - 3*(i**7) + 2\n",
        "# https://www.wolframalpha.com/input?i2d=true&i=simplify+Power%5Bi%2C3%5D+-+2Power%5Bi%2C5%5D+%2B+5Power%5Bi%2C6%5D+-+3Power%5Bi%2C7%5D+%2B+2\n",
        "# https://www.mathgptpro.com/app/session?u=70b26b66-da35-453a-b819-c4f6b42f00fb1725790072829&p=1\n",
        "print(\"z = \", z) # should be -3"
      ],
      "metadata": {
        "colab": {
          "base_uri": "https://localhost:8080/"
        },
        "id": "_9GasEktlopo",
        "outputId": "f7854b63-a216-4648-f28e-026429942a1e"
      },
      "execution_count": null,
      "outputs": [
        {
          "output_type": "stream",
          "name": "stdout",
          "text": [
            "Problem 2\n",
            "z =  (-3+0j)\n"
          ]
        }
      ]
    },
    {
      "cell_type": "markdown",
      "source": [
        "# Problem 03"
      ],
      "metadata": {
        "id": "UY-Z_cE4lIWI"
      }
    },
    {
      "cell_type": "code",
      "source": [
        "# Problem 03\n",
        "\n",
        "print(\"Problem 03\")\n",
        "\n",
        "# Probblem 3.a\n",
        "# Plot z = 2 - 3j and w = 4 + 3i on an Argand diagram.\n",
        "z = 2 - 3j\n",
        "w = 4 + 3j\n",
        "\n",
        "# Using matplotlib to plot the graph\n",
        "import matplotlib.pyplot as plt\n",
        "plt.plot([0, z.real], [0, z.imag], 'r')\n",
        "plt.plot([0, w.real], [0, w.imag], 'b')\n",
        "plt.xlabel('Real')\n",
        "plt.ylabel('Imaginary')\n",
        "plt.title('Argand Diagram')\n",
        "plt.grid()\n",
        "plt.show()\n",
        "\n",
        "# Problem 3.b\n",
        "p3b = 4*z - 3*w\n",
        "# https://www.mathgptpro.com/share?u=70b26b66-da35-453a-b819-c4f6b42f00fb1725790072829\n",
        "print(\"p3b = \", p3b) # -4 - 21j\n"
      ],
      "metadata": {
        "colab": {
          "base_uri": "https://localhost:8080/",
          "height": 507
        },
        "id": "d-s7lImKlu3g",
        "outputId": "e57fe4f8-8ee8-44a9-ea49-000c1d7abfde"
      },
      "execution_count": null,
      "outputs": [
        {
          "output_type": "stream",
          "name": "stdout",
          "text": [
            "Problem 03\n"
          ]
        },
        {
          "output_type": "display_data",
          "data": {
            "text/plain": [
              "<Figure size 640x480 with 1 Axes>"
            ],
            "image/png": "[encoded data removed]"
          },
          "metadata": {}
        },
        {
          "output_type": "stream",
          "name": "stdout",
          "text": [
            "p3b =  (-4-21j)\n"
          ]
        }
      ]
    },
    {
      "cell_type": "markdown",
      "source": [
        "# Problem 04"
      ],
      "metadata": {
        "id": "ydBZF_u5lIth"
      }
    },
    {
      "cell_type": "code",
      "source": [
        "# Problem 04\n",
        "\n",
        "print(\"Problem 4\")\n",
        "\n",
        "# https://www.mathgptpro.com/share?u=70b26b66-da35-453a-b819-c4f6b42f00fb1725790072829\n",
        "\n",
        "z = 5 + 3j\n",
        "w = 1 - 2j\n",
        "u = 3 - 2j\n",
        "\n",
        "print(\"zwu is: \", z*w*u)  # (19-43j)\n",
        "print(\"Re(z**2) is: \", (z**2).real)\n",
        "\n",
        "k = (u*z).imag - (z*z*w).real # 16.0\n",
        "print(\"k is: \", k) # -77"
      ],
      "metadata": {
        "colab": {
          "base_uri": "https://localhost:8080/"
        },
        "id": "sE5DezXhl1yl",
        "outputId": "aa5dd3ce-8373-44a4-8563-a2daed9f27d2"
      },
      "execution_count": null,
      "outputs": [
        {
          "output_type": "stream",
          "name": "stdout",
          "text": [
            "Problem 4\n",
            "zwu is:  (19-43j)\n",
            "Re(z**2) is:  16.0\n",
            "k is:  -77.0\n"
          ]
        }
      ]
    },
    {
      "cell_type": "markdown",
      "source": [
        "# Problem 05"
      ],
      "metadata": {
        "id": "DiR9GxwjlJA9"
      }
    },
    {
      "cell_type": "code",
      "source": [
        "# Problem 5\n",
        "\n",
        "print(\"Problem 05\")\n",
        "\n",
        "# Find x, y where\n",
        "# (2 + 3j) * (x + yj) = 23 + 2j\n",
        "\n",
        "z = (23 + 2j) / (2 + 3j)\n",
        "# https://www.mathgptpro.com/share?u=70b26b66-da35-453a-b819-c4f6b42f00fb1725790072829\n",
        "print(\"x = \", z.real) # 4.0\n",
        "print(\"y = \", z.imag) # -5\n"
      ],
      "metadata": {
        "colab": {
          "base_uri": "https://localhost:8080/"
        },
        "id": "wlwtdp9Tl8QQ",
        "outputId": "6ba7a9de-7c53-4daa-a1e8-626a995f0dbe"
      },
      "execution_count": null,
      "outputs": [
        {
          "output_type": "stream",
          "name": "stdout",
          "text": [
            "Problem 05\n",
            "x =  4.0\n",
            "y =  -5.000000000000001\n"
          ]
        }
      ]
    },
    {
      "cell_type": "markdown",
      "source": [
        "# Problem 06"
      ],
      "metadata": {
        "id": "rCUrNF2zlJTT"
      }
    },
    {
      "cell_type": "code",
      "source": [
        "# Problem 6\n",
        "print(\"Problem 06\")\n",
        "\n",
        "z = (4 + 3j) / (3 - 2j)\n",
        "\n",
        "x = z.real\n",
        "y = z.imag\n",
        "\n",
        "# https://www.mathgptpro.com/share?u=70b26b66-da35-453a-b819-c4f6b42f00fb1725790072829\n",
        "print(\"x = \", x) # 6/13 ~ 0.46\n",
        "print(\"y = \", y) # 17/13 ~ 1.31"
      ],
      "metadata": {
        "colab": {
          "base_uri": "https://localhost:8080/"
        },
        "id": "h_7WBxVVmA7-",
        "outputId": "7d41d1df-4d4c-4658-eee7-75d6a71e5710"
      },
      "execution_count": null,
      "outputs": [
        {
          "output_type": "stream",
          "name": "stdout",
          "text": [
            "Problem 06\n",
            "x =  0.46153846153846156\n",
            "y =  1.3076923076923077\n"
          ]
        }
      ]
    },
    {
      "cell_type": "markdown",
      "source": [
        "# Problem 07"
      ],
      "metadata": {
        "id": "wJkvV-A9lJof"
      }
    },
    {
      "cell_type": "code",
      "source": [
        "# Problem 7\n",
        "print(\"Problem 07\")\n",
        "\n",
        "z = (3 + 1j) / (2 + 1j) - (5 - 3j) / (2 - 3j)\n",
        "\n",
        "print(\"z = \", z)\n",
        "print(\"x = \", z.real) # -0.061538461538461764\n",
        "print(\"y = \", z.imag) # -0.8923076923076925\n",
        "\n",
        "# https://www.mathgptpro.com/share?u=70b26b66-da35-453a-b819-c4f6b42f00fb1725790072829\n",
        "# -> wrong answer!"
      ],
      "metadata": {
        "colab": {
          "base_uri": "https://localhost:8080/"
        },
        "id": "qRtDSRqimEnZ",
        "outputId": "8ab6ed57-830e-44c7-cc8a-c6bec4750eed"
      },
      "execution_count": null,
      "outputs": [
        {
          "output_type": "stream",
          "name": "stdout",
          "text": [
            "Problem 07\n",
            "z =  (-0.061538461538461764-0.8923076923076925j)\n",
            "x =  -0.061538461538461764\n",
            "y =  -0.8923076923076925\n"
          ]
        }
      ]
    },
    {
      "cell_type": "markdown",
      "source": [
        "# Problem 08"
      ],
      "metadata": {
        "id": "2IRd7i7QlJ7Y"
      }
    },
    {
      "cell_type": "code",
      "source": [
        "# Problem 8\n",
        "print(\"Problem 08\")\n",
        "\n",
        "z = 7 - 7j\n",
        "\n",
        "# Find the modulus of z\n",
        "modulus = abs(z)\n",
        "print(\"modulus = \", modulus)\n",
        "# Find the argument of z\n",
        "argument = cmath.phase(z)\n",
        "print(\"argument = \", argument)"
      ],
      "metadata": {
        "id": "YKbG33xPmLlo",
        "outputId": "3e9070f1-76d6-46b2-a303-85ce167620aa",
        "colab": {
          "base_uri": "https://localhost:8080/"
        }
      },
      "execution_count": null,
      "outputs": [
        {
          "output_type": "stream",
          "name": "stdout",
          "text": [
            "Problem 08\n",
            "modulus =  9.899494936611665\n",
            "argument =  -0.7853981633974483\n"
          ]
        }
      ]
    },
    {
      "cell_type": "markdown",
      "source": [
        "# Problem 09"
      ],
      "metadata": {
        "id": "6erpzeGIlKRv"
      }
    },
    {
      "cell_type": "code",
      "source": [
        "# Problem 9\n",
        "print(\"Problem 09\")\n",
        "\n",
        "z = math.sqrt(21) - math.sqrt(7)*(1j)\n",
        "\n",
        "# Express z in polar form\n",
        "r = abs(z)\n",
        "theta = cmath.phase(z)\n",
        "print(\"r = \", r) # 7 sqrt(2)\n",
        "print(\"theta = \", theta)\n"
      ],
      "metadata": {
        "id": "JCKRsi6-mOWv",
        "outputId": "042c8c34-e83c-4517-dfda-3fade38568ee",
        "colab": {
          "base_uri": "https://localhost:8080/"
        }
      },
      "execution_count": null,
      "outputs": [
        {
          "output_type": "stream",
          "name": "stdout",
          "text": [
            "Problem 09\n",
            "r =  5.291502622129181\n",
            "theta =  -0.5235987755982989\n"
          ]
        }
      ]
    },
    {
      "cell_type": "markdown",
      "source": [
        "# Problem 10"
      ],
      "metadata": {
        "id": "kyyBUM48lLkN"
      }
    },
    {
      "cell_type": "code",
      "source": [
        "# Problem 10\n",
        "print(\"Problem 10\")\n",
        "\n",
        "# Express math.sqrt(2) * cis (5 pi / 4 ) in the form a + bi\n",
        "z = cmath.rect(math.sqrt(2), 5*math.pi/4)\n",
        "print(\"z = \", z) # -1 + 1j ~ z =  (-1.0000000000000002-0.9999999999999998j)\n",
        "\n",
        "# Plot z on an Argand diagram\n",
        "import matplotlib.pyplot as plt\n",
        "plt.plot([0, z.real], [0, z.imag], 'r')\n",
        "plt.xlabel('Real')\n",
        "plt.ylabel('Imaginary')\n",
        "\n",
        "# Make x and y axis equal\n",
        "plt.axis('equal')\n",
        "\n",
        "plt.title('Argand Diagram for z = math.sqrt(2) * cis (5 pi / 4 )')\n",
        "plt.grid()\n",
        "plt.show()\n"
      ],
      "metadata": {
        "id": "gXugcYWnmRQD",
        "outputId": "fc8d11de-4316-4d2d-ab41-86fffbb1a75d",
        "colab": {
          "base_uri": "https://localhost:8080/",
          "height": 507
        }
      },
      "execution_count": null,
      "outputs": [
        {
          "output_type": "stream",
          "name": "stdout",
          "text": [
            "Problem 10\n",
            "z =  (-1.0000000000000002-1j)\n"
          ]
        },
        {
          "output_type": "display_data",
          "data": {
            "text/plain": [
              "<Figure size 640x480 with 1 Axes>"
            ],
            "image/png": "[encoded data removed]"
          },
          "metadata": {}
        }
      ]
    }
  ]
}