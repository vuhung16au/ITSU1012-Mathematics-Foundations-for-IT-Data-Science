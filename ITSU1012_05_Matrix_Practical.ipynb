{
  "cells": [
    {
      "cell_type": "markdown",
      "source": [
        "# RUNME"
      ],
      "metadata": {
        "id": "2N__SdWVL_ju"
      }
    },
    {
      "cell_type": "code",
      "execution_count": null,
      "metadata": {
        "id": "SrDFT7-7HpE1"
      },
      "outputs": [],
      "source": [
        "import numpy as np\n",
        "import sympy as sp"
      ]
    },
    {
      "cell_type": "markdown",
      "metadata": {
        "id": "eWlxSe-FHpE2"
      },
      "source": [
        "# ITSU1012 - Lesson 05 Practical Examples"
      ]
    },
    {
      "cell_type": "markdown",
      "metadata": {
        "id": "csNYprGLHpE3"
      },
      "source": [
        "# ITSU1012 - Lesson 05 Practical Examples 01"
      ]
    },
    {
      "cell_type": "code",
      "execution_count": null,
      "metadata": {
        "id": "QQteBlfAHpE3"
      },
      "outputs": [],
      "source": [
        "# A = [[2, -3, 5],\n",
        "#      [6, 7, 1]]\n",
        "\n",
        "# Define A using numpy array\n",
        "A = np.array([[2, -3, 5],\n",
        "              [6, 7, 1]])"
      ]
    },
    {
      "cell_type": "code",
      "execution_count": null,
      "metadata": {
        "id": "5Nsjm9ubHpE3"
      },
      "outputs": [],
      "source": [
        "# B = [[8], [4], [2]]\n",
        "\n",
        "# Define B using numpy array\n",
        "B = np.array([[8],\n",
        "              [4],\n",
        "              [2]])"
      ]
    },
    {
      "cell_type": "markdown",
      "metadata": {
        "id": "aSnyk7TxHpE3"
      },
      "source": [
        "Print the order of A and B"
      ]
    },
    {
      "cell_type": "code",
      "execution_count": null,
      "metadata": {
        "colab": {
          "base_uri": "https://localhost:8080/"
        },
        "id": "PJs6rWUiHpE4",
        "outputId": "e388e450-00a9-4c75-d678-c104ba892476"
      },
      "outputs": [
        {
          "output_type": "stream",
          "name": "stdout",
          "text": [
            "The order of matrix A is (2, 3)\n",
            "The order of matrix B is (3, 1)\n"
          ]
        }
      ],
      "source": [
        "# print(\"The order of matrix A is\", len(A), \"x\", len(A[0]))\n",
        "# print(\"The order of matrix B is\", len(B), \"x\", len(B[0]))\n",
        "\n",
        "# print the order of A\n",
        "print(\"The order of matrix A is\", A.shape)\n",
        "# print the order of B\n",
        "print(\"The order of matrix B is\", B.shape)"
      ]
    },
    {
      "cell_type": "markdown",
      "metadata": {
        "id": "8zAZgEzTHpE4"
      },
      "source": [
        "# ITSU1012 - Lesson 05 Practical Examples 02"
      ]
    },
    {
      "cell_type": "code",
      "execution_count": null,
      "metadata": {
        "id": "McJRlEXIHpE4"
      },
      "outputs": [],
      "source": [
        "A = np.array([[-4, 10],\n",
        "              [-6, 2]])"
      ]
    },
    {
      "cell_type": "markdown",
      "metadata": {
        "id": "BGvxNXVqHpE5"
      },
      "source": [
        "Find 2*A"
      ]
    },
    {
      "cell_type": "code",
      "execution_count": null,
      "metadata": {
        "colab": {
          "base_uri": "https://localhost:8080/"
        },
        "id": "tv0GMyXLHpE5",
        "outputId": "aa9ab40a-9e18-4dc6-f926-7c6734c372e5"
      },
      "outputs": [
        {
          "output_type": "stream",
          "name": "stdout",
          "text": [
            "2*A is [[ -8  20]\n",
            " [-12   4]]\n"
          ]
        }
      ],
      "source": [
        "print(\"2*A is\", 2*A)"
      ]
    },
    {
      "cell_type": "markdown",
      "metadata": {
        "id": "Z-UM6m5UHpE5"
      },
      "source": [
        "Find -3*A"
      ]
    },
    {
      "cell_type": "code",
      "execution_count": null,
      "metadata": {
        "colab": {
          "base_uri": "https://localhost:8080/"
        },
        "id": "0xS7tWAaHpE5",
        "outputId": "4949d8d1-7c8c-4760-c77a-de71b23ae70c"
      },
      "outputs": [
        {
          "output_type": "stream",
          "name": "stdout",
          "text": [
            "-3*A is [[ 12 -30]\n",
            " [ 18  -6]]\n"
          ]
        }
      ],
      "source": [
        "print(\"-3*A is\", -3*A)"
      ]
    },
    {
      "cell_type": "markdown",
      "metadata": {
        "id": "1PMcNcmoHpE5"
      },
      "source": [
        "Find -1/2*A"
      ]
    },
    {
      "cell_type": "code",
      "execution_count": null,
      "metadata": {
        "colab": {
          "base_uri": "https://localhost:8080/"
        },
        "id": "vyRjSImCHpE5",
        "outputId": "3e290c67-ff7f-45a7-ba40-4e6efd6e5be7"
      },
      "outputs": [
        {
          "output_type": "stream",
          "name": "stdout",
          "text": [
            "-1/2*A is [[ 2. -5.]\n",
            " [ 3. -1.]]\n"
          ]
        }
      ],
      "source": [
        "print(\"-1/2*A is\", -0.5*A)"
      ]
    },
    {
      "cell_type": "markdown",
      "metadata": {
        "id": "llSnlPNhHpE6"
      },
      "source": [
        "Find 0.3*A"
      ]
    },
    {
      "cell_type": "code",
      "execution_count": null,
      "metadata": {
        "colab": {
          "base_uri": "https://localhost:8080/"
        },
        "id": "Z9XkIJQHHpE6",
        "outputId": "988d29a6-e45c-4d10-8d87-571ae84e7d65"
      },
      "outputs": [
        {
          "output_type": "stream",
          "name": "stdout",
          "text": [
            "0.3*A is [[-1.2  3. ]\n",
            " [-1.8  0.6]]\n"
          ]
        }
      ],
      "source": [
        "print(\"0.3*A is\", 0.3*A)"
      ]
    },
    {
      "cell_type": "markdown",
      "metadata": {
        "id": "5dBhqU_eHpE6"
      },
      "source": [
        "# ITSU1012 - Lesson 05 Practical Examples 03"
      ]
    },
    {
      "cell_type": "code",
      "execution_count": null,
      "metadata": {
        "id": "c7xjtRvDHpE6"
      },
      "outputs": [],
      "source": [
        "# A = [[1, -2],\n",
        "#      [3, 4]]\n",
        "\n",
        "# Define A using numpy array\n",
        "A = np.array([[1, -2],\n",
        "              [3, 4]])"
      ]
    },
    {
      "cell_type": "code",
      "execution_count": null,
      "metadata": {
        "id": "zliDnANGHpE6"
      },
      "outputs": [],
      "source": [
        "# B = [[-5, -1],\n",
        "#      [6, 3]]\n",
        "\n",
        "# Define B using numpy array\n",
        "B = np.array([[-5, -1],\n",
        "              [6, 3]])"
      ]
    },
    {
      "cell_type": "markdown",
      "metadata": {
        "id": "3OLs_nSFHpE6"
      },
      "source": [
        "Find A+B"
      ]
    },
    {
      "cell_type": "code",
      "execution_count": null,
      "metadata": {
        "colab": {
          "base_uri": "https://localhost:8080/"
        },
        "id": "osvVFXKTHpE7",
        "outputId": "638be39b-8d14-42ff-9aee-99ae7d1e7297"
      },
      "outputs": [
        {
          "output_type": "stream",
          "name": "stdout",
          "text": [
            "A+B is [[-4 -3]\n",
            " [ 9  7]]\n",
            "2*A + B is [[-3 -5]\n",
            " [12 11]]\n",
            "A + 2*B is [[-9 -4]\n",
            " [15 10]]\n"
          ]
        }
      ],
      "source": [
        "print(\"A+B is\", A + B)\n",
        "# Find 2*A + B\n",
        "print(\"2*A + B is\", 2*A + B)\n",
        "# Find A +2*B\n",
        "print(\"A + 2*B is\", A + 2*B)"
      ]
    },
    {
      "cell_type": "markdown",
      "metadata": {
        "id": "89N4pQL-HpE7"
      },
      "source": [
        "# ITSU1012 - Lesson 05 Practical Examples 04"
      ]
    },
    {
      "cell_type": "markdown",
      "metadata": {
        "id": "N4idJ0gZHpE7"
      },
      "source": [
        "P = [[-2, 3], <br>\n",
        "     [5, 4]]"
      ]
    },
    {
      "cell_type": "markdown",
      "metadata": {
        "id": "u59YQiV9HpE7"
      },
      "source": [
        "Q = [[1, -4],<br>\n",
        "    [-3, 2]]"
      ]
    },
    {
      "cell_type": "code",
      "execution_count": null,
      "metadata": {
        "id": "gO3p3JDIHpE7"
      },
      "outputs": [],
      "source": [
        "P = np.array([[-2, 3],\n",
        "                [5, 4]])"
      ]
    },
    {
      "cell_type": "code",
      "execution_count": null,
      "metadata": {
        "id": "xR3NXbldHpE7"
      },
      "outputs": [],
      "source": [
        "Q = np.array([[1, -4],\n",
        "                [-3, 2]])"
      ]
    },
    {
      "cell_type": "markdown",
      "metadata": {
        "id": "aoqGkUHsHpE8"
      },
      "source": [
        "Find P - Q"
      ]
    },
    {
      "cell_type": "code",
      "execution_count": null,
      "metadata": {
        "colab": {
          "base_uri": "https://localhost:8080/"
        },
        "id": "rP_oz0BFHpE8",
        "outputId": "58e18721-734b-4ba6-f020-ee86b37d11ef"
      },
      "outputs": [
        {
          "output_type": "stream",
          "name": "stdout",
          "text": [
            "P - Q is [[-3  7]\n",
            " [ 8  2]]\n",
            "2*P - Q is [[-5 10]\n",
            " [13  6]]\n",
            "P - 2*Q is [[-4 11]\n",
            " [11  0]]\n"
          ]
        }
      ],
      "source": [
        "print(\"P - Q is\", P - Q)\n",
        "# Find 2*P - Q\n",
        "print(\"2*P - Q is\", 2*P - Q)\n",
        "# Find P - 2*Q\n",
        "print(\"P - 2*Q is\", P - 2*Q)"
      ]
    },
    {
      "cell_type": "markdown",
      "metadata": {
        "id": "M-WEDZWeHpE8"
      },
      "source": [
        "# ITSU1012 - Lesson 05 Practical Examples 05"
      ]
    },
    {
      "cell_type": "code",
      "execution_count": null,
      "metadata": {
        "id": "6Ta_dnA6HpE8"
      },
      "outputs": [],
      "source": [
        "A = sp.Matrix([[-9, 4],\n",
        "               [8, -6]])"
      ]
    },
    {
      "cell_type": "code",
      "execution_count": null,
      "metadata": {
        "id": "aop41RHZHpE8"
      },
      "outputs": [],
      "source": [
        "a, b = sp.symbols('a b')\n",
        "B = sp.Matrix([[a, b],\n",
        "               [-10, 2]])"
      ]
    },
    {
      "cell_type": "code",
      "execution_count": null,
      "metadata": {
        "id": "5W_DXUV9HpE9"
      },
      "outputs": [],
      "source": [
        "c = sp.symbols('c')\n",
        "C = sp.Matrix([[-6, -4],\n",
        "                [-2, c]])"
      ]
    },
    {
      "cell_type": "markdown",
      "metadata": {
        "id": "ZwKDw9yeHpE9"
      },
      "source": [
        "Solve for a, b, and c such that A + B = C"
      ]
    },
    {
      "cell_type": "code",
      "execution_count": null,
      "metadata": {
        "colab": {
          "base_uri": "https://localhost:8080/"
        },
        "id": "-0s9JQRYHpE9",
        "outputId": "ab360a5b-425f-4757-f997-87e47c47c448"
      },
      "outputs": [
        {
          "output_type": "stream",
          "name": "stdout",
          "text": [
            "The solution is {a: 3, b: -8, c: -4}\n"
          ]
        }
      ],
      "source": [
        "solution = sp.solve(A + B - C)\n",
        "print(\"The solution is\", solution) # The solution is {a: 3, b: -8, c: -4}"
      ]
    },
    {
      "cell_type": "markdown",
      "metadata": {
        "id": "4SLsx-UTHpE-"
      },
      "source": [
        "# ITSU1012 - Lesson 05 Practical Examples 06"
      ]
    },
    {
      "cell_type": "code",
      "execution_count": null,
      "metadata": {
        "id": "vpeAMoxCHpE-"
      },
      "outputs": [],
      "source": [
        "A = np.array([[3, 0],\n",
        "              [0, 3]])\n",
        "\n",
        "a = np.array([[-2], [4]])"
      ]
    },
    {
      "cell_type": "markdown",
      "metadata": {
        "id": "ImmmRa5UHpE-"
      },
      "source": [
        "Perform the matrix multiplication"
      ]
    },
    {
      "cell_type": "code",
      "execution_count": null,
      "metadata": {
        "id": "G4oksNm2HpE-"
      },
      "outputs": [],
      "source": [
        "C = np.dot(A, a)"
      ]
    },
    {
      "cell_type": "markdown",
      "metadata": {
        "id": "13AzlI-PHpE_"
      },
      "source": [
        "Print the result"
      ]
    },
    {
      "cell_type": "code",
      "execution_count": null,
      "metadata": {
        "colab": {
          "base_uri": "https://localhost:8080/"
        },
        "id": "W-GuaJc4HpE_",
        "outputId": "d76b6e0e-81c6-412b-e316-4a721db857bd"
      },
      "outputs": [
        {
          "output_type": "stream",
          "name": "stdout",
          "text": [
            "6.a:  [[-6]\n",
            " [12]]\n"
          ]
        }
      ],
      "source": [
        "print(\"6.a: \\n \", C)"
      ]
    },
    {
      "cell_type": "code",
      "execution_count": null,
      "metadata": {
        "id": "dnfL5P5mHpE_"
      },
      "outputs": [],
      "source": [
        "A = np.array([[1, 0],\n",
        "              [0, -1]])\n",
        "a = np.array([[2], [3]])"
      ]
    },
    {
      "cell_type": "markdown",
      "metadata": {
        "id": "Tz7c2WJGHpE_"
      },
      "source": [
        "Perform the matrix multiplication"
      ]
    },
    {
      "cell_type": "code",
      "execution_count": null,
      "metadata": {
        "id": "nz5KbbiXHpE_"
      },
      "outputs": [],
      "source": [
        "C = np.dot(A, a)"
      ]
    },
    {
      "cell_type": "markdown",
      "metadata": {
        "id": "iIRn5afiHpE_"
      },
      "source": [
        "Print the result"
      ]
    },
    {
      "cell_type": "code",
      "execution_count": null,
      "metadata": {
        "colab": {
          "base_uri": "https://localhost:8080/"
        },
        "id": "Bi6siAW1HpFA",
        "outputId": "5f66dfc1-90e6-4135-de88-23faf4568c04"
      },
      "outputs": [
        {
          "output_type": "stream",
          "name": "stdout",
          "text": [
            "6.b: \n",
            " [[ 2]\n",
            " [-3]]\n"
          ]
        }
      ],
      "source": [
        "print(\"6.b: \\n\", C)"
      ]
    },
    {
      "cell_type": "code",
      "execution_count": null,
      "metadata": {
        "id": "wl7kDnCIHpFA"
      },
      "outputs": [],
      "source": [
        "A = np.array([[0, 1],\n",
        "              [1, 0]])\n",
        "\n",
        "a = np.array([[3], [4]])"
      ]
    },
    {
      "cell_type": "markdown",
      "metadata": {
        "id": "s39Qm5qbHpFA"
      },
      "source": [
        "Perform the matrix multiplication"
      ]
    },
    {
      "cell_type": "code",
      "execution_count": null,
      "metadata": {
        "id": "HTsiD9jZHpFA"
      },
      "outputs": [],
      "source": [
        "C = np.dot(A, a)"
      ]
    },
    {
      "cell_type": "markdown",
      "metadata": {
        "id": "_tFvzAZgHpFA"
      },
      "source": [
        "Print the result"
      ]
    },
    {
      "cell_type": "code",
      "execution_count": null,
      "metadata": {
        "colab": {
          "base_uri": "https://localhost:8080/"
        },
        "id": "YIQNIG6aHpFA",
        "outputId": "fb3905ed-f01d-4d37-c648-c670438ecc4a"
      },
      "outputs": [
        {
          "output_type": "stream",
          "name": "stdout",
          "text": [
            "6.c: \n",
            " [[4]\n",
            " [3]]\n"
          ]
        }
      ],
      "source": [
        "print(\"6.c: \\n\", C)"
      ]
    },
    {
      "cell_type": "markdown",
      "metadata": {
        "id": "IMrZepvnHpFB"
      },
      "source": [
        "# ITSU1012 - Lesson 05 Practical Examples 07"
      ]
    },
    {
      "cell_type": "code",
      "execution_count": null,
      "metadata": {
        "id": "RoqxmBXoHpFB"
      },
      "outputs": [],
      "source": [
        "A = np.array([[1, 0],\n",
        "              [0, 1]])"
      ]
    },
    {
      "cell_type": "code",
      "execution_count": null,
      "metadata": {
        "id": "PXSdBTN_HpFB"
      },
      "outputs": [],
      "source": [
        "B = np.array([[-4, 2],\n",
        "              [3, 5]])"
      ]
    },
    {
      "cell_type": "markdown",
      "metadata": {
        "id": "qC0n6-EHHpFB"
      },
      "source": [
        "Find A*B"
      ]
    },
    {
      "cell_type": "code",
      "execution_count": null,
      "metadata": {
        "colab": {
          "base_uri": "https://localhost:8080/"
        },
        "id": "cuNSZFLGHpFB",
        "outputId": "7292531c-7a9c-4416-eeb0-913ad3ee2a73"
      },
      "outputs": [
        {
          "output_type": "stream",
          "name": "stdout",
          "text": [
            "7.a:  [[-4  2]\n",
            " [ 3  5]]\n"
          ]
        }
      ],
      "source": [
        "C = np.dot(A, B)\n",
        "print(\"7.a: \\n\", C)"
      ]
    },
    {
      "cell_type": "markdown",
      "metadata": {
        "id": "WP-0fFAWHpFC"
      },
      "source": [
        "Did you notice anything special about the matrix A?"
      ]
    },
    {
      "cell_type": "code",
      "execution_count": null,
      "metadata": {
        "id": "XWQrL0ZNHpFC"
      },
      "outputs": [],
      "source": [
        "A = np.array([[3, 6],\n",
        "                [-2, 4]])"
      ]
    },
    {
      "cell_type": "code",
      "execution_count": null,
      "metadata": {
        "id": "rBUhh6N_HpFC"
      },
      "outputs": [],
      "source": [
        "B = np.array([[1, 0],\n",
        "                [0, 1]])"
      ]
    },
    {
      "cell_type": "markdown",
      "metadata": {
        "id": "0R4Dsf0FHpFC"
      },
      "source": [
        "Find A*B"
      ]
    },
    {
      "cell_type": "code",
      "execution_count": null,
      "metadata": {
        "colab": {
          "base_uri": "https://localhost:8080/"
        },
        "id": "gpRG4CsGHpFC",
        "outputId": "b958c831-72e7-4c7b-f367-61ef04bff75d"
      },
      "outputs": [
        {
          "output_type": "stream",
          "name": "stdout",
          "text": [
            "7.b: \n",
            " [[ 3  6]\n",
            " [-2  4]]\n"
          ]
        }
      ],
      "source": [
        "C = np.dot(A, B)\n",
        "print(\"7.b: \\n\", C)"
      ]
    },
    {
      "cell_type": "markdown",
      "metadata": {
        "id": "KEW0_1Z7HpFC"
      },
      "source": [
        "Did you notice anything special about the matrix B?"
      ]
    },
    {
      "cell_type": "markdown",
      "metadata": {
        "id": "ZNAbkYp6HpFC"
      },
      "source": [
        "7.c Ask GPT <br>\n",
        "What is the special name of the matrix"
      ]
    },
    {
      "cell_type": "markdown",
      "metadata": {
        "id": "VvGDKCv7HpFD"
      },
      "source": [
        "I = np.array([[1, 0],<br>\n",
        "                [0, 1]])"
      ]
    },
    {
      "cell_type": "code",
      "execution_count": null,
      "metadata": {
        "id": "9YfkSRMnHpFD"
      },
      "outputs": [],
      "source": []
    },
    {
      "cell_type": "markdown",
      "metadata": {
        "id": "X5iFdsNIHpFD"
      },
      "source": [
        "# ITSU1012 - Lesson 05 Practical Examples 08\n",
        "\n"
      ]
    },
    {
      "cell_type": "code",
      "execution_count": null,
      "metadata": {
        "id": "8QeDiXGqHpFD"
      },
      "outputs": [],
      "source": [
        "A = np.array([[-3, 1],\n",
        "                [2, 4]])"
      ]
    },
    {
      "cell_type": "code",
      "execution_count": null,
      "metadata": {
        "id": "Se2j6zQGHpFD"
      },
      "outputs": [],
      "source": [
        "B = np.array([[6, 4],\n",
        "                [-7, 3]])"
      ]
    },
    {
      "cell_type": "markdown",
      "metadata": {
        "id": "i-243fq2HpFE"
      },
      "source": [
        "Find A*B"
      ]
    },
    {
      "cell_type": "code",
      "execution_count": null,
      "metadata": {
        "id": "dTEIuHJdHpFE"
      },
      "outputs": [],
      "source": [
        "C = np.dot(A, B)\n",
        "print(\"8.a: A*B =  \", C)"
      ]
    },
    {
      "cell_type": "markdown",
      "metadata": {
        "id": "0dT88kLyHpFE"
      },
      "source": [
        "Find B*A"
      ]
    },
    {
      "cell_type": "code",
      "execution_count": null,
      "metadata": {
        "colab": {
          "base_uri": "https://localhost:8080/"
        },
        "id": "SZgg6r-YHpFE",
        "outputId": "b6df46b9-7d54-42e8-eeb0-724717e69f34"
      },
      "outputs": [
        {
          "output_type": "stream",
          "name": "stdout",
          "text": [
            "8.b: B*A =  [[-10  22]\n",
            " [ 27   5]]\n"
          ]
        }
      ],
      "source": [
        "D = np.dot(B, A)\n",
        "print(\"8.b: B*A = \\n\", D)"
      ]
    },
    {
      "cell_type": "markdown",
      "metadata": {
        "id": "4Rt09SKEHpFE"
      },
      "source": [
        "Find A*B - B*A"
      ]
    },
    {
      "cell_type": "code",
      "execution_count": null,
      "metadata": {
        "colab": {
          "base_uri": "https://localhost:8080/"
        },
        "id": "xOH9rHQ4HpFE",
        "outputId": "7173bf72-1583-4ac8-990c-44cebdebd1a1"
      },
      "outputs": [
        {
          "output_type": "stream",
          "name": "stdout",
          "text": [
            "8.c: A*B - B*A = \n",
            " [[-15 -31]\n",
            " [-43  15]]\n"
          ]
        }
      ],
      "source": [
        "E = np.dot(A, B) - np.dot(B, A)\n",
        "print(\"8.c: A*B - B*A = \\n\", E)"
      ]
    },
    {
      "cell_type": "markdown",
      "metadata": {
        "id": "EOD_qMYgHpFF"
      },
      "source": [
        "# ITSU1012 - Lesson 05 Practical Examples 09"
      ]
    },
    {
      "cell_type": "code",
      "execution_count": null,
      "metadata": {
        "id": "BvBrg5kzHpFF"
      },
      "outputs": [],
      "source": [
        "P = np.array([[-5, 3],\n",
        "              [4, -2]])"
      ]
    },
    {
      "cell_type": "code",
      "execution_count": null,
      "metadata": {
        "id": "Tp2YLYrRHpFF"
      },
      "outputs": [],
      "source": [
        "Q = np.array([[2, 6],\n",
        "             [-1, 3]])"
      ]
    },
    {
      "cell_type": "code",
      "execution_count": null,
      "metadata": {
        "id": "geaWNrsRHpFF"
      },
      "outputs": [],
      "source": [
        "R = np.array([[-7, 3],\n",
        "              [-2, 4]])"
      ]
    },
    {
      "cell_type": "markdown",
      "metadata": {
        "id": "2nGXsgZXHpFF"
      },
      "source": [
        "Work out P*Q"
      ]
    },
    {
      "cell_type": "code",
      "execution_count": null,
      "metadata": {
        "colab": {
          "base_uri": "https://localhost:8080/"
        },
        "id": "ZwTpKNLSHpFG",
        "outputId": "bfe5f58b-f3b0-484c-e6dc-3fc48f7b1b4f"
      },
      "outputs": [
        {
          "output_type": "stream",
          "name": "stdout",
          "text": [
            "P*Q = \n",
            " [[-13 -21]\n",
            " [ 10  18]]\n"
          ]
        }
      ],
      "source": [
        "PQ = np.dot(P, Q)\n",
        "print(\"P*Q = \\n\", PQ)"
      ]
    },
    {
      "cell_type": "markdown",
      "metadata": {
        "id": "UqsBTFuEHpFG"
      },
      "source": [
        "Work out Q*R"
      ]
    },
    {
      "cell_type": "code",
      "execution_count": null,
      "metadata": {
        "colab": {
          "base_uri": "https://localhost:8080/"
        },
        "id": "RWt-YFsVHpFG",
        "outputId": "80943943-3d65-4246-8b94-30c21a1b5c7f"
      },
      "outputs": [
        {
          "output_type": "stream",
          "name": "stdout",
          "text": [
            "Q*R = \n",
            " [[-26  30]\n",
            " [  1   9]]\n"
          ]
        }
      ],
      "source": [
        "QR = np.dot(Q, R)\n",
        "print(\"Q*R = \\n\", QR)"
      ]
    },
    {
      "cell_type": "markdown",
      "metadata": {
        "id": "TsgNdYv_HpFG"
      },
      "source": [
        "Workout (PQ)R"
      ]
    },
    {
      "cell_type": "code",
      "execution_count": null,
      "metadata": {
        "colab": {
          "base_uri": "https://localhost:8080/"
        },
        "id": "3OTmo5P4HpFG",
        "outputId": "19066f35-cd1c-40df-be3f-e2ae01b03b4e"
      },
      "outputs": [
        {
          "output_type": "stream",
          "name": "stdout",
          "text": [
            "(PQ)R = \n",
            " [[ 133 -123]\n",
            " [-106  102]]\n"
          ]
        }
      ],
      "source": [
        "PQ_R = np.dot(np.dot(P, Q), R)\n",
        "print(\"(PQ)R = \\n\", PQ_R)"
      ]
    },
    {
      "cell_type": "markdown",
      "metadata": {
        "id": "YwGYdWf2HpFG"
      },
      "source": [
        "Workout P(QR)"
      ]
    },
    {
      "cell_type": "code",
      "execution_count": null,
      "metadata": {
        "colab": {
          "base_uri": "https://localhost:8080/"
        },
        "id": "R9nKYqJsHpFG",
        "outputId": "aed63230-04ac-4070-e9b0-91b9d81cb8a2"
      },
      "outputs": [
        {
          "output_type": "stream",
          "name": "stdout",
          "text": [
            "P(QR) = \n",
            " [[ 133 -123]\n",
            " [-106  102]]\n"
          ]
        }
      ],
      "source": [
        "P_QR = np.dot(P, np.dot(Q, R))\n",
        "print(\"P(QR) = \\n\", P_QR)"
      ]
    },
    {
      "cell_type": "code",
      "execution_count": null,
      "metadata": {
        "colab": {
          "base_uri": "https://localhost:8080/"
        },
        "id": "TiE6p3hPHpFH",
        "outputId": "831e0552-128c-4321-843b-62828ad314ce"
      },
      "outputs": [
        {
          "output_type": "stream",
          "name": "stdout",
          "text": [
            "D = \n",
            " [[0 0]\n",
            " [0 0]]\n"
          ]
        }
      ],
      "source": [
        "D = PQ_R - P_QR\n",
        "print(\"D = \\n\", D)"
      ]
    },
    {
      "cell_type": "markdown",
      "metadata": {
        "id": "NSF9zxCaHpFH"
      },
      "source": [
        "The conclusion is that (PQ)R is (?) (or not?) equal to P(QR)<br>\n",
        "Thus, matrix multiplication is associative (or not?)"
      ]
    },
    {
      "cell_type": "markdown",
      "metadata": {
        "id": "WQk6CDiNHpFH"
      },
      "source": [
        "# ITSU1012 - Lesson 05 Practical Examples 10"
      ]
    },
    {
      "cell_type": "markdown",
      "metadata": {
        "id": "vazHSt2HHpFH"
      },
      "source": [
        "using SymPy to define a 2x2 matrix A = (a, 3), (b, -2) where a, b are symbols"
      ]
    },
    {
      "cell_type": "code",
      "execution_count": null,
      "metadata": {
        "id": "0rSu3ChXHpFH"
      },
      "outputs": [],
      "source": [
        "a, b = sp.symbols('a b')\n",
        "A = sp.Matrix([[a, 3],\n",
        "               [b, -2]])"
      ]
    },
    {
      "cell_type": "code",
      "execution_count": null,
      "metadata": {
        "id": "uWgAIJeaHpFH"
      },
      "outputs": [],
      "source": [
        "B = sp.Matrix([[1, 2],\n",
        "               [3, 4]])\n",
        "C = sp.Matrix([[-3, 1],\n",
        "               [0, -5]])"
      ]
    },
    {
      "cell_type": "code",
      "execution_count": null,
      "metadata": {
        "colab": {
          "base_uri": "https://localhost:8080/"
        },
        "id": "y1wapJ3ZHpFI",
        "outputId": "1b2206a9-a360-43ba-b587-3ec7cade3115"
      },
      "outputs": [
        {
          "output_type": "stream",
          "name": "stdout",
          "text": [
            "A =  Matrix([[a, 3], [b, -2]])\n",
            "B =  Matrix([[1, 2], [3, 4]])\n",
            "C =  Matrix([[-3, 1], [0, -5]])\n",
            "A*B =  Matrix([[a + 9, 2*a + 12], [b - 6, 2*b - 8]])\n",
            "A*B - C =  Matrix([[a + 12, 2*a + 11], [b - 6, 2*b - 3]])\n"
          ]
        }
      ],
      "source": [
        "print(\"A = \", A)\n",
        "print(\"B = \", B)\n",
        "print(\"C = \", C)\n",
        "print(\"A*B = \", A*B)\n",
        "print(\"A*B - C = \", A*B - C)"
      ]
    },
    {
      "cell_type": "markdown",
      "metadata": {
        "id": "fVSGsZFFHpFI"
      },
      "source": [
        "Solve for a and b such that A*B = C<br>\n",
        "TODO: fix the error \"The solution is []\""
      ]
    },
    {
      "cell_type": "code",
      "execution_count": null,
      "metadata": {
        "id": "CCd5xSuhHpFI"
      },
      "outputs": [],
      "source": [
        "solution = sp.solve(A*B - C, (a, b))"
      ]
    },
    {
      "cell_type": "code",
      "execution_count": null,
      "metadata": {
        "colab": {
          "base_uri": "https://localhost:8080/"
        },
        "id": "8XdNxj0QHpFI",
        "outputId": "be07eb49-4fb6-4cad-d423-326630cd1b80"
      },
      "outputs": [
        {
          "output_type": "stream",
          "name": "stdout",
          "text": [
            "The solution is []\n"
          ]
        }
      ],
      "source": [
        "print(\"The solution is\", solution)"
      ]
    },
    {
      "cell_type": "markdown",
      "metadata": {
        "id": "3vUhrLhtHpFI"
      },
      "source": [
        "# ITSU1012 - Lesson 05 Practical Examples 11"
      ]
    },
    {
      "cell_type": "code",
      "execution_count": null,
      "metadata": {
        "id": "iwX117g0HpFI"
      },
      "outputs": [],
      "source": [
        "M = np.array([[-9, 3],\n",
        "               [-12, 6]])"
      ]
    },
    {
      "cell_type": "code",
      "execution_count": null,
      "metadata": {
        "colab": {
          "base_uri": "https://localhost:8080/"
        },
        "id": "AVMlAZyHHpFJ",
        "outputId": "bdc79805-40a6-4a18-e797-df1f03ffd5ae"
      },
      "outputs": [
        {
          "output_type": "stream",
          "name": "stdout",
          "text": [
            "M =  [[ -9   3]\n",
            " [-12   6]]\n",
            "2M =  [[-18   6]\n",
            " [-24  12]]\n",
            "(1/3)*M =  [[-3.  1.]\n",
            " [-4.  2.]]\n",
            "-2*M =  [[ 18  -6]\n",
            " [ 24 -12]]\n"
          ]
        }
      ],
      "source": [
        "print(\"M = \", M)\n",
        "print(\"2M = \", 2*M)\n",
        "print(\"(1/3)*M = \", (1/3)*M)\n",
        "print(\"-2*M = \", -2*M)"
      ]
    },
    {
      "cell_type": "markdown",
      "metadata": {
        "id": "CiR2_jerHpFJ"
      },
      "source": [
        "# ITSU1012 - Lesson 05 Practical Examples 12\n",
        "\n"
      ]
    },
    {
      "cell_type": "code",
      "execution_count": null,
      "metadata": {
        "id": "qcbM2e2eHpFJ"
      },
      "outputs": [],
      "source": [
        "A = np.array([[8, -12],\n",
        "              [-14, 10]])"
      ]
    },
    {
      "cell_type": "code",
      "execution_count": null,
      "metadata": {
        "id": "Q18JivFBHpFJ"
      },
      "outputs": [],
      "source": [
        "B = np.array([[-6, -1],\n",
        "              [11, -13]])"
      ]
    },
    {
      "cell_type": "markdown",
      "metadata": {
        "id": "RCEtitrJHpFJ"
      },
      "source": [
        "Find A + B"
      ]
    },
    {
      "cell_type": "code",
      "execution_count": null,
      "metadata": {
        "colab": {
          "base_uri": "https://localhost:8080/"
        },
        "id": "SlxJbWHWHpFJ",
        "outputId": "5bf688d0-9a48-431f-e0b5-80fc36d35b0e"
      },
      "outputs": [
        {
          "output_type": "stream",
          "name": "stdout",
          "text": [
            "A + B =  [[  2 -13]\n",
            " [ -3  -3]]\n"
          ]
        }
      ],
      "source": [
        "C = A + B\n",
        "print(\"A + B = \", C)"
      ]
    },
    {
      "cell_type": "markdown",
      "metadata": {
        "id": "LBg8oLWYHpFK"
      },
      "source": [
        "Find 2*A + B"
      ]
    },
    {
      "cell_type": "code",
      "execution_count": null,
      "metadata": {
        "colab": {
          "base_uri": "https://localhost:8080/"
        },
        "id": "6TeiHD8sHpFK",
        "outputId": "fe3ddb3c-6577-4890-8e0e-fdd17ac29fa6"
      },
      "outputs": [
        {
          "output_type": "stream",
          "name": "stdout",
          "text": [
            "2*A + B =  [[ 10 -25]\n",
            " [-17   7]]\n"
          ]
        }
      ],
      "source": [
        "D = 2*A + B\n",
        "print(\"2*A + B = \", D)"
      ]
    },
    {
      "cell_type": "markdown",
      "metadata": {
        "id": "yFQ1j17jHpFK"
      },
      "source": [
        "# ITSU1012 - Lesson 05 Practical Examples *13*"
      ]
    },
    {
      "cell_type": "code",
      "execution_count": null,
      "metadata": {
        "id": "C8Gv8BLRHpFK"
      },
      "outputs": [],
      "source": [
        "P = np.array([[-5, -12],\n",
        "              [9, 10]])"
      ]
    },
    {
      "cell_type": "code",
      "execution_count": null,
      "metadata": {
        "id": "pqasO-l5HpFK"
      },
      "outputs": [],
      "source": [
        "Q = np.array([[-2, -8],\n",
        "              [-1, 4]])"
      ]
    },
    {
      "cell_type": "markdown",
      "metadata": {
        "id": "JM5B3r80HpFL"
      },
      "source": [
        "Find P - Q"
      ]
    },
    {
      "cell_type": "code",
      "execution_count": null,
      "metadata": {
        "colab": {
          "base_uri": "https://localhost:8080/"
        },
        "id": "cVAQy7rzHpFL",
        "outputId": "42b33d6d-4019-4c2e-83e5-5140930dc793"
      },
      "outputs": [
        {
          "output_type": "stream",
          "name": "stdout",
          "text": [
            "P - Q =  [[-3 -4]\n",
            " [10  6]]\n"
          ]
        }
      ],
      "source": [
        "R = P - Q\n",
        "print(\"P - Q = \", R)"
      ]
    },
    {
      "cell_type": "markdown",
      "metadata": {
        "id": "VJxKCtptHpFL"
      },
      "source": [
        "Find Q - P"
      ]
    },
    {
      "cell_type": "code",
      "execution_count": null,
      "metadata": {
        "colab": {
          "base_uri": "https://localhost:8080/"
        },
        "id": "YUsJbrzuHpFL",
        "outputId": "7be305b5-0f51-4799-c3f6-11d7cd4287ed"
      },
      "outputs": [
        {
          "output_type": "stream",
          "name": "stdout",
          "text": [
            "Q - P =  [[  3   4]\n",
            " [-10  -6]]\n"
          ]
        }
      ],
      "source": [
        "S = Q - P\n",
        "print(\"Q - P = \", S)"
      ]
    },
    {
      "cell_type": "markdown",
      "metadata": {
        "id": "xQZitJ10HpFL"
      },
      "source": [
        "Find (P-Q) - (Q-P)"
      ]
    },
    {
      "cell_type": "code",
      "execution_count": null,
      "metadata": {
        "colab": {
          "base_uri": "https://localhost:8080/"
        },
        "id": "zsea2AGrHpFL",
        "outputId": "d3c2c2c7-7ce0-4989-c963-4d28c65b0c43"
      },
      "outputs": [
        {
          "output_type": "stream",
          "name": "stdout",
          "text": [
            "(P-Q) - (Q-P) =  [[-6 -8]\n",
            " [20 12]]\n"
          ]
        }
      ],
      "source": [
        "T = R - S\n",
        "print(\"(P-Q) - (Q-P) = \", T)"
      ]
    },
    {
      "cell_type": "markdown",
      "metadata": {
        "id": "uhXyJ2eaHpFM"
      },
      "source": [
        "Is T zero? <br>\n",
        "TODO: What is the conclusion?"
      ]
    },
    {
      "cell_type": "markdown",
      "metadata": {
        "id": "I20hoUlhHpFM"
      },
      "source": [
        "# ITSU1012 - Lesson 05 Practical Examples 14"
      ]
    },
    {
      "cell_type": "code",
      "execution_count": null,
      "metadata": {
        "id": "C6EUECrJHpFM"
      },
      "outputs": [],
      "source": [
        "A = np.array([[-10, 3],\n",
        "              [4, 5]])\n",
        "a = np.array([[6], [-2]])"
      ]
    },
    {
      "cell_type": "markdown",
      "metadata": {
        "id": "AO6hU8WlHpFM"
      },
      "source": [
        "Perform the matrix multiplication"
      ]
    },
    {
      "cell_type": "code",
      "execution_count": null,
      "metadata": {
        "id": "Y1L5J6rcHpFM"
      },
      "outputs": [],
      "source": [
        "C = np.dot(A, a)"
      ]
    },
    {
      "cell_type": "markdown",
      "metadata": {
        "id": "GMyjKHuLHpFM"
      },
      "source": [
        "Print the result"
      ]
    },
    {
      "cell_type": "code",
      "execution_count": null,
      "metadata": {
        "colab": {
          "base_uri": "https://localhost:8080/"
        },
        "id": "ICJhwL14HpFM",
        "outputId": "ed307a4b-db40-481f-d8a3-5f61aee5c372"
      },
      "outputs": [
        {
          "output_type": "stream",
          "name": "stdout",
          "text": [
            "14.a:  [[-66]\n",
            " [ 14]]\n"
          ]
        }
      ],
      "source": [
        "print(\"14.a: \", C)"
      ]
    },
    {
      "cell_type": "code",
      "execution_count": null,
      "metadata": {
        "id": "6wuX6qRlHpFN"
      },
      "outputs": [],
      "source": [
        "A = np.array([[-5, -7],\n",
        "              [-3, -1]])"
      ]
    },
    {
      "cell_type": "code",
      "execution_count": null,
      "metadata": {
        "id": "FV95JT6kHpFN"
      },
      "outputs": [],
      "source": [
        "a = np.array([[-4], [-3]])"
      ]
    },
    {
      "cell_type": "markdown",
      "metadata": {
        "id": "LfOi-58mHpFN"
      },
      "source": [
        "Perform the matrix multiplication"
      ]
    },
    {
      "cell_type": "code",
      "execution_count": null,
      "metadata": {
        "id": "3EIGLKpsHpFN"
      },
      "outputs": [],
      "source": [
        "C = np.dot(A, a)"
      ]
    },
    {
      "cell_type": "markdown",
      "metadata": {
        "id": "IEY-HW24HpFN"
      },
      "source": [
        "Print the result"
      ]
    },
    {
      "cell_type": "code",
      "execution_count": null,
      "metadata": {
        "colab": {
          "base_uri": "https://localhost:8080/"
        },
        "id": "XbtW6FviHpFN",
        "outputId": "b5906344-81cf-475a-9f0a-bc5016633b8b"
      },
      "outputs": [
        {
          "output_type": "stream",
          "name": "stdout",
          "text": [
            "14.b:  [[41]\n",
            " [15]]\n"
          ]
        }
      ],
      "source": [
        "print(\"14.b: \", C)"
      ]
    },
    {
      "cell_type": "code",
      "execution_count": null,
      "metadata": {
        "id": "0m2cigmcHpFN"
      },
      "outputs": [],
      "source": [
        "A = np.array([[-3, 0],\n",
        "                 [0, 3]])\n",
        "a = np.array([[3], [2]])"
      ]
    },
    {
      "cell_type": "markdown",
      "metadata": {
        "id": "4vTmwvFBHpFO"
      },
      "source": [
        "Perform the matrix multiplication"
      ]
    },
    {
      "cell_type": "code",
      "execution_count": null,
      "metadata": {
        "id": "dF9-f6P7HpFO"
      },
      "outputs": [],
      "source": [
        "C = np.dot(A, a)"
      ]
    },
    {
      "cell_type": "markdown",
      "metadata": {
        "id": "3IUts3FYHpFO"
      },
      "source": [
        "Print the result"
      ]
    },
    {
      "cell_type": "code",
      "execution_count": null,
      "metadata": {
        "colab": {
          "base_uri": "https://localhost:8080/"
        },
        "id": "pEAa1EKnHpFO",
        "outputId": "52376e03-a5e7-4d68-d1d2-46317a9e7449"
      },
      "outputs": [
        {
          "output_type": "stream",
          "name": "stdout",
          "text": [
            "14.c:  [[-9]\n",
            " [ 6]]\n"
          ]
        }
      ],
      "source": [
        "print(\"14.c: \", C)"
      ]
    },
    {
      "cell_type": "markdown",
      "metadata": {
        "id": "9myJ6omDHpFO"
      },
      "source": [
        "# ITSU1012 - Lesson 05 Practical Examples 15"
      ]
    },
    {
      "cell_type": "code",
      "execution_count": null,
      "metadata": {
        "id": "EMgJc8UrHpFO"
      },
      "outputs": [],
      "source": [
        "A = np.array([[-1, -3],\n",
        "              [2, -2]])"
      ]
    },
    {
      "cell_type": "code",
      "execution_count": null,
      "metadata": {
        "id": "bfKNu6PUHpFO"
      },
      "outputs": [],
      "source": [
        "B = np.array([[4, -2],\n",
        "              [3, -5]])"
      ]
    },
    {
      "cell_type": "markdown",
      "metadata": {
        "id": "0dzqkV1aHpFP"
      },
      "source": [
        "Find A*B"
      ]
    },
    {
      "cell_type": "code",
      "execution_count": null,
      "metadata": {
        "colab": {
          "base_uri": "https://localhost:8080/"
        },
        "id": "jqWDu3hCHpFP",
        "outputId": "e381b86a-6d21-4135-fb63-5f7496f453f3"
      },
      "outputs": [
        {
          "output_type": "stream",
          "name": "stdout",
          "text": [
            "15.a: A*B =  [[-13  17]\n",
            " [  2   6]]\n"
          ]
        }
      ],
      "source": [
        "C = np.dot(A, B)\n",
        "print(\"15.a: A*B = \", C)"
      ]
    },
    {
      "cell_type": "markdown",
      "metadata": {
        "id": "65L4-EtuHpFP"
      },
      "source": [
        "Find B*A"
      ]
    },
    {
      "cell_type": "code",
      "execution_count": null,
      "metadata": {
        "colab": {
          "base_uri": "https://localhost:8080/"
        },
        "id": "kXp5zr8ZHpFP",
        "outputId": "9374a082-d2fb-4c6e-d903-c2f8d1637af3"
      },
      "outputs": [
        {
          "output_type": "stream",
          "name": "stdout",
          "text": [
            "15.b: B*A =  [[ -8  -8]\n",
            " [-13   1]]\n"
          ]
        }
      ],
      "source": [
        "D = np.dot(B, A)\n",
        "print(\"15.b: B*A = \", D)"
      ]
    },
    {
      "cell_type": "markdown",
      "metadata": {
        "id": "v0ha7SWSHpFP"
      },
      "source": [
        "Find A*B - B*A"
      ]
    },
    {
      "cell_type": "code",
      "execution_count": null,
      "metadata": {
        "id": "F_G-GFHEHpFP"
      },
      "outputs": [],
      "source": [
        "E = np.dot(A, B) - np.dot(B, A)"
      ]
    },
    {
      "cell_type": "code",
      "execution_count": null,
      "metadata": {
        "colab": {
          "base_uri": "https://localhost:8080/"
        },
        "id": "ZrjULTJgHpFQ",
        "outputId": "146973d6-b10f-45bc-889b-52cbac8b72f8"
      },
      "outputs": [
        {
          "output_type": "stream",
          "name": "stdout",
          "text": [
            "15.c: A*B - B*A =  [[-5 25]\n",
            " [15  5]]\n"
          ]
        }
      ],
      "source": [
        "print(\"15.c: A*B - B*A = \", E)"
      ]
    },
    {
      "cell_type": "markdown",
      "metadata": {
        "id": "7dMvfxmNHpFQ"
      },
      "source": [
        "TODO: Write the conclusion<br>\n",
        "AB - BA is not equal to zero, thus matrix multiplication is not commutative"
      ]
    },
    {
      "cell_type": "markdown",
      "metadata": {
        "id": "bXEEjodKHpFQ"
      },
      "source": [
        "#  ITSU1012 - Lesson 05 Practical Examples 16\n",
        "\n"
      ]
    },
    {
      "cell_type": "code",
      "execution_count": null,
      "metadata": {
        "id": "BA4AmDB0HpFQ"
      },
      "outputs": [],
      "source": [
        "a, b = sp.symbols('a b')\n",
        "A = sp.Matrix([[a, -3],\n",
        "                  [2, b]])"
      ]
    },
    {
      "cell_type": "code",
      "execution_count": null,
      "metadata": {
        "id": "8DfzR5b2HpFQ"
      },
      "outputs": [],
      "source": [
        "B = sp.Matrix([[4, -1],\n",
        "                  [-5, 3]])\n",
        "C = sp.Matrix([[-1, -5],\n",
        "                  [3, 1]])"
      ]
    },
    {
      "cell_type": "code",
      "execution_count": null,
      "metadata": {
        "colab": {
          "base_uri": "https://localhost:8080/"
        },
        "id": "4kBDDF82HpFQ",
        "outputId": "e3e8717d-12a2-41e9-f33d-5ca331a283dd"
      },
      "outputs": [
        {
          "output_type": "stream",
          "name": "stdout",
          "text": [
            "A =  Matrix([[a, -3], [2, b]])\n",
            "B =  Matrix([[4, -1], [-5, 3]])\n",
            "C =  Matrix([[-1, -5], [3, 1]])\n"
          ]
        }
      ],
      "source": [
        "print(\"A = \", A)\n",
        "print(\"B = \", B)\n",
        "print(\"C = \", C)"
      ]
    },
    {
      "cell_type": "code",
      "execution_count": null,
      "metadata": {
        "colab": {
          "base_uri": "https://localhost:8080/"
        },
        "id": "P1h9_DWrHpFR",
        "outputId": "fa3433bf-6218-4c7b-db2c-41d0452c9def"
      },
      "outputs": [
        {
          "output_type": "stream",
          "name": "stdout",
          "text": [
            "A*B =  Matrix([[4*a + 15, -a - 9], [8 - 5*b, 3*b - 2]])\n",
            "A*B - C =  Matrix([[4*a + 16, -a - 4], [5 - 5*b, 3*b - 3]])\n"
          ]
        }
      ],
      "source": [
        "print(\"A*B = \", A*B)\n",
        "print(\"A*B - C = \", A*B - C)"
      ]
    },
    {
      "cell_type": "markdown",
      "metadata": {
        "id": "1DmCJNYNHpFR"
      },
      "source": [
        "Solve for a and b such that A*B = C"
      ]
    },
    {
      "cell_type": "code",
      "execution_count": null,
      "metadata": {
        "id": "osKxZ6RmHpFR"
      },
      "outputs": [],
      "source": [
        "solution = sp.solve(A*B - C, (a, b))"
      ]
    },
    {
      "cell_type": "code",
      "execution_count": null,
      "metadata": {
        "colab": {
          "base_uri": "https://localhost:8080/"
        },
        "id": "OjCi8VmOHpFR",
        "outputId": "27cce35b-aefe-444d-af83-87d2d1ff8191"
      },
      "outputs": [
        {
          "output_type": "stream",
          "name": "stdout",
          "text": [
            "The solution is {a: -4, b: 1}\n"
          ]
        }
      ],
      "source": [
        "print(\"The solution is\", solution) # should be {a: -4, b: 1}"
      ]
    },
    {
      "cell_type": "markdown",
      "metadata": {
        "id": "UYhHPMtAHpFS"
      },
      "source": [
        "# ITSU1012 - Lesson 05 Practical Examples 17"
      ]
    },
    {
      "cell_type": "code",
      "execution_count": null,
      "metadata": {
        "id": "QbQr-cO9HpFS"
      },
      "outputs": [],
      "source": [
        "A = np.array([[2, 1],\n",
        "              [5, 3]])"
      ]
    },
    {
      "cell_type": "code",
      "execution_count": null,
      "metadata": {
        "id": "1et7TwCVHpFS"
      },
      "outputs": [],
      "source": [
        "B = np.array([[3, -1],\n",
        "              [-5, 2]])"
      ]
    },
    {
      "cell_type": "markdown",
      "metadata": {
        "id": "opnWbyBwHpFS"
      },
      "source": [
        "Find A*B"
      ]
    },
    {
      "cell_type": "code",
      "execution_count": null,
      "metadata": {
        "colab": {
          "base_uri": "https://localhost:8080/"
        },
        "id": "oeu5kX14HpFS",
        "outputId": "b5117cff-ed46-45a6-dde7-10731e3b0e40"
      },
      "outputs": [
        {
          "output_type": "stream",
          "name": "stdout",
          "text": [
            "17.a: A*B =  [[1 0]\n",
            " [0 1]]\n"
          ]
        }
      ],
      "source": [
        "C = np.dot(A, B)\n",
        "print(\"17.a: A*B = \", C) # should be I"
      ]
    },
    {
      "cell_type": "markdown",
      "metadata": {
        "id": "yTw27SqvHpFS"
      },
      "source": [
        "Find inverse of A"
      ]
    },
    {
      "cell_type": "code",
      "execution_count": null,
      "metadata": {
        "colab": {
          "base_uri": "https://localhost:8080/"
        },
        "id": "QOBko24JHpFT",
        "outputId": "340bd005-2468-486f-d33f-3952e9dd1f63"
      },
      "outputs": [
        {
          "output_type": "stream",
          "name": "stdout",
          "text": [
            "17.b: Inverse of A =  [[ 3. -1.]\n",
            " [-5.  2.]]\n"
          ]
        }
      ],
      "source": [
        "A_inv = np.linalg.inv(A)\n",
        "print(\"17.b: Inverse of A = \", A_inv)"
      ]
    },
    {
      "cell_type": "markdown",
      "metadata": {
        "id": "MrzldzfaHpFT"
      },
      "source": [
        "# ITSU1012 - Lesson 05 Practical Examples 18"
      ]
    },
    {
      "cell_type": "code",
      "execution_count": null,
      "metadata": {
        "id": "tN0eF3wqHpFT"
      },
      "outputs": [],
      "source": [
        "A = np.array([[5, 3],\n",
        "              [3, 2]])"
      ]
    },
    {
      "cell_type": "code",
      "execution_count": null,
      "metadata": {
        "id": "MmwplkAFHpFT"
      },
      "outputs": [],
      "source": [
        "B = np.array([[-5, 7],\n",
        "                 [-2, 3]])"
      ]
    },
    {
      "cell_type": "code",
      "execution_count": null,
      "metadata": {
        "id": "XsIc4Ov2HpFT"
      },
      "outputs": [],
      "source": [
        "C = np.array([[5, 3],\n",
        "                 [-6, -4]])"
      ]
    },
    {
      "cell_type": "code",
      "execution_count": null,
      "metadata": {
        "id": "jVNu3wRaHpFT"
      },
      "outputs": [],
      "source": [
        "D = np.array([[4, 2],\n",
        "                 [10, 5]])"
      ]
    },
    {
      "cell_type": "markdown",
      "metadata": {
        "id": "Jfe7UmcmHpFT"
      },
      "source": [
        "Find the determinant of A, B, C, and D"
      ]
    },
    {
      "cell_type": "code",
      "execution_count": null,
      "metadata": {
        "id": "aMarYCowHpFU"
      },
      "outputs": [],
      "source": [
        "det_A = np.linalg.det(A)\n",
        "det_B = np.linalg.det(B)\n",
        "det_C = np.linalg.det(C)\n",
        "det_D = np.linalg.det(D) # Should be zero"
      ]
    },
    {
      "cell_type": "code",
      "execution_count": null,
      "metadata": {
        "colab": {
          "base_uri": "https://localhost:8080/"
        },
        "id": "oQtSri47HpFU",
        "outputId": "830f8868-4c02-44b6-ca84-13f5bb86fe38"
      },
      "outputs": [
        {
          "output_type": "stream",
          "name": "stdout",
          "text": [
            "18.a: Determinant of A =  0.9999999999999987\n",
            "18.b: Determinant of B =  -0.9999999999999987\n",
            "18.c: Determinant of C =  -1.999999999999998\n",
            "18.d: Determinant of D =  0.0\n"
          ]
        }
      ],
      "source": [
        "print(\"18.a: Determinant of A = \", det_A)\n",
        "print(\"18.b: Determinant of B = \", det_B)\n",
        "print(\"18.c: Determinant of C = \", det_C)\n",
        "print(\"18.d: Determinant of D = \", det_D)"
      ]
    },
    {
      "cell_type": "markdown",
      "metadata": {
        "id": "zDhfHwdtHpFU"
      },
      "source": [
        "A square matrix whose determinant is zero is an example of a singular matrix."
      ]
    },
    {
      "cell_type": "markdown",
      "metadata": {
        "id": "dvDmk6c7HpFU"
      },
      "source": [
        "# ITSU1012 - Lesson 05 Practical Examples 19:"
      ]
    },
    {
      "cell_type": "code",
      "execution_count": null,
      "metadata": {
        "id": "GCr2fWQqHpFU"
      },
      "outputs": [],
      "source": [
        "P = np.array([[-3, 1],\n",
        "              [10, -4]])"
      ]
    },
    {
      "cell_type": "markdown",
      "metadata": {
        "id": "Evg1ZK6nHpFU"
      },
      "source": [
        "Find det(P)"
      ]
    },
    {
      "cell_type": "code",
      "execution_count": null,
      "metadata": {
        "colab": {
          "base_uri": "https://localhost:8080/"
        },
        "id": "kSgP8OiZHpFU",
        "outputId": "b8041ce6-4836-4e02-87ce-d8255faf3e7f"
      },
      "outputs": [
        {
          "output_type": "stream",
          "name": "stdout",
          "text": [
            "19: Determinant of P =  2.000000000000002\n"
          ]
        }
      ],
      "source": [
        "det_P = np.linalg.det(P)\n",
        "print(\"19: Determinant of P = \", det_P)"
      ]
    },
    {
      "cell_type": "markdown",
      "metadata": {
        "id": "7fmNBVyIHpFV"
      },
      "source": [
        "Find P^-1"
      ]
    },
    {
      "cell_type": "code",
      "execution_count": null,
      "metadata": {
        "colab": {
          "base_uri": "https://localhost:8080/"
        },
        "id": "PFQp0Ni0HpFV",
        "outputId": "5bbcba39-1432-48d1-bd1b-4ba729ba38b5"
      },
      "outputs": [
        {
          "output_type": "stream",
          "name": "stdout",
          "text": [
            "Inverse of P =  [[-2.  -0.5]\n",
            " [-5.  -1.5]]\n"
          ]
        }
      ],
      "source": [
        "P_inv = np.linalg.inv(P)\n",
        "print(\"Inverse of P = \", P_inv)"
      ]
    },
    {
      "cell_type": "markdown",
      "metadata": {
        "id": "qQGDJckOHpFV"
      },
      "source": [
        "# ITSU1012 - Lesson 05 Practical Examples 20\n",
        "\n"
      ]
    },
    {
      "cell_type": "code",
      "execution_count": null,
      "metadata": {
        "id": "bn5JzgbtHpFV"
      },
      "outputs": [],
      "source": [
        "A = np.array([[-3, 5],\n",
        "              [1, -2]])"
      ]
    },
    {
      "cell_type": "code",
      "execution_count": null,
      "metadata": {
        "id": "XH9G___5HpFV"
      },
      "outputs": [],
      "source": [
        "B = np.array([[3, 6],\n",
        "              [2, 5]])"
      ]
    },
    {
      "cell_type": "code",
      "execution_count": null,
      "metadata": {
        "id": "xaDmUPhOHpFW"
      },
      "outputs": [],
      "source": [
        "C = np.array([[3, 4],\n",
        "              [8, 7]])"
      ]
    },
    {
      "cell_type": "markdown",
      "metadata": {
        "id": "KU3foSKqHpFW"
      },
      "source": [
        "Find the inverse of A, B, and C"
      ]
    },
    {
      "cell_type": "code",
      "execution_count": null,
      "metadata": {
        "id": "lxfMZ1sDHpFW"
      },
      "outputs": [],
      "source": [
        "A_inv = np.linalg.inv(A)\n",
        "B_inv = np.linalg.inv(B)\n",
        "C_inv = np.linalg.inv(C)"
      ]
    },
    {
      "cell_type": "code",
      "execution_count": null,
      "metadata": {
        "colab": {
          "base_uri": "https://localhost:8080/"
        },
        "id": "cXVVJB-OHpFW",
        "outputId": "a9ecc19d-06f3-48b4-95b6-419d2e2b360f"
      },
      "outputs": [
        {
          "output_type": "stream",
          "name": "stdout",
          "text": [
            "20.a: Inverse of A =  [[-2. -5.]\n",
            " [-1. -3.]]\n",
            "20.b: Inverse of B =  [[ 1.66666667 -2.        ]\n",
            " [-0.66666667  1.        ]]\n",
            "20.c: Inverse of C =  [[-0.63636364  0.36363636]\n",
            " [ 0.72727273 -0.27272727]]\n"
          ]
        }
      ],
      "source": [
        "print(\"20.a: Inverse of A = \", A_inv)\n",
        "print(\"20.b: Inverse of B = \", B_inv)\n",
        "print(\"20.c: Inverse of C = \", C_inv)"
      ]
    }
  ],
  "metadata": {
    "kernelspec": {
      "display_name": "Python 3",
      "language": "python",
      "name": "python3"
    },
    "language_info": {
      "codemirror_mode": {
        "name": "ipython",
        "version": 3
      },
      "file_extension": ".py",
      "mimetype": "text/x-python",
      "name": "python",
      "nbconvert_exporter": "python",
      "pygments_lexer": "ipython3",
      "version": "3.6.4"
    },
    "colab": {
      "provenance": [],
      "toc_visible": true
    }
  },
  "nbformat": 4,
  "nbformat_minor": 0
}