{
  "cells": [
    {
      "cell_type": "markdown",
      "metadata": {
        "id": "ue13vozfR4xY"
      },
      "source": [
        "# RUNME FIRST\n",
        "\n",
        "*Import* required libraries"
      ]
    },
    {
      "cell_type": "code",
      "execution_count": null,
      "metadata": {
        "id": "WQ7ihQk_R4xZ"
      },
      "outputs": [],
      "source": [
        "import math\n",
        "import sympy as sp"
      ]
    },
    {
      "cell_type": "markdown",
      "metadata": {
        "id": "X-D_b_DSR4xa"
      },
      "source": [
        "# ITSU1012-04-practical Problem 01"
      ]
    },
    {
      "cell_type": "markdown",
      "metadata": {
        "id": "KtWaMSPDR4xa"
      },
      "source": [
        "For 0 degree < a < 90 degree,<br>\n",
        "find the value of a to the nearest tenth of a degree<br>\n",
        "cosec(a) = 3.5"
      ]
    },
    {
      "cell_type": "markdown",
      "metadata": {
        "id": "biCUCOgBR4xb"
      },
      "source": [
        "cosec(a) = 1/sin(a)<br>\n",
        "sin(a) = 0.2857142857142857<br>\n",
        "a = sin^-1(0.2857142857142857)<br>\n",
        "a = 16.7"
      ]
    },
    {
      "cell_type": "markdown",
      "metadata": {
        "id": "UqeQpzRkR4xb"
      },
      "source": [
        "For 0 degree < a < 90 degree,<br>\n",
        "find the value of a to the nearest tenth of a degree<br>\n",
        "sec (a) = 2.8"
      ]
    },
    {
      "cell_type": "markdown",
      "metadata": {
        "id": "wGUTZftnR4xb"
      },
      "source": [
        "sec(a) = 1/cos(a)<br>\n",
        "cos(a) = 0.35714285714285715<br>\n",
        "a = cos^-1(0.35714285714285715)<br>\n",
        "a = 69.5"
      ]
    },
    {
      "cell_type": "markdown",
      "metadata": {
        "id": "VDptoWTzR4xb"
      },
      "source": [
        "For 0 degree < a < 90 degree,<br>\n",
        "find the value of a to the nearest tenth of a degree<br>\n",
        "cot (a) = 1.2"
      ]
    },
    {
      "cell_type": "markdown",
      "metadata": {
        "id": "EpCpU-VmR4xc"
      },
      "source": [
        "cot(a) = 1/tan(a)<br>\n",
        "tan(a) = 0.8333333333333334<br>\n",
        "a = tan^-1(0.8333333333333334)<br>\n",
        "a = 39.8"
      ]
    },
    {
      "cell_type": "markdown",
      "metadata": {
        "id": "M1NGtEqJR4xc"
      },
      "source": [
        "End of Problem 01"
      ]
    },
    {
      "cell_type": "markdown",
      "metadata": {
        "id": "3Npk9JfKR4xc"
      },
      "source": [
        "# ITSU1012-04-practical Problem 02"
      ]
    },
    {
      "cell_type": "markdown",
      "metadata": {
        "id": "GwVAZILJR4xc"
      },
      "source": [
        "Find the exact value of the following expressions"
      ]
    },
    {
      "cell_type": "markdown",
      "metadata": {
        "id": "Mn8koNPFR4xc"
      },
      "source": [
        "tan (300 degrees) <br>\n",
        "cot (135 degrees)<br>\n",
        "cosec (60 degrees)<br>\n",
        "sec (-150 degrees)"
      ]
    },
    {
      "cell_type": "markdown",
      "metadata": {
        "id": "ZOWULGE2R4xd"
      },
      "source": [
        "tan (300 degrees) = tan (300 - 360) = tan (-60 degrees)<br>\n",
        "tan (-60 degrees) = -tan (60 degrees)<br>\n",
        "tan (60 degrees) = sqrt(3)<br>\n",
        "tan (-60 degrees) = -sqrt(3)"
      ]
    },
    {
      "cell_type": "markdown",
      "metadata": {
        "id": "1NjXr6opR4xd"
      },
      "source": [
        "cot (135 degrees) = cot (135 - 180) = cot (-45 degrees)<br>\n",
        "cot (-45 degrees) = -cot (45 degrees)<br>\n",
        "cot (45 degrees) = 1<br>\n",
        "cot (-45 degrees) = -1"
      ]
    },
    {
      "cell_type": "markdown",
      "metadata": {
        "id": "IMrUv5BjR4xd"
      },
      "source": [
        "cosec (60 degrees) = 1/sin(60 degrees)<br>\n",
        "sin(60 degrees) = sqrt(3)/2<br>\n",
        "cosec (60 degrees) = 2/sqrt(3)"
      ]
    },
    {
      "cell_type": "markdown",
      "metadata": {
        "id": "btJnm5XbR4xd"
      },
      "source": [
        "sec (-150 degrees) = sec (-150 + 180) = sec (30 degrees)<br>\n",
        "sec (30 degrees) = 1/cos(30 degrees)<br>\n",
        "cos(30 degrees) = sqrt(3)/2<br>\n",
        "sec (30 degrees) = 2/sqrt(3)"
      ]
    },
    {
      "cell_type": "markdown",
      "metadata": {
        "id": "2KlbhSz1R4xd"
      },
      "source": [
        "TODO: Using sympy to verify the above results"
      ]
    },
    {
      "cell_type": "markdown",
      "metadata": {
        "id": "-D5t3Z6nR4xd"
      },
      "source": [
        "# ITSU1012-04-practical Problem 03"
      ]
    },
    {
      "cell_type": "markdown",
      "metadata": {
        "id": "2Y-TNZSOR4xd"
      },
      "source": [
        "If sec (x) = 2.4 and 270 degrees < x < 360 degrees, find the value of <br>\n",
        "cos (x), sin (x) and cot (x) using sympy"
      ]
    },
    {
      "cell_type": "markdown",
      "metadata": {
        "id": "-dq09B55R4xd"
      },
      "source": [
        "Define the variable"
      ]
    },
    {
      "cell_type": "code",
      "execution_count": null,
      "metadata": {
        "id": "J86YOU-TR4xd"
      },
      "outputs": [],
      "source": [
        "x = sp.symbols('x')"
      ]
    },
    {
      "cell_type": "markdown",
      "metadata": {
        "id": "wXei-2V8R4xe"
      },
      "source": [
        "Given sec(x) = 2.4"
      ]
    },
    {
      "cell_type": "code",
      "execution_count": null,
      "metadata": {
        "id": "kOVwi4fxR4xe"
      },
      "outputs": [],
      "source": [
        "sec_x = 2.4"
      ]
    },
    {
      "cell_type": "markdown",
      "metadata": {
        "id": "lDIbGrxKR4xe"
      },
      "source": [
        "sec(x) = 1/cos(x)"
      ]
    },
    {
      "cell_type": "code",
      "execution_count": null,
      "metadata": {
        "id": "Ov-FeCVVR4xe"
      },
      "outputs": [],
      "source": [
        "cos_x = 1 / sec_x"
      ]
    },
    {
      "cell_type": "markdown",
      "metadata": {
        "id": "82se9k95R4xe"
      },
      "source": [
        "Find sin(x) using the Pythagorean identity sin^2(x) + cos^2(x) = 1"
      ]
    },
    {
      "cell_type": "code",
      "execution_count": null,
      "metadata": {
        "id": "ej2DvMdHR4xe"
      },
      "outputs": [],
      "source": [
        "sin_x = sp.sqrt(1 - cos_x**2)"
      ]
    },
    {
      "cell_type": "markdown",
      "metadata": {
        "id": "MGGadwsCR4xe"
      },
      "source": [
        "Since 270 degrees < x < 360 degrees, sin(x) should be negative"
      ]
    },
    {
      "cell_type": "code",
      "execution_count": null,
      "metadata": {
        "id": "SBy-4SlfR4xf"
      },
      "outputs": [],
      "source": [
        "sin_x = -sin_x"
      ]
    },
    {
      "cell_type": "markdown",
      "metadata": {
        "id": "l-dIP0GnR4xf"
      },
      "source": [
        "cot(x) = cos(x) / sin(x)"
      ]
    },
    {
      "cell_type": "code",
      "execution_count": null,
      "metadata": {
        "id": "GOEJwjjkR4xf",
        "colab": {
          "base_uri": "https://localhost:8080/"
        },
        "outputId": "5024e422-be33-4e8b-acef-2919657924e6"
      },
      "outputs": [
        {
          "output_type": "stream",
          "name": "stdout",
          "text": [
            "cos(x): 0.4166666666666667\n",
            "sin(x): -0.909059342886310\n",
            "cot(x): -0.458349248514106\n"
          ]
        }
      ],
      "source": [
        "cot_x = cos_x / sin_x\n",
        "\n",
        "print(f\"cos(x): {cos_x}\") # 5/12\n",
        "print(f\"sin(x): {sin_x}\") # -sqrt(119)/ 12\n",
        "print(f\"cot(x): {cot_x}\") # -5*sqrt(119)/119"
      ]
    },
    {
      "cell_type": "markdown",
      "metadata": {
        "id": "PVXye3qBR4xg"
      },
      "source": [
        "End of Problem 03"
      ]
    },
    {
      "cell_type": "markdown",
      "metadata": {
        "id": "CkYzd6uBR4xg"
      },
      "source": [
        "# ITSU1012-04-practical Problem 04"
      ]
    },
    {
      "cell_type": "markdown",
      "metadata": {
        "id": "TMam__WfR4xg"
      },
      "source": [
        "Simplify the following expressions<br>\n",
        "1/(cosec^2(x) - 1) + 1"
      ]
    },
    {
      "cell_type": "markdown",
      "metadata": {
        "id": "OAGbBYdvR4xy"
      },
      "source": [
        "1/(cosec^2(x) - 1) + 1 = 1/(1/sin^2(x) - 1) + 1<br>\n",
        "1/(cosec^2(x) - 1) + 1 = sin^2(x) + 1<br>\n",
        "1/(cosec^2(x) - 1) + 1 = 1/cos^2(x) + 1<br>\n",
        "1/(cosec^2(x) - 1) + 1 = sec^2(x)"
      ]
    },
    {
      "cell_type": "markdown",
      "metadata": {
        "id": "dSVKo7xRR4xz"
      },
      "source": [
        "Simplify the following expressions<br>\n",
        "1/(cosec^2(x) - 1) + 1 using sympy"
      ]
    },
    {
      "cell_type": "markdown",
      "metadata": {
        "id": "6hU15HwfR4xz"
      },
      "source": [
        "Define the variable"
      ]
    },
    {
      "cell_type": "code",
      "execution_count": null,
      "metadata": {
        "id": "x0VuTNuhR4xz"
      },
      "outputs": [],
      "source": [
        "x = sp.symbols('x')"
      ]
    },
    {
      "cell_type": "markdown",
      "metadata": {
        "id": "F3PF0ugHR4xz"
      },
      "source": [
        "Given expression"
      ]
    },
    {
      "cell_type": "code",
      "execution_count": null,
      "metadata": {
        "id": "D0s8q3RkR4xz"
      },
      "outputs": [],
      "source": [
        "expr = 1/(1/sp.sin(x)**2 - 1) + 1"
      ]
    },
    {
      "cell_type": "markdown",
      "metadata": {
        "id": "LDtjc61YR4xz"
      },
      "source": [
        "Simplify the expression"
      ]
    },
    {
      "cell_type": "code",
      "execution_count": null,
      "metadata": {
        "id": "mIAGnVfaR4xz"
      },
      "outputs": [],
      "source": [
        "simplified_expr = sp.simplify(expr)"
      ]
    },
    {
      "cell_type": "markdown",
      "metadata": {
        "id": "yF_vOlDwR4x0"
      },
      "source": [
        "Display the results"
      ]
    },
    {
      "cell_type": "code",
      "execution_count": null,
      "metadata": {
        "colab": {
          "base_uri": "https://localhost:8080/"
        },
        "id": "vzvelOjBR4x0",
        "outputId": "ba96695c-6eeb-4556-8cdd-8f5365f586ac"
      },
      "outputs": [
        {
          "output_type": "stream",
          "name": "stdout",
          "text": [
            "Simplified 1/(1/sp.sin(x)**2 - 1) + 1 =  cos(x)**(-2)\n"
          ]
        }
      ],
      "source": [
        "print(f\"Simplified 1/(1/sp.sin(x)**2 - 1) + 1 =  {simplified_expr}\")"
      ]
    },
    {
      "cell_type": "markdown",
      "metadata": {
        "id": "97-Yop8DR4x0"
      },
      "source": [
        "# ITSU1012-04-practical Problem 05"
      ]
    },
    {
      "cell_type": "markdown",
      "metadata": {
        "id": "hvR8mSqvR4x0"
      },
      "source": [
        "Solve the following trigonometric equation over the interval [-pi, pi]<br>\n",
        "cot(x) = -0.5<br>\n",
        "cosec(x) = 1.6"
      ]
    },
    {
      "cell_type": "markdown",
      "metadata": {
        "id": "L0NJ5ChyR4x0"
      },
      "source": [
        "cot(x) = 1/tan(x)<br>\n",
        "tan(x) = -2<br>\n",
        "x = tan^-1(-2)<br>\n",
        "x = -63.4 degrees = -1.107 radians"
      ]
    },
    {
      "cell_type": "markdown",
      "metadata": {
        "id": "vN3ayfG6R4x0"
      },
      "source": [
        "cosec(x) = 1/sin(x)<br>\n",
        "sin(x) = 0.625<br>\n",
        "x = sin^-1(0.625)<br>\n",
        "x = 38.7 degrees = 0.675 radians (base solution), and pi - 0.675 (over [-pi/pi])\n"
      ]
    },
    {
      "cell_type": "markdown",
      "metadata": {
        "id": "SK2ymZCER4x1"
      },
      "source": [
        "# ITSU1012-04-practical Problem 06"
      ]
    },
    {
      "cell_type": "markdown",
      "metadata": {
        "id": "g3UoB9bsR4x1"
      },
      "source": [
        "Expand each of the following expressions, simplifying where possible:<br>\n",
        "cos (2*x - y)<br>\n",
        "tan (x - 60 degrees)<br>\n",
        "using sympy"
      ]
    },
    {
      "cell_type": "markdown",
      "metadata": {
        "id": "grFp1soAR4x1"
      },
      "source": [
        "Define the variables"
      ]
    },
    {
      "cell_type": "code",
      "execution_count": null,
      "metadata": {
        "id": "znwNVEWzR4x1"
      },
      "outputs": [],
      "source": [
        "x, y = sp.symbols('x y')"
      ]
    },
    {
      "cell_type": "markdown",
      "metadata": {
        "id": "ZN-VDrHdR4x1"
      },
      "source": [
        "Given expressions"
      ]
    },
    {
      "cell_type": "code",
      "execution_count": null,
      "metadata": {
        "id": "onFskyFWR4x1"
      },
      "outputs": [],
      "source": [
        "expr1 = sp.cos(2*x - y)\n",
        "expr2 = sp.tan(x - sp.rad(60))"
      ]
    },
    {
      "cell_type": "markdown",
      "metadata": {
        "id": "8h6IZht0R4x1"
      },
      "source": [
        "Expand the expressions"
      ]
    },
    {
      "cell_type": "code",
      "execution_count": null,
      "metadata": {
        "id": "UQb9bYKxR4x2"
      },
      "outputs": [],
      "source": [
        "expanded_expr1 = sp.expand(expr1)\n",
        "expanded_expr2 = sp.expand(expr2)"
      ]
    },
    {
      "cell_type": "markdown",
      "metadata": {
        "id": "QXSZE3fwR4x2"
      },
      "source": [
        "Display the results"
      ]
    },
    {
      "cell_type": "code",
      "execution_count": null,
      "metadata": {
        "colab": {
          "base_uri": "https://localhost:8080/"
        },
        "id": "28JcycEHR4x2",
        "outputId": "9b3def01-177a-4aab-c2c1-a207ffe5cd10"
      },
      "outputs": [
        {
          "output_type": "stream",
          "name": "stdout",
          "text": [
            "Expanded cos(2*x - y)= cos(2*x - y)\n",
            "Expanded tan(x - sp.rad(60)) = -cot(x + pi/6)\n"
          ]
        }
      ],
      "source": [
        "print(f\"Expanded cos(2*x - y) = {expanded_expr1}\")\n",
        "print(f\"Expanded tan(x - sp.rad(60)) = {expanded_expr2}\")\n",
        "\n",
        "# Note the difference!"
      ]
    },
    {
      "cell_type": "markdown",
      "metadata": {
        "id": "cBDKdnTSR4x2"
      },
      "source": [
        "# ITSU1012-04-practical Problem 07"
      ]
    },
    {
      "cell_type": "markdown",
      "metadata": {
        "id": "Og6141dNR4x2"
      },
      "source": [
        "Simplify the following expressions (using sympy)<br>\n",
        "sin (4*x) * cos (y) + cos (4*x) * sin (y)<br>\n",
        "tan (x + y) - tan (x)"
      ]
    },
    {
      "cell_type": "markdown",
      "metadata": {
        "id": "r1AzNNxlR4x2"
      },
      "source": [
        "Define the variables"
      ]
    },
    {
      "cell_type": "code",
      "execution_count": null,
      "metadata": {
        "id": "8dLryXdSR4x2"
      },
      "outputs": [],
      "source": [
        "x, y = sp.symbols('x y')"
      ]
    },
    {
      "cell_type": "markdown",
      "metadata": {
        "id": "Mnw1mBuJR4x2"
      },
      "source": [
        "Given expressions"
      ]
    },
    {
      "cell_type": "code",
      "execution_count": null,
      "metadata": {
        "id": "mdTSp-uiR4x2"
      },
      "outputs": [],
      "source": [
        "expr1 = sp.sin(4*x) * sp.cos(y) + sp.cos(4*x) * sp.sin(y)\n",
        "expr2 = sp.tan(x + y) - sp.tan(x)"
      ]
    },
    {
      "cell_type": "markdown",
      "metadata": {
        "id": "7M48cRWkR4x3"
      },
      "source": [
        "Simplify the expressions"
      ]
    },
    {
      "cell_type": "code",
      "execution_count": null,
      "metadata": {
        "id": "qj7zF-T3R4x3"
      },
      "outputs": [],
      "source": [
        "simplified_expr1 = sp.simplify(expr1)\n",
        "simplified_expr2 = sp.simplify(expr2)"
      ]
    },
    {
      "cell_type": "markdown",
      "metadata": {
        "id": "gAs-0GnAR4x3"
      },
      "source": [
        "Display the results"
      ]
    },
    {
      "cell_type": "code",
      "execution_count": null,
      "metadata": {
        "colab": {
          "base_uri": "https://localhost:8080/"
        },
        "id": "K5XTPGDrR4x3",
        "outputId": "368b5b84-7a59-496c-ccf1-24fbf92d6c6d"
      },
      "outputs": [
        {
          "output_type": "stream",
          "name": "stdout",
          "text": [
            "Simplified expression 1 =  sin(4*x + y)\n",
            "Simplified expression 2 =  -tan(x) + tan(x + y)\n"
          ]
        }
      ],
      "source": [
        "print(f\"Simplified expression 1 =  {simplified_expr1}\")\n",
        "print(f\"Simplified expression 2 =  {simplified_expr2}\")"
      ]
    }
  ],
  "metadata": {
    "kernelspec": {
      "display_name": "Python 3",
      "language": "python",
      "name": "python3"
    },
    "language_info": {
      "codemirror_mode": {
        "name": "ipython",
        "version": 3
      },
      "file_extension": ".py",
      "mimetype": "text/x-python",
      "name": "python",
      "nbconvert_exporter": "python",
      "pygments_lexer": "ipython3",
      "version": "3.6.4"
    },
    "colab": {
      "provenance": [],
      "toc_visible": true
    }
  },
  "nbformat": 4,
  "nbformat_minor": 0
}