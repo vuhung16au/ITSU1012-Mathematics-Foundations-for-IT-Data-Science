{
  "cells": [
    {
      "cell_type": "markdown",
      "metadata": {
        "id": "RGPpB7aFFDdX"
      },
      "source": [
        "This program shows some worked examples of vector calculations"
      ]
    },
    {
      "cell_type": "markdown",
      "metadata": {
        "id": "RMRtE9B2FDdZ"
      },
      "source": [
        "# RUNME FIRST\n",
        "\n",
        "Import the required libraries"
      ]
    },
    {
      "cell_type": "code",
      "execution_count": null,
      "metadata": {
        "id": "1Q9HYZl3FDdZ"
      },
      "outputs": [],
      "source": [
        "import numpy as np\n",
        "import matplotlib.pyplot as plt\n",
        "import sympy as sp"
      ]
    },
    {
      "cell_type": "markdown",
      "metadata": {
        "id": "OlXiw769FDdZ"
      },
      "source": [
        "Show the different between scalar quality (with size, magnitude) and vector quantity (with size and direction)"
      ]
    },
    {
      "cell_type": "markdown",
      "metadata": {
        "id": "6MwdrLflFDda"
      },
      "source": [
        "# Example 1\n",
        "\n",
        "A car travels 100 km due east and then 50 km due north. Calculate the total distance travelled by the car."
      ]
    },
    {
      "cell_type": "markdown",
      "metadata": {
        "id": "44yD950SFDda"
      },
      "source": [
        "Define the vectors"
      ]
    },
    {
      "cell_type": "code",
      "execution_count": null,
      "metadata": {
        "id": "fbUDdHwjFDda"
      },
      "outputs": [],
      "source": [
        "v1 = np.array([100, 0])\n",
        "v2 = np.array([0, 50])"
      ]
    },
    {
      "cell_type": "markdown",
      "metadata": {
        "id": "mJss7rkrFDda"
      },
      "source": [
        "Calculate the total distance travelled by the car"
      ]
    },
    {
      "cell_type": "code",
      "execution_count": null,
      "metadata": {
        "id": "gyJnAdPpFDda"
      },
      "outputs": [],
      "source": [
        "v_total = v1 + v2\n",
        "distance = np.linalg.norm(v_total)"
      ]
    },
    {
      "cell_type": "code",
      "execution_count": null,
      "metadata": {
        "colab": {
          "base_uri": "https://localhost:8080/"
        },
        "id": "NwAD1g57FDdb",
        "outputId": "b7fe4d3c-d1a0-4009-b007-4b6e99b37327"
      },
      "outputs": [
        {
          "output_type": "stream",
          "name": "stdout",
          "text": [
            "The total distance travelled by the car is 111.80339887498948 km\n"
          ]
        }
      ],
      "source": [
        "print(\"The total distance travelled by the car is\", distance, \"km\")"
      ]
    },
    {
      "cell_type": "markdown",
      "metadata": {
        "id": "0dlPEF_nFDdb"
      },
      "source": [
        "# Example 2\n",
        "A car travels 100 km due east and then 50 km due north. Calculate the displacement of the car."
      ]
    },
    {
      "cell_type": "markdown",
      "metadata": {
        "id": "yISa21LHFDdb"
      },
      "source": [
        "Calculate the displacement of the car"
      ]
    },
    {
      "cell_type": "code",
      "execution_count": null,
      "metadata": {
        "id": "ssWXQw3_FDdb"
      },
      "outputs": [],
      "source": [
        "displacement = v2 - v1"
      ]
    },
    {
      "cell_type": "code",
      "execution_count": null,
      "metadata": {
        "colab": {
          "base_uri": "https://localhost:8080/"
        },
        "id": "3YUwfvHWFDdb",
        "outputId": "875d93f8-99ea-4eaf-cb64-4b1a47724a4f"
      },
      "outputs": [
        {
          "output_type": "stream",
          "name": "stdout",
          "text": [
            "The displacement of the car is [-100   50] km\n"
          ]
        }
      ],
      "source": [
        "print(\"The displacement of the car is\", displacement, \"km\")"
      ]
    },
    {
      "cell_type": "markdown",
      "metadata": {
        "id": "OJ8jzgxuFDdc"
      },
      "source": [
        "# Example 3\n",
        "A car travels 100 km due east and then 50 km due north. Calculate the direction of the car."
      ]
    },
    {
      "cell_type": "markdown",
      "metadata": {
        "id": "KJ6CeSgrFDdc"
      },
      "source": [
        "Calculate the direction of the car"
      ]
    },
    {
      "cell_type": "code",
      "execution_count": null,
      "metadata": {
        "id": "2_bmWi1sFDdc"
      },
      "outputs": [],
      "source": [
        "direction = np.arctan(displacement[1]/displacement[0]) # in radians"
      ]
    },
    {
      "cell_type": "code",
      "execution_count": null,
      "metadata": {
        "colab": {
          "base_uri": "https://localhost:8080/"
        },
        "id": "ZTVITGYjFDdc",
        "outputId": "70dce454-ab34-4f7e-e48b-a072fa38920d"
      },
      "outputs": [
        {
          "output_type": "stream",
          "name": "stdout",
          "text": [
            "The direction of the car is -26.56505117707799 degrees\n"
          ]
        }
      ],
      "source": [
        "print(\"The direction of the car is\", np.degrees(direction), \"degrees\")"
      ]
    },
    {
      "cell_type": "markdown",
      "metadata": {
        "id": "7MCiH-rbFDdc"
      },
      "source": [
        "Plot the vectors on the Cartesian plane"
      ]
    },
    {
      "cell_type": "code",
      "execution_count": null,
      "metadata": {
        "colab": {
          "base_uri": "https://localhost:8080/",
          "height": 472
        },
        "id": "EzOx_npjFDdc",
        "outputId": "e0e0e0a5-66a6-408e-c3c6-98e35b4cbb7b"
      },
      "outputs": [
        {
          "output_type": "display_data",
          "data": {
            "text/plain": [
              "<Figure size 640x480 with 1 Axes>"
            ],
            "image/png": "[encoded data removed]"
          },
          "metadata": {}
        }
      ],
      "source": [
        "# Plot the vectors on the Cartesian plane\n",
        "plt.figure()\n",
        "plt.quiver(0, 0, v1[0], v1[1], angles='xy', scale_units='xy', scale=1, color='r', label='v1')\n",
        "plt.quiver(0, 0, v2[0], v2[1], angles='xy', scale_units='xy', scale=1, color='g', label='v2')\n",
        "plt.quiver(0, 0, v_total[0], v_total[1], angles='xy', scale_units='xy', scale=1, color='b', label='v1+v2')\n",
        "plt.quiver(0, 0, displacement[0], displacement[1], angles='xy', scale_units='xy', scale=1, color='m', label='v2-v1')\n",
        "\n",
        "# Set the limits of the plot\n",
        "plt.xlim(-150, 150)\n",
        "plt.ylim(-60, 60)\n",
        "\n",
        "# Add grid, legend, and labels\n",
        "plt.grid()\n",
        "plt.legend()\n",
        "plt.xlabel('X-axis')\n",
        "plt.ylabel('Y-axis')\n",
        "plt.title('Vector Illustration on Cartesian Plane')\n",
        "\n",
        "# Show the plot\n",
        "plt.show()\n"
      ]
    },
    {
      "cell_type": "markdown",
      "metadata": {
        "id": "rJ1aqvCQFDdd"
      },
      "source": [
        "# Worked Example 1"
      ]
    },
    {
      "cell_type": "markdown",
      "metadata": {
        "id": "WZLZ3kT2FDdd"
      },
      "source": [
        "There are 4 points A, B, C, and D. The coordinates of the points are as follows:"
      ]
    },
    {
      "cell_type": "code",
      "execution_count": null,
      "metadata": {
        "id": "hnuatixpFDde"
      },
      "outputs": [],
      "source": [
        "A = np.array([-3, 1])\n",
        "B = np.array([3, 2])\n",
        "C = np.array([4, 1])\n",
        "D = np.array([2, -2])"
      ]
    },
    {
      "cell_type": "markdown",
      "metadata": {
        "id": "SDz2nNstFDde"
      },
      "source": [
        "The origin of the coordinate system is O(0, 0). Calculate the following:"
      ]
    },
    {
      "cell_type": "code",
      "execution_count": null,
      "metadata": {
        "id": "467Js-IHFDde"
      },
      "outputs": [],
      "source": [
        "O = np.array([0, 0])"
      ]
    },
    {
      "cell_type": "markdown",
      "metadata": {
        "id": "SM4Z8PmmFDde"
      },
      "source": [
        "Calculate the vector (OC)"
      ]
    },
    {
      "cell_type": "code",
      "execution_count": null,
      "metadata": {
        "colab": {
          "base_uri": "https://localhost:8080/"
        },
        "id": "yFIj2PuLFDde",
        "outputId": "6580e826-d366-4362-a08d-8dddcc89cadb"
      },
      "outputs": [
        {
          "output_type": "stream",
          "name": "stdout",
          "text": [
            "The vector OC is [4 1]\n"
          ]
        }
      ],
      "source": [
        "OC = C - O\n",
        "print(\"The vector OC is\", OC) # Should be (4, 1)"
      ]
    },
    {
      "cell_type": "markdown",
      "metadata": {
        "id": "lrWqfyHkFDde"
      },
      "source": [
        "Calculate the vector (DA)"
      ]
    },
    {
      "cell_type": "code",
      "execution_count": null,
      "metadata": {
        "colab": {
          "base_uri": "https://localhost:8080/"
        },
        "id": "EeF0tDvjFDde",
        "outputId": "b1d9704a-f96c-497d-d3e0-6ca87d887335"
      },
      "outputs": [
        {
          "output_type": "stream",
          "name": "stdout",
          "text": [
            "The vector DA is [-5  3]\n"
          ]
        }
      ],
      "source": [
        "DA = (A - O) - (D - O) # or DA = A - D\n",
        "print(\"The vector DA is\", DA) # Should be (-5, 3)"
      ]
    },
    {
      "cell_type": "markdown",
      "metadata": {
        "id": "KZ4na28JFDdf"
      },
      "source": [
        "# Worked Example 2"
      ]
    },
    {
      "cell_type": "markdown",
      "metadata": {
        "id": "6Cvut2KpFDdf"
      },
      "source": [
        "If we started at (5, -2) where would we end up after a displacement of (3, 2)?"
      ]
    },
    {
      "cell_type": "markdown",
      "metadata": {
        "id": "LwkaHjhpFDdf"
      },
      "source": [
        "Define the displacement vector"
      ]
    },
    {
      "cell_type": "code",
      "execution_count": null,
      "metadata": {
        "id": "DidkgcwBFDdl"
      },
      "outputs": [],
      "source": [
        "displacement = np.array([3, 2])"
      ]
    },
    {
      "cell_type": "markdown",
      "metadata": {
        "id": "gdGy483sFDdm"
      },
      "source": [
        "Define the starting point"
      ]
    },
    {
      "cell_type": "code",
      "execution_count": null,
      "metadata": {
        "id": "CC57Z--4FDdm"
      },
      "outputs": [],
      "source": [
        "start = np.array([5, -2])"
      ]
    },
    {
      "cell_type": "markdown",
      "metadata": {
        "id": "SMgm4OVFFDdm"
      },
      "source": [
        "Calculate the ending point"
      ]
    },
    {
      "cell_type": "code",
      "execution_count": null,
      "metadata": {
        "id": "15qqH30HFDdm"
      },
      "outputs": [],
      "source": [
        "end = start + displacement"
      ]
    },
    {
      "cell_type": "code",
      "execution_count": null,
      "metadata": {
        "colab": {
          "base_uri": "https://localhost:8080/"
        },
        "id": "QtaPz1jRFDdm",
        "outputId": "d09aa22c-415f-4470-8d74-d4fb5a9e374c"
      },
      "outputs": [
        {
          "output_type": "stream",
          "name": "stdout",
          "text": [
            "The ending point is [8 0]\n"
          ]
        }
      ],
      "source": [
        "print(\"The ending point is\", end) # Should be (8, 0)"
      ]
    },
    {
      "cell_type": "markdown",
      "metadata": {
        "id": "a-f7-4GdFDdm"
      },
      "source": [
        "TODO: Add more worked examples on 3D vectors"
      ]
    },
    {
      "cell_type": "markdown",
      "metadata": {
        "id": "c_TzNJN2FDdn"
      },
      "source": [
        "# Worked Example 3"
      ]
    },
    {
      "cell_type": "markdown",
      "metadata": {
        "id": "IF9JzyZHFDdn"
      },
      "source": [
        "None"
      ]
    },
    {
      "cell_type": "markdown",
      "metadata": {
        "id": "YD2ZBdleFDdn"
      },
      "source": [
        "# Worked Example 4"
      ]
    },
    {
      "cell_type": "markdown",
      "metadata": {
        "id": "HldFynSaFDdn"
      },
      "source": [
        "An aircraft flies 200km east, then 400km north-east.<br>\n",
        "Use a vector diagram to represent the path taken by the aircraft and also <br>\n",
        "the displacement of the aircraft from its starting point to its finishing point."
      ]
    },
    {
      "cell_type": "markdown",
      "metadata": {
        "id": "hFL_sAFcFDdn"
      },
      "source": [
        "Define the vectors"
      ]
    },
    {
      "cell_type": "code",
      "execution_count": null,
      "metadata": {
        "id": "62fgxu_TFDdn"
      },
      "outputs": [],
      "source": [
        "v1 = np.array([200, 0])\n",
        "v2 = np.array([200*np.cos(np.radians(45)), 200*np.sin(np.radians(45))])"
      ]
    },
    {
      "cell_type": "markdown",
      "metadata": {
        "id": "gR8w0Y89FDdo"
      },
      "source": [
        "Calculate the total distance travelled by the aircraft"
      ]
    },
    {
      "cell_type": "code",
      "execution_count": null,
      "metadata": {
        "id": "bi6SB0W9FDdo"
      },
      "outputs": [],
      "source": [
        "v_total = v1 + v2\n",
        "distance = np.linalg.norm(v_total)"
      ]
    },
    {
      "cell_type": "code",
      "execution_count": null,
      "metadata": {
        "colab": {
          "base_uri": "https://localhost:8080/"
        },
        "id": "EyiYVg4AFDdo",
        "outputId": "7a9f8788-8c78-461e-84a1-4dc6388d1e2b"
      },
      "outputs": [
        {
          "output_type": "stream",
          "name": "stdout",
          "text": [
            "The total distance travelled by the aircraft is 369.5518130045147 km\n"
          ]
        }
      ],
      "source": [
        "print(\"The total distance travelled by the aircraft is\", distance, \"km\")"
      ]
    },
    {
      "cell_type": "markdown",
      "metadata": {
        "id": "ZAvTfhllFDdo"
      },
      "source": [
        "Calculate the displacement of the aircraft"
      ]
    },
    {
      "cell_type": "code",
      "execution_count": null,
      "metadata": {
        "id": "xQr3L5XrFDdo"
      },
      "outputs": [],
      "source": [
        "displacement = v2 - v1"
      ]
    },
    {
      "cell_type": "code",
      "execution_count": null,
      "metadata": {
        "colab": {
          "base_uri": "https://localhost:8080/"
        },
        "id": "Ttiz0y_uFDdp",
        "outputId": "8feb9d6c-d3f3-4e3d-b4a7-b0b38fce8265"
      },
      "outputs": [
        {
          "output_type": "stream",
          "name": "stdout",
          "text": [
            "The displacement of the aircraft is [-58.57864376 141.42135624] km\n"
          ]
        }
      ],
      "source": [
        "print(\"The displacement of the aircraft is\", displacement, \"km\")"
      ]
    },
    {
      "cell_type": "markdown",
      "metadata": {
        "id": "ECUVaPEHFDdp"
      },
      "source": [
        "Plot the vectors on the Cartesian plane"
      ]
    },
    {
      "cell_type": "code",
      "execution_count": null,
      "metadata": {
        "colab": {
          "base_uri": "https://localhost:8080/",
          "height": 472
        },
        "id": "PLHwdv9HFDdp",
        "outputId": "b4a2273d-cdc2-4612-cf2e-51cc5f5c0411"
      },
      "outputs": [
        {
          "output_type": "display_data",
          "data": {
            "text/plain": [
              "<Figure size 640x480 with 1 Axes>"
            ],
            "image/png": "[encoded data removed]"
          },
          "metadata": {}
        }
      ],
      "source": [
        "\n",
        "# Plot the vectors on the Cartesian plane\n",
        "plt.figure()\n",
        "plt.quiver(0, 0, v1[0], v1[1], angles='xy', scale_units='xy', scale=1, color='r', label='v1')\n",
        "plt.quiver(v1[0], v1[1], v2[0], v2[1], angles='xy', scale_units='xy', scale=1, color='g', label='v2')\n",
        "plt.quiver(0, 0, v_total[0], v_total[1], angles='xy', scale_units='xy', scale=1, color='b', label='v1+v2')\n",
        "# plt.quiver(0, 0, displacement[0], displacement[1], angles='xy', scale_units='xy', scale=1, color='m', label='v2-v1')\n",
        "\n",
        "# Make x and y scales equally\n",
        "plt.gca().set_aspect('equal', adjustable='box')\n",
        "\n",
        "# Set the limits of the plot\n",
        "plt.xlim(-200, 500)\n",
        "plt.ylim(-200, 500)\n",
        "\n",
        "\n",
        "# Add grid, legend, and labels\n",
        "plt.grid()\n",
        "plt.legend()\n",
        "plt.xlabel('X-axis')\n",
        "plt.ylabel('Y-axis')\n",
        "plt.title('Vector Illustration on Cartesian Plane')\n",
        "\n",
        "# Show the plot\n",
        "plt.show()"
      ]
    },
    {
      "cell_type": "markdown",
      "metadata": {
        "id": "EMrDYuUoFDdq"
      },
      "source": [
        "# Worked Example 5"
      ]
    },
    {
      "cell_type": "markdown",
      "metadata": {
        "id": "yETHVHdmFDdq"
      },
      "source": [
        "Define vectors"
      ]
    },
    {
      "cell_type": "markdown",
      "metadata": {
        "id": "paDGLZB3FDdq"
      },
      "source": [
        "\n",
        " <br>\n",
        "Show the following vectors on the same plane <br>\n",
        "i) d + e<br>\n",
        "ii) d + e + f<br>\n",
        "iii) e - f <br>\n",
        "Note that, in \"d + e + f), vector e starts at the end of d, and f starts at the end of e. <br>\n"
      ]
    },
    {
      "cell_type": "code",
      "execution_count": null,
      "metadata": {
        "id": "MFARxseAFDdr"
      },
      "outputs": [],
      "source": [
        "d = np.array([0, 2])\n",
        "e = np.array([2, 0]) + np.array([0, 2])\n",
        "f = np.array([2, 0])"
      ]
    },
    {
      "cell_type": "markdown",
      "metadata": {
        "id": "gBsftMmIFDdr"
      },
      "source": [
        "Calculate the vectors"
      ]
    },
    {
      "cell_type": "code",
      "execution_count": null,
      "metadata": {
        "id": "mOCIYGeCFDdr"
      },
      "outputs": [],
      "source": [
        "d_plus_e = d + e\n",
        "d_plus_e_plus_f = d + e + f\n",
        "e_minus_f = e - f"
      ]
    },
    {
      "cell_type": "markdown",
      "metadata": {
        "id": "rtYaTU_mFDdr"
      },
      "source": [
        "Plot the vectors on the Cartesian plane"
      ]
    },
    {
      "cell_type": "code",
      "execution_count": null,
      "metadata": {
        "colab": {
          "base_uri": "https://localhost:8080/",
          "height": 472
        },
        "id": "GxePOXmrFDdr",
        "outputId": "ef092274-3bb9-4a68-86a7-f7da7924ce3f"
      },
      "outputs": [
        {
          "output_type": "display_data",
          "data": {
            "text/plain": [
              "<Figure size 640x480 with 1 Axes>"
            ],
            "image/png": "[encoded data removed]"
          },
          "metadata": {}
        }
      ],
      "source": [
        "\n",
        "# Plot the vectors on the Cartesian plane\n",
        "plt.figure()\n",
        "plt.quiver(0, 0, d[0], d[1], angles='xy', scale_units='xy', scale=1, color='r', label='d')\n",
        "plt.quiver(d[0], d[1], e[0], e[1], angles='xy', scale_units='xy', scale=1, color='g', label='e')\n",
        "plt.quiver(d[0] + e[0], d[1] + e[1], f[0], f[1], angles='xy', scale_units='xy', scale=1, color='b', label='f')\n",
        "plt.quiver(0, 0, d_plus_e[0], d_plus_e[1], angles='xy', scale_units='xy', scale=1, color='m', label='d+e')\n",
        "plt.quiver(0, 0, d_plus_e_plus_f[0], d_plus_e_plus_f[1], angles='xy', scale_units='xy', scale=1, color='c', label='d+e+f')\n",
        "plt.quiver(0, 0, e_minus_f[0], e_minus_f[1], angles='xy', scale_units='xy', scale=1, color='y', label='e-f')\n",
        "\n",
        "# Make x and y scales equally\n",
        "plt.gca().set_aspect('equal', adjustable='box')\n",
        "\n",
        "# Set the limits of the plot\n",
        "plt.xlim(-5, 10)\n",
        "plt.ylim(-5, 10)\n",
        "\n",
        "# Add grid, legend, and labels\n",
        "plt.grid()\n",
        "plt.legend()\n",
        "plt.xlabel('X-axis')\n",
        "plt.ylabel('Y-axis')\n",
        "plt.title('Example 05: Vector Illustration on Cartesian Plane')\n",
        "\n",
        "# Show the plot\n",
        "plt.show()"
      ]
    },
    {
      "cell_type": "markdown",
      "metadata": {
        "id": "Gqdas3G-FDdt"
      },
      "source": [
        "# Worked Example 6"
      ]
    },
    {
      "cell_type": "code",
      "execution_count": null,
      "metadata": {
        "id": "ArqSvy9KFDdt"
      },
      "outputs": [],
      "source": [
        "a = np.array([1, 4])\n",
        "b = np.array([-5, 2])\n",
        "c = np.array([-2, 3])"
      ]
    },
    {
      "cell_type": "markdown",
      "metadata": {
        "id": "-nhpTceMFDdt"
      },
      "source": [
        "Find a + b"
      ]
    },
    {
      "cell_type": "code",
      "execution_count": null,
      "metadata": {
        "colab": {
          "base_uri": "https://localhost:8080/"
        },
        "id": "Yt64HlLvFDdt",
        "outputId": "8dc340ed-0d57-4d4c-90ff-c0b3a2f92d4d"
      },
      "outputs": [
        {
          "output_type": "stream",
          "name": "stdout",
          "text": [
            "a + b is:  [-4  6]\n"
          ]
        }
      ],
      "source": [
        "a_plus_b = np.array(a) + np.array(b)\n",
        "print(\"a + b is: \", a_plus_b) # Should be (-4, 6)"
      ]
    },
    {
      "cell_type": "markdown",
      "metadata": {
        "id": "YQr7g1lEFDdt"
      },
      "source": [
        "Find a - c"
      ]
    },
    {
      "cell_type": "code",
      "execution_count": null,
      "metadata": {
        "colab": {
          "base_uri": "https://localhost:8080/"
        },
        "id": "g5CiC4WrFDdt",
        "outputId": "68600e30-c5ca-4a3f-9777-19ea2342bbd0"
      },
      "outputs": [
        {
          "output_type": "stream",
          "name": "stdout",
          "text": [
            "a - c is:  [3 1]\n"
          ]
        }
      ],
      "source": [
        "a_minus_c = np.array(a) - np.array(c)\n",
        "print(\"a - c is: \", a_minus_c) # Should be (3, 1)"
      ]
    },
    {
      "cell_type": "markdown",
      "metadata": {
        "id": "jZgNtOyGFDdt"
      },
      "source": [
        "Find a + b + c"
      ]
    },
    {
      "cell_type": "code",
      "execution_count": null,
      "metadata": {
        "colab": {
          "base_uri": "https://localhost:8080/"
        },
        "id": "PUAQdT2PFDdu",
        "outputId": "7f83711c-15e8-4ad0-8ef6-665f3df89846"
      },
      "outputs": [
        {
          "output_type": "stream",
          "name": "stdout",
          "text": [
            "a + b + c is:  [-6  9]\n"
          ]
        }
      ],
      "source": [
        "a_plus_b_plus_c = np.array(a) + np.array(b) + np.array(c)\n",
        "print(\"a + b + c is: \", a_plus_b_plus_c) # Should be (-6, 9)"
      ]
    },
    {
      "cell_type": "markdown",
      "metadata": {
        "id": "OCHprnyuFDdu"
      },
      "source": [
        "End of Example 6"
      ]
    },
    {
      "cell_type": "markdown",
      "metadata": {
        "id": "aCgaABtNFDdu"
      },
      "source": [
        "Worked Example 7 (scalar multiplication)"
      ]
    },
    {
      "cell_type": "code",
      "execution_count": null,
      "metadata": {
        "id": "zZDmCM7eFDdu"
      },
      "outputs": [],
      "source": [
        "a = np.array([5, -4])\n",
        "b = np.array([-3, 2])"
      ]
    },
    {
      "cell_type": "markdown",
      "metadata": {
        "id": "mZasrsTOFDdu"
      },
      "source": [
        "Find 2*a + b"
      ]
    },
    {
      "cell_type": "code",
      "execution_count": null,
      "metadata": {
        "colab": {
          "base_uri": "https://localhost:8080/"
        },
        "id": "xqlhyCdwFDdu",
        "outputId": "ad9f2a90-0e0b-44e4-ca0f-74c1c76d136e"
      },
      "outputs": [
        {
          "output_type": "stream",
          "name": "stdout",
          "text": [
            "2*a + b is:  [ 7 -6]\n"
          ]
        }
      ],
      "source": [
        "result = 2*a + b\n",
        "print(\"2*a + b is: \", result) # Should be (7, -6)"
      ]
    },
    {
      "cell_type": "markdown",
      "metadata": {
        "id": "PRqeMIMkFDdu"
      },
      "source": [
        "Find 3(b - a)"
      ]
    },
    {
      "cell_type": "code",
      "execution_count": null,
      "metadata": {
        "colab": {
          "base_uri": "https://localhost:8080/"
        },
        "id": "aHzsQ596FDdv",
        "outputId": "433d2ad3-760d-413a-b3d4-9d95f7ccc507"
      },
      "outputs": [
        {
          "output_type": "stream",
          "name": "stdout",
          "text": [
            "3(b - a) is:  [-24  18]\n"
          ]
        }
      ],
      "source": [
        "result = 3*(b - a)\n",
        "print(\"3(b - a) is: \", result) # Should be (-24, 18)"
      ]
    },
    {
      "cell_type": "markdown",
      "metadata": {
        "id": "vvhow9lkFDdv"
      },
      "source": [
        "# Worked Example 8"
      ]
    },
    {
      "cell_type": "markdown",
      "metadata": {
        "id": "tPM8GJw3FDdv"
      },
      "source": [
        "Define symbols a, b"
      ]
    },
    {
      "cell_type": "code",
      "execution_count": null,
      "metadata": {
        "id": "Jo2-ljoqFDdv"
      },
      "outputs": [],
      "source": [
        "a, b = sp.symbols('a b')"
      ]
    },
    {
      "cell_type": "code",
      "execution_count": null,
      "metadata": {
        "id": "wqqlxAjlFDdv"
      },
      "outputs": [],
      "source": [
        "A = np.array([0, 0])\n",
        "B = np.array([a, 0])\n",
        "C = np.array([3*a, 0])"
      ]
    },
    {
      "cell_type": "code",
      "execution_count": null,
      "metadata": {
        "id": "vN0o1QPTFDdv"
      },
      "outputs": [],
      "source": [
        "F = np.array([0, b])\n",
        "E = np.array([a, b])\n",
        "D = np.array([3*a, b])"
      ]
    },
    {
      "cell_type": "markdown",
      "metadata": {
        "id": "tQ6zKYE8FDdw"
      },
      "source": [
        "Calculate the vectors"
      ]
    },
    {
      "cell_type": "code",
      "execution_count": null,
      "metadata": {
        "id": "prD1at3VFDdw"
      },
      "outputs": [],
      "source": [
        "BC = C - B\n",
        "AC = C - A\n",
        "BD = D - B"
      ]
    },
    {
      "cell_type": "code",
      "execution_count": null,
      "metadata": {
        "colab": {
          "base_uri": "https://localhost:8080/"
        },
        "id": "vqWRNyXCFDdw",
        "outputId": "81e5a3f5-830d-47f1-ca36-840c18146507"
      },
      "outputs": [
        {
          "output_type": "stream",
          "name": "stdout",
          "text": [
            "The vector BC is [2*a 0]\n",
            "The vector AC is [3*a 0]\n",
            "The vector BD is [2*a b]\n"
          ]
        }
      ],
      "source": [
        "print(\"The vector BC is\", BC) # Should be (0, 2a) = 2*AB\n",
        "print(\"The vector AC is\", AC) # Should be (0, 3a) = 3*AB\n",
        "print(\"The vector BD is\", BD) # Should be (b, 2a) = AB + BE"
      ]
    },
    {
      "cell_type": "markdown",
      "metadata": {
        "id": "hEaufB94FDdw"
      },
      "source": [
        "Evaluate the vectors when a = 1, b = 2"
      ]
    },
    {
      "cell_type": "code",
      "execution_count": null,
      "metadata": {
        "id": "cnRVhTQBFDdw"
      },
      "outputs": [],
      "source": [
        "a_val = 1\n",
        "b_val = 2"
      ]
    },
    {
      "cell_type": "code",
      "execution_count": null,
      "metadata": {
        "id": "96Ahr5aVFDdw"
      },
      "outputs": [],
      "source": [
        "A_val = np.array([0, 0])\n",
        "B_val = np.array([a_val, 0])\n",
        "C_val = np.array([3*a_val, 0])"
      ]
    },
    {
      "cell_type": "code",
      "execution_count": null,
      "metadata": {
        "id": "8zp9rQ4GFDdw"
      },
      "outputs": [],
      "source": [
        "F_val = np.array([0, b_val])\n",
        "E_val = np.array([a_val, b_val])\n",
        "D_val = np.array([3*a_val, b_val])"
      ]
    },
    {
      "cell_type": "markdown",
      "metadata": {
        "id": "iCdwWBmQFDdw"
      },
      "source": [
        "Substitute the values into the vectors"
      ]
    },
    {
      "cell_type": "code",
      "execution_count": null,
      "metadata": {
        "id": "j318K12pFDdx"
      },
      "outputs": [],
      "source": [
        "BC_val = C_val - B_val\n",
        "AC_val = C_val - A_val\n",
        "BD_val = D_val - B_val"
      ]
    },
    {
      "cell_type": "markdown",
      "metadata": {
        "id": "Y7OhPvjnFDdx"
      },
      "source": [
        "Plot the points and vectors on the Cartesian plane"
      ]
    },
    {
      "cell_type": "code",
      "execution_count": null,
      "metadata": {
        "colab": {
          "base_uri": "https://localhost:8080/",
          "height": 472
        },
        "id": "K0W_HtuEFDdx",
        "outputId": "242f450f-a60a-4aa8-aac3-a3211d053794"
      },
      "outputs": [
        {
          "output_type": "display_data",
          "data": {
            "text/plain": [
              "<Figure size 640x480 with 1 Axes>"
            ],
            "image/png": "[encoded data removed]"
          },
          "metadata": {}
        }
      ],
      "source": [
        "\n",
        "# Plot the points and vectors on the Cartesian plane\n",
        "plt.figure()\n",
        "plt.scatter([A_val[0], B_val[0], C_val[0], F_val[0], E_val[0], D_val[0]],\n",
        "            [A_val[1], B_val[1], C_val[1], F_val[1], E_val[1], D_val[1]], color='r')\n",
        "plt.text(A_val[0], A_val[1], 'A', fontsize=12, ha='right')\n",
        "plt.text(B_val[0], B_val[1], 'B', fontsize=12, ha='right')\n",
        "plt.text(C_val[0], C_val[1], 'C', fontsize=12, ha='right')\n",
        "plt.text(F_val[0], F_val[1], 'F', fontsize=12, ha='right')\n",
        "plt.text(E_val[0], E_val[1], 'E', fontsize=12, ha='right')\n",
        "plt.text(D_val[0], D_val[1], 'D', fontsize=12, ha='right')\n",
        "\n",
        "plt.quiver(B_val[0], B_val[1], BC_val[0], BC_val[1], angles='xy', scale_units='xy', scale=1, color='g', label='BC')\n",
        "plt.quiver(A_val[0], A_val[1], AC_val[0], AC_val[1], angles='xy', scale_units='xy', scale=1, color='b', label='AC')\n",
        "plt.quiver(B_val[0], B_val[1], BD_val[0], BD_val[1], angles='xy', scale_units='xy', scale=1, color='m', label='BD')\n",
        "\n",
        "\"\"\"\n",
        "on the plane, connect the points\n",
        "\n",
        "A (arrow) to F\n",
        "F (arrow) to E\n",
        "B (arrow) to E\n",
        "E (arrow) to D\n",
        "C (arrow) to D\n",
        "\n",
        "\"\"\"\n",
        "# Connect the points with arrows\n",
        "plt.quiver(A_val[0], A_val[1], F_val[0] - A_val[0], F_val[1] - A_val[1], angles='xy', scale_units='xy', scale=1, color='c', label='A to F')\n",
        "plt.quiver(F_val[0], F_val[1], E_val[0] - F_val[0], E_val[1] - F_val[1], angles='xy', scale_units='xy', scale=1, color='y', label='F to E')\n",
        "plt.quiver(B_val[0], B_val[1], E_val[0] - B_val[0], E_val[1] - B_val[1], angles='xy', scale_units='xy', scale=1, color='k', label='B to E')\n",
        "plt.quiver(E_val[0], E_val[1], D_val[0] - E_val[0], D_val[1] - E_val[1], angles='xy', scale_units='xy', scale=1, color='orange', label='E to D')\n",
        "plt.quiver(C_val[0], C_val[1], D_val[0] - C_val[0], D_val[1] - C_val[1], angles='xy', scale_units='xy', scale=1, color='purple', label='C to D')\n",
        "\n",
        "# Make x and y scales equally\n",
        "plt.gca().set_aspect('equal', adjustable='box')\n",
        "\n",
        "# Set the limits of the plot\n",
        "plt.xlim(-1, 4)\n",
        "plt.ylim(-1, 4)\n",
        "\n",
        "# Add grid, legend, and labels\n",
        "plt.grid()\n",
        "plt.legend()\n",
        "plt.xlabel('X-axis')\n",
        "plt.ylabel('Y-axis')\n",
        "plt.title('Example 8: Vector Illustration on Cartesian Plane')\n",
        "\n",
        "# Show the plot\n",
        "plt.show()\n"
      ]
    },
    {
      "cell_type": "markdown",
      "metadata": {
        "id": "FAeFnd8DFDdz"
      },
      "source": [
        "# Worked Example 9"
      ]
    },
    {
      "cell_type": "markdown",
      "metadata": {
        "id": "qpC6gdV5FDdz"
      },
      "source": [
        "Define the points A, B, C, E using sympy symbols"
      ]
    },
    {
      "cell_type": "code",
      "execution_count": null,
      "metadata": {
        "id": "EH7uI4llFDdz"
      },
      "outputs": [],
      "source": [
        "a, b, c, e = sp.symbols('a b c e')"
      ]
    },
    {
      "cell_type": "code",
      "execution_count": null,
      "metadata": {
        "id": "CBr0NIEnFDdz"
      },
      "outputs": [],
      "source": [
        "A = np.array([0, a])\n",
        "B = np.array([0, b])\n",
        "C = np.array([0, c])\n",
        "E = np.array([0, e])"
      ]
    },
    {
      "cell_type": "code",
      "execution_count": null,
      "metadata": {
        "id": "Z6GPTcQPFDdz"
      },
      "outputs": [],
      "source": [
        "AB = B - A\n",
        "BC = C - B\n",
        "EC = C - E"
      ]
    },
    {
      "cell_type": "code",
      "execution_count": null,
      "metadata": {
        "id": "1ry6ID3DFDdz"
      },
      "outputs": [],
      "source": [
        "X = AB + BC - EC # = (B - A) + (C - B) - (C - E) = B - A + C - B - C + E = E - A"
      ]
    },
    {
      "cell_type": "markdown",
      "metadata": {
        "id": "fsBCoKZzFDd0"
      },
      "source": [
        "Simplify the vectors X"
      ]
    },
    {
      "cell_type": "code",
      "execution_count": null,
      "metadata": {
        "colab": {
          "base_uri": "https://localhost:8080/"
        },
        "id": "D_rR1U48FDd0",
        "outputId": "03e31707-8aab-49d3-dd0e-6ab61eaaf0e7"
      },
      "outputs": [
        {
          "output_type": "stream",
          "name": "stdout",
          "text": [
            "The simplified vector X = AB + BC - CE is:  [0, -a + e]\n"
          ]
        }
      ],
      "source": [
        "X_simplified = sp.simplify(X)\n",
        "print(\"The simplified vector X = AB + BC - CE is: \", X_simplified) # should be [0, -a + e] = (E - A)"
      ]
    },
    {
      "cell_type": "markdown",
      "metadata": {
        "id": "wGOTW2OuFDd0"
      },
      "source": [
        "Worked Example 10"
      ]
    },
    {
      "cell_type": "markdown",
      "metadata": {
        "id": "YpbWJy3pFDd0"
      },
      "source": [
        "Find the magnitude of the vector v = 3i - 2j (i and j are unit vectors) <br>\n",
        "i = (1, 0), j = (0, 1)"
      ]
    },
    {
      "cell_type": "code",
      "execution_count": null,
      "metadata": {
        "id": "EQ3QSu8eFDd0"
      },
      "outputs": [],
      "source": [
        "v = 3*np.array([1, 0]) - 2*np.array([0, 1])\n",
        "magnitude = np.linalg.norm(v)"
      ]
    },
    {
      "cell_type": "code",
      "execution_count": null,
      "metadata": {
        "colab": {
          "base_uri": "https://localhost:8080/"
        },
        "id": "b1ta0r50FDd0",
        "outputId": "e4431dbd-f11f-4a3c-adaf-e7b3cddf2ad8"
      },
      "outputs": [
        {
          "output_type": "stream",
          "name": "stdout",
          "text": [
            "The magnitude of the vector v = 3i - 2j is:  3.605551275463989\n"
          ]
        }
      ],
      "source": [
        "print(\"The magnitude of the vector v = 3i - 2j is: \", magnitude) # should be sqrt of 3^2 + (-2)^2 = 13"
      ]
    },
    {
      "cell_type": "markdown",
      "metadata": {
        "id": "AE-BLo1aFDd0"
      },
      "source": [
        "Find the direction of the vector v = 3i - 2j"
      ]
    },
    {
      "cell_type": "code",
      "execution_count": null,
      "metadata": {
        "id": "3t94SVsaFDd0"
      },
      "outputs": [],
      "source": [
        "direction = np.arctan(v[1]/v[0])"
      ]
    },
    {
      "cell_type": "code",
      "execution_count": null,
      "metadata": {
        "colab": {
          "base_uri": "https://localhost:8080/"
        },
        "id": "M8Em9XmXFDd1",
        "outputId": "1307eb2b-3b70-4de2-946d-2bddb617f08a"
      },
      "outputs": [
        {
          "output_type": "stream",
          "name": "stdout",
          "text": [
            "The direction of the vector v = 3i - 2j is:  -33.690067525979785\n"
          ]
        }
      ],
      "source": [
        "print(\"The direction of the vector v = 3i - 2j is: \", np.degrees(direction)) # should be -33.69 degrees"
      ]
    },
    {
      "cell_type": "markdown",
      "metadata": {
        "id": "lKhrCKCgFDd1"
      },
      "source": [
        "Plot the vector v on the Cartesian plane"
      ]
    },
    {
      "cell_type": "code",
      "execution_count": null,
      "metadata": {
        "colab": {
          "base_uri": "https://localhost:8080/",
          "height": 472
        },
        "id": "L7DIil9sFDd1",
        "outputId": "1c99016b-fe44-4cef-f6fb-0e861aa17326"
      },
      "outputs": [
        {
          "output_type": "display_data",
          "data": {
            "text/plain": [
              "<Figure size 640x480 with 1 Axes>"
            ],
            "image/png": "[encoded data removed]"
          },
          "metadata": {}
        }
      ],
      "source": [
        "\n",
        "# Plot the vector v on the Cartesian plane\n",
        "plt.figure()\n",
        "plt.quiver(0, 0, v[0], v[1], angles='xy', scale_units='xy', scale=1, color='r', label='v = 3i - 2j')\n",
        "\n",
        "\n",
        "# Plot the unit vectors i and j on the Cartesian plane\n",
        "i = np.array([1, 0])\n",
        "j = np.array([0, 1])\n",
        "\n",
        "plt.quiver(0, 0, i[0], i[1], angles='xy', scale_units='xy', scale=1, color='g', label='i = (1, 0)')\n",
        "plt.quiver(0, 0, j[0], j[1], angles='xy', scale_units='xy', scale=1, color='b', label='j = (0, 1)')\n",
        "\n",
        "# Make x and y scales equally\n",
        "plt.gca().set_aspect('equal', adjustable='box')\n",
        "\n",
        "# Set the limits of the plot\n",
        "plt.xlim(-5, 5)\n",
        "plt.ylim(-5, 5)\n",
        "\n",
        "# Add grid, legend, and labels\n",
        "plt.grid()\n",
        "plt.legend()\n",
        "plt.xlabel('X-axis')\n",
        "plt.ylabel('Y-axis')\n",
        "plt.title('Vector v = 3i - 2j on Cartesian Plane')\n",
        "\n",
        "# Show the plot\n",
        "plt.show()"
      ]
    },
    {
      "cell_type": "markdown",
      "metadata": {
        "id": "H64N4bc9FDd2"
      },
      "source": [
        "# Worked Example 11"
      ]
    },
    {
      "cell_type": "markdown",
      "metadata": {
        "id": "CZ9fb1xbFDd2"
      },
      "source": [
        "Express on the Cartesian plane the horizontal and vertical components of the vector of <br>\n",
        "magnitude 5 and angle 120 degrees with the positive x-axis"
      ]
    },
    {
      "cell_type": "markdown",
      "metadata": {
        "id": "GJgynYWPFDd3"
      },
      "source": [
        "Define the magnitude and angle"
      ]
    },
    {
      "cell_type": "code",
      "execution_count": null,
      "metadata": {
        "id": "nTpAAKV-FDd3"
      },
      "outputs": [],
      "source": [
        "magnitude = 5\n",
        "angle = 120"
      ]
    },
    {
      "cell_type": "markdown",
      "metadata": {
        "id": "hkVaRHCDFDd3"
      },
      "source": [
        "Convert angle to radians"
      ]
    },
    {
      "cell_type": "code",
      "execution_count": null,
      "metadata": {
        "id": "8k4M2eh7FDd3"
      },
      "outputs": [],
      "source": [
        "angle_rad = np.radians(angle)"
      ]
    },
    {
      "cell_type": "markdown",
      "metadata": {
        "id": "FfXu0YiQFDd3"
      },
      "source": [
        "Calculate the horizontal and vertical components"
      ]
    },
    {
      "cell_type": "code",
      "execution_count": null,
      "metadata": {
        "id": "fxghyrFCFDd3"
      },
      "outputs": [],
      "source": [
        "horizontal_component = magnitude * np.cos(angle_rad)\n",
        "vertical_component = magnitude * np.sin(angle_rad)"
      ]
    },
    {
      "cell_type": "code",
      "execution_count": null,
      "metadata": {
        "colab": {
          "base_uri": "https://localhost:8080/"
        },
        "id": "JEkO4C0pFDd4",
        "outputId": "cd773b47-cbda-4e17-9cd8-1e1d7599da4d"
      },
      "outputs": [
        {
          "output_type": "stream",
          "name": "stdout",
          "text": [
            "The horizontal component is: -2.499999999999999\n",
            "The vertical component is: 4.330127018922194\n"
          ]
        }
      ],
      "source": [
        "print(\"The horizontal component is:\", horizontal_component)\n",
        "print(\"The vertical component is:\", vertical_component)"
      ]
    },
    {
      "cell_type": "markdown",
      "metadata": {
        "id": "E3sB81NGFDd4"
      },
      "source": [
        "Plot the vector on the Cartesian plane"
      ]
    },
    {
      "cell_type": "code",
      "execution_count": null,
      "metadata": {
        "colab": {
          "base_uri": "https://localhost:8080/",
          "height": 472
        },
        "id": "hVSkEDn2FDd4",
        "outputId": "ccaec4dc-873d-4c55-d4ca-fdf6b44da931"
      },
      "outputs": [
        {
          "output_type": "display_data",
          "data": {
            "text/plain": [
              "<Figure size 640x480 with 1 Axes>"
            ],
            "image/png": "[encoded data removed]"
          },
          "metadata": {}
        }
      ],
      "source": [
        "\n",
        "# Plot the vector on the Cartesian plane\n",
        "plt.figure()\n",
        "plt.quiver(0, 0, horizontal_component, vertical_component, angles='xy', scale_units='xy', scale=1, color='r', label='The vector')\n",
        "\n",
        "# Make x and y scales equally\n",
        "plt.gca().set_aspect('equal', adjustable='box')\n",
        "\n",
        "# Set the limits of the plot\n",
        "plt.xlim(-6, 6)\n",
        "plt.ylim(-6, 6)\n",
        "\n",
        "# Add grid, legend, and labels\n",
        "plt.grid()\n",
        "plt.legend()\n",
        "plt.xlabel('X-axis')\n",
        "plt.ylabel('Y-axis')\n",
        "plt.title('Vector with Magnitude 5 and Angle 120 Degrees')\n",
        "\n",
        "# Show the plot\n",
        "plt.show()\n"
      ]
    },
    {
      "cell_type": "markdown",
      "metadata": {
        "id": "ty--cYKQFDd5"
      },
      "source": [
        "# Worked Example 12"
      ]
    },
    {
      "cell_type": "markdown",
      "metadata": {
        "id": "2CCZRrX7FDd5"
      },
      "source": [
        "A car travels 12 km in the direction N30E.<br>\n",
        "How far <br>\n",
        "a) North<br>\n",
        "b) East <br>\n",
        "of its starting point has it travelled?"
      ]
    },
    {
      "cell_type": "markdown",
      "metadata": {
        "id": "EK_SWV_eFDd5"
      },
      "source": [
        "Solve the problem using by drawing a vector diagram"
      ]
    },
    {
      "cell_type": "markdown",
      "metadata": {
        "id": "g4lLIBe4FDd5"
      },
      "source": [
        "Define the magnitude and angle"
      ]
    },
    {
      "cell_type": "code",
      "execution_count": null,
      "metadata": {
        "id": "LyspnXfCFDd5"
      },
      "outputs": [],
      "source": [
        "magnitude = 12\n",
        "angle = 30  # N30E means 30 degrees east of north"
      ]
    },
    {
      "cell_type": "markdown",
      "metadata": {
        "id": "XfQyHhvQFDd5"
      },
      "source": [
        "Convert angle to radians"
      ]
    },
    {
      "cell_type": "code",
      "execution_count": null,
      "metadata": {
        "id": "jMRcNOByFDd6"
      },
      "outputs": [],
      "source": [
        "angle_rad = np.radians(angle)"
      ]
    },
    {
      "cell_type": "markdown",
      "metadata": {
        "id": "eT31ivpUFDd6"
      },
      "source": [
        "Calculate the north and east components"
      ]
    },
    {
      "cell_type": "code",
      "execution_count": null,
      "metadata": {
        "id": "wLIMsr7GFDd6"
      },
      "outputs": [],
      "source": [
        "north_component = magnitude * np.cos(angle_rad)\n",
        "east_component = magnitude * np.sin(angle_rad)"
      ]
    },
    {
      "cell_type": "code",
      "execution_count": null,
      "metadata": {
        "colab": {
          "base_uri": "https://localhost:8080/"
        },
        "id": "liNF6IBDFDd6",
        "outputId": "f79bb8a9-2f31-4ce9-b8e4-a09f4560aeb2"
      },
      "outputs": [
        {
          "output_type": "stream",
          "name": "stdout",
          "text": [
            "The north component is: 10.392304845413264 km\n",
            "The east component is: 5.999999999999999 km\n"
          ]
        }
      ],
      "source": [
        "print(\"The north component is:\", north_component, \"km\")\n",
        "print(\"The east component is:\", east_component, \"km\")"
      ]
    },
    {
      "cell_type": "markdown",
      "metadata": {
        "id": "meosrTuoFDd6"
      },
      "source": [
        "Plot the vector on the Cartesian plane"
      ]
    },
    {
      "cell_type": "code",
      "execution_count": null,
      "metadata": {
        "colab": {
          "base_uri": "https://localhost:8080/",
          "height": 472
        },
        "id": "erfbPJCOFDd6",
        "outputId": "cbbc94e6-e0ea-4d70-c810-d37d7d2d4e87"
      },
      "outputs": [
        {
          "output_type": "display_data",
          "data": {
            "text/plain": [
              "<Figure size 640x480 with 1 Axes>"
            ],
            "image/png": "[encoded data removed]"
          },
          "metadata": {}
        }
      ],
      "source": [
        "\n",
        "# Plot the vector on the Cartesian plane\n",
        "plt.figure()\n",
        "plt.quiver(0, 0, east_component, north_component, angles='xy', scale_units='xy', scale=1, color='r', label='12 km N30E')\n",
        "\n",
        "# Make x and y scales equally\n",
        "plt.gca().set_aspect('equal', adjustable='box')\n",
        "\n",
        "# Set the limits of the plot\n",
        "plt.xlim(-1, 13)\n",
        "plt.ylim(-1, 13)\n",
        "\n",
        "# Add grid, legend, and labels\n",
        "plt.grid()\n",
        "plt.legend()\n",
        "plt.xlabel('East (km)')\n",
        "plt.ylabel('North (km)')\n",
        "plt.title('Ex 12: Vector Diagram for 12 km N30E')\n",
        "\n",
        "# Show the plot\n",
        "plt.show()"
      ]
    },
    {
      "cell_type": "markdown",
      "metadata": {
        "id": "gawQWwxZFDd8"
      },
      "source": [
        "# Worked Example 13"
      ]
    },
    {
      "cell_type": "markdown",
      "metadata": {
        "id": "eqnJRYLyFDd8"
      },
      "source": [
        "Draw a vector a = 3*i - j on the Cartesian plane<br>\n",
        "where i, j are unit vectors<br>\n",
        "i = (1, 0), j = (0, 1)<br>\n",
        "Find the magnitude and direction of the vector a"
      ]
    },
    {
      "cell_type": "markdown",
      "metadata": {
        "id": "kQ3_JTSPFDd8"
      },
      "source": [
        "Define the vector a"
      ]
    },
    {
      "cell_type": "code",
      "execution_count": null,
      "metadata": {
        "id": "T_3LWL-pFDd8"
      },
      "outputs": [],
      "source": [
        "a = 3 * np.array([1, 0]) - np.array([0, 1])"
      ]
    },
    {
      "cell_type": "markdown",
      "metadata": {
        "id": "NiLDAGLOFDd8"
      },
      "source": [
        "Find the magnitude of the vector a"
      ]
    },
    {
      "cell_type": "code",
      "execution_count": null,
      "metadata": {
        "colab": {
          "base_uri": "https://localhost:8080/"
        },
        "id": "0JuJjEwoFDd8",
        "outputId": "07eff3f1-2f64-4fd8-fe4d-30de1efe992d"
      },
      "outputs": [
        {
          "output_type": "stream",
          "name": "stdout",
          "text": [
            "The magnitude of the vector a is: 3.1622776601683795\n"
          ]
        }
      ],
      "source": [
        "magnitude_a = np.linalg.norm(a)\n",
        "print(\"The magnitude of the vector a is:\", magnitude_a) # should be sqrt(3^2 + (-1)^2) = sqrt(10) = 3.16"
      ]
    },
    {
      "cell_type": "markdown",
      "metadata": {
        "id": "gm8bH70XFDd8"
      },
      "source": [
        "Find the direction of the vector a"
      ]
    },
    {
      "cell_type": "code",
      "execution_count": null,
      "metadata": {
        "colab": {
          "base_uri": "https://localhost:8080/"
        },
        "id": "5KYPf6_FFDd8",
        "outputId": "a2bd912e-392d-457b-d229-82981f841de6"
      },
      "outputs": [
        {
          "output_type": "stream",
          "name": "stdout",
          "text": [
            "The direction of the vector a is: -18.43494882292201 degrees\n"
          ]
        }
      ],
      "source": [
        "direction_a = np.arctan2(a[1], a[0])\n",
        "print(\"The direction of the vector a is:\", np.degrees(direction_a), \"degrees\") # should be -18.43 degrees"
      ]
    },
    {
      "cell_type": "markdown",
      "metadata": {
        "id": "TeC5hnJjFDd9"
      },
      "source": [
        "Plot the vector a on the Cartesian plane"
      ]
    },
    {
      "cell_type": "code",
      "execution_count": null,
      "metadata": {
        "colab": {
          "base_uri": "https://localhost:8080/",
          "height": 472
        },
        "id": "uKzpTJa4FDd9",
        "outputId": "37704446-5399-4ab9-96aa-f37a9165e508"
      },
      "outputs": [
        {
          "output_type": "display_data",
          "data": {
            "text/plain": [
              "<Figure size 640x480 with 1 Axes>"
            ],
            "image/png": "[encoded data removed]"
          },
          "metadata": {}
        }
      ],
      "source": [
        "\n",
        "# Plot the vector a on the Cartesian plane\n",
        "plt.figure()\n",
        "plt.quiver(0, 0, a[0], a[1], angles='xy', scale_units='xy', scale=1, color='r', label='a = 3i - j')\n",
        "\n",
        "# Plot the unit vectors i and j on the Cartesian plane\n",
        "i = np.array([1, 0])\n",
        "j = np.array([0, 1])\n",
        "\n",
        "plt.quiver(0, 0, i[0], i[1], angles='xy', scale_units='xy', scale=1, color='g', label='i = (1, 0)')\n",
        "plt.quiver(0, 0, j[0], j[1], angles='xy', scale_units='xy', scale=1, color='b', label='j = (0, 1)')\n",
        "\n",
        "# Plot the lines x = 3 and y = -1 on the Cartesian plane\n",
        "plt.axvline(x=3, color='purple', linestyle='--', label='x = 3')\n",
        "plt.axhline(y=-1, color='orange', linestyle='--', label='y = -1')\n",
        "\n",
        "# Make x and y scales equally\n",
        "plt.gca().set_aspect('equal', adjustable='box')\n",
        "\n",
        "# Set the limits of the plot\n",
        "plt.xlim(-5, 5)\n",
        "plt.ylim(-5, 5)\n",
        "\n",
        "# Add grid, legend, and labels\n",
        "plt.grid()\n",
        "plt.legend()\n",
        "plt.xlabel('X-axis')\n",
        "plt.ylabel('Y-axis')\n",
        "plt.title('Vector a = 3i - j on Cartesian Plane')\n",
        "\n",
        "# Show the plot\n",
        "plt.show()"
      ]
    },
    {
      "cell_type": "markdown",
      "metadata": {
        "id": "TYG4ZS6AFDd-"
      },
      "source": [
        "# Worked Example 14"
      ]
    },
    {
      "cell_type": "markdown",
      "metadata": {
        "id": "KeyGqHelFDd_"
      },
      "source": [
        "if a = 3*i + j, and b = -2*i + 5*j, <br>\n",
        "express <br>\n",
        "a) a + b<br>\n",
        "b) 2*a - b<br>\n",
        "in the form of i, j where i, j are unit vectors<br>\n",
        "i = (1, 0), j = (0, 1)"
      ]
    },
    {
      "cell_type": "markdown",
      "metadata": {
        "id": "w4ZI73efFDd_"
      },
      "source": [
        "Define the vectors a and b"
      ]
    },
    {
      "cell_type": "code",
      "execution_count": null,
      "metadata": {
        "id": "MbrpGW82FDd_"
      },
      "outputs": [],
      "source": [
        "a = 3 * np.array([1, 0]) + np.array([0, 1])\n",
        "b = -2 * np.array([1, 0]) + 5 * np.array([0, 1])"
      ]
    },
    {
      "cell_type": "markdown",
      "metadata": {
        "id": "LSZZRlj7FDd_"
      },
      "source": [
        "Calculate a + b"
      ]
    },
    {
      "cell_type": "code",
      "execution_count": null,
      "metadata": {
        "colab": {
          "base_uri": "https://localhost:8080/"
        },
        "id": "oOVyh7EvFDd_",
        "outputId": "b657b342-3884-4315-cb30-bdb158624d69"
      },
      "outputs": [
        {
          "output_type": "stream",
          "name": "stdout",
          "text": [
            "a + b is: 1 i + 6 j\n"
          ]
        }
      ],
      "source": [
        "a_plus_b = a + b\n",
        "print(\"a + b is:\", a_plus_b[0], \"i +\", a_plus_b[1], \"j\")  # Should be 1i + 6j"
      ]
    },
    {
      "cell_type": "markdown",
      "metadata": {
        "id": "xyhN0O7oFDd_"
      },
      "source": [
        "Calculate 2*a - b"
      ]
    },
    {
      "cell_type": "code",
      "execution_count": null,
      "metadata": {
        "colab": {
          "base_uri": "https://localhost:8080/"
        },
        "id": "fSm5GRu0FDd_",
        "outputId": "e2d61607-a7c5-48ae-8234-17a963e75449"
      },
      "outputs": [
        {
          "output_type": "stream",
          "name": "stdout",
          "text": [
            "2*a - b is: 8 i + -3 j\n"
          ]
        }
      ],
      "source": [
        "two_a_minus_b = 2 * a - b\n",
        "print(\"2*a - b is:\", two_a_minus_b[0], \"i +\", two_a_minus_b[1], \"j\")  # Should be 8i - 3j"
      ]
    },
    {
      "cell_type": "markdown",
      "metadata": {
        "id": "aaOMfsqVFDd_"
      },
      "source": [
        "# Worked Example 15"
      ]
    },
    {
      "cell_type": "markdown",
      "metadata": {
        "id": "7fyCEcuxFDeA"
      },
      "source": [
        "\n",
        " <br>\n",
        "Express A, B on the diagram <br>\n",
        "Express B - A in terms of unit vectors i, j <br>\n",
        "If M is the midpoint of AB (= B - A), find the point M in terms of i, j.<br>\n"
      ]
    },
    {
      "cell_type": "code",
      "execution_count": null,
      "metadata": {
        "id": "xyAxFC3EFDeA"
      },
      "outputs": [],
      "source": [
        "A = np.array([3, 1])\n",
        "B = np.array([-1, 4])"
      ]
    },
    {
      "cell_type": "markdown",
      "metadata": {
        "id": "K5YUTmhhFDeA"
      },
      "source": [
        "Plot the points A and B on the Cartesian plane"
      ]
    },
    {
      "cell_type": "code",
      "execution_count": null,
      "metadata": {
        "colab": {
          "base_uri": "https://localhost:8080/",
          "height": 508
        },
        "id": "Fn-djGQKFDeA",
        "outputId": "62cbedd9-988a-47a2-8bc7-7cf4799d7216"
      },
      "outputs": [
        {
          "output_type": "stream",
          "name": "stdout",
          "text": [
            "B - A in terms of unit vectors i, j is: -4 i + 3 j\n",
            "The midpoint M of AB is: 1.0 i + 2.5 j\n"
          ]
        },
        {
          "output_type": "display_data",
          "data": {
            "text/plain": [
              "<Figure size 640x480 with 1 Axes>"
            ],
            "image/png": "[encoded data removed]"
          },
          "metadata": {}
        }
      ],
      "source": [
        "\n",
        "# Plot the points A and B on the Cartesian plane\n",
        "plt.figure()\n",
        "plt.scatter([A[0], B[0]], [A[1], B[1]], color='r')\n",
        "plt.text(A[0], A[1], 'A', fontsize=12, ha='right')\n",
        "plt.text(B[0], B[1], 'B', fontsize=12, ha='right')\n",
        "\n",
        "# Plot the vector B - A\n",
        "BA = B - A\n",
        "plt.quiver(A[0], A[1], BA[0], BA[1], angles='xy', scale_units='xy', scale=1, color='b', label='B - A')\n",
        "\n",
        "\n",
        "# Plot the lines x = 1, x = 3, x = -1, y = 1, y = 4, y = 2.5 on the plane\n",
        "plt.axvline(x=1, color='purple', linestyle='--', label='x = 1')\n",
        "plt.axvline(x=3, color='orange', linestyle='--', label='x = 3')\n",
        "plt.axvline(x=-1, color='cyan', linestyle='--', label='x = -1')\n",
        "plt.axhline(y=1, color='magenta', linestyle='--', label='y = 1')\n",
        "plt.axhline(y=4, color='yellow', linestyle='--', label='y = 4')\n",
        "plt.axhline(y=2.5, color='blue', linestyle='--', label='y = 2.5')\n",
        "\n",
        "# Express B - A in terms of unit vectors i, j\n",
        "i = np.array([1, 0])\n",
        "j = np.array([0, 1])\n",
        "BA_i_j = BA[0] * i + BA[1] * j\n",
        "print(\"B - A in terms of unit vectors i, j is:\", BA_i_j[0], \"i +\", BA_i_j[1], \"j\")\n",
        "\n",
        "# Find the midpoint M of AB\n",
        "M = (A + B) / 2\n",
        "print(\"The midpoint M of AB is:\", M[0], \"i +\", M[1], \"j\")\n",
        "\n",
        "# Plot the midpoint M\n",
        "plt.scatter(M[0], M[1], color='g')\n",
        "plt.text(M[0], M[1], 'M', fontsize=12, ha='right')\n",
        "\n",
        "# Make x and y scales equally\n",
        "plt.gca().set_aspect('equal', adjustable='box')\n",
        "\n",
        "# Set the limits of the plot\n",
        "plt.xlim(-5, 5)\n",
        "plt.ylim(-5, 5)\n",
        "\n",
        "# Add grid, legend, and labels\n",
        "plt.grid()\n",
        "plt.legend()\n",
        "plt.xlabel('X-axis')\n",
        "plt.ylabel('Y-axis')\n",
        "plt.title('Ex 15: Vector B - A and Midpoint M')\n",
        "\n",
        "# Show the plot\n",
        "plt.show()"
      ]
    },
    {
      "cell_type": "markdown",
      "metadata": {
        "id": "j2-KHKgaFDeF"
      },
      "source": [
        "# Worked Example 16"
      ]
    },
    {
      "cell_type": "markdown",
      "metadata": {
        "id": "cIOIo7AcFDeF"
      },
      "source": [
        "Combined vector"
      ]
    },
    {
      "cell_type": "code",
      "execution_count": null,
      "metadata": {
        "id": "GEsq6U2bFDeF"
      },
      "outputs": [],
      "source": [
        "v = np.array([2, 6])"
      ]
    },
    {
      "cell_type": "markdown",
      "metadata": {
        "id": "teZd-D0PFDeF"
      },
      "source": [
        "Find the magnitude of the vector v"
      ]
    },
    {
      "cell_type": "code",
      "execution_count": null,
      "metadata": {
        "colab": {
          "base_uri": "https://localhost:8080/"
        },
        "id": "lzA6NsBPFDeG",
        "outputId": "fffe1cd6-c22c-4d30-8e65-ffc6fe7770ee"
      },
      "outputs": [
        {
          "output_type": "stream",
          "name": "stdout",
          "text": [
            "The magnitude of the vector v is: 6.3\n"
          ]
        }
      ],
      "source": [
        "magnitude_v = np.linalg.norm(v)\n",
        "print(\"The magnitude of the vector v is:\", round(magnitude_v, 1)) # should be sqrt(2^2 + 6^2) = sqrt(40) = 6.3"
      ]
    },
    {
      "cell_type": "markdown",
      "metadata": {
        "id": "mPRl-L9ZFDeG"
      },
      "source": [
        "Find the direction of the vector v"
      ]
    },
    {
      "cell_type": "code",
      "execution_count": null,
      "metadata": {
        "colab": {
          "base_uri": "https://localhost:8080/"
        },
        "id": "4WAQ4xQJFDeG",
        "outputId": "eb468086-bf2c-492a-9959-724d9ec39d74"
      },
      "outputs": [
        {
          "output_type": "stream",
          "name": "stdout",
          "text": [
            "The direction of the vector v is: 71.6 degrees\n"
          ]
        }
      ],
      "source": [
        "direction_v = np.arctan(v[1]/v[0])\n",
        "print(\"The direction of the vector v is:\", round(np.degrees(direction_v), 1), \"degrees\") # should be 71.6 degrees"
      ]
    },
    {
      "cell_type": "markdown",
      "metadata": {
        "id": "9ht2Qt0CFDeG"
      },
      "source": [
        "Plot the vector v on the Cartesian plane"
      ]
    },
    {
      "cell_type": "code",
      "execution_count": null,
      "metadata": {
        "colab": {
          "base_uri": "https://localhost:8080/",
          "height": 472
        },
        "id": "IlsezVQlFDeG",
        "outputId": "c92b582f-0498-4dcd-8a32-4d309cfc8b62"
      },
      "outputs": [
        {
          "output_type": "display_data",
          "data": {
            "text/plain": [
              "<Figure size 640x480 with 1 Axes>"
            ],
            "image/png": "[encoded data removed]"
          },
          "metadata": {}
        }
      ],
      "source": [
        "\n",
        "# Plot the vector v on the Cartesian plane\n",
        "plt.figure()\n",
        "plt.quiver(0, 0, v[0], v[1], angles='xy', scale_units='xy', scale=1, color='r', label='v = [2, 6]')\n",
        "\n",
        "# Plot the direction of the vector v\n",
        "plt.quiver(0, 0, np.cos(direction_v), np.sin(direction_v), angles='xy', scale_units='xy', scale=1, color='b', label='Direction of v')\n",
        "\n",
        "# Annotate the angle on the diagram\n",
        "plt.text(1, 1, f'{round(np.degrees(direction_v), 1)}°', fontsize=12, color='b')\n",
        "\n",
        "# Make x and y scales equally\n",
        "plt.gca().set_aspect('equal', adjustable='box')\n",
        "\n",
        "# Set the limits of the plot\n",
        "plt.xlim(-1, 7)\n",
        "plt.ylim(-1, 7)\n",
        "\n",
        "# Add grid, legend, and labels\n",
        "plt.grid()\n",
        "plt.legend()\n",
        "plt.xlabel('X-axis')\n",
        "plt.ylabel('Y-axis')\n",
        "plt.title('Vector v = [2, 6] and its Direction on Cartesian Plane')\n",
        "\n",
        "# Show the plot\n",
        "plt.show()\n"
      ]
    },
    {
      "cell_type": "markdown",
      "metadata": {
        "id": "azryrqK3FDeI"
      },
      "source": [
        "# Worked Example 17"
      ]
    },
    {
      "cell_type": "markdown",
      "metadata": {
        "id": "QAFjEI0iFDeI"
      },
      "source": [
        "An aircraft heading north with air speed 500 km/h"
      ]
    },
    {
      "cell_type": "code",
      "execution_count": null,
      "metadata": {
        "id": "H0gFIEe4FDeI"
      },
      "outputs": [],
      "source": [
        "aircraft_vector = np.array([0, 500])"
      ]
    },
    {
      "cell_type": "markdown",
      "metadata": {
        "id": "aj-3W-XuFDeI"
      },
      "source": [
        "The wind is blowing south-west at 80 km/h"
      ]
    },
    {
      "cell_type": "code",
      "execution_count": null,
      "metadata": {
        "id": "UlSXvNWvFDeI"
      },
      "outputs": [],
      "source": [
        "wind_vector = np.array([-80*np.cos(np.radians(45)), -80*np.sin(np.radians(45))])"
      ]
    },
    {
      "cell_type": "markdown",
      "metadata": {
        "id": "2XMwLKaVFDeI"
      },
      "source": [
        "Find the resultant velocity of the aircraft (air speed + wind speed)"
      ]
    },
    {
      "cell_type": "code",
      "execution_count": null,
      "metadata": {
        "colab": {
          "base_uri": "https://localhost:8080/"
        },
        "id": "wXycpiz5FDeI",
        "outputId": "b3aea841-295c-45fe-9d42-433076434c8a"
      },
      "outputs": [
        {
          "output_type": "stream",
          "name": "stdout",
          "text": [
            "The resultant velocity of the aircraft is: [-56.56854249 443.43145751]\n"
          ]
        }
      ],
      "source": [
        "resultant_velocity = aircraft_vector + wind_vector\n",
        "print(\"The resultant velocity of the aircraft is:\", resultant_velocity)"
      ]
    },
    {
      "cell_type": "markdown",
      "metadata": {
        "id": "plD61FTyFDeI"
      },
      "source": [
        "The direction of the aircraft in which the aircraft is heading and its ground speed"
      ]
    },
    {
      "cell_type": "code",
      "execution_count": null,
      "metadata": {
        "colab": {
          "base_uri": "https://localhost:8080/"
        },
        "id": "dZ-lyk37FDeJ",
        "outputId": "6206dbbf-3689-4b4d-a9b4-6fcd7c711a3f"
      },
      "outputs": [
        {
          "output_type": "stream",
          "name": "stdout",
          "text": [
            "The direction of the aircraft is: -82.73004612483835 degrees\n"
          ]
        }
      ],
      "source": [
        "direction = np.arctan(resultant_velocity[1]/resultant_velocity[0])\n",
        "ground_speed = np.linalg.norm(resultant_velocity)\n",
        "print(\"The direction of the aircraft is:\", np.degrees(direction), \"degrees\")"
      ]
    },
    {
      "cell_type": "markdown",
      "metadata": {
        "id": "yTDDynfRFDeJ"
      },
      "source": [
        "Plot the vectors on the Cartesian plane"
      ]
    },
    {
      "cell_type": "code",
      "execution_count": null,
      "metadata": {
        "colab": {
          "base_uri": "https://localhost:8080/",
          "height": 472
        },
        "id": "l-3FfOZzFDeJ",
        "outputId": "22aa2c34-6fce-4c83-9276-c2659c9c3e51"
      },
      "outputs": [
        {
          "output_type": "display_data",
          "data": {
            "text/plain": [
              "<Figure size 640x480 with 1 Axes>"
            ],
            "image/png": "[encoded data removed]"
          },
          "metadata": {}
        }
      ],
      "source": [
        "\n",
        "# Plot the vector v on the Cartesian plane\n",
        "plt.figure()\n",
        "plt.quiver(0, 0, v[0], v[1], angles='xy', scale_units='xy', scale=1, color='r', label='v = [2, 6]')\n",
        "\n",
        "# Plot the direction of the vector v\n",
        "plt.quiver(0, 0, np.cos(direction_v), np.sin(direction_v), angles='xy', scale_units='xy', scale=1, color='b', label='Direction of v')\n",
        "\n",
        "# Annotate the angle on the diagram\n",
        "plt.text(1, 1, f'{round(np.degrees(direction_v), 1)}°', fontsize=12, color='b')\n",
        "\n",
        "# Make x and y scales equally\n",
        "plt.gca().set_aspect('equal', adjustable='box')\n",
        "\n",
        "# Set the limits of the plot\n",
        "plt.xlim(-1, 7)\n",
        "plt.ylim(-1, 7)\n",
        "\n",
        "# Add grid, legend, and labels\n",
        "plt.grid()\n",
        "plt.legend()\n",
        "plt.xlabel('X-axis')\n",
        "plt.ylabel('Y-axis')\n",
        "plt.title('Vector v = [2, 6] and its Direction on Cartesian Plane')\n",
        "\n",
        "# Show the plot\n",
        "plt.show()\n"
      ]
    },
    {
      "cell_type": "markdown",
      "metadata": {
        "id": "Qy8ubXeZFDeK"
      },
      "source": [
        "# TODO Vector in 3D"
      ]
    }
  ],
  "metadata": {
    "kernelspec": {
      "display_name": "Python 3",
      "language": "python",
      "name": "python3"
    },
    "language_info": {
      "codemirror_mode": {
        "name": "ipython",
        "version": 3
      },
      "file_extension": ".py",
      "mimetype": "text/x-python",
      "name": "python",
      "nbconvert_exporter": "python",
      "pygments_lexer": "ipython3",
      "version": "3.6.4"
    },
    "colab": {
      "provenance": [],
      "toc_visible": true
    }
  },
  "nbformat": 4,
  "nbformat_minor": 0
}