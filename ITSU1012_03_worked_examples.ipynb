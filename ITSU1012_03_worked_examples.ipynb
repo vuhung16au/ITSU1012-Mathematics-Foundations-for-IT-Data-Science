{
  "nbformat": 4,
  "nbformat_minor": 0,
  "metadata": {
    "colab": {
      "provenance": [],
      "toc_visible": true
    },
    "kernelspec": {
      "name": "python3",
      "display_name": "Python 3"
    },
    "language_info": {
      "name": "python"
    }
  },
  "cells": [
    {
      "cell_type": "markdown",
      "source": [
        "# RUN ME FIRST!"
      ],
      "metadata": {
        "id": "kVvTMl6sKAnO"
      }
    },
    {
      "cell_type": "code",
      "source": [
        "import math\n",
        "import cmath\n",
        "\n",
        "import numpy as np\n",
        "import sympy as sp\n",
        "\n",
        "import matplotlib.pyplot as plt\n",
        "\n",
        "\n",
        "from sympy.solvers import solve\n",
        "from sympy import Symbol\n"
      ],
      "metadata": {
        "id": "Li27ADqoKFBw"
      },
      "execution_count": null,
      "outputs": []
    },
    {
      "cell_type": "markdown",
      "source": [
        "# Worked Example 1"
      ],
      "metadata": {
        "id": "4185_inEkAIQ"
      }
    },
    {
      "cell_type": "code",
      "source": [
        "\n",
        "# Worked example 01\n",
        "\n",
        "# Draw triangle ABC, angle B = 90 degree, length of BC = 8, length of AC = 12\n",
        "# Calculate the length of AB\n",
        "\n",
        "# Using Pythagorean theorem: AB^2 + BC^2 = AC^2\n",
        "BC = 8\n",
        "AC = 12\n",
        "\n",
        "# Calculate AB\n",
        "AB = math.sqrt(AC**2 - BC**2)\n",
        "\n",
        "# Round off to 1 decimal place\n",
        "print(f\"The length of AB is {AB:.1f}\")\n",
        "\n",
        "# Plotting the triangle\n",
        "A = (0, 0)\n",
        "B = (BC, 0)\n",
        "C = (0, AC)\n",
        "\n",
        "plt.figure()\n",
        "plt.plot([A[0], B[0]], [A[1], B[1]], 'bo-')\n",
        "plt.plot([B[0], C[0]], [B[1], C[1]], 'bo-')\n",
        "plt.plot([C[0], A[0]], [C[1], A[1]], 'bo-')\n",
        "plt.text(A[0], A[1], 'A', fontsize=12, ha='right')\n",
        "plt.text(B[0], B[1], 'B', fontsize=12, ha='right')\n",
        "plt.text(C[0], C[1], 'C', fontsize=12, ha='right')\n",
        "plt.xlim(-1, BC + 1)\n",
        "plt.ylim(-1, AC + 1)\n",
        "plt.gca().set_aspect('equal', adjustable='box')\n",
        "plt.grid(True)\n",
        "plt.show()\n",
        "\n",
        "# End of worked example 01"
      ],
      "metadata": {
        "colab": {
          "base_uri": "https://localhost:8080/",
          "height": 448
        },
        "id": "CZzrjZI4iHeq",
        "outputId": "f5a01400-435e-469a-f273-83711849b025"
      },
      "execution_count": null,
      "outputs": [
        {
          "output_type": "stream",
          "name": "stdout",
          "text": [
            "The length of AB is 8.9\n"
          ]
        },
        {
          "output_type": "display_data",
          "data": {
            "text/plain": [
              "<Figure size 640x480 with 1 Axes>"
            ],
            "image/png": "[encoded data removed]"
          },
          "metadata": {}
        }
      ]
    },
    {
      "cell_type": "markdown",
      "source": [
        "# Worked Example 2"
      ],
      "metadata": {
        "id": "aawpWC85kJ6o"
      }
    },
    {
      "cell_type": "code",
      "source": [
        "# Worked example 02\n",
        "\n",
        "# Draw triangle ABC, angle B = 90 degree, length of BC = 20, length of AB = 8.\n",
        "# Draw point H as the midpoint of AC.\n",
        "# Find the length of HC.\n",
        "\n",
        "# Using Pythagorean theorem: AB^2 + BC^2 = AC^2\n",
        "BC = 20\n",
        "AB = 8\n",
        "\n",
        "# Calculate AC\n",
        "AC = math.sqrt(AB**2 + BC**2)\n",
        "\n",
        "# Calculate coordinates of A, B, and C\n",
        "A = (0, 0)\n",
        "B = (BC, 0)\n",
        "C = (0, AB)\n",
        "\n",
        "# Calculate coordinates of H (midpoint of AC)\n",
        "H = ((A[0] + C[0]) / 2, (A[1] + C[1]) / 2)\n",
        "\n",
        "# Calculate the length of HC\n",
        "HC = math.sqrt((H[0] - C[0])**2 + (H[1] - C[1])**2)\n",
        "\n",
        "print(f\"The length of HC is {HC:.1f}\")\n",
        "\n",
        "# Plotting the triangle and point H\n",
        "plt.figure()\n",
        "plt.plot([A[0], B[0]], [A[1], B[1]], 'bo-')\n",
        "plt.plot([B[0], C[0]], [B[1], C[1]], 'bo-')\n",
        "plt.plot([C[0], A[0]], [C[1], A[1]], 'bo-')\n",
        "plt.plot(H[0], H[1], 'ro')  # Point H\n",
        "plt.text(A[0], A[1], 'A', fontsize=12, ha='right')\n",
        "plt.text(B[0], B[1], 'B', fontsize=12, ha='right')\n",
        "plt.text(C[0], C[1], 'C', fontsize=12, ha='right')\n",
        "plt.text(H[0], H[1], 'H', fontsize=12, ha='right')\n",
        "plt.xlim(-1, BC + 1)\n",
        "plt.ylim(-1, AB + 1)\n",
        "plt.gca().set_aspect('equal', adjustable='box')\n",
        "plt.grid(True)\n",
        "plt.show()\n",
        "\n",
        "# TODO continue with the second part of example 02\n",
        "\n",
        "# End of worked example 02"
      ],
      "metadata": {
        "colab": {
          "base_uri": "https://localhost:8080/",
          "height": 304
        },
        "id": "0VlVLLXniQgN",
        "outputId": "b64346c2-7a85-4081-a19a-46fc31eb6ef6"
      },
      "execution_count": null,
      "outputs": [
        {
          "output_type": "stream",
          "name": "stdout",
          "text": [
            "The length of HC is 4.0\n"
          ]
        },
        {
          "output_type": "display_data",
          "data": {
            "text/plain": [
              "<Figure size 640x480 with 1 Axes>"
            ],
            "image/png": "[encoded data removed]"
          },
          "metadata": {}
        }
      ]
    },
    {
      "cell_type": "markdown",
      "source": [
        "# Worked Example 3"
      ],
      "metadata": {
        "id": "Zn9mS-FYkcV3"
      }
    },
    {
      "cell_type": "code",
      "source": [
        "# Worked example 03\n",
        "# Change radians to degrees\n",
        "\n",
        "\"\"\"\n",
        "1 radian = 180/pi degree.\n",
        "Write a function to convert radian to degree and vice versa.\n",
        "\"\"\"\n",
        "def radian_to_degree(radian):\n",
        "    return radian * (180 / math.pi)\n",
        "\n",
        "def degree_to_radian(degree):\n",
        "    return degree * (math.pi / 180)\n",
        "\n",
        "# Convert 2 radians to degree\n",
        "radian = 2\n",
        "degree = radian_to_degree(radian)\n",
        "print(f\"{radian} radian is equal to {degree:.2f} degree\")\n",
        "\n",
        "# Convert 6.3 radians to degree\n",
        "radian = 6.3\n",
        "degree = radian_to_degree(radian)\n",
        "print(f\"{radian} radian is equal to {degree:.2f} degree\")\n",
        "\n",
        "# Convert 9 pi / 10 to degree\n",
        "radian = 9 * math.pi / 10\n",
        "degree = radian_to_degree(radian)\n",
        "print(f\"{radian} radian is equal to {degree:.2f} degree\")\n",
        "\n",
        "# End of worked example 03\n"
      ],
      "metadata": {
        "colab": {
          "base_uri": "https://localhost:8080/"
        },
        "id": "270-DfkyiXTz",
        "outputId": "6e4a5487-5d36-4514-e68f-a7f0795994c3"
      },
      "execution_count": null,
      "outputs": [
        {
          "output_type": "stream",
          "name": "stdout",
          "text": [
            "2 radian is equal to 114.59 degree\n",
            "6.3 radian is equal to 360.96 degree\n",
            "2.827433388230814 radian is equal to 162.00 degree\n"
          ]
        }
      ]
    },
    {
      "cell_type": "markdown",
      "source": [
        "# Worked Example 4"
      ],
      "metadata": {
        "id": "SsQ-FUlJkjNs"
      }
    },
    {
      "cell_type": "code",
      "source": [
        "# Worked example 04\n",
        "\n",
        "print(\"Change degrees to radians\")\n",
        "\n",
        "# Change degrees to radians\n",
        "\n",
        "# Convert 2 degree to randian\n",
        "degree = 2\n",
        "radian = degree_to_radian(degree)\n",
        "print(f\"{degree} degree is equal to {radian:.5f} radian\")\n",
        "\n",
        "# Convert 36.35 degree to radian\n",
        "degree = 36.35\n",
        "radian = degree_to_radian(degree)\n",
        "print(f\"{degree} degree is equal to {radian:.5f} radian\")\n",
        "\n",
        "# Convert 150 degree to radian\n",
        "degree = 150\n",
        "radian = degree_to_radian(degree)\n",
        "print(f\"{degree} degree is equal to {radian:.5f} radian\")\n",
        "\n",
        "# End of worked example 04"
      ],
      "metadata": {
        "colab": {
          "base_uri": "https://localhost:8080/"
        },
        "id": "luSjsJzRib1c",
        "outputId": "0029a66a-952a-411a-a84a-571d45b80638"
      },
      "execution_count": null,
      "outputs": [
        {
          "output_type": "stream",
          "name": "stdout",
          "text": [
            "Change degrees to radians\n",
            "2 degree is equal to 0.03491 radian\n",
            "36.35 degree is equal to 0.63443 radian\n",
            "150 degree is equal to 2.61799 radian\n"
          ]
        }
      ]
    },
    {
      "cell_type": "markdown",
      "source": [
        "# Worked Example 5"
      ],
      "metadata": {
        "id": "OVMxCp6rkobp"
      }
    },
    {
      "cell_type": "code",
      "source": [
        "# TODO print a list of covertions from (0, 30, 45, 60, 90, 180) degrees to radians\n",
        "\n",
        "# TODO print a list of sin() for 0, 30, 45, 60, 90, 180 degrees\n",
        "# TODO print a list of cos() for 0, 30, 45, 60, 90, 180 degrees\n",
        "\n",
        "# TODO print a list of sin() for 0, pi/6, pi/4, pi/3, pi/2, pi radians\n",
        "# TODO print a list of cos() for 0, pi/6, pi/4, pi/3, pi/2, pi radians\n",
        "\n",
        "# Worked example 05\n",
        "\n",
        "# Without using a calculator, find the value of\n",
        "# sin(150 degree)\n",
        "# cos (5 * pi / 4)\n",
        "# Calculate sin(150 degree)\n",
        "\n",
        "# https://www.mathgptpro.com/\n",
        "\n",
        "# End of worked example 05"
      ],
      "metadata": {
        "id": "ZaWXE3jBif86"
      },
      "execution_count": null,
      "outputs": []
    },
    {
      "cell_type": "markdown",
      "source": [
        "# Worked Example 6"
      ],
      "metadata": {
        "id": "11cHJDGkkxFh"
      }
    },
    {
      "cell_type": "code",
      "source": [
        "# Worked example 06\n",
        "\n",
        "# sin (x) = 0.6, cos (x) = 0.8 and x is in the first quadrant.\n",
        "# Find the value of\n",
        "# sin (3*pi - x)\n",
        "# cos (4*pi + x)\n",
        "\n",
        "# https://www.mathgptpro.com/\n",
        "\n",
        "# End of worked example 06"
      ],
      "metadata": {
        "id": "vnqa2hooikMt"
      },
      "execution_count": null,
      "outputs": []
    },
    {
      "cell_type": "markdown",
      "source": [
        "# Worked Example 7"
      ],
      "metadata": {
        "id": "MTpN7O8DnOT9"
      }
    },
    {
      "cell_type": "code",
      "source": [
        "# Worked example 07\n",
        "\n",
        "# if sin (theta) = 12/13 and theta in (pi/2, pi), find the value of cos (theta) and tan (theta)\n",
        "\n",
        "# Given\n",
        "sin_theta = 12 / 13\n",
        "\n",
        "# Since theta is in (pi/2, pi), cos(theta) will be negative\n",
        "cos_theta = -math.sqrt(1 - sin_theta**2)\n",
        "\n",
        "# Calculate tan(theta)\n",
        "tan_theta = sin_theta / cos_theta\n",
        "\n",
        "print(f\"sin(theta) = {sin_theta}\")\n",
        "print(f\"cos(theta) = {cos_theta:.5f}\")\n",
        "print(f\"tan(theta) = {tan_theta:.5f}\")\n",
        "\n",
        "# End of worked example 07\n"
      ],
      "metadata": {
        "colab": {
          "base_uri": "https://localhost:8080/"
        },
        "id": "084EqP1xinE1",
        "outputId": "a8b8714a-e79d-4d67-94d6-7ff6e54ae0b4"
      },
      "execution_count": null,
      "outputs": [
        {
          "output_type": "stream",
          "name": "stdout",
          "text": [
            "sin(theta) = 0.9230769230769231\n",
            "cos(theta) = -0.38462\n",
            "tan(theta) = -2.40000\n"
          ]
        }
      ]
    },
    {
      "cell_type": "markdown",
      "source": [
        "# Worked Example 8"
      ],
      "metadata": {
        "id": "7atyfWqknXGv"
      }
    },
    {
      "cell_type": "code",
      "source": [
        "# Worked example 08\n",
        "\n",
        "# Find the exact value of sin (-135 degree) with sympy\n",
        "# Convert -135 degrees to radians\n",
        "angle_rad = sp.rad(-135)\n",
        "\n",
        "# Calculate sin(-135 degrees)\n",
        "sin_value = sp.sin(angle_rad)\n",
        "\n",
        "print(f\"sin(-135 degrees) = {sin_value}\")\n",
        "\n",
        "#  Find the exact value of cos (-240 degree) with sympy\n",
        "# Convert -240 degrees to radians\n",
        "angle_rad = sp.rad(-240)\n",
        "\n",
        "# Calculate cos(-240 degrees)\n",
        "cos_value = sp.cos(angle_rad)\n",
        "\n",
        "print(f\"cos(-240 degrees) = {cos_value}\")\n",
        "\n",
        "# Find the exact value of tan (-330 degree) with sympy\n",
        "# Convert -330 degrees to radians\n",
        "angle_rad = sp.rad(-330)\n",
        "\n",
        "# Calculate tan(-330 degrees)\n",
        "tan_value = sp.tan(angle_rad)\n",
        "\n",
        "print(f\"tan(-330 degrees) = {tan_value}\")\n",
        "\n",
        "# End of worked example 08"
      ],
      "metadata": {
        "colab": {
          "base_uri": "https://localhost:8080/"
        },
        "id": "q4hbBlQ6iqXW",
        "outputId": "e83b59fc-c951-4216-c081-9a36bca91233"
      },
      "execution_count": null,
      "outputs": [
        {
          "output_type": "stream",
          "name": "stdout",
          "text": [
            "sin(-135 degrees) = -sqrt(2)/2\n",
            "cos(-240 degrees) = -1/2\n",
            "tan(-330 degrees) = sqrt(3)/3\n"
          ]
        }
      ]
    },
    {
      "cell_type": "markdown",
      "source": [
        "# Worked Example 9"
      ],
      "metadata": {
        "id": "6aoJ9ifinaMw"
      }
    },
    {
      "cell_type": "code",
      "source": [
        "# Worked example 09\n",
        "\n",
        "# Find the exact value of sin (-4*pi/3) with sympy\n",
        "\n",
        "# Calculate sin(-4*pi/3)\n",
        "angle_rad = -4 * sp.pi / 3\n",
        "sin_value = sp.sin(angle_rad)\n",
        "\n",
        "print(f\"sin(-4*pi/3) = {sin_value}\")\n",
        "\n",
        "# Find the exact value of tan (-5*pi/6) with sympy\n",
        "\n",
        "# Calculate tan(-5*pi/6)\n",
        "angle_rad = -5 * sp.pi / 6\n",
        "tan_value = sp.tan(angle_rad)\n",
        "\n",
        "print(f\"tan(-5*pi/6) = {tan_value}\")\n",
        "\n",
        "# End of worked example 09\n"
      ],
      "metadata": {
        "colab": {
          "base_uri": "https://localhost:8080/"
        },
        "id": "cDiC4kvfitRq",
        "outputId": "cded9659-c8f8-444b-f428-20f78bacce99"
      },
      "execution_count": null,
      "outputs": [
        {
          "output_type": "stream",
          "name": "stdout",
          "text": [
            "sin(-4*pi/3) = sqrt(3)/2\n",
            "tan(-5*pi/6) = sqrt(3)/3\n"
          ]
        }
      ]
    },
    {
      "cell_type": "markdown",
      "source": [
        "# Worked Example 10"
      ],
      "metadata": {
        "id": "OI-1hEQenfcJ"
      }
    },
    {
      "cell_type": "code",
      "source": [
        "# Worked example 10\n",
        "\n",
        "# Find all solutions of cos(x) = -sqrt(2)/2 in the domain [0, 2*pi] with sympy\n",
        "# Define the equation\n",
        "x = sp.symbols('x')\n",
        "equation = sp.Eq(sp.cos(x), -sp.sqrt(2)/2)\n",
        "\n",
        "# Solve the equation in the domain [0, 2*pi]\n",
        "solutions = sp.solveset(equation, x, domain=sp.Interval(0, 2 * sp.pi))\n",
        "\n",
        "\n",
        "print(f\"Solutions for cos(x) = -sqrt(2)/2 in the domain [0, 2*pi]: {list(solutions)}\") #  [3*pi/4, 5*pi/4]\n",
        "\n",
        "# End of worked example 10"
      ],
      "metadata": {
        "colab": {
          "base_uri": "https://localhost:8080/"
        },
        "id": "L0z2AL2JiwZ4",
        "outputId": "cf1edd39-0540-4749-b761-b31de0887030"
      },
      "execution_count": null,
      "outputs": [
        {
          "output_type": "stream",
          "name": "stdout",
          "text": [
            "Solutions for cos(x) = -sqrt(2)/2 in the domain [0, 2*pi]: [3*pi/4, 5*pi/4]\n"
          ]
        }
      ]
    },
    {
      "cell_type": "markdown",
      "source": [
        "# Worked Example 11"
      ],
      "metadata": {
        "id": "7E2ZqD3enwBb"
      }
    },
    {
      "cell_type": "code",
      "source": [
        "# Worked example 11\n",
        "\n",
        "# Find all solutions of sin(alpha) = 0.7 in the domain [0, 4*pi].\n",
        "# Give your answers correct to 4 decimal places.\n",
        "\n",
        "# Define the equation\n",
        "alpha = sp.symbols('alpha')\n",
        "equation = sp.Eq(sp.sin(alpha), 0.7)\n",
        "\n",
        "# Solve the equation in the domain [0, 4*pi]\n",
        "solutions = sp.solveset(equation, alpha, domain=sp.Interval(0, 4 * sp.pi))\n",
        "\n",
        "# Convert solutions to numerical values and round to 4 decimal places\n",
        "solutions = [sol.evalf() for sol in solutions]\n",
        "solutions = [round(sol, 4) for sol in solutions]\n",
        "\n",
        "print(f\"Solutions for sin(alpha) = 0.7 in the domain [0, 4*pi]: {solutions}\") # [0.7754, 2.3662, 7.0586, 8.6494]\n",
        "\n",
        "# End of worked example 11"
      ],
      "metadata": {
        "colab": {
          "base_uri": "https://localhost:8080/"
        },
        "id": "UZUbsx_Ai0uK",
        "outputId": "4ef4e259-7414-4d3d-e96c-56681f944a45"
      },
      "execution_count": null,
      "outputs": [
        {
          "output_type": "stream",
          "name": "stdout",
          "text": [
            "Solutions for sin(alpha) = 0.7 in the domain [0, 4*pi]: [0.7754, 2.3662, 8.6494, 7.0586]\n"
          ]
        }
      ]
    },
    {
      "cell_type": "markdown",
      "source": [
        "# Worked Example 12"
      ],
      "metadata": {
        "id": "-I5KjyCdnyf_"
      }
    },
    {
      "cell_type": "code",
      "source": [
        "# Worked example 12\n",
        "\n",
        "# Find all the exact solutions to the equation\n",
        "# sqrt(2) * cos (x) + 1 = 0 in the domain [0, 2*pi]\n",
        "# Use sympy to solve the equation\n",
        "\n",
        "# Define the equation\n",
        "x = sp.symbols('x')\n",
        "equation = sp.Eq(sp.sqrt(2) * sp.cos(x) + 1, 0)\n",
        "\n",
        "# Solve the equation in the domain [0, 2*pi]\n",
        "solutions = sp.solveset(equation, x, domain=sp.Interval(0, 2 * sp.pi))\n",
        "\n",
        "print(f\"Solutions for sqrt(2) * cos(x) + 1 = 0 in the domain [0, 2*pi]: {list(solutions)}\") #  [3*pi/4, 5*pi/4]\n",
        "\n",
        "# End of worked example 12"
      ],
      "metadata": {
        "colab": {
          "base_uri": "https://localhost:8080/"
        },
        "id": "gsrgAeQui5dl",
        "outputId": "616d5bb9-5e65-4b47-8b53-07e45b3b925c"
      },
      "execution_count": null,
      "outputs": [
        {
          "output_type": "stream",
          "name": "stdout",
          "text": [
            "Solutions for sqrt(2) * cos(x) + 1 = 0 in the domain [0, 2*pi]: [3*pi/4, 5*pi/4]\n"
          ]
        }
      ]
    },
    {
      "cell_type": "markdown",
      "source": [
        "# Worked Example 13"
      ],
      "metadata": {
        "id": "OsmK-p0Hn03X"
      }
    },
    {
      "cell_type": "code",
      "source": [
        "# Worked example 13\n",
        "\n",
        "# Find all the solutions (solve for \"theta\" in degree) to the equation\n",
        "# 2 * sin (2* theta) = - sqrt(3)\n",
        "# in the domain :theta in [0, 360] degrees\n",
        "\n",
        "# Define the equation\n",
        "theta = sp.symbols('theta')\n",
        "equation = sp.Eq(2 * sp.sin(sp.rad(2 * theta)), -sp.sqrt(3))\n",
        "\n",
        "# Solve the equation in the domain [0, 360] degrees\n",
        "solutions = sp.solveset(equation, theta, domain=sp.Interval(0, 360))\n",
        "\n",
        "print(f\"Solutions for 2 * sin(theta) = -sqrt(3) in the domain [0, 360] degrees: {list(solutions)}\") # should be [120, 150, 300, 330]\n",
        "\n",
        "# End of worked example 13"
      ],
      "metadata": {
        "colab": {
          "base_uri": "https://localhost:8080/"
        },
        "id": "anvqbtRHi92w",
        "outputId": "1e6af7d9-673c-4424-a6bb-103dd261a0aa"
      },
      "execution_count": null,
      "outputs": [
        {
          "output_type": "stream",
          "name": "stdout",
          "text": [
            "Solutions for 2 * sin(theta) = -sqrt(3) in the domain [0, 360] degrees: [120, 150, 300, 330]\n"
          ]
        }
      ]
    },
    {
      "cell_type": "markdown",
      "source": [
        "# Worked Example 14"
      ],
      "metadata": {
        "id": "X5Joc6Idn20W"
      }
    },
    {
      "cell_type": "markdown",
      "source": [],
      "metadata": {
        "id": "r4gdCdsbn4-y"
      }
    },
    {
      "cell_type": "code",
      "source": [
        "# Worked example 14\n",
        "\n",
        "# Find all the solutions between 0 and 2*pi to the equation\n",
        "# sin(3*x) = cos(3*x).\n",
        "# Give your answers in radians and correct to 2 decimal places.\n",
        "\n",
        "# Define the equation\n",
        "x = sp.symbols('x')\n",
        "equation = sp.Eq(sp.sin(3 * x), sp.cos(3 * x))\n",
        "\n",
        "# Solve the equation in the domain [0, 2*pi]\n",
        "solutions = sp.solveset(equation, x, domain=sp.Interval(0, 2 * sp.pi))\n",
        "\n",
        "# Convert solutions to numerical values and round to 2 decimal places\n",
        "solutions = [sol.evalf() for sol in solutions]\n",
        "solutions = [round(sol, 2) for sol in solutions]\n",
        "\n",
        "print(f\"Solutions for sin(3*x) = cos(3*x) in the domain [0, 2*pi]: {solutions}\") # Should be  [0.26, 1.31, 2.36, 3.40, 4.45, 5.50]\n",
        "\n",
        "# End of worked example 14"
      ],
      "metadata": {
        "colab": {
          "base_uri": "https://localhost:8080/"
        },
        "id": "sRgAW2E6jChQ",
        "outputId": "2b1cebe0-c16e-4581-d58b-600e909015df"
      },
      "execution_count": null,
      "outputs": [
        {
          "output_type": "stream",
          "name": "stdout",
          "text": [
            "Solutions for sin(3*x) = cos(3*x) in the domain [0, 2*pi]: [0.26, 1.31, 2.36, 3.40, 4.45, 5.50]\n"
          ]
        }
      ]
    },
    {
      "cell_type": "markdown",
      "source": [
        "# Worked Example 15"
      ],
      "metadata": {
        "id": "8CIQE5uxn_7T"
      }
    },
    {
      "cell_type": "code",
      "source": [
        "# Worked example 15\n",
        "\n",
        "# Sketch the graph of the function y = 5*cos(x + pi/4) + 5, in the domain [0, 2*pi]\n",
        "# State the period and amplitude of the function\n",
        "\n",
        "# Define the function\n",
        "def f(x):\n",
        "    return 5 * np.cos(x + np.pi / 4) + 5\n",
        "\n",
        "# Define the domain\n",
        "x = np.linspace(0, 2 * np.pi, 400)\n",
        "y = f(x)\n",
        "\n",
        "# Plot the function\n",
        "plt.figure()\n",
        "plt.plot(x, y, label=r'$y = 5\\cos(x + \\frac{\\pi}{4}) + 5$')\n",
        "plt.xlabel('x')\n",
        "plt.ylabel('y')\n",
        "plt.title('Graph of y = 5*cos(x + pi/4) + 5')\n",
        "\n",
        "# range of x and y\n",
        "plt.xlim(0, 2 * np.pi)\n",
        "plt.ylim(-5, 15)\n",
        "\n",
        "plt.legend()\n",
        "plt.grid(True)\n",
        "plt.show()\n",
        "\n",
        "# State the period and amplitude\n",
        "amplitude = 5\n",
        "period = 2 * np.pi\n",
        "\n",
        "print(f\"The amplitude of the function is {amplitude}\") # Should be 5\n",
        "print(f\"The period of the function is {period}\") # Should be 2*pi = 6.283\n",
        "\n",
        "# End of worked example 15"
      ],
      "metadata": {
        "colab": {
          "base_uri": "https://localhost:8080/",
          "height": 508
        },
        "id": "ih_waJwSjFFI",
        "outputId": "65e4b08b-c81a-474d-bd70-51e859816999"
      },
      "execution_count": null,
      "outputs": [
        {
          "output_type": "display_data",
          "data": {
            "text/plain": [
              "<Figure size 640x480 with 1 Axes>"
            ],
            "image/png": "[encoded data removed]"
          },
          "metadata": {}
        },
        {
          "output_type": "stream",
          "name": "stdout",
          "text": [
            "The amplitude of the function is 5\n",
            "The period of the function is 6.283185307179586\n"
          ]
        }
      ]
    },
    {
      "cell_type": "markdown",
      "source": [
        "# Worked Example 16"
      ],
      "metadata": {
        "id": "4c8859KpoEkK"
      }
    },
    {
      "cell_type": "code",
      "source": [
        "# Worked example 16\n",
        "\n",
        "# Look at the graph of\n",
        "# y = a*sin(n*x) + b\n",
        "# Find the values of a, b, and n\n",
        "\n",
        "# End of worked example 16"
      ],
      "metadata": {
        "id": "jw896AcPjI0p"
      },
      "execution_count": null,
      "outputs": []
    },
    {
      "cell_type": "markdown",
      "source": [
        "# Worked Example 17"
      ],
      "metadata": {
        "id": "R2z4RbbpoK1d"
      }
    },
    {
      "cell_type": "code",
      "source": [
        "# Worked example 17\n",
        "\n",
        "# Look at the graph of\n",
        "# y = a*cos(n*x) + b\n",
        "# Find the values of a, b, and n\n",
        "\n",
        "# End of worked example 17"
      ],
      "metadata": {
        "id": "EjGm8F5By30X"
      },
      "execution_count": null,
      "outputs": []
    },
    {
      "cell_type": "markdown",
      "source": [
        "# Worked Example 18"
      ],
      "metadata": {
        "id": "XH9yokTzsYoM"
      }
    },
    {
      "cell_type": "code",
      "source": [
        "# Worked example 18\n",
        "\n",
        "# None\n",
        "\n",
        "# End of worked example 18"
      ],
      "metadata": {
        "id": "thrQLXHpsg5H"
      },
      "execution_count": null,
      "outputs": []
    },
    {
      "cell_type": "markdown",
      "source": [
        "# Worked Example 19"
      ],
      "metadata": {
        "id": "JwKTaLjxseGc"
      }
    },
    {
      "cell_type": "code",
      "source": [
        "# Worked example 19: Self learning: The graphs of y = tan(a*x)\n",
        "\n",
        "# Sketch the graph of y = tan(6*x) in the domain [-pi, pi]\n",
        "# Sketch the graph of y = tan(x/5) in the domain [0, 10*pi]\n",
        "# Sketch the graph of y = tan(pi*x) in the domain [0, 3]\n",
        "# Sketch the graph of y = tan(pi*x/2) in the domain [-4, 4]\n",
        "# Draw all the graphs in one figure\n",
        "\n",
        "# Define the functions\n",
        "def tan_6x(x):\n",
        "    return np.tan(6 * x)\n",
        "\n",
        "def tan_x_div_5(x):\n",
        "    return np.tan(x / 5)\n",
        "\n",
        "def tan_pi_x(x):\n",
        "    return np.tan(np.pi * x)\n",
        "\n",
        "def tan_pi_x_div_2(x):\n",
        "    return np.tan(np.pi * x / 2)\n",
        "\n",
        "# Define the domains\n",
        "x1 = np.linspace(-np.pi, np.pi, 400)\n",
        "x2 = np.linspace(0, 10 * np.pi, 400)\n",
        "x3 = np.linspace(0, 3, 400)\n",
        "x4 = np.linspace(-4, 4, 400)\n",
        "\n",
        "# Calculate the function values\n",
        "y1 = tan_6x(x1)\n",
        "y2 = tan_x_div_5(x2)\n",
        "y3 = tan_pi_x(x3)\n",
        "y4 = tan_pi_x_div_2(x4)\n",
        "\n",
        "# Plot the functions\n",
        "plt.figure(figsize=(10, 8))\n",
        "\n",
        "# TODO: comment out one or more than one grahps below to make it clear\n",
        "# plt.plot(x1, y1, label=r'$y = \\tan(6x)$')\n",
        "# plt.plot(x2, y2, label=r'$y = \\tan(\\frac{x}{5})$')\n",
        "plt.plot(x3, y3, label=r'$y = \\tan(\\pi x)$')\n",
        "plt.plot(x4, y4, label=r'$y = \\tan(\\frac{\\pi x}{2})$')\n",
        "\n",
        "plt.xlabel('x')\n",
        "plt.ylabel('y')\n",
        "plt.title('Graphs of y = tan(6*x), y = tan(x/5), y = tan(pi*x), y = tan(pi*x/2)')\n",
        "plt.legend()\n",
        "plt.grid(True)\n",
        "plt.ylim(-10, 10)  # Limit y-axis to avoid extreme values\n",
        "\n",
        "plt.show()\n",
        "\n",
        "# TODO Draw each of the graphs in a separate figure and compare the graphs\n",
        "\n",
        "# End of worked example 19"
      ],
      "metadata": {
        "id": "fzJ2qzXAsUhM",
        "colab": {
          "base_uri": "https://localhost:8080/",
          "height": 718
        },
        "outputId": "11ac5067-1e76-456a-d63e-2ce08a57851e"
      },
      "execution_count": null,
      "outputs": [
        {
          "output_type": "display_data",
          "data": {
            "text/plain": [
              "<Figure size 1000x800 with 1 Axes>"
            ],
            "image/png": "[encoded data removed]"
          },
          "metadata": {}
        }
      ]
    },
    {
      "cell_type": "code",
      "source": [],
      "metadata": {
        "id": "k-5Cu5b5jNVC"
      },
      "execution_count": null,
      "outputs": []
    },
    {
      "cell_type": "code",
      "source": [],
      "metadata": {
        "id": "YZc2_VNQjREH"
      },
      "execution_count": null,
      "outputs": []
    },
    {
      "cell_type": "markdown",
      "source": [
        "No Worked example 19"
      ],
      "metadata": {
        "id": "DqVlnwE4jOat"
      }
    },
    {
      "cell_type": "markdown",
      "source": [
        "# Worked Example 20"
      ],
      "metadata": {
        "id": "vK8GnkOdoRcE"
      }
    },
    {
      "cell_type": "code",
      "source": [
        "# None"
      ],
      "metadata": {
        "colab": {
          "base_uri": "https://localhost:8080/"
        },
        "id": "SZzaT9ByjWms",
        "outputId": "6e3744fd-05b4-4388-c003-780c8f30ae90"
      },
      "execution_count": null,
      "outputs": [
        {
          "output_type": "stream",
          "name": "stdout",
          "text": [
            "The roots of the quadratic equation x**2 - 2*x + 2 = 0 are x = (1+1j) and x = (1-1j)\n"
          ]
        }
      ]
    }
  ]
}