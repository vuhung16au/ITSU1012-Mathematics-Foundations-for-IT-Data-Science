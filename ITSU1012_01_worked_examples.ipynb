{
  "nbformat": 4,
  "nbformat_minor": 0,
  "metadata": {
    "colab": {
      "provenance": [],
      "toc_visible": true,
      "collapsed_sections": [
        "4185_inEkAIQ",
        "aawpWC85kJ6o"
      ]
    },
    "kernelspec": {
      "name": "python3",
      "display_name": "Python 3"
    },
    "language_info": {
      "name": "python"
    }
  },
  "cells": [
    {
      "cell_type": "markdown",
      "source": [
        "# RUN ME FIRST!"
      ],
      "metadata": {
        "id": "kVvTMl6sKAnO"
      }
    },
    {
      "cell_type": "code",
      "source": [
        "# Import the packages required for the module\n",
        "\n",
        "import math\n",
        "import cmath"
      ],
      "metadata": {
        "id": "Li27ADqoKFBw"
      },
      "execution_count": null,
      "outputs": []
    },
    {
      "cell_type": "markdown",
      "source": [
        "# Introduction (Please read & run me first)"
      ],
      "metadata": {
        "id": "vtNMFXVtgyBG"
      }
    },
    {
      "cell_type": "code",
      "execution_count": null,
      "metadata": {
        "colab": {
          "base_uri": "https://localhost:8080/",
          "height": 916
        },
        "id": "paJUpmI9h0jD",
        "outputId": "644092be-01e1-4b35-e3fc-5c5ee3f31f52"
      },
      "outputs": [
        {
          "output_type": "stream",
          "name": "stdout",
          "text": [
            "The complex number is: \n",
            "(3+4j)\n",
            "The real part of the complex number is: \n",
            "3.0\n",
            "The imaginary part of the complex number is: \n",
            "4.0\n",
            "The conjugate of the complex number is: \n",
            "(3-4j)\n",
            "The magnitude / absolute value of the complex number is: \n",
            "5.0\n",
            "The phase (argument) of the complex number is: \n",
            "0.9272952180016122\n",
            "The polar coordinates of the complex number are: \n",
            "(5.0, 0.9272952180016122)\n"
          ]
        },
        {
          "output_type": "display_data",
          "data": {
            "text/plain": [
              "<Figure size 640x480 with 1 Axes>"
            ],
            "image/png": "[encoded data removed]"
          },
          "metadata": {}
        },
        {
          "output_type": "stream",
          "name": "stdout",
          "text": [
            "(3.061616997868383e-16+5j)\n",
            "(-13.128783081462158-15.200784463067954j)\n",
            "(1.6094379124341003+0.9272952180016122j)\n",
            "(2+1j)\n",
            "(3.853738037919377-27.016813258003932j)\n",
            "(-27.034945603074224-3.851153334811777j)\n",
            "(-0.0001873462046294784+0.999355987381473j)\n",
            "(0.6339838656391766+2.305509031243477j)\n",
            "(0.9368124611557198-2.305509031243477j)\n",
            "(1.4483069952314644+0.15899719167999918j)\n",
            "(-6.5481200409110025-7.61923172032141j)\n",
            "(-6.580663040551157-7.581552742746545j)\n",
            "(1.000709536067233+0.00490825806749606j)\n",
            "(2.2999140408792695+0.9176168533514787j)\n"
          ]
        }
      ],
      "source": [
        "\n",
        "# Demonstrate basic use of complex numbers in Python\n",
        "\n",
        "# Create a complex number\n",
        "c = 3 + 4j\n",
        "\n",
        "# Print the complex number\n",
        "print(\"The complex number is: \")\n",
        "print(c)\n",
        "\n",
        "# Print the real part of the complex number\n",
        "print(\"The real part of the complex number is: \")\n",
        "print(c.real)\n",
        "\n",
        "# Print the imaginary part of the complex number\n",
        "print(\"The imaginary part of the complex number is: \")\n",
        "print(c.imag)\n",
        "\n",
        "# Print the conjugate of the complex number\n",
        "print(\"The conjugate of the complex number is: \")\n",
        "print(c.conjugate())\n",
        "\n",
        "# Print the magnitude of the complex number\n",
        "print(\"The magnitude / absolute value of the complex number is: \")\n",
        "print(abs(c))\n",
        "\n",
        "# Print the phase (argument) of the complex number\n",
        "import cmath\n",
        "print(\"The phase (argument) of the complex number is: \")\n",
        "print(cmath.phase(c))\n",
        "\n",
        "# Print the polar coordinates of the complex number\n",
        "print(\"The polar coordinates of the complex number are: \")\n",
        "print(cmath.polar(c))\n",
        "\n",
        "# Draw the complex number c on the complex plane\n",
        "import matplotlib.pyplot as plt\n",
        "plt.plot(c.real, c.imag, 'ro')\n",
        "plt.axhline(y=0, color='k')\n",
        "plt.axvline(x=0, color='k')\n",
        "plt.grid()\n",
        "plt.axis('equal')\n",
        "plt.show()\n",
        "\n",
        "# Print the rectangular coordinates of the complex number\n",
        "print(cmath.rect(5, cmath.pi/2))\n",
        "\n",
        "# Print the exponential of the complex number\n",
        "print(cmath.exp(c))\n",
        "\n",
        "# Print the natural logarithm of the complex number\n",
        "print(cmath.log(c))\n",
        "\n",
        "# Print the square root of the complex number\n",
        "print(cmath.sqrt(c))\n",
        "\n",
        "# Print the sine of the complex number\n",
        "print(cmath.sin(c))\n",
        "\n",
        "# Print the cosine of the complex number\n",
        "print(cmath.cos(c))\n",
        "\n",
        "# Print the tangent of the complex number\n",
        "print(cmath.tan(c))\n",
        "\n",
        "# Print the inverse sine of the complex number\n",
        "print(cmath.asin(c))\n",
        "\n",
        "# Print the inverse cosine of the complex number\n",
        "print(cmath.acos(c))\n",
        "\n",
        "# Print the inverse tangent of the complex number\n",
        "\n",
        "print(cmath.atan(c))\n",
        "\n",
        "# Print the hyperbolic sine of the complex number\n",
        "print(cmath.sinh(c))\n",
        "\n",
        "# Print the hyperbolic cosine of the complex number\n",
        "print(cmath.cosh(c))\n",
        "\n",
        "# Print the hyperbolic tangent of the complex number\n",
        "print(cmath.tanh(c))\n",
        "\n",
        "# Print the inverse hyperbolic sine of the complex number\n",
        "print(cmath.asinh(c))"
      ]
    },
    {
      "cell_type": "markdown",
      "source": [
        "# Worked Example 1"
      ],
      "metadata": {
        "id": "4185_inEkAIQ"
      }
    },
    {
      "cell_type": "code",
      "source": [
        "# Worked Example 1: Calculate the square root of a complex number\n",
        "\n",
        "# Using the imaginary unit j, write dow an expression for sqrt(-16)\n",
        "# The square root of -16 is the same as the square root of 16 times the square root of -1\n",
        "# The square root of 16 is 4, and the square root of -1 is j\n",
        "# Therefore, the square root of -16 is 4j\n",
        "\n",
        "z = cmath.sqrt(-16)\n",
        "print(\"The square root of -16 is: \")\n",
        "print(z)\n",
        "\n",
        "z = cmath.sqrt(-5)\n",
        "print(\"The square root of -5 is: \")\n",
        "print(z)\n"
      ],
      "metadata": {
        "colab": {
          "base_uri": "https://localhost:8080/"
        },
        "id": "CZzrjZI4iHeq",
        "outputId": "d1c8b293-d666-437b-b4fc-e4db7750f222"
      },
      "execution_count": null,
      "outputs": [
        {
          "output_type": "stream",
          "name": "stdout",
          "text": [
            "The square root of -16 is: \n",
            "4j\n",
            "The square root of -5 is: \n",
            "2.23606797749979j\n"
          ]
        }
      ]
    },
    {
      "cell_type": "markdown",
      "source": [
        "# Worked Example 2"
      ],
      "metadata": {
        "id": "aawpWC85kJ6o"
      }
    },
    {
      "cell_type": "code",
      "source": [
        "# Worked example 2:\n",
        "# Write the the real part and imaginary part of the complex numbers\n",
        "\n",
        "z = -3 + 2j\n",
        "print(\"The real part of the complex number is: \")\n",
        "print(z.real)\n",
        "print(\"The imaginary part of the complex number is: \")\n",
        "print(z.imag)\n",
        "z = -0.5j\n",
        "print(\"The real part of the complex number is: \")\n",
        "print(z.real)\n",
        "print(\"The imaginary part of the complex number is: \")\n",
        "print(z.imag)\n",
        "\n",
        "z = 1 - 2j\n",
        "print(\"The real part of the complex number is: \")\n",
        "print(z.real)\n",
        "print(\"The imaginary part of the complex number is: \")\n",
        "print(z.imag)\n"
      ],
      "metadata": {
        "colab": {
          "base_uri": "https://localhost:8080/"
        },
        "id": "0VlVLLXniQgN",
        "outputId": "c7f094b1-284a-4eb1-d69d-05a42298c10d"
      },
      "execution_count": null,
      "outputs": [
        {
          "output_type": "stream",
          "name": "stdout",
          "text": [
            "The real part of the complex number is: \n",
            "-3.0\n",
            "The imaginary part of the complex number is: \n",
            "2.0\n",
            "The real part of the complex number is: \n",
            "-0.0\n",
            "The imaginary part of the complex number is: \n",
            "-0.5\n",
            "The real part of the complex number is: \n",
            "1.0\n",
            "The imaginary part of the complex number is: \n",
            "-2.0\n"
          ]
        }
      ]
    },
    {
      "cell_type": "markdown",
      "source": [
        "# Worked Example 3"
      ],
      "metadata": {
        "id": "Zn9mS-FYkcV3"
      }
    },
    {
      "cell_type": "code",
      "source": [
        "# Worked example 3:\n",
        "# Write the complex number in form of x + iy\n",
        "\n",
        "z = (1j)**8 + (1j)**5\n",
        "print(\"The simplified form of the complex number 1j**8 + 1j**5 is: \")\n",
        "print(z)"
      ],
      "metadata": {
        "colab": {
          "base_uri": "https://localhost:8080/"
        },
        "id": "270-DfkyiXTz",
        "outputId": "3f96b417-2064-4f7c-a870-c6aa27afc21c"
      },
      "execution_count": null,
      "outputs": [
        {
          "output_type": "stream",
          "name": "stdout",
          "text": [
            "The simplified form of the complex number 1j**8 + 1j**5 is: \n",
            "(1+1j)\n"
          ]
        }
      ]
    },
    {
      "cell_type": "markdown",
      "source": [
        "# Worked Example 4"
      ],
      "metadata": {
        "id": "SsQ-FUlJkjNs"
      }
    },
    {
      "cell_type": "code",
      "source": [
        "# Worked example 4:\n",
        "# Simplify the complex number\n",
        "z = (1j)**4 - 2*(1j**2) + 1\n",
        "w = (1j)**6 - 3*(1j**4) + 3*(1j**2) - 1\n",
        "print(\"The simplified form of the complex number 1j**4 - 2j**2 + 1 is: \")\n",
        "print(z) # should be 4\n",
        "print(\"The simplified form of the complex number 1j*6 - 3j**4 + 3j**2 - 1 is: \")\n",
        "print(w) # shoud be -8\n",
        "print(\"The sum of the two complex numbers z + w is: \")\n",
        "print(z + w) # should be -4"
      ],
      "metadata": {
        "colab": {
          "base_uri": "https://localhost:8080/"
        },
        "id": "luSjsJzRib1c",
        "outputId": "e8621d71-f5ae-4921-cac8-0fc7dcd7422c"
      },
      "execution_count": null,
      "outputs": [
        {
          "output_type": "stream",
          "name": "stdout",
          "text": [
            "The simplified form of the complex number 1j**4 - 2j**2 + 1 is: \n",
            "(4+0j)\n",
            "The simplified form of the complex number 1j*6 - 3j**4 + 3j**2 - 1 is: \n",
            "(-8+0j)\n",
            "The sum of the two complex numbers z + w is: \n",
            "(-4+0j)\n"
          ]
        }
      ]
    },
    {
      "cell_type": "markdown",
      "source": [
        "# Worked Example 5"
      ],
      "metadata": {
        "id": "OVMxCp6rkobp"
      }
    },
    {
      "cell_type": "code",
      "source": [
        "# Worked example 5:\n",
        "\n",
        "z = 7 + 6j\n",
        "print(\"The real part of z is: \")\n",
        "print(z.real)\n",
        "\n",
        "z = 10 + 0j\n",
        "print(\"The imaginary part of z is: \")\n",
        "print(z.imag)\n",
        "\n",
        "z = 2 + 1j - 3*(1j)**3\n",
        "print(\"The simplified form of the complex number 2 + j - 3j**3 is: \")\n",
        "print(z)\n",
        "print(\"The real part of the complex number is: \")\n",
        "print(z.real)\n",
        "\n",
        "z = (1 - 3j - (1j)**2 - (1j)**3)/2\n",
        "print(\"The simplified form of the complex number (1 - 3j - j**2 - j**3)/2 is: \")\n",
        "print(z)\n",
        "print(\"The imaginary part of the complex number is: \")\n",
        "print(z.imag)\n"
      ],
      "metadata": {
        "colab": {
          "base_uri": "https://localhost:8080/"
        },
        "id": "ZaWXE3jBif86",
        "outputId": "3ca674a2-4fe3-4b31-fefc-a58e7419d482"
      },
      "execution_count": null,
      "outputs": [
        {
          "output_type": "stream",
          "name": "stdout",
          "text": [
            "The real part of z is: \n",
            "7.0\n",
            "The imaginary part of z is: \n",
            "0.0\n",
            "The simplified form of the complex number 2 + j - 3j**3 is: \n",
            "(2+4j)\n",
            "The real part of the complex number is: \n",
            "2.0\n",
            "The simplified form of the complex number (1 - 3j - j**2 - j**3)/2 is: \n",
            "(1-1j)\n",
            "The imaginary part of the complex number is: \n",
            "-1.0\n"
          ]
        }
      ]
    },
    {
      "cell_type": "markdown",
      "source": [
        "# Worked Example 6"
      ],
      "metadata": {
        "id": "11cHJDGkkxFh"
      }
    },
    {
      "cell_type": "code",
      "source": [
        "# Worked example 6:\n",
        "\n",
        "print(\"Worked example 6\")\n",
        "z = 8  + 7j\n",
        "w = -12 + 5j\n",
        "u = 1 + 2j\n",
        "\n",
        "# Calculate and simplify the following expression\n",
        "\n",
        "# z + w\n",
        "print(\"The sum of z and w is: \")\n",
        "print(z + w)\n",
        "print(\"w - z is: \")\n",
        "print(w - z)\n",
        "print(\"u - w + z is: \")\n",
        "print(u - w + z)"
      ],
      "metadata": {
        "colab": {
          "base_uri": "https://localhost:8080/"
        },
        "id": "vnqa2hooikMt",
        "outputId": "50ab4758-b546-488a-f5ac-697ebf6d967f"
      },
      "execution_count": null,
      "outputs": [
        {
          "output_type": "stream",
          "name": "stdout",
          "text": [
            "Worked example 6\n",
            "The sum of z and w is: \n",
            "(-4+12j)\n",
            "w - z is: \n",
            "(-20-2j)\n",
            "u - w + z is: \n",
            "(21+4j)\n"
          ]
        }
      ]
    },
    {
      "cell_type": "markdown",
      "source": [
        "# Worked Example 7"
      ],
      "metadata": {
        "id": "MTpN7O8DnOT9"
      }
    },
    {
      "cell_type": "code",
      "source": [
        "# Worked example 7:\n",
        "\n",
        "print(\"Worked example 7\")\n",
        "z = 3 + 5j\n",
        "w = 4 - 2j\n",
        "v = 6 + 10j\n",
        "\n",
        "# +, - , *, /, ** operations in Python\n",
        "\n",
        "# Calculate and simplify the following expression\n",
        "print(\" 3z + w is: \")\n",
        "print(3*z + w)\n",
        "print(\"2z - v is: \")\n",
        "print(2*z - v)\n",
        "print(\"4z - 3w + 2v is: \")\n",
        "print(4*z - 3*w + 2*v)\n"
      ],
      "metadata": {
        "colab": {
          "base_uri": "https://localhost:8080/"
        },
        "id": "084EqP1xinE1",
        "outputId": "9f19fa03-91ef-4257-8824-58b9c8ef55ff"
      },
      "execution_count": null,
      "outputs": [
        {
          "output_type": "stream",
          "name": "stdout",
          "text": [
            "Worked example 7\n",
            " 3z + w is: \n",
            "(13+13j)\n",
            "2z - v is: \n",
            "0j\n",
            "4z - 3w + 2v is: \n",
            "(12+46j)\n"
          ]
        }
      ]
    },
    {
      "cell_type": "markdown",
      "source": [
        "# Worked Example 8"
      ],
      "metadata": {
        "id": "7atyfWqknXGv"
      }
    },
    {
      "cell_type": "code",
      "source": [
        "# Worked example 8:\n",
        "\n",
        "print(\"Worked example 8\")\n",
        "z = 6 - 2j\n",
        "w = 3 + 4j\n",
        "\n",
        "# Express \"zw\" in the form x + iy\n",
        "print(\"The product of z and w is: \")\n",
        "print(z*w)\n"
      ],
      "metadata": {
        "colab": {
          "base_uri": "https://localhost:8080/"
        },
        "id": "q4hbBlQ6iqXW",
        "outputId": "448fec66-49ce-4214-f5fb-5d4f49a91942"
      },
      "execution_count": null,
      "outputs": [
        {
          "output_type": "stream",
          "name": "stdout",
          "text": [
            "Worked example 8\n",
            "The product of z and w is: \n",
            "(26+18j)\n"
          ]
        }
      ]
    },
    {
      "cell_type": "markdown",
      "source": [
        "# Worked Example 9"
      ],
      "metadata": {
        "id": "6aoJ9ifinaMw"
      }
    },
    {
      "cell_type": "code",
      "source": [
        "# Worked example 9:\n",
        "print(\"Worked example 9\")\n",
        "\n",
        "# Simplify the following expression\n",
        "z = (2 - 3j)*(2 + 3j)\n",
        "# z = (2.5 - 3.1j)*(2.5 + 3.1j)\n",
        "print(\"The product of (2 - 3j)(2 + 3j) is: \")\n",
        "print(z)\n",
        "\n",
        "# Try this\n",
        "# print(z.__abs__())\n",
        "\n",
        "# Try this\n",
        "# print(abs(z))\n",
        "\n",
        "\n",
        "\n"
      ],
      "metadata": {
        "colab": {
          "base_uri": "https://localhost:8080/"
        },
        "id": "cDiC4kvfitRq",
        "outputId": "805fc833-93a5-48dc-f6f3-aaceac285c38"
      },
      "execution_count": null,
      "outputs": [
        {
          "output_type": "stream",
          "name": "stdout",
          "text": [
            "Worked example 9\n",
            "The product of (2 - 3j)(2 + 3j) is: \n",
            "(15.860000000000001+0j)\n",
            "15.860000000000001\n",
            "15.860000000000001\n"
          ]
        }
      ]
    },
    {
      "cell_type": "markdown",
      "source": [
        "# Worked Example 10"
      ],
      "metadata": {
        "id": "OI-1hEQenfcJ"
      }
    },
    {
      "cell_type": "code",
      "source": [
        "# Worked example 10:\n",
        "print(\"Worked example 10\")\n",
        "\n",
        "z = 4 + 1j\n",
        "w = 3 -1j\n",
        "\n",
        "l = z*z*w\n",
        "m = z*w*w\n",
        "\n",
        "k = l.real + m.imag\n",
        "print(\" Re(z^2w) + Im(zw^2) is: \")\n",
        "print(k) # should be 37\n"
      ],
      "metadata": {
        "colab": {
          "base_uri": "https://localhost:8080/"
        },
        "id": "L0z2AL2JiwZ4",
        "outputId": "c0141b07-04b7-421f-e504-f6133dc63390"
      },
      "execution_count": null,
      "outputs": [
        {
          "output_type": "stream",
          "name": "stdout",
          "text": [
            "Worked example 10\n",
            " Re(z^2w) + Im(zw^2) is: \n",
            "37.0\n"
          ]
        }
      ]
    },
    {
      "cell_type": "markdown",
      "source": [
        "# Worked Example 11"
      ],
      "metadata": {
        "id": "7E2ZqD3enwBb"
      }
    },
    {
      "cell_type": "code",
      "source": [
        "# Worked example 11:\n",
        "print(\"Worked example 11\")\n",
        "\n",
        "# Find the value of x and y that satify the equation:\n",
        "# (3 + 4j)*(x + yj) = 29 + 22j\n",
        "# that means, find a complex number k = x + yj such that z = (29 + 22j)/(3 + 4j)\n",
        "# that is, find x and y such that 3x - 4y = 29 and 4x + 3y = 22\n",
        "\n",
        "z = 3 + 4j\n",
        "w = 29 + 22j\n",
        "\n",
        "k = w/z\n",
        "\n",
        "x = k.real\n",
        "y = k.imag\n",
        "\n",
        "print(\"The value of x is: \")\n",
        "print(x)\n",
        "print(\"The value of y is: \")\n",
        "print(y)\n"
      ],
      "metadata": {
        "colab": {
          "base_uri": "https://localhost:8080/"
        },
        "id": "UZUbsx_Ai0uK",
        "outputId": "33e7dc97-00ac-4d6e-ddec-b48146e515f7"
      },
      "execution_count": null,
      "outputs": [
        {
          "output_type": "stream",
          "name": "stdout",
          "text": [
            "Worked example 11\n",
            "The value of x is: \n",
            "7.0\n",
            "The value of y is: \n",
            "-2.0\n"
          ]
        }
      ]
    },
    {
      "cell_type": "markdown",
      "source": [
        "# Worked Example 12"
      ],
      "metadata": {
        "id": "-I5KjyCdnyf_"
      }
    },
    {
      "cell_type": "code",
      "source": [
        "# Worked example 12:\n",
        "\n",
        "print(\"Worked example 12\")\n",
        "print(\"The conjugate of 8 + 5j is: \")\n",
        "print((8 + 5j).conjugate())\n",
        "\n",
        "print(\"The conjugate of -2 - 3j is: \")\n",
        "print((-2 - 3j).conjugate())\n",
        "\n",
        "print(\"The conjugate of 4 + sqrt(5)*j is: \")\n",
        "print((4 + cmath.sqrt(5)*1j).conjugate())\n",
        "\n",
        "z = 8 + 5j\n",
        "print(z.conjugate())\n",
        "\n"
      ],
      "metadata": {
        "colab": {
          "base_uri": "https://localhost:8080/"
        },
        "id": "gsrgAeQui5dl",
        "outputId": "299723d1-237c-4dd5-ae6b-35efaa3c1f7a"
      },
      "execution_count": null,
      "outputs": [
        {
          "output_type": "stream",
          "name": "stdout",
          "text": [
            "Worked example 12\n",
            "The conjugate of 8 + 5j is: \n",
            "(8-5j)\n",
            "The conjugate of -2 - 3j is: \n",
            "(-2+3j)\n",
            "The conjugate of 4 + sqrt(5)*j is: \n",
            "(4-2.23606797749979j)\n",
            "(8-5j)\n"
          ]
        }
      ]
    },
    {
      "cell_type": "markdown",
      "source": [
        "# Worked Example 13"
      ],
      "metadata": {
        "id": "OsmK-p0Hn03X"
      }
    },
    {
      "cell_type": "code",
      "source": [
        "# Worked example 13:\n",
        "print(\"Worked example 13\")\n",
        "\n",
        "z = 5 - 2j\n",
        "w = 7 - 1j\n",
        "\n",
        "# verify the following properties of the conjugate of complex numbers\n",
        "\n",
        "l = z + w\n",
        "print(z, w, l)\n",
        "\n",
        "print(\"The conjugate of the sum of z and w (l) is: \")\n",
        "print(l.conjugate())\n",
        "print(\"The conjugate of z and w are: \")\n",
        "print(z.conjugate())\n",
        "print(w.conjugate())\n",
        "\n",
        "if (l.conjugate() == (z.conjugate() + w.conjugate())):\n",
        "    print(\"The property is valid\")\n",
        "\n",
        "print(\"Validate the property: \")\n",
        "print(l.conjugate() - z.conjugate() - w.conjugate())"
      ],
      "metadata": {
        "colab": {
          "base_uri": "https://localhost:8080/"
        },
        "id": "anvqbtRHi92w",
        "outputId": "e705abd1-0c0d-40aa-c013-88498ec08363"
      },
      "execution_count": null,
      "outputs": [
        {
          "output_type": "stream",
          "name": "stdout",
          "text": [
            "Worked example 13\n",
            "(5-2j) (7-1j) (12-3j)\n",
            "The conjugate of the sum of z and w (l) is: \n",
            "(12+3j)\n",
            "The conjugate of z and w are: \n",
            "(5+2j)\n",
            "(7+1j)\n",
            "The property is valid\n",
            "Validate the property: \n",
            "0j\n"
          ]
        }
      ]
    },
    {
      "cell_type": "markdown",
      "source": [
        "# Worked Example 14"
      ],
      "metadata": {
        "id": "X5Joc6Idn20W"
      }
    },
    {
      "cell_type": "markdown",
      "source": [],
      "metadata": {
        "id": "r4gdCdsbn4-y"
      }
    },
    {
      "cell_type": "code",
      "source": [
        "# Worked example 14:\n",
        "\n",
        "print(\"Worked example 14\")\n",
        "\n",
        "# Express (2 + 1j)/(2 - 1j) in the form x + iy\n",
        "\n",
        "# ref. https://www.wolframalpha.com/input?i2d=true&i=Express+Divide%5B%5C%2840%292+%2B+i%5C%2841%29%2C%5C%2840%292+-+i%5C%2841%29%5D+in+the+form+x+%2B+iy\n",
        "\n",
        "z = (2 + 1j)/(2 - 1j)\n",
        "print(z)"
      ],
      "metadata": {
        "colab": {
          "base_uri": "https://localhost:8080/"
        },
        "id": "sRgAW2E6jChQ",
        "outputId": "e7bf93a0-86da-4328-fe1f-613af076b557"
      },
      "execution_count": null,
      "outputs": [
        {
          "output_type": "stream",
          "name": "stdout",
          "text": [
            "Worked example 14\n",
            "(0.6+0.8j)\n"
          ]
        }
      ]
    },
    {
      "cell_type": "markdown",
      "source": [
        "# Worked Example 15"
      ],
      "metadata": {
        "id": "8CIQE5uxn_7T"
      }
    },
    {
      "cell_type": "code",
      "source": [
        "# Worked example 15:\n",
        "print(\"Worked example 15\")\n",
        "\n",
        "z = 3 + 4j\n",
        "\n",
        "# Determine z**(-1) (1/z)\n",
        "# https://www.wolframalpha.com/input?i2d=true&i=if+z+%3D+3%2B4i%5C%2844%29+determine+Power%5Bz%2C-1%5D\n",
        "\n",
        "w = 1/z\n",
        "print(\"The inverse of z is: \")\n",
        "print(w)\n",
        "print(1/z)"
      ],
      "metadata": {
        "colab": {
          "base_uri": "https://localhost:8080/"
        },
        "id": "ih_waJwSjFFI",
        "outputId": "2ed68338-7a33-4331-fa9a-7cd498df133c"
      },
      "execution_count": null,
      "outputs": [
        {
          "output_type": "stream",
          "name": "stdout",
          "text": [
            "Worked example 15\n",
            "The inverse of z is: \n",
            "(0.12-0.16j)\n",
            "(0.12-0.16j)\n"
          ]
        }
      ]
    },
    {
      "cell_type": "markdown",
      "source": [
        "# Worked Example 16"
      ],
      "metadata": {
        "id": "4c8859KpoEkK"
      }
    },
    {
      "cell_type": "code",
      "source": [
        "# Worked example 16:\n",
        "# https://www.mathgptpro.com/app/session?u=70b26b66-da35-453a-b819-c4f6b42f00fb1725790072829&p=1\n",
        "\n",
        "print(\"Worked example 16\")\n",
        "z = 3 + 1j\n",
        "w = 2/(4 - 1j)\n",
        "\n",
        "# Determine Im (4z - w)\n",
        "l = 4*z - w\n",
        "print(\"The imaginary part of 4z - w is: \")\n",
        "print(l.imag) # should be 3.8823529411764706 ~ (66/17)\n",
        "\n"
      ],
      "metadata": {
        "colab": {
          "base_uri": "https://localhost:8080/"
        },
        "id": "jw896AcPjI0p",
        "outputId": "f83a3e3d-9444-4c8e-b690-2e5baa4fdbc5"
      },
      "execution_count": null,
      "outputs": [
        {
          "output_type": "stream",
          "name": "stdout",
          "text": [
            "Worked example 16\n",
            "The imaginary part of 4z - w is: \n",
            "3.8823529411764706\n"
          ]
        }
      ]
    },
    {
      "cell_type": "markdown",
      "source": [
        "# Worked Example 17 & 18"
      ],
      "metadata": {
        "id": "R2z4RbbpoK1d"
      }
    },
    {
      "cell_type": "code",
      "source": [],
      "metadata": {
        "id": "k-5Cu5b5jNVC"
      },
      "execution_count": null,
      "outputs": []
    },
    {
      "cell_type": "code",
      "source": [
        "# Worked example 17 and 18\n",
        "print(\"Worked example 17 and 18\")\n",
        "\n",
        "z = 8 - 6j\n",
        "\n",
        "# Find the modules of z\n",
        "print(\"The magnitude of z is: \")\n",
        "print(abs(z))\n",
        "print(z.__abs__())\n",
        "\n",
        "z = 4 + 2j\n",
        "w = 7 + 6j\n",
        "\n",
        "# Plot the position of w -z on and Argrand diagram\n",
        "import matplotlib.pyplot as plt\n",
        "plt.plot(z.real, z.imag, 'ro')\n",
        "plt.plot(w.real, w.imag, 'bo')\n",
        "plt.plot((w - z).real, (w - z).imag, 'go')\n",
        "\n",
        "plt.axhline(y=0, color='k')\n",
        "plt.axvline(x=0, color='k')\n",
        "plt.grid()\n",
        "plt.axis('equal')\n",
        "plt.show()\n",
        "\n",
        "print(\"The position of w - z on the Argand diagram is: \")\n",
        "\n",
        "# and calculate the magnitude of w - z ( |w - z| )\n",
        "\n",
        "l = w - z\n",
        "print(\"The magnitude of w - z is: \")\n",
        "print(abs(l))"
      ],
      "metadata": {
        "colab": {
          "base_uri": "https://localhost:8080/",
          "height": 552
        },
        "id": "YZc2_VNQjREH",
        "outputId": "a0b3fc29-2e6c-4bb2-9cdb-2f29460a024f"
      },
      "execution_count": null,
      "outputs": [
        {
          "output_type": "stream",
          "name": "stdout",
          "text": [
            "Worked example 17 and 18\n",
            "The magnitude of z is: \n",
            "10.0\n",
            "10.0\n"
          ]
        },
        {
          "output_type": "display_data",
          "data": {
            "text/plain": [
              "<Figure size 640x480 with 1 Axes>"
            ],
            "image/png": "[encoded data removed]"
          },
          "metadata": {}
        },
        {
          "output_type": "stream",
          "name": "stdout",
          "text": [
            "The position of w - z on the Argand diagram is: \n",
            "The magnitude of w - z is: \n",
            "5.0\n"
          ]
        }
      ]
    },
    {
      "cell_type": "markdown",
      "source": [
        "No Worked example 19"
      ],
      "metadata": {
        "id": "DqVlnwE4jOat"
      }
    },
    {
      "cell_type": "markdown",
      "source": [
        "# Worked Example 20"
      ],
      "metadata": {
        "id": "vK8GnkOdoRcE"
      }
    },
    {
      "cell_type": "code",
      "source": [
        "# Worked example 20\n",
        "\n",
        "z = 4 + 4j\n",
        "# Find the argument of z in the interval [0, 2pi]\n",
        "# https://www.mathgptpro.com/share?u=70b26b66-da35-453a-b819-c4f6b42f00fb1725790072829\n",
        "print(\"The argument of z in the interval [0, 2pi] is: \")\n",
        "print(cmath.phase(z)) # should be pi/4 ~ 0.7853981633974483\n",
        "\n",
        "z = 1 - cmath.sqrt(3)*1j\n",
        "# Find the argument of z in the interval [0, 2pi]\n",
        "print(\"The argument of z in the interval [0, 2pi] is: \")\n",
        "print(cmath.phase(z)) # should be 5pi/3 ~ 2.0943951023931953\n",
        "\n",
        "z1 = 4 + 4j\n",
        "z2 = 1 - cmath.sqrt(3)*1j\n",
        "# Plot the position of w -z on and Argrand diagram\n",
        "import matplotlib.pyplot as plt\n",
        "plt.plot(z1.real, z1.imag, 'ro')\n",
        "plt.plot(z2.real, z2.imag, 'bo')\n",
        "\n",
        "plt.axhline(y=0, color='k')\n",
        "plt.axvline(x=0, color='k')\n",
        "plt.grid()\n",
        "plt.axis('equal')\n",
        "plt.show()"
      ],
      "metadata": {
        "colab": {
          "base_uri": "https://localhost:8080/",
          "height": 499
        },
        "id": "SZzaT9ByjWms",
        "outputId": "bba02b4c-085f-4596-97ff-e019101c21b0"
      },
      "execution_count": null,
      "outputs": [
        {
          "output_type": "stream",
          "name": "stdout",
          "text": [
            "The argument of z in the interval [0, 2pi] is: \n",
            "0.7853981633974483\n",
            "The argument of z in the interval [0, 2pi] is: \n",
            "-1.0471975511965976\n"
          ]
        },
        {
          "output_type": "display_data",
          "data": {
            "text/plain": [
              "<Figure size 640x480 with 1 Axes>"
            ],
            "image/png": "[encoded data removed]"
          },
          "metadata": {}
        }
      ]
    },
    {
      "cell_type": "markdown",
      "source": [
        "# Worked Example 21\n",
        "\n"
      ],
      "metadata": {
        "id": "0Eookj4Qoc8p"
      }
    },
    {
      "cell_type": "code",
      "source": [
        "# Workded Example 21\n",
        "print(\"Worked example 21\")\n",
        "\n",
        "def normalize_angle(x):\n",
        "    # Normalize the angle to the range (-pi, pi]\n",
        "    return (x + math.pi) % (2 * math.pi) - math.pi\n",
        "\n",
        "# Example usage\n",
        "# x = -5 * math.pi / 2\n",
        "# normalized_x = normalize_angle(x)\n",
        "# print(normalized_x)\n",
        "\n",
        "# Convert to arguments\n",
        "import math\n",
        "angle1 = 7*math.pi/4\n",
        "print(\"Normalized angle1 is: \")\n",
        "print(normalize_angle(angle1)) # should be -math.pi/4 ~ -0.7853981633974483\n",
        "\n",
        "angle2 = -5*math.pi/2\n",
        "print(\"Normalized angle2 is: \")\n",
        "print(normalize_angle(angle2)) # should be -math.pi/2 ~ -1.5707963267948966"
      ],
      "metadata": {
        "colab": {
          "base_uri": "https://localhost:8080/"
        },
        "id": "O02IFIyWjeU8",
        "outputId": "b98a2e65-47d7-4a7a-9fea-b908bec7302d"
      },
      "execution_count": null,
      "outputs": [
        {
          "output_type": "stream",
          "name": "stdout",
          "text": [
            "Worked example 21\n",
            "Normalized angle1 is: \n",
            "-0.7853981633974492\n",
            "Normalized angle2 is: \n",
            "-1.5707963267948966\n"
          ]
        }
      ]
    },
    {
      "cell_type": "markdown",
      "source": [
        "# Worked Example 22"
      ],
      "metadata": {
        "id": "QKpiWynholFp"
      }
    },
    {
      "cell_type": "code",
      "source": [
        "# Worked example 22\n",
        "print(\"Worked example 22\")\n",
        "\n",
        "z1 = math.sqrt(3) + 1j\n",
        "z2 = -1 - math.sqrt(2)*1j\n",
        "\n",
        "# Find the modulus of z1 and z2\n",
        "print(\"The modulus of z1 is: \")\n",
        "print(abs(z1)) # should be 2\n",
        "print(\"The modulus of z2 is: \")\n",
        "print(abs(z2)) # should be 2.23606797749979\n",
        "\n",
        "# Find the argument of z1 and z2 in the interval [0, 2pi]\n",
        "print(\"The argument of z1 in the interval [-pi, pi] is: \")\n",
        "print(normalize_angle(cmath.phase(z1))) # should be pi/6 ~ 0.5235987755982991\n",
        "print(\"The argument of z2 in the interval [-pi, pi] is: \")\n",
        "print(normalize_angle(cmath.phase(z2))) # should be -2.186276035465284\n"
      ],
      "metadata": {
        "colab": {
          "base_uri": "https://localhost:8080/"
        },
        "id": "aOd_T4RqjiAi",
        "outputId": "8df76ab5-6f42-4687-f7da-7bb49e90245a"
      },
      "execution_count": null,
      "outputs": [
        {
          "output_type": "stream",
          "name": "stdout",
          "text": [
            "Worked example 22\n",
            "The modulus of z1 is: \n",
            "2.0\n",
            "The modulus of z2 is: \n",
            "1.7320508075688774\n",
            "The argument of z1 in the interval [-pi, pi] is: \n",
            "0.5235987755982991\n",
            "The argument of z2 in the interval [-pi, pi] is: \n",
            "-2.186276035465284\n"
          ]
        }
      ]
    },
    {
      "cell_type": "markdown",
      "source": [
        "# Worked Example 23"
      ],
      "metadata": {
        "id": "0jsixbj8ooAn"
      }
    },
    {
      "cell_type": "code",
      "source": [
        "# Worked example 23\n",
        "print(\"Worked example 23\")\n",
        "\n",
        "z1 = 1 + 1j\n",
        "z2 = 1 - math.sqrt(3)*1j\n",
        "\n",
        "# Express z1 and z2 in polar form, r cis (theta), where theta = Arg (z), is in the interval [0, 2pi]\n",
        "print(\"The polar form of z1 is: \")\n",
        "print(cmath.polar(z1)) # should be (1.4142135623730951, 0.7853981633974483):\n",
        "                       # sqrt(2), pi/4, sqrt(2)cos(pi/4)\n",
        "                       # sqrt(2)sin(pi/4) cis(pi/4)\n",
        "print(\"The polar form of z2 is: \")\n",
        "print(cmath.polar(z2)) # should be (2, -1.0471975511965976)\n",
        "                       # 2 cis (-pi/3)\n",
        "\n",
        "# Plot z1 and z2 on the Argand diagram\n",
        "import matplotlib.pyplot as plt\n",
        "plt.plot(z1.real, z1.imag, 'ro')\n",
        "# Draw a line from the origin to z1\n",
        "plt.plot([0, z1.real], [0, z1.imag], 'r-')\n",
        "plt.plot(z2.real, z2.imag, 'bo')\n",
        "# Draw a line from the origin to z2\n",
        "plt.plot([0, z2.real], [0, z2.imag], 'b-')\n",
        "plt.axhline(y=0, color='k')\n",
        "plt.axvline(x=0, color='k')\n",
        "\n",
        "# Write the real part and imaginary part of z1 and z2 on the plot\n",
        "plt.text(z1.real, z1.imag, 'z1')\n",
        "plt.text(z2.real, z2.imag, 'z2')\n",
        "\n",
        "plt.grid()\n",
        "plt.axis('equal')\n",
        "plt.show()\n"
      ],
      "metadata": {
        "colab": {
          "base_uri": "https://localhost:8080/",
          "height": 517
        },
        "id": "w6bDNE2cjlpf",
        "outputId": "dcf95c47-5243-423c-fd0d-8d43b357f43b"
      },
      "execution_count": null,
      "outputs": [
        {
          "output_type": "stream",
          "name": "stdout",
          "text": [
            "Worked example 23\n",
            "The polar form of z1 is: \n",
            "(1.4142135623730951, 0.7853981633974483)\n",
            "The polar form of z2 is: \n",
            "(2.0, -1.0471975511965976)\n"
          ]
        },
        {
          "output_type": "display_data",
          "data": {
            "text/plain": [
              "<Figure size 640x480 with 1 Axes>"
            ],
            "image/png": "[encoded data removed]"
          },
          "metadata": {}
        }
      ]
    },
    {
      "cell_type": "markdown",
      "source": [
        "# Worked Example 24"
      ],
      "metadata": {
        "id": "KqscSKYTI4z6"
      }
    },
    {
      "cell_type": "code",
      "source": [
        "# Express the complex number z = 3 cis (pi/4) in Cartesian form\n",
        "\n",
        "r = 3\n",
        "theta = math.pi/4\n",
        "\n",
        "x = r*math.cos(theta)\n",
        "y = r*math.sin(theta)\n",
        "\n",
        "# z = r*cmath.exp(1j*theta)\n",
        "z = x + y*1j\n",
        "\n",
        "print(\"The Cartesian form of z = 3 cis (pi/4) is: \")\n",
        "\n",
        "# print(3/math.sqrt(2))\n",
        "# print(x)\n",
        "# print(y)\n",
        "\n",
        "print(z)\n",
        "#"
      ],
      "metadata": {
        "colab": {
          "base_uri": "https://localhost:8080/"
        },
        "id": "mES-jH9nJAKc",
        "outputId": "73544f5b-4920-4cda-ff3f-1e5cf62a5a07"
      },
      "execution_count": null,
      "outputs": [
        {
          "output_type": "stream",
          "name": "stdout",
          "text": [
            "The Cartesian form of z = 3 cis (pi/4) is: \n",
            "(2.121320343559643+2.1213203435596424j)\n"
          ]
        }
      ]
    }
  ]
}