{
  "cells": [
    {
      "cell_type": "markdown",
      "source": [
        "# 00. RUNME FIRST"
      ],
      "metadata": {
        "id": "AfB6I5EdND-X"
      }
    },
    {
      "cell_type": "markdown",
      "metadata": {
        "id": "us3fdsLTM53I"
      },
      "source": [
        "Import required libraries"
      ]
    },
    {
      "cell_type": "code",
      "execution_count": null,
      "metadata": {
        "id": "0B6vMGNLM53L"
      },
      "outputs": [],
      "source": [
        "import math\n",
        "import sympy as sp\n",
        "\n",
        "import matplotlib.pyplot as plt\n",
        "import numpy as np"
      ]
    },
    {
      "cell_type": "markdown",
      "metadata": {
        "id": "w6FSGs1CM53M"
      },
      "source": [
        "# ITSU1012 Session 04 - Worked example 01\n",
        "\n",
        "---\n",
        "\n"
      ]
    },
    {
      "cell_type": "markdown",
      "metadata": {
        "id": "D7Kv4FMIM53M"
      },
      "source": [
        "Example 1: In a right-angled triangle, the square of the length of the hypotenuse is equal to the sum of the squares of the lengths of the other two sides.<br>\n",
        "Given the lengths of the other two sides, we can calculate sin, cos, and tan of the angles in the triangle."
      ]
    },
    {
      "cell_type": "code",
      "execution_count": null,
      "metadata": {
        "id": "a9HcZqzDM53N"
      },
      "outputs": [],
      "source": [
        "a = 5\n",
        "b = 12\n",
        "c = 13"
      ]
    },
    {
      "cell_type": "markdown",
      "metadata": {
        "id": "e-xjW3kLM53O"
      },
      "source": [
        "Calculate the sin, cos, and tan of the angles in the triangle"
      ]
    },
    {
      "cell_type": "code",
      "execution_count": null,
      "metadata": {
        "id": "_ugoOui5M53O"
      },
      "outputs": [],
      "source": [
        "sin_theta = a / c\n",
        "cos_theta = b / c\n",
        "tan_theta = a / b\n",
        "sec_theta = 1 / cos\n",
        "cosec_theta = 1 / sin_theta\n",
        "cot_theta = 1 / tan_theta"
      ]
    },
    {
      "cell_type": "code",
      "execution_count": null,
      "metadata": {
        "colab": {
          "base_uri": "https://localhost:8080/"
        },
        "id": "kIIayL8jM53O",
        "outputId": "ed556afa-397d-4200-e0f6-34dade5df289"
      },
      "outputs": [
        {
          "output_type": "stream",
          "name": "stdout",
          "text": [
            "sin: 0.38461538461538464\n",
            "cos: 0.9230769230769231\n",
            "tan: 0.4166666666666667\n",
            "sec: 1.0833333333333333\n",
            "cosec: 2.5999999999999996\n",
            "cot: 2.4\n"
          ]
        }
      ],
      "source": [
        "print('sin:', sin_theta)\n",
        "print('cos:', cos_theta)\n",
        "print('tan:', tan_theta)\n",
        "print('sec:', sec_theta)\n",
        "print('cosec:', cosec_theta)\n",
        "print('cot:', cot_theta)"
      ]
    },
    {
      "cell_type": "markdown",
      "metadata": {
        "id": "csEzEgrrM53P"
      },
      "source": [
        "# ITSU1012 Session 04 - Worked example 02"
      ]
    },
    {
      "cell_type": "markdown",
      "metadata": {
        "id": "8q48hYAPM53P"
      },
      "source": [
        "A right-angled triangle has sides of length 2, 4 and c."
      ]
    },
    {
      "cell_type": "code",
      "execution_count": null,
      "metadata": {
        "id": "OVysGMqhM53P"
      },
      "outputs": [],
      "source": [
        "a = 2\n",
        "b = 4\n",
        "c = math.sqrt(a**2 + b**2)"
      ]
    },
    {
      "cell_type": "code",
      "execution_count": null,
      "metadata": {
        "colab": {
          "base_uri": "https://localhost:8080/"
        },
        "id": "qNhuMntWM53Q",
        "outputId": "f7764f78-1f4f-457a-8a96-1f7ea5a65780"
      },
      "outputs": [
        {
          "output_type": "stream",
          "name": "stdout",
          "text": [
            "sin:  0.4472135954999579\n",
            "cos:  0.8944271909999159\n",
            "cot:  2.0\n"
          ]
        }
      ],
      "source": [
        "sin = a / c\n",
        "cos = b / c\n",
        "cot = b / a\n",
        "\n",
        "\n",
        "print('sin: ', sin)\n",
        "print('cos: ', cos)\n",
        "print('cot: ', cot)"
      ]
    },
    {
      "cell_type": "markdown",
      "metadata": {
        "id": "wQ1lrWs7M53Q"
      },
      "source": [
        "# ITSU1012 Session 04 - Worked example 03"
      ]
    },
    {
      "cell_type": "code",
      "execution_count": null,
      "metadata": {
        "colab": {
          "base_uri": "https://localhost:8080/"
        },
        "id": "jnkn0ZWEM53R",
        "outputId": "4df268d5-f323-4e18-e80c-834ef0401b90"
      },
      "outputs": [
        {
          "output_type": "stream",
          "name": "stdout",
          "text": [
            "a_deg: 48.590377890729144\n"
          ]
        }
      ],
      "source": [
        "a = math.asin(3/4) # sin^-1(3/4) radians\n",
        "# convert radians to degrees\n",
        "a_deg = math.degrees(a)\n",
        "print('a_deg:', a_deg)"
      ]
    },
    {
      "cell_type": "markdown",
      "metadata": {
        "id": "APFg9AyCM53R"
      },
      "source": [
        "# ITSU1012 Session 04 - Worked example 04\n",
        "\n"
      ]
    },
    {
      "cell_type": "markdown",
      "metadata": {
        "id": "r7zOcvKYM53R"
      },
      "source": [
        "Find the exact value of sec (150 degrees)"
      ]
    },
    {
      "cell_type": "code",
      "execution_count": null,
      "metadata": {
        "colab": {
          "base_uri": "https://localhost:8080/"
        },
        "id": "bBj5cmKTM53R",
        "outputId": "bc304c9b-bbb2-4001-a99c-008f4d03db6d"
      },
      "outputs": [
        {
          "output_type": "stream",
          "name": "stdout",
          "text": [
            "sec: -1.1547005383792515\n"
          ]
        }
      ],
      "source": [
        "a = math.radians(150) # convert degrees to radians\n",
        "sec = 1 / math.cos(a)\n",
        "print('sec:', sec)"
      ]
    },
    {
      "cell_type": "markdown",
      "metadata": {
        "id": "_bcJL9lBM53S"
      },
      "source": [
        "Find the exact value of sec (150 degrees) using sympy"
      ]
    },
    {
      "cell_type": "code",
      "execution_count": null,
      "metadata": {
        "colab": {
          "base_uri": "https://localhost:8080/"
        },
        "id": "0gine9xzM53S",
        "outputId": "7bf51ed0-c738-43d8-df83-5bf779dd199d"
      },
      "outputs": [
        {
          "output_type": "stream",
          "name": "stdout",
          "text": [
            "sec: -2*sqrt(3)/3\n"
          ]
        }
      ],
      "source": [
        "a = sp.rad(150) # convert degrees to radians\n",
        "sec = 1 / sp.cos(a)\n",
        "print('sec:', sec)"
      ]
    },
    {
      "cell_type": "markdown",
      "metadata": {
        "id": "ozk2dz-bM53S"
      },
      "source": [
        "# ITSU1012 Session 04 - Worked example 05"
      ]
    },
    {
      "cell_type": "markdown",
      "metadata": {
        "id": "7dCt-EaDM53T"
      },
      "source": [
        "If cos(x) = 1/3, and 3*pi < x < 2*pi, find the exact value of sin(x), cot(x) using sympy\n",
        "\n"
      ]
    },
    {
      "cell_type": "code",
      "execution_count": null,
      "metadata": {
        "colab": {
          "base_uri": "https://localhost:8080/"
        },
        "id": "BkJY1Xx7M53T",
        "outputId": "a42ff69a-1fa9-4f2b-9370-b5d96eedc94c"
      },
      "outputs": [
        {
          "output_type": "stream",
          "name": "stdout",
          "text": [
            "sin: -0.942809041582063\n",
            "cot: -0.353553390593274\n"
          ]
        }
      ],
      "source": [
        "\n",
        "# Solutions need to be in the interval\n",
        "interval = (3*sp.pi/2, 2*sp.pi)\n",
        "\n",
        "# Define the symbol and the given cosine value\n",
        "x = sp.Symbol('x')\n",
        "cos_value = 1/3\n",
        "\n",
        "# Find the angle x in the given interval\n",
        "angle = sp.acos(cos_value)\n",
        "\n",
        "# Adjust the angle to be in the correct interval\n",
        "angle = 2*sp.pi - angle\n",
        "\n",
        "# Calculate sin(x) and cot(x)\n",
        "sin_value = sp.sin(angle) # should be -2*sqrt(2)/3\n",
        "cot_value = sp.cot(angle) # should be -sqrt(2)/4\n",
        "\n",
        "print('sin:', sin_value)\n",
        "print('cot:', cot_value)"
      ]
    },
    {
      "cell_type": "markdown",
      "metadata": {
        "id": "NIuvy0HTM53T"
      },
      "source": [
        "# ITSU1012 Session 04 - Worked example 06\n",
        "\n"
      ]
    },
    {
      "cell_type": "markdown",
      "metadata": {
        "id": "Q2rfdMqMM53T"
      },
      "source": [
        "Simplify the expression cos^2(x) (1 + tan^2(x)) using sympy"
      ]
    },
    {
      "cell_type": "code",
      "execution_count": null,
      "metadata": {
        "colab": {
          "base_uri": "https://localhost:8080/"
        },
        "id": "Q0dIad3bM53T",
        "outputId": "fb3fb25f-38e1-475c-b306-eccb70d5f4cd"
      },
      "outputs": [
        {
          "output_type": "stream",
          "name": "stdout",
          "text": [
            "simplified_expr: 1\n"
          ]
        }
      ],
      "source": [
        "x = sp.Symbol('x')\n",
        "cos = sp.cos(x)\n",
        "tan = sp.tan(x)\n",
        "expr = cos**2 * (1 + tan**2)\n",
        "\n",
        "# Use simplify()\n",
        "simplified_expr = sp.simplify(expr)\n",
        "print('simplified_expr:', simplified_expr)"
      ]
    },
    {
      "cell_type": "markdown",
      "metadata": {
        "id": "OaYMWklyM53U"
      },
      "source": [
        "# ITSU1012 Session 04 - Worked example 07"
      ]
    },
    {
      "cell_type": "markdown",
      "metadata": {
        "id": "DZcAx5rTM53U"
      },
      "source": [
        "If x in [pi/2, pi] and cos(x) = -0.6, find<br>\n",
        "a) sin(x), b) cot(x), c) sec(x)"
      ]
    },
    {
      "cell_type": "code",
      "execution_count": null,
      "metadata": {
        "colab": {
          "base_uri": "https://localhost:8080/"
        },
        "id": "zOTtzgYjM53U",
        "outputId": "94a749fd-88be-4b15-92f2-85c37301c881"
      },
      "outputs": [
        {
          "output_type": "stream",
          "name": "stdout",
          "text": [
            "sin: 0.800000000000000\n",
            "cot: -0.750000000000000\n",
            "sec: -1.66666666666667\n"
          ]
        }
      ],
      "source": [
        "x = sp.Symbol('x')\n",
        "cos = -0.6\n",
        "a = sp.acos(cos)\n",
        "sin = sp.sin(a)\n",
        "cot = sp.cot(a)\n",
        "sec = sp.sec(a)\n",
        "print('sin:', sin)\n",
        "print('cot:', cot)\n",
        "print('sec:', sec)"
      ]
    },
    {
      "cell_type": "markdown",
      "metadata": {
        "id": "6qGMDXe6M53V"
      },
      "source": [
        "# ITSU1012 Session 04 - Worked example 08"
      ]
    },
    {
      "cell_type": "markdown",
      "metadata": {
        "id": "1w27tsNmM53V"
      },
      "source": [
        "if sec(x)  = 3/2, and x in [3*pi/2, 2*pi], use the identity to find the exact value of <br>\n",
        "a) tan(x), b), sin(x), cosec(x)"
      ]
    },
    {
      "cell_type": "code",
      "execution_count": null,
      "metadata": {
        "colab": {
          "base_uri": "https://localhost:8080/"
        },
        "id": "8U3KAEaHM53V",
        "outputId": "eb307242-5c7b-45a3-b514-f15f7b5f718c"
      },
      "outputs": [
        {
          "output_type": "stream",
          "name": "stdout",
          "text": [
            "tan: -1.11803398874989\n",
            "sin: -0.745355992499930\n",
            "cosec: -1.34164078649987\n"
          ]
        }
      ],
      "source": [
        "x = sp.Symbol('x')\n",
        "sec = 3/2\n",
        "\n",
        "# Because it is in the 4th quadrant\n",
        "a = 2*math.pi - sp.acos(1/sec)\n",
        "\n",
        "tan = sp.tan(a)\n",
        "sin = sp.sin(a)\n",
        "cosec = sp.csc(a)\n",
        "\n",
        "# should be negative\n",
        "print('tan:', tan)\n",
        "\n",
        "# should be negative\n",
        "print('sin:', sin)\n",
        "\n",
        "# should be negative\n",
        "print('cosec:', cosec)"
      ]
    },
    {
      "cell_type": "markdown",
      "metadata": {
        "id": "HcnOZ3GFM53d"
      },
      "source": [
        "# ITSU1012 Session 04 - Worked example 09"
      ]
    },
    {
      "cell_type": "markdown",
      "metadata": {
        "id": "awlocxM9M53d"
      },
      "source": [
        "Solve the equation cot(x) = 1/sqrt(3) for x over the interval [0, 2*pi]"
      ]
    },
    {
      "cell_type": "code",
      "execution_count": null,
      "metadata": {
        "colab": {
          "base_uri": "https://localhost:8080/"
        },
        "id": "Vmne-Y-_M53d",
        "outputId": "4896cf80-0415-47bd-8883-0af5f2f9d095"
      },
      "outputs": [
        {
          "output_type": "stream",
          "name": "stdout",
          "text": [
            "base solution a: pi/3\n",
            "2nd solution:  4*pi/3\n"
          ]
        }
      ],
      "source": [
        "x = sp.Symbol('x')\n",
        "cot = 1/sp.sqrt(3)\n",
        "a = sp.atan(1/cot)\n",
        "print('base solution a:', a)\n",
        "# x = a + n*pi, n = -3, -2, -1, 0, 1, 2, 3, ...\n",
        "print ('2nd solution: ', a + sp.pi)\n",
        "# TODO: Solve the equation cot(x) = 1/sqrt(3) for x over the interval [0, 2*pi] using sympy\n"
      ]
    },
    {
      "cell_type": "markdown",
      "metadata": {
        "id": "DJC8erLEM53e"
      },
      "source": [
        "# Bonus section: Compound and double angle formulas"
      ]
    },
    {
      "cell_type": "markdown",
      "metadata": {
        "id": "IgBoR0dmM53e"
      },
      "source": [
        "Expand sin (A + B) using sympy"
      ]
    },
    {
      "cell_type": "code",
      "execution_count": null,
      "metadata": {
        "id": "TMEsUFBVM53e"
      },
      "outputs": [],
      "source": [
        "A = sp.Symbol('A')\n",
        "B = sp.Symbol('B')"
      ]
    },
    {
      "cell_type": "code",
      "execution_count": null,
      "metadata": {
        "colab": {
          "base_uri": "https://localhost:8080/"
        },
        "id": "jyDGYAzVM53f",
        "outputId": "ba72f554-cbb3-4d1f-8652-20e191e37800"
      },
      "outputs": [
        {
          "output_type": "stream",
          "name": "stdout",
          "text": [
            "sin(A + B) =  sin(A)*cos(B) + sin(B)*cos(A)\n"
          ]
        }
      ],
      "source": [
        "expr = sp.sin(A + B)\n",
        "expanded_expr = sp.expand_trig(expr)\n",
        "print('sin(A + B) = ', expanded_expr)"
      ]
    },
    {
      "cell_type": "markdown",
      "metadata": {
        "id": "bQt3pVLGM53f"
      },
      "source": [
        "Expand cos (A + B) using sympy"
      ]
    },
    {
      "cell_type": "code",
      "execution_count": null,
      "metadata": {
        "colab": {
          "base_uri": "https://localhost:8080/"
        },
        "id": "C2Hf9mchM53f",
        "outputId": "f9f75049-aeeb-4fe8-e1fb-8b4ccbb33af5"
      },
      "outputs": [
        {
          "output_type": "stream",
          "name": "stdout",
          "text": [
            "cos(A + B) =  -sin(A)*sin(B) + cos(A)*cos(B)\n"
          ]
        }
      ],
      "source": [
        "expr = sp.cos(A + B)\n",
        "expanded_expr = sp.expand_trig(expr)\n",
        "print('cos(A + B) = ', expanded_expr)"
      ]
    },
    {
      "cell_type": "markdown",
      "metadata": {
        "id": "ESUzogRjM53f"
      },
      "source": [
        "Expand sin (A - B) using sympy"
      ]
    },
    {
      "cell_type": "code",
      "execution_count": null,
      "metadata": {
        "colab": {
          "base_uri": "https://localhost:8080/"
        },
        "id": "7VnKTC9PM53g",
        "outputId": "e0f8ae0c-a832-4788-c760-cb8a8917d7b0"
      },
      "outputs": [
        {
          "output_type": "stream",
          "name": "stdout",
          "text": [
            "sin(A - B) =  sin(A)*cos(B) - sin(B)*cos(A)\n"
          ]
        }
      ],
      "source": [
        "expr = sp.sin(A - B)\n",
        "expanded_expr = sp.expand_trig(expr)\n",
        "print('sin(A - B) = ', expanded_expr)"
      ]
    },
    {
      "cell_type": "markdown",
      "metadata": {
        "id": "rB1MG-xQM53g"
      },
      "source": [
        "Expand cos (A - B) using sympy"
      ]
    },
    {
      "cell_type": "code",
      "execution_count": null,
      "metadata": {
        "colab": {
          "base_uri": "https://localhost:8080/"
        },
        "id": "XcMJRswmM53g",
        "outputId": "ea71f39c-5428-46aa-8498-2ffd61eb10bb"
      },
      "outputs": [
        {
          "output_type": "stream",
          "name": "stdout",
          "text": [
            "cos(A - B) =  sin(A)*sin(B) + cos(A)*cos(B)\n"
          ]
        }
      ],
      "source": [
        "expr = sp.cos(A - B)\n",
        "expanded_expr = sp.expand_trig(expr)\n",
        "print('cos(A - B) = ', expanded_expr)"
      ]
    },
    {
      "cell_type": "markdown",
      "metadata": {
        "id": "Ba8v2aAgM53g"
      },
      "source": [
        "Expand tan (A + B) using sympy"
      ]
    },
    {
      "cell_type": "code",
      "execution_count": null,
      "metadata": {
        "colab": {
          "base_uri": "https://localhost:8080/"
        },
        "id": "GX3ju5ahM53h",
        "outputId": "b18db97c-5bbe-4af3-d426-d55dd6c73316"
      },
      "outputs": [
        {
          "output_type": "stream",
          "name": "stdout",
          "text": [
            "tan(A + B) =  (tan(A) + tan(B))/(-tan(A)*tan(B) + 1)\n"
          ]
        }
      ],
      "source": [
        "expr = sp.tan(A + B)\n",
        "expanded_expr = sp.expand_trig(expr)\n",
        "print('tan(A + B) = ', expanded_expr)"
      ]
    },
    {
      "cell_type": "markdown",
      "metadata": {
        "id": "lWgxy5FWM53h"
      },
      "source": [
        "Expand tan (A - B) using sympy"
      ]
    },
    {
      "cell_type": "code",
      "execution_count": null,
      "metadata": {
        "id": "7zJziK7ZM53h",
        "colab": {
          "base_uri": "https://localhost:8080/"
        },
        "outputId": "8fc406ed-d85c-4737-96d3-62e08560f22c"
      },
      "outputs": [
        {
          "output_type": "stream",
          "name": "stdout",
          "text": [
            "tan(A - B) =  (tan(A) - tan(B))/(tan(A)*tan(B) + 1)\n"
          ]
        }
      ],
      "source": [
        "expr = sp.tan(A - B)\n",
        "expanded_expr = sp.expand_trig(expr)\n",
        "print('tan(A - B) = ', expanded_expr)"
      ]
    },
    {
      "cell_type": "markdown",
      "metadata": {
        "id": "P98HrY_lM53h"
      },
      "source": [
        "Expand sin (2A) using sympy"
      ]
    },
    {
      "cell_type": "code",
      "execution_count": null,
      "metadata": {
        "colab": {
          "base_uri": "https://localhost:8080/"
        },
        "id": "u6AdwsQmM53i",
        "outputId": "c1bc5ff9-7888-44ca-d145-cbfc265a4bce"
      },
      "outputs": [
        {
          "output_type": "stream",
          "name": "stdout",
          "text": [
            "sin(2*A) =  2*sin(A)*cos(A)\n"
          ]
        }
      ],
      "source": [
        "expr = sp.sin(2*A)\n",
        "expanded_expr = sp.expand_trig(expr)\n",
        "print('sin(2*A) = ', expanded_expr)"
      ]
    },
    {
      "cell_type": "markdown",
      "metadata": {
        "id": "kW3CVPWDM53i"
      },
      "source": [
        "Expand cos (2A) using sympy"
      ]
    },
    {
      "cell_type": "code",
      "execution_count": null,
      "metadata": {
        "colab": {
          "base_uri": "https://localhost:8080/"
        },
        "id": "SGbsoC-uM53i",
        "outputId": "1e968ea4-44fe-4d93-b1a1-a3dce789a866"
      },
      "outputs": [
        {
          "output_type": "stream",
          "name": "stdout",
          "text": [
            "cos(2*A) =  2*cos(A)**2 - 1\n"
          ]
        }
      ],
      "source": [
        "expr = sp.cos(2*A)\n",
        "expanded_expr = sp.expand_trig(expr)\n",
        "print('cos(2*A) = ', expanded_expr)"
      ]
    },
    {
      "cell_type": "markdown",
      "metadata": {
        "id": "mfyOt5_uM53i"
      },
      "source": [
        "Expand tan (2A) using sympy"
      ]
    },
    {
      "cell_type": "code",
      "execution_count": null,
      "metadata": {
        "id": "w7SdYQsHM53j",
        "colab": {
          "base_uri": "https://localhost:8080/"
        },
        "outputId": "ee189d81-a24e-4a78-e9ba-50f79053dd49"
      },
      "outputs": [
        {
          "output_type": "stream",
          "name": "stdout",
          "text": [
            "tan(2*A) =  2*tan(A)/(1 - tan(A)**2)\n"
          ]
        }
      ],
      "source": [
        "expr = sp.tan(2*A)\n",
        "expanded_expr = sp.expand_trig(expr)\n",
        "print('tan(2*A) = ', expanded_expr)"
      ]
    },
    {
      "cell_type": "markdown",
      "metadata": {
        "id": "wcdm4dhIM53j"
      },
      "source": [
        "# ITSU1012 Session 04 - Worked example 10"
      ]
    },
    {
      "cell_type": "markdown",
      "metadata": {
        "id": "dvvFkR9nM53j"
      },
      "source": [
        "expand and simplify sin (x - 2*y) using sympy"
      ]
    },
    {
      "cell_type": "code",
      "execution_count": null,
      "metadata": {
        "colab": {
          "base_uri": "https://localhost:8080/"
        },
        "id": "xaEyUZJ0M53k",
        "outputId": "fdbdc1a2-d76e-4592-8b26-f07a81c0a72c"
      },
      "outputs": [
        {
          "output_type": "stream",
          "name": "stdout",
          "text": [
            "Expanded sin(x - 2*y) =  (2*cos(y)**2 - 1)*sin(x) - 2*sin(y)*cos(x)*cos(y)\n",
            "sin(x - 2*y) =  sin(x - 2*y)\n"
          ]
        }
      ],
      "source": [
        "x = sp.Symbol('x')\n",
        "y = sp.Symbol('y')\n",
        "expr = sp.sin(x - 2*y)\n",
        "expanded_expr = sp.expand_trig(expr)\n",
        "print('Expanded sin(x - 2*y) = ', expanded_expr)\n",
        "\n",
        "# simplify the expanded expression\n",
        "simplified_expr = sp.simplify(expanded_expr)\n",
        "\n",
        "# it is already simplified?\n",
        "print('Simplified sin(x - 2*y) = ', simplified_expr)"
      ]
    },
    {
      "cell_type": "markdown",
      "metadata": {
        "id": "a_l8SBvuM53k"
      },
      "source": [
        "expand and simplify cos (x + pi/6) using sympy"
      ]
    },
    {
      "cell_type": "code",
      "execution_count": null,
      "metadata": {
        "colab": {
          "base_uri": "https://localhost:8080/"
        },
        "id": "z5Bx8pTiM53k",
        "outputId": "adac35fb-32b2-4e04-dd2d-9cbd7bf286eb"
      },
      "outputs": [
        {
          "output_type": "stream",
          "name": "stdout",
          "text": [
            "Expanded cos(x + sp.pi/6) =  -sin(x)/2 + sqrt(3)*cos(x)/2\n",
            "cos(x + sp.pi/6) =  cos(x + pi/6)\n"
          ]
        }
      ],
      "source": [
        "expr = sp.cos(x + sp.pi/6)\n",
        "expanded_expr = sp.expand_trig(expr)\n",
        "print('Expanded cos(x + sp.pi/6) = ', expanded_expr)\n",
        "\n",
        "# simplify the expanded expression\n",
        "# simplified_expr = sp.simplify(expanded_expr)\n",
        "# print('cos(x + sp.pi/6) = ', simplified_expr)"
      ]
    },
    {
      "cell_type": "markdown",
      "metadata": {
        "id": "qU04QbM-M53l"
      },
      "source": [
        "# ITSU1012 Session 04 - Worked example 11\n",
        "\n"
      ]
    },
    {
      "cell_type": "markdown",
      "metadata": {
        "id": "lFk5nHWpM53l"
      },
      "source": [
        "Expand the following expression using the double angle formula: tan (4*x)"
      ]
    },
    {
      "cell_type": "code",
      "execution_count": null,
      "metadata": {
        "colab": {
          "base_uri": "https://localhost:8080/"
        },
        "id": "a1RfQwWmM53l",
        "outputId": "8193ca12-0756-4917-c081-bd79c863dd62"
      },
      "outputs": [
        {
          "output_type": "stream",
          "name": "stdout",
          "text": [
            "tan (4*x) =  (-4*tan(x)**3 + 4*tan(x))/(tan(x)**4 - 6*tan(x)**2 + 1)\n"
          ]
        }
      ],
      "source": [
        "x = sp.Symbol('x')\n",
        "expr = sp.tan(4*x)\n",
        "expanded_expr = sp.expand_trig(expr)\n",
        "print('tan (4*x) = ', expanded_expr)"
      ]
    },
    {
      "cell_type": "markdown",
      "metadata": {
        "id": "ghdfRUcwM53l"
      },
      "source": [
        "Expand the following expression using the double angle formula: sin (theta/2)"
      ]
    },
    {
      "cell_type": "code",
      "execution_count": null,
      "metadata": {
        "colab": {
          "base_uri": "https://localhost:8080/"
        },
        "id": "e8Do6QPoM53m",
        "outputId": "f333d5c1-c2dc-43b4-b895-707e15a78e9b"
      },
      "outputs": [
        {
          "output_type": "stream",
          "name": "stdout",
          "text": [
            "sin(theta/2) sin(theta/2)\n"
          ]
        }
      ],
      "source": [
        "theta = sp.Symbol('theta')\n",
        "expr = sp.sin(theta/2)\n",
        "\n",
        "# Is is already simplified?\n",
        "expanded_expr = sp.expand_trig(expr)\n",
        "print('sin(theta/2) = ', expanded_expr)"
      ]
    },
    {
      "cell_type": "markdown",
      "metadata": {
        "id": "lT0JZp18M53m"
      },
      "source": [
        "# ITSU1012 Session 04 - Worked example 12 (No example 13)"
      ]
    },
    {
      "cell_type": "markdown",
      "metadata": {
        "id": "E-DYbxN9M53n"
      },
      "source": [
        "Simplify sin (3*pi/2 - C) using sympy"
      ]
    },
    {
      "cell_type": "code",
      "execution_count": null,
      "metadata": {
        "colab": {
          "base_uri": "https://localhost:8080/"
        },
        "id": "mQTbdk2FM53n",
        "outputId": "ec8e839c-8dbe-465c-e0fe-d6c95f7f2100"
      },
      "outputs": [
        {
          "output_type": "stream",
          "name": "stdout",
          "text": [
            "sin(3*sp.pi/2 - C) =  -cos(C)\n"
          ]
        }
      ],
      "source": [
        "C = sp.Symbol('C')\n",
        "expr = sp.sin(3*sp.pi/2 - C)\n",
        "simplified_expr = sp.simplify(expr)\n",
        "print('sin(3*sp.pi/2 - C) = ', simplified_expr)"
      ]
    },
    {
      "cell_type": "markdown",
      "metadata": {
        "id": "BZGmeuOiM53n"
      },
      "source": [
        "Simplify sec (pi/2 - theta) using sympy"
      ]
    },
    {
      "cell_type": "code",
      "execution_count": null,
      "metadata": {
        "colab": {
          "base_uri": "https://localhost:8080/"
        },
        "id": "b1F7CcLFM53n",
        "outputId": "b5278674-bb25-43c7-88bf-9f80fe4dd0d6"
      },
      "outputs": [
        {
          "output_type": "stream",
          "name": "stdout",
          "text": [
            "simplified_expr: csc(theta)\n"
          ]
        }
      ],
      "source": [
        "theta = sp.Symbol('theta')\n",
        "expr = sp.sec(sp.pi/2 - theta)\n",
        "simplified_expr = sp.simplify(expr)\n",
        "print('sec(sp.pi/2 - theta) = ', simplified_expr)"
      ]
    },
    {
      "cell_type": "markdown",
      "metadata": {
        "id": "SE5JIl16M53o"
      },
      "source": [
        "# ITSU1012 Session 04 - Worked example 14"
      ]
    },
    {
      "cell_type": "markdown",
      "metadata": {
        "id": "OblreN9NM53o"
      },
      "source": [
        "Find the exact value of cot (5*pi/12) using sympy"
      ]
    },
    {
      "cell_type": "code",
      "execution_count": null,
      "metadata": {
        "colab": {
          "base_uri": "https://localhost:8080/"
        },
        "id": "qe0vHG-RM53o",
        "outputId": "14529923-2a72-419e-a8f9-3ec05566dcb9"
      },
      "outputs": [
        {
          "output_type": "stream",
          "name": "stdout",
          "text": [
            "Exact value of ot(5*sp.pi/12) =  2 - sqrt(3)\n"
          ]
        }
      ],
      "source": [
        "theta = sp.Symbol('theta')\n",
        "expr = sp.cot(5*sp.pi/12)\n",
        "simplified_expr = sp.simplify(expr)\n",
        "print('Exact value of ot(5*sp.pi/12) = ', simplified_expr)\n",
        "\n",
        "# TODO: Using expression: 5*pi/12 = pi/4 + pi/6\n",
        "# TODO: Using MathGPTPro"
      ]
    },
    {
      "cell_type": "markdown",
      "metadata": {
        "id": "yOi9Wx7dM53p"
      },
      "source": [
        "TODO: Simplify using mathgpt"
      ]
    },
    {
      "cell_type": "markdown",
      "metadata": {
        "id": "B5R4KyAbM53p"
      },
      "source": [
        "# ITSU1012 Session 04 - Worked example 15"
      ]
    },
    {
      "cell_type": "markdown",
      "metadata": {
        "id": "dSY3wfWXM53p"
      },
      "source": [
        "If sin (theta) = sqrt(5)/3, and theta in [0, pi/2]. Find the exact value of <br>\n",
        "a) sin (2*theta), b) cos (2*theta), c) sin (theta/2)"
      ]
    },
    {
      "cell_type": "code",
      "execution_count": null,
      "metadata": {
        "colab": {
          "base_uri": "https://localhost:8080/"
        },
        "id": "TWyKBVgQM53p",
        "outputId": "a5fe5365-81e7-4932-b25c-92390bd24fa0"
      },
      "outputs": [
        {
          "output_type": "stream",
          "name": "stdout",
          "text": [
            "sin_2theta: 0.993807989999906\n",
            "cos_2theta: -0.111111111111111\n",
            "sin_theta_2: 0.408248290463863\n"
          ]
        }
      ],
      "source": [
        "theta = sp.Symbol('theta')\n",
        "sin = sp.sqrt(5)/3\n",
        "a = sp.asin(sin)\n",
        "\n",
        "sin_2theta = sp.sin(2*a)\n",
        "cos_2theta = sp.cos(2*a)\n",
        "sin_theta_2 = sp.sin(a/2)\n",
        "\n",
        "print('sin_2theta:', sin_2theta.evalf()) # 4*sqrt(5)/9\n",
        "print('cos_2theta:', cos_2theta.evalf()) # -1/9\n",
        "print('sin_theta_2:', sin_theta_2.evalf()) # Two values +/- 1/sqrt(6)"
      ]
    },
    {
      "cell_type": "markdown",
      "metadata": {
        "id": "Tr3R1j11M53q"
      },
      "source": [
        "# ITSU1012 Inverse circular functions and their graphs (bonus content)"
      ]
    },
    {
      "cell_type": "markdown",
      "metadata": {
        "id": "fgdYLU38M53q"
      },
      "source": [
        "## Draw the graph of y = sin^-1(x)"
      ]
    },
    {
      "cell_type": "code",
      "execution_count": null,
      "metadata": {
        "id": "wJONb035M53r"
      },
      "outputs": [],
      "source": [
        "x = np.linspace(-1, 1, 100)\n",
        "y = np.arcsin(x)"
      ]
    },
    {
      "cell_type": "code",
      "execution_count": null,
      "metadata": {
        "colab": {
          "base_uri": "https://localhost:8080/",
          "height": 472
        },
        "id": "QWVanIg-M53r",
        "outputId": "18a5fbf1-fa2d-4f1e-bc96-a2d063f5430b"
      },
      "outputs": [
        {
          "output_type": "display_data",
          "data": {
            "text/plain": [
              "<Figure size 640x480 with 1 Axes>"
            ],
            "image/png": "[encoded data removed]"
          },
          "metadata": {}
        }
      ],
      "source": [
        "plt.plot(x, y)\n",
        "plt.xlabel('x')\n",
        "plt.ylabel('y')\n",
        "plt.title('Graph of y = sin^-1(x)')\n",
        "plt.grid()\n",
        "plt.show()"
      ]
    },
    {
      "cell_type": "markdown",
      "metadata": {
        "id": "X-OWIXTJM53r"
      },
      "source": [
        "## Draw the graph of y = cos^-1(x)"
      ]
    },
    {
      "cell_type": "code",
      "execution_count": null,
      "metadata": {
        "id": "nNpmmqYGM53r"
      },
      "outputs": [],
      "source": [
        "x = np.linspace(-1, 1, 100)\n",
        "y = np.arccos(x)"
      ]
    },
    {
      "cell_type": "code",
      "execution_count": null,
      "metadata": {
        "colab": {
          "base_uri": "https://localhost:8080/",
          "height": 472
        },
        "id": "2wMfcW1FM53s",
        "outputId": "3913c1d1-5925-4f1b-a79a-93b5fa3c5b6c"
      },
      "outputs": [
        {
          "output_type": "display_data",
          "data": {
            "text/plain": [
              "<Figure size 640x480 with 1 Axes>"
            ],
            "image/png": "[encoded data removed]"
          },
          "metadata": {}
        }
      ],
      "source": [
        "plt.plot(x, y)\n",
        "plt.xlabel('x')\n",
        "plt.ylabel('y')\n",
        "plt.title('Graph of y = cos^-1(x)')\n",
        "plt.grid()\n",
        "plt.show()"
      ]
    },
    {
      "cell_type": "markdown",
      "metadata": {
        "id": "MLpB1IRxM53s"
      },
      "source": [
        "## Draw the graph of y = tan^-1(x)"
      ]
    },
    {
      "cell_type": "code",
      "execution_count": null,
      "metadata": {
        "id": "3MmT528RM53s"
      },
      "outputs": [],
      "source": [
        "x = np.linspace(-np.pi/2, np.pi/2, 100)\n",
        "y = np.arctan(x)"
      ]
    },
    {
      "cell_type": "code",
      "execution_count": null,
      "metadata": {
        "colab": {
          "base_uri": "https://localhost:8080/",
          "height": 472
        },
        "id": "DzwOEycOM53s",
        "outputId": "a1cb72ac-fb66-4865-9b5d-a4bcdc3927de"
      },
      "outputs": [
        {
          "output_type": "display_data",
          "data": {
            "text/plain": [
              "<Figure size 640x480 with 1 Axes>"
            ],
            "image/png": "[encoded data removed]"
          },
          "metadata": {}
        }
      ],
      "source": [
        "plt.plot(x, y)\n",
        "plt.xlabel('x')\n",
        "plt.ylabel('y')\n",
        "plt.title('Graph of y = tan^-1(x)')\n",
        "plt.grid()\n",
        "plt.show()"
      ]
    },
    {
      "cell_type": "markdown",
      "metadata": {
        "id": "BSgtd9eWM53t"
      },
      "source": [
        "End of ITSU1012 Inverse circular functions and their graphs"
      ]
    },
    {
      "cell_type": "markdown",
      "metadata": {
        "id": "Dakjbpl1M53t"
      },
      "source": [
        "# ITSU1012 Session 04 - Worked example 16"
      ]
    },
    {
      "cell_type": "markdown",
      "metadata": {
        "id": "GjxcEVDxM53t"
      },
      "source": [
        "Evaluate tan (56 degrees) using sympy"
      ]
    },
    {
      "cell_type": "code",
      "execution_count": null,
      "metadata": {
        "colab": {
          "base_uri": "https://localhost:8080/"
        },
        "id": "rxK83Vw_M53t",
        "outputId": "71d7503c-db39-40f8-ddbf-bac554e42439"
      },
      "outputs": [
        {
          "output_type": "stream",
          "name": "stdout",
          "text": [
            "tan:  tan(14*pi/45)\n",
            "tan:  1.48256096851274\n"
          ]
        }
      ],
      "source": [
        "# convert degree to randian\n",
        "theta = sp.rad(56)\n",
        "\n",
        "# evaluate tan()\n",
        "tan = sp.tan(theta)\n",
        "print('tan: ', tan)\n",
        "print('tan: ', tan.evalf())\n"
      ]
    },
    {
      "cell_type": "markdown",
      "metadata": {
        "id": "p9JXBtEMM53u"
      },
      "source": [
        "Evaluate cos (97.3 degrees) using sympy"
      ]
    },
    {
      "cell_type": "code",
      "execution_count": null,
      "metadata": {
        "colab": {
          "base_uri": "https://localhost:8080/"
        },
        "id": "1B2cznMcM53u",
        "outputId": "925d5637-45e6-43e1-add9-4f8c4d981f9b"
      },
      "outputs": [
        {
          "output_type": "stream",
          "name": "stdout",
          "text": [
            "cos: cos(0.540555555555556*pi)\n"
          ]
        }
      ],
      "source": [
        "theta = sp.rad(97.3)\n",
        "cos = sp.cos(theta)\n",
        "print('cos:', cos)"
      ]
    },
    {
      "cell_type": "markdown",
      "metadata": {
        "id": "Nd4oimi4M53u"
      },
      "source": [
        "Evaluate sin (2*pi/3) using sympy"
      ]
    },
    {
      "cell_type": "code",
      "execution_count": null,
      "metadata": {
        "colab": {
          "base_uri": "https://localhost:8080/"
        },
        "id": "5Vf7V2H_M53u",
        "outputId": "2696ef76-5363-4baf-a007-8c4a72d6c9db"
      },
      "outputs": [
        {
          "output_type": "stream",
          "name": "stdout",
          "text": [
            "sin: sqrt(3)/2\n"
          ]
        }
      ],
      "source": [
        "theta = 2*sp.pi/3\n",
        "sin = sp.sin(theta)\n",
        "\n",
        "# It does exist!\n",
        "print('sin:', sin)"
      ]
    },
    {
      "cell_type": "markdown",
      "metadata": {
        "id": "QIIBVqZCM53v"
      },
      "source": [
        "# ITSU1012 Session 04 - Worked example 17"
      ]
    },
    {
      "cell_type": "markdown",
      "metadata": {
        "id": "78u04PHrM53v"
      },
      "source": [
        "Evaluate in radians: sin^-1(sqrt(2)/2)"
      ]
    },
    {
      "cell_type": "code",
      "execution_count": null,
      "metadata": {
        "colab": {
          "base_uri": "https://localhost:8080/"
        },
        "id": "-647EBDRM53v",
        "outputId": "e96dab00-1447-408d-ba60-a077aa8a5e6e"
      },
      "outputs": [
        {
          "output_type": "stream",
          "name": "stdout",
          "text": [
            "theta: pi/4\n"
          ]
        }
      ],
      "source": [
        "theta = sp.asin(sp.sqrt(2)/2)\n",
        "print('theta:', theta)"
      ]
    },
    {
      "cell_type": "markdown",
      "metadata": {
        "id": "NFNZFuGYM53v"
      },
      "source": [
        "Evaluate in radians: tan^-1(-1/sqrt(3))"
      ]
    },
    {
      "cell_type": "code",
      "execution_count": null,
      "metadata": {
        "colab": {
          "base_uri": "https://localhost:8080/"
        },
        "id": "gPDuQITVM53v",
        "outputId": "e1cc92bd-9898-4a30-a544-e5ebfa369b13"
      },
      "outputs": [
        {
          "output_type": "stream",
          "name": "stdout",
          "text": [
            "theta: -pi/6\n"
          ]
        }
      ],
      "source": [
        "theta = sp.atan(-1/sp.sqrt(3))\n",
        "print('theta:', theta)"
      ]
    },
    {
      "cell_type": "markdown",
      "metadata": {
        "id": "Y1LLKXWIM53w"
      },
      "source": [
        "# ITSU1012 Session 04 - Worked example 18\n",
        "\n"
      ]
    },
    {
      "cell_type": "markdown",
      "metadata": {
        "id": "saRG_-FFM53w"
      },
      "source": [
        "Simplify cos(sin^-1(sqrt(3)/2)) using sympy   "
      ]
    },
    {
      "cell_type": "code",
      "execution_count": null,
      "metadata": {
        "colab": {
          "base_uri": "https://localhost:8080/"
        },
        "id": "oSwjjW9WM53w",
        "outputId": "66569261-f614-4b60-e1cb-5ac69e0d7fb5"
      },
      "outputs": [
        {
          "output_type": "stream",
          "name": "stdout",
          "text": [
            "simplified_expr: 1/2\n"
          ]
        }
      ],
      "source": [
        "theta = sp.asin(sp.sqrt(3)/2)\n",
        "expr = sp.cos(theta)\n",
        "simplified_expr = sp.simplify(expr)\n",
        "print('asin(sp.sqrt(3)/2) = ', simplified_expr)"
      ]
    },
    {
      "cell_type": "markdown",
      "metadata": {
        "id": "gkZc7ak0M53x"
      },
      "source": [
        "Simplify tan^-1(cos^-1(-2*pi/3)) using sympy"
      ]
    },
    {
      "cell_type": "code",
      "execution_count": null,
      "metadata": {
        "colab": {
          "base_uri": "https://localhost:8080/"
        },
        "id": "ZHJFxXxXM53x",
        "outputId": "dfcc203a-349a-4fed-99b3-1366e0b70aee"
      },
      "outputs": [
        {
          "output_type": "stream",
          "name": "stdout",
          "text": [
            "atan(cos(2*pi/3)) =  -0.463647609000806\n"
          ]
        }
      ],
      "source": [
        "theta = sp.cos(2*sp.pi/3)\n",
        "print('atan(cos(2*pi/3)) = ', sp.atan(theta).evalf())"
      ]
    },
    {
      "cell_type": "markdown",
      "metadata": {
        "id": "cAPUPjvSM53x"
      },
      "source": [
        "# ITSU1012 Session 04 - Worked example 19 (dup with ex 18)\n"
      ]
    },
    {
      "cell_type": "markdown",
      "metadata": {
        "id": "DDKBZYX_M53y"
      },
      "source": [
        "Duplicated with example 18"
      ]
    },
    {
      "cell_type": "markdown",
      "metadata": {
        "id": "_Fj1DE9CM53y"
      },
      "source": [
        "# ITSU1012 Session 04 - Worked example 20"
      ]
    },
    {
      "cell_type": "markdown",
      "metadata": {
        "id": "Iv1HOJqIM53y"
      },
      "source": [
        "f(x) = sin^-1(2*x + 1). What is the implied domain and the range of f(x)?"
      ]
    },
    {
      "cell_type": "markdown",
      "metadata": {
        "id": "JLWLZreYM53z"
      },
      "source": [
        "The domain of f(x) is the set of all x such that -1 <= 2*x + 1 <= 1<br>\n",
        "-1 <= 2*x + 1 <= 1<br>\n",
        "-2 <= 2*x <= 0"
      ]
    },
    {
      "cell_type": "markdown",
      "metadata": {
        "id": "E9gIgQaKM53z"
      },
      "source": [
        "The range of f(x) is the set of all y such that -pi/2 <= y <= pi/2"
      ]
    },
    {
      "cell_type": "markdown",
      "metadata": {
        "id": "j14XxL_9M53z"
      },
      "source": [
        "f(x) = tan(2*cos^-1(x)). What is the implied domain and the range of f(x)?<br>\n",
        "TODO: mathprogpt"
      ]
    },
    {
      "cell_type": "markdown",
      "metadata": {
        "id": "JD-XxVAiM53z"
      },
      "source": [
        "The domain of f(x) is the set of all x such that -1 <= x <= 1"
      ]
    },
    {
      "cell_type": "code",
      "execution_count": null,
      "metadata": {
        "id": "rBZImBejM53z"
      },
      "outputs": [],
      "source": [
        "domain = sp.Interval(-1, 1)"
      ]
    },
    {
      "cell_type": "markdown",
      "metadata": {
        "id": "fQQwYtCSM530"
      },
      "source": [
        "The range of f(x) can be found by considering the range of 2*cos^-1(x)<br>\n",
        "cos^-1(x) has a range of [0, pi], so 2*cos^-1(x) has a range of [0, 2*pi]<br>\n",
        "tan(2*cos^-1(x)) will have a range of all real numbers except where 2*cos^-1(x) is an odd multiple of pi/2<br>\n",
        "However, since cos^-1(x) is in [0, pi], 2*cos^-1(x) will be in [0, 2*pi], and tan is undefined at pi/2 and 3*pi/2<br>\n",
        "Therefore, the range of f(x) is all real numbers except where 2*cos^-1(x) = pi/2 or 3*pi/2"
      ]
    },
    {
      "cell_type": "markdown",
      "metadata": {
        "id": "q-L37BKUM530"
      },
      "source": [
        "Define the function"
      ]
    },
    {
      "cell_type": "code",
      "execution_count": null,
      "metadata": {
        "id": "P5ylP-z5M530"
      },
      "outputs": [],
      "source": [
        "x = sp.Symbol('x')\n",
        "f = sp.tan(2 * sp.acos(x))"
      ]
    },
    {
      "cell_type": "markdown",
      "metadata": {
        "id": "n7-wDo_HM530"
      },
      "source": [
        "Find the points where the function is undefined"
      ]
    },
    {
      "cell_type": "code",
      "execution_count": null,
      "metadata": {
        "id": "e7mhWstmM530"
      },
      "outputs": [],
      "source": [
        "undefined_points = [sp.pi/2, 3*sp.pi/2]"
      ]
    },
    {
      "cell_type": "markdown",
      "metadata": {
        "id": "oJ8bKMr9M531"
      },
      "source": [
        "Print the domain and range"
      ]
    },
    {
      "cell_type": "code",
      "execution_count": null,
      "metadata": {
        "colab": {
          "base_uri": "https://localhost:8080/"
        },
        "id": "vQG0VuggM531",
        "outputId": "446c5a58-a291-4be0-8170-43ecfec18fa0"
      },
      "outputs": [
        {
          "output_type": "stream",
          "name": "stdout",
          "text": [
            "Domain: Interval(-1, 1)\n",
            "Undefined points in the range: [pi/2, 3*pi/2]\n"
          ]
        }
      ],
      "source": [
        "print('Domain:', domain)\n",
        "print('Undefined points in the range:', undefined_points)"
      ]
    },
    {
      "cell_type": "markdown",
      "metadata": {
        "id": "xm7OTPnhM531"
      },
      "source": [
        "End of ITSU1012 Session 04 - Worked example 20"
      ]
    },
    {
      "cell_type": "markdown",
      "metadata": {
        "id": "tXdccnmdM531"
      },
      "source": [
        "# ITSU1012 Session 04 - Worked example 21"
      ]
    },
    {
      "cell_type": "markdown",
      "metadata": {
        "id": "33ZCRwNNM532"
      },
      "source": [
        "## y = cos^-1(x + 1)<br>\n",
        "sketch the graph of y = cos^-1(x + 1)<br>\n",
        "what is the domain the range of the function?"
      ]
    },
    {
      "cell_type": "markdown",
      "metadata": {
        "id": "PInxtvrcM532"
      },
      "source": [
        "Define the function"
      ]
    },
    {
      "cell_type": "code",
      "execution_count": null,
      "metadata": {
        "id": "Do6Hw08DM532"
      },
      "outputs": [],
      "source": [
        "x = np.linspace(-2, 0, 400)\n",
        "y = np.arccos(x + 1)"
      ]
    },
    {
      "cell_type": "markdown",
      "metadata": {
        "id": "1lqPFS3gM532"
      },
      "source": [
        "Plot the graph"
      ]
    },
    {
      "cell_type": "code",
      "execution_count": null,
      "metadata": {
        "colab": {
          "base_uri": "https://localhost:8080/",
          "height": 472
        },
        "id": "Hae_UT9wM532",
        "outputId": "ec000608-f7a0-4f73-8d6c-95a306d4e5e3"
      },
      "outputs": [
        {
          "output_type": "display_data",
          "data": {
            "text/plain": [
              "<Figure size 640x480 with 1 Axes>"
            ],
            "image/png": "[encoded data removed]"
          },
          "metadata": {}
        }
      ],
      "source": [
        "plt.plot(x, y)\n",
        "plt.xlabel('x')\n",
        "plt.ylabel('y')\n",
        "plt.title('Graph of y = cos^-1(x + 1)')\n",
        "plt.grid()\n",
        "plt.show()"
      ]
    },
    {
      "cell_type": "markdown",
      "metadata": {
        "id": "RCOtvWrxM533"
      },
      "source": [
        "Determine the domain and range"
      ]
    },
    {
      "cell_type": "code",
      "execution_count": null,
      "metadata": {
        "colab": {
          "base_uri": "https://localhost:8080/"
        },
        "id": "0tgvI-DHM533",
        "outputId": "35341aa3-67a9-4464-8afb-a27021e16aab"
      },
      "outputs": [
        {
          "output_type": "stream",
          "name": "stdout",
          "text": [
            "Domain: Interval(-2, 0)\n",
            "Range: Interval(0, pi)\n"
          ]
        }
      ],
      "source": [
        "domain = sp.Interval(-2, 0)\n",
        "range_ = sp.Interval(0, sp.pi)\n",
        "print('Domain:', domain)\n",
        "print('Range:', range_)"
      ]
    },
    {
      "cell_type": "code",
      "source": [],
      "metadata": {
        "id": "CPgzpFW4mvmw"
      },
      "execution_count": null,
      "outputs": []
    },
    {
      "cell_type": "markdown",
      "metadata": {
        "id": "LtVHjyavM533"
      },
      "source": [
        "## *y* = 2*sin^-1(2*x) - pi/4<br>\n",
        "sketch the graph of y = 2*sin^-1(2*x) - pi/4<br>\n",
        "what is the domain the range of the function?"
      ]
    },
    {
      "cell_type": "markdown",
      "metadata": {
        "id": "BAxgeTVQM533"
      },
      "source": [
        "Define the function"
      ]
    },
    {
      "cell_type": "code",
      "execution_count": null,
      "metadata": {
        "id": "Sigm6oinM533"
      },
      "outputs": [],
      "source": [
        "x = np.linspace(-0.5, 0.5, 400)\n",
        "y = 2 * np.arcsin(2 * x) - np.pi / 4"
      ]
    },
    {
      "cell_type": "code",
      "source": [],
      "metadata": {
        "id": "_YakkthSmtIc"
      },
      "execution_count": null,
      "outputs": []
    },
    {
      "cell_type": "markdown",
      "metadata": {
        "id": "Lyadg7MEM534"
      },
      "source": [
        "Plot the graph"
      ]
    },
    {
      "cell_type": "code",
      "execution_count": null,
      "metadata": {
        "colab": {
          "base_uri": "https://localhost:8080/",
          "height": 472
        },
        "id": "y76QVDglM534",
        "outputId": "327764ac-3414-43c0-915c-96237c4b1e5c"
      },
      "outputs": [
        {
          "output_type": "display_data",
          "data": {
            "text/plain": [
              "<Figure size 640x480 with 1 Axes>"
            ],
            "image/png": "[encoded data removed]"
          },
          "metadata": {}
        }
      ],
      "source": [
        "plt.plot(x, y)\n",
        "plt.xlabel('x')\n",
        "plt.ylabel('y')\n",
        "plt.title('Graph of y = 2*sin^-1(2*x) - pi/4')\n",
        "plt.grid()\n",
        "plt.show()"
      ]
    },
    {
      "cell_type": "markdown",
      "metadata": {
        "id": "HZKQFs1sM534"
      },
      "source": [
        "Determine the domain and range"
      ]
    },
    {
      "cell_type": "code",
      "execution_count": null,
      "metadata": {
        "colab": {
          "base_uri": "https://localhost:8080/"
        },
        "id": "zCpqe82XM534",
        "outputId": "cf1b7151-3b28-4815-d2a9-81d59c7ed143"
      },
      "outputs": [
        {
          "output_type": "stream",
          "name": "stdout",
          "text": [
            "Domain: Interval(-0.500000000000000, 0.500000000000000)\n",
            "Range: Interval(-3*pi/4, pi/4)\n"
          ]
        }
      ],
      "source": [
        "domain = sp.Interval(-0.5, 0.5)\n",
        "range_ = sp.Interval(-sp.pi/2 - sp.pi/4, sp.pi/2 - sp.pi/4)\n",
        "print('Domain:', domain)\n",
        "print('Range:', range_)"
      ]
    },
    {
      "cell_type": "markdown",
      "metadata": {
        "id": "iQh5SRUpM535"
      },
      "source": [
        "# ITSU1012 Session 04 - Review"
      ]
    },
    {
      "cell_type": "markdown",
      "metadata": {
        "id": "pmwnlfY8M535"
      },
      "source": [
        "Restricted circular functions"
      ]
    },
    {
      "cell_type": "markdown",
      "metadata": {
        "id": "4R7vnGJjM535"
      },
      "source": [
        "a) y = sin (x), x in domain [-pi/2, pi/2], y in range [-1, 1]<br>\n",
        "b) y = cos (x), x in domain [0, pi], y in range [-1, 1]<br>\n",
        "c) y = tan (x), x in domain (-pi/2, pi/2), y in range (-inf, inf) (that is the set ℝ)"
      ]
    },
    {
      "cell_type": "markdown",
      "metadata": {
        "id": "j6OMgFE6M536"
      },
      "source": [
        "Inverse circular functions"
      ]
    },
    {
      "cell_type": "markdown",
      "metadata": {
        "id": "EZJ_4DeBM536"
      },
      "source": [
        "a) y = sin^-1(x), x in domain [-1, 1], y in range [-pi/2, pi/2]<br>\n",
        "b) y = cos^-1(x), x in domain [-1, 1], y in range [0, pi]<br>\n",
        "c) y = tan^-1(x), x in domain ℝ, y in range (-pi/2, pi/2)"
      ]
    },
    {
      "cell_type": "markdown",
      "metadata": {
        "id": "h-VNrN6pM536"
      },
      "source": [
        "Graphs of inverse circular functions & circular functions are reflections of each other over the line y = x"
      ]
    },
    {
      "cell_type": "markdown",
      "metadata": {
        "id": "u1tOiEhwM537"
      },
      "source": [
        "End of ITSU1012 Session 04 - Review"
      ]
    },
    {
      "cell_type": "markdown",
      "source": [
        "# ITSU1012 Session 04 - Bonus content: Demonstrate the basic concepts of trig functions"
      ],
      "metadata": {
        "id": "pMwF2LzDOjzW"
      }
    },
    {
      "cell_type": "code",
      "source": [
        "\n",
        "\n",
        "# Define a range of angles from 0 to 2*pi radians\n",
        "angles = np.linspace(0, 2 * np.pi, 360)\n",
        "\n",
        "# Calculate sin, cos and tan values for each angle\n",
        "sine_values = np.sin(angles)\n",
        "cosine_values = np.cos(angles)\n",
        "tangent_values = np.tan(angles)\n",
        "\n",
        "# Plotting sin, cos, and tan values\n",
        "plt.figure(figsize=(15, 5))\n",
        "\n",
        "# Sine function plot\n",
        "plt.subplot(1, 3, 1)\n",
        "plt.plot(angles, sine_values)\n",
        "\n",
        "# plot x-axis and y-axis\n",
        "plt.axhline(0, color='black',linewidth=0.5)\n",
        "plt.axvline(0, color='black',linewidth=0.5)\n",
        "plt.grid(color = 'gray', linestyle = '--', linewidth = 0.5)\n",
        "\n",
        "plt.title('Sine Function')\n",
        "plt.xlabel('Angle [radians]')\n",
        "plt.ylabel('sin(theta)')\n",
        "\n",
        "# Cosine function plot\n",
        "plt.subplot(1, 3, 2)\n",
        "plt.plot(angles, cosine_values)\n",
        "\n",
        "# plot x-axis and y-axis\n",
        "plt.axhline(0, color='black',linewidth=0.5)\n",
        "plt.axvline(0, color='black',linewidth=0.5)\n",
        "plt.grid(color = 'gray', linestyle = '--', linewidth = 0.5)\n",
        "\n",
        "plt.title('Cosine Function')\n",
        "plt.xlabel('Angle [radians]')\n",
        "plt.ylabel('cos(theta)')\n",
        "\n",
        "# Tangent function plot - limiting y-axis as tan has asymptotes at pi/2 + k*pi\n",
        "tan_angles = angles[~np.isclose(cosine_values, 0)]\n",
        "tan_values_limited = tangent_values[~np.isclose(cosine_values, 0)]\n",
        "plt.subplot(1, 3, 3)\n",
        "plt.plot(tan_angles, tan_values_limited)\n",
        "plt.ylim(-10, 10) # Limit y-axis to avoid extreme values near asymptotes\n",
        "\n",
        "# plot x-axis and y-axis\n",
        "plt.axhline(0, color='black',linewidth=0.5)\n",
        "plt.axvline(0, color='black',linewidth=0.5)\n",
        "plt.grid(color = 'gray', linestyle = '--', linewidth = 0.5)\n",
        "\n",
        "\n",
        "plt.title('Tangent Function')\n",
        "plt.xlabel('Angle [radians]')\n",
        "plt.ylabel('tan(theta)')\n",
        "\n",
        "# Show the plots\n",
        "plt.tight_layout()\n",
        "plt.show()\n",
        "\n",
        "# Illustrate the unit circle and SOH CAH TOA mnemonic\n",
        "fig, ax = plt.subplots(figsize=(6, 6))\n",
        "\n",
        "# Draw the unit circle\n",
        "circle = plt.Circle((0, 0), 1, color='blue', fill=False)\n",
        "ax.add_artist(circle)\n",
        "\n",
        "# Draw angle theta (45 degrees for demonstration)\n",
        "theta = np.deg2rad(45)\n",
        "ax.plot([0, np.cos(theta)], [0, np.sin(theta)], color='red', label=r'$\\theta$')\n",
        "\n",
        "# Draw the right triangle\n",
        "ax.plot([np.cos(theta), np.cos(theta)], [0, np.sin(theta)], color='green', linestyle='--')\n",
        "ax.plot([0, np.cos(theta)], [np.sin(theta), np.sin(theta)], color='green', linestyle='--')\n",
        "\n",
        "# Annotate the sides of the triangle\n",
        "ax.text(np.cos(theta)/2, -0.1, 'Adjacent', ha='center')\n",
        "ax.text(np.cos(theta) + 0.1, np.sin(theta)/2, 'Opposite', va='center')\n",
        "ax.text(np.cos(theta)/2, np.sin(theta)/2 + 0.1, 'Hypotenuse', ha='center')\n",
        "\n",
        "# Set the aspect of the plot to be equal\n",
        "ax.set_aspect('equal')\n",
        "\n",
        "# Set limits and labels\n",
        "ax.set_xlim(-1.5, 1.5)\n",
        "ax.set_ylim(-1.5, 1.5)\n",
        "ax.axhline(0, color='black',linewidth=0.5)\n",
        "ax.axvline(0, color='black',linewidth=0.5)\n",
        "ax.grid(color = 'gray', linestyle = '--', linewidth = 0.5)\n",
        "\n",
        "# Add SOH CAH TOA mnemonic\n",
        "ax.text(-1.4, 1.3, 'SOH: sin = Opposite / Hypotenuse', fontsize=12)\n",
        "ax.text(-1.4, 1.2, 'CAH: cos = Adjacent / Hypotenuse', fontsize=12)\n",
        "ax.text(-1.4, 1.1, 'TOA: tan = Opposite / Adjacent', fontsize=12)\n",
        "\n",
        "# Title and show plot\n",
        "plt.title('Unit Circle and SOH CAH TOA')\n",
        "plt.show()\n"
      ],
      "metadata": {
        "colab": {
          "base_uri": "https://localhost:8080/",
          "height": 986
        },
        "id": "Aaw362FROs8N",
        "outputId": "ab90850f-62ee-4941-aa6b-7c94c9ba4e18"
      },
      "execution_count": null,
      "outputs": [
        {
          "output_type": "display_data",
          "data": {
            "text/plain": [
              "<Figure size 1500x500 with 3 Axes>"
            ],
            "image/png": "[encoded data removed]"
          },
          "metadata": {}
        },
        {
          "output_type": "display_data",
          "data": {
            "text/plain": [
              "<Figure size 600x600 with 1 Axes>"
            ],
            "image/png": "[encoded data removed]"
          },
          "metadata": {}
        }
      ]
    }
  ],
  "metadata": {
    "kernelspec": {
      "display_name": "Python 3",
      "language": "python",
      "name": "python3"
    },
    "language_info": {
      "codemirror_mode": {
        "name": "ipython",
        "version": 3
      },
      "file_extension": ".py",
      "mimetype": "text/x-python",
      "name": "python",
      "nbconvert_exporter": "python",
      "pygments_lexer": "ipython3",
      "version": "3.6.4"
    },
    "colab": {
      "provenance": [],
      "toc_visible": true
    }
  },
  "nbformat": 4,
  "nbformat_minor": 0
}