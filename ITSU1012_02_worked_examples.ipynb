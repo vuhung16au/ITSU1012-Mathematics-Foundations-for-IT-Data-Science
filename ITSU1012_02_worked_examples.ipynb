{
  "nbformat": 4,
  "nbformat_minor": 0,
  "metadata": {
    "colab": {
      "provenance": [],
      "toc_visible": true,
      "collapsed_sections": [
        "aawpWC85kJ6o"
      ]
    },
    "kernelspec": {
      "name": "python3",
      "display_name": "Python 3"
    },
    "language_info": {
      "name": "python"
    }
  },
  "cells": [
    {
      "cell_type": "markdown",
      "source": [
        "# RUN ME FIRST!"
      ],
      "metadata": {
        "id": "kVvTMl6sKAnO"
      }
    },
    {
      "cell_type": "code",
      "source": [
        "import math\n",
        "import cmath\n",
        "\n",
        "import numpy as np\n",
        "\n",
        "import matplotlib.pyplot as plt\n",
        "\n",
        "\n",
        "from sympy.solvers import solve\n",
        "from sympy import Symbol\n"
      ],
      "metadata": {
        "id": "Li27ADqoKFBw"
      },
      "execution_count": null,
      "outputs": []
    },
    {
      "cell_type": "markdown",
      "source": [
        "# Introduction (Please read & run me first)"
      ],
      "metadata": {
        "id": "vtNMFXVtgyBG"
      }
    },
    {
      "cell_type": "code",
      "execution_count": null,
      "metadata": {
        "id": "paJUpmI9h0jD"
      },
      "outputs": [],
      "source": []
    },
    {
      "cell_type": "markdown",
      "source": [
        "# Worked Example 1"
      ],
      "metadata": {
        "id": "4185_inEkAIQ"
      }
    },
    {
      "cell_type": "code",
      "source": [
        "\n",
        "\n",
        "# Solve the following linear equation:\n",
        "# 7x - 4 = 17\n",
        "\n",
        "# Rearrange the equation to isolate x\n",
        "# 7x = 17 + 4\n",
        "# 7x = 21\n",
        "# x = 21 / 7\n",
        "# x = 3\n",
        "\n",
        "# Define the coefficients for the equation: a*x + b = c\n",
        "a = 7\n",
        "b = -4\n",
        "c = 17\n",
        "\n",
        "# Solve for x\n",
        "x = (c - b) / a\n",
        "\n",
        "print(f\"The solution to the equation 7x - 4 = 17 is x = {x}\")\n",
        "\n",
        "# Ask the user for the coefficients, then solve for x\n",
        "try:\n",
        "\ta = float(input(\"Input 'a' : \"))\n",
        "\tb = float(input(\"Input 'b' : \"))\n",
        "\tc = float(input(\"Input 'c' : \"))\n",
        "\n",
        "\tx = (c - b) / a if a != 0 else \"Can't solve 'x'\"\n",
        "\tprint(f\"The solution to the equation {a}x - {b} = {c} is x = {x}\")\n",
        "except ValueError:\n",
        "\tprint(\"Please enter valid numbers for a, b, and c.\")\n",
        "\n",
        "x = Symbol('x')\n",
        "equation = 7*x - 4 - 17\n",
        "# equation = x*x - 7*x - 4 - 17\n",
        "solutions = solve(equation)\n",
        "print(f\"Using sympy solver, the solution to the equation 7x - 4 = 17 is x = {solutions[0]}\")\n",
        "\n",
        "\n",
        "\n",
        "# Solve the following quadratic equation:\n",
        "# (3x -2)/4 + 5 = 1\n",
        "\n",
        "# Rearrange the equation to isolate x\n",
        "# (3x - 2)/4 = 1 - 5\n",
        "# (3x - 2)/4 = -4\n",
        "# 3x - 2 = -4 * 4\n",
        "# 3x - 2 = -16\n",
        "# 3x = -16 + 2\n",
        "# 3x = -14\n",
        "# x = -14 / 3\n",
        "\n",
        "\n",
        "a = 8/5\n",
        "b = -2\n",
        "c = 6\n",
        "\n",
        "x = (c - b) / a\n",
        "\n",
        "print(f\"The solution to the equation 2(4x/5 - 1) = 6 is x = {x}\")\n",
        "\n",
        "x = Symbol('x')\n",
        "equation = (3*x - 2)/4 + 5 - 1\n",
        "solutions = solve(equation)\n",
        "print(f\"Using sympy solver, the solution to the equation (3x - 2)/4 + 5 = 1 is x = {solutions[0]}\")\n",
        "\n",
        "\n",
        "# Solve for x\n",
        "# 2(4x/5 - 1) = 6\n",
        "# 8x/5 - 2 = 6\n",
        "# 8x/5 = 6 + 2\n",
        "# 8x/5 = 8\n",
        "# 8x = 8 * 5\n",
        "# 8x = 40\n",
        "# x = 40 / 8\n",
        "# x = 5\n",
        "\n",
        "x = Symbol('x')\n",
        "equation = 2*(4*x/5 - 1) - 6\n",
        "solutions = solve(equation)\n",
        "print(f\"Using sympy solver, the solution to the equation 2(4x/5 - 1) = 6 is x = {solutions[0]}\")\n"
      ],
      "metadata": {
        "colab": {
          "base_uri": "https://localhost:8080/"
        },
        "id": "CZzrjZI4iHeq",
        "outputId": "11f390c8-6330-4d1d-bece-3dd0af7f65e4"
      },
      "execution_count": null,
      "outputs": [
        {
          "output_type": "stream",
          "name": "stdout",
          "text": [
            "The solution to the equation 7x - 4 = 17 is x = 3.0\n",
            "Input 'a' : 7\n",
            "Input 'b' : -4\n",
            "Input 'c' : 17\n",
            "The solution to the equation 7.0x - -4.0 = 17.0 is x = 3.0\n",
            "Using sympy solver, the solution to the equation 7x - 4 = 17 is x = 3\n",
            "The solution to the equation 2(4x/5 - 1) = 6 is x = 5.0\n",
            "Using sympy solver, the solution to the equation (3x - 2)/4 + 5 = 1 is x = -14/3\n",
            "Using sympy solver, the solution to the equation 2(4x/5 - 1) = 6 is x = 5\n"
          ]
        }
      ]
    },
    {
      "cell_type": "markdown",
      "source": [
        "# Worked Example 2"
      ],
      "metadata": {
        "id": "aawpWC85kJ6o"
      }
    },
    {
      "cell_type": "code",
      "source": [
        "# Worked Example 02\n",
        "\n",
        "# Solve the linear equation:\n",
        "# 4x - 3 = 3(6-x)\n",
        "# 4x - 3 = 18 - 3x\n",
        "# 4x + 3x = 18 + 3\n",
        "# 7x = 21\n",
        "# x = 21 / 7\n",
        "# x = 3\n",
        "\n",
        "x = Symbol('x')\n",
        "equation = 4*x - 3 - 3*(6-x)\n",
        "#  4*x - 3 - 3*(6-x) = 0\n",
        "# solutions: things that makes a function zeros.\n",
        "solutions = solve(equation)\n",
        "print(f\"Using sympy solver, the solution to the equation 4x - 3 = 3(6-x) is x = {solutions[0]}\")\n",
        "\n",
        "# Solve the linear equation:\n",
        "x = Symbol('x')\n",
        "equation = (9*x + 3)/ 2 - (13*x +7)/3\n",
        "solutions = solve(equation)\n",
        "print(f\"Using sympy solver, the solution to the equation (9x + 3)/2 - (13x + 7)/3 is x = {solutions[0]}\")\n",
        "\n",
        "# Solve the linear equation:\n",
        "x = Symbol('x')\n",
        "equation = (3 - x)/4 - 9*(x + 7)/10 - 1\n",
        "solutions = solve(equation)\n",
        "print(f\"Using sympy solver, the solution to the equation (3 - x)/4 - 9*(x + 7)/10 - 1 is x = {solutions[0]}\")\n"
      ],
      "metadata": {
        "colab": {
          "base_uri": "https://localhost:8080/"
        },
        "id": "0VlVLLXniQgN",
        "outputId": "82e120af-6913-4cb0-83bc-945a05a26718"
      },
      "execution_count": null,
      "outputs": [
        {
          "output_type": "stream",
          "name": "stdout",
          "text": [
            "Using sympy solver, the solution to the equation 4x - 3 = 3(6-x) is x = 3\n",
            "Using sympy solver, the solution to the equation (9x + 3)/2 - (13x + 7)/3 is x = 5\n",
            "Using sympy solver, the solution to the equation (3 - x)/4 - 9*(x + 7)/10 - 1 is x = -131/23\n"
          ]
        }
      ]
    },
    {
      "cell_type": "markdown",
      "source": [
        "# Worked Example 3"
      ],
      "metadata": {
        "id": "Zn9mS-FYkcV3"
      }
    },
    {
      "cell_type": "code",
      "source": [
        "# Worked Example 03\n",
        "\n",
        "# Rearrange the equation to isolate y\n",
        "x = Symbol('x')\n",
        "y = Symbol('y')\n",
        "equation = 6*x + 8*y - 48\n",
        "solutions = solve(equation, y)\n",
        "print(f\"Using sympy solver, when isolated, y = {solutions[0]}\")\n",
        "\n",
        "# Rearrange the equation to isolate u\n",
        "u = Symbol('u')\n",
        "t = Symbol('t')\n",
        "a = Symbol('a')\n",
        "s = Symbol('s')\n",
        "# equation = s - (u*t + 0.5*a*t**2)\n",
        "equation = s - (u*t + 0.5*a*t*t)\n",
        "\n",
        "solutions = solve(equation, u)\n",
        "print(f\"Using sympy solver, when isolated, u = {solutions[0]}\")\n",
        "\n",
        "# Rearrange the equation to isolate k\n",
        "k = Symbol('k')\n",
        "T = Symbol('T')\n",
        "m = Symbol('m')\n",
        "\n",
        "from sympy import sqrt, pi\n",
        "\n",
        "equation = T - 2*pi*sqrt(m/k)\n",
        "solutions = solve(equation, k)\n",
        "print(f\"Using sympy solver, when isolated, k = {solutions[0]}\")\n",
        "\n"
      ],
      "metadata": {
        "colab": {
          "base_uri": "https://localhost:8080/"
        },
        "id": "270-DfkyiXTz",
        "outputId": "f7a4157a-a92c-422b-8d3b-aed1563210cd"
      },
      "execution_count": null,
      "outputs": [
        {
          "output_type": "stream",
          "name": "stdout",
          "text": [
            "Using sympy solver, when isolated, y = 6 - 3*x/4\n",
            "Using sympy solver, when isolated, u = -0.5*a*t + s/t\n",
            "Using sympy solver, when isolated, k = 4*pi**2*m/T**2\n"
          ]
        }
      ]
    },
    {
      "cell_type": "markdown",
      "source": [
        "# Worked Example 4"
      ],
      "metadata": {
        "id": "SsQ-FUlJkjNs"
      }
    },
    {
      "cell_type": "code",
      "source": [
        "# Worked Example 04\n",
        "\n",
        "# Farhenheit to Celsius conversion\n",
        "F = Symbol('F')\n",
        "C = Symbol('C')\n",
        "\n",
        "# Original equation\n",
        "# C = (F - 32) * 5/9\n",
        "equation = C - (F - 32) * 5/9\n",
        "solutions = solve(equation, F)\n",
        "print(f\"Using sympy solver, when isolated, F = {solutions[0]}\") # Should be F = 9*C/5 + 32\n",
        "\n",
        "# Calculate F when C = 21 degrees\n",
        "C = 21\n",
        "F = (C * 9/5) + 32\n",
        "print(f\"Using the formula, when C = 21 degrees, F = {F}\")\n",
        "\n",
        "# The area A of a circle is given by the formula A = πr^2, where r is the radius of the circle.\n",
        "# Find the value of r when A = 20 square centimeters.\n",
        "\n",
        "A = Symbol('A')\n",
        "r = Symbol('r')\n",
        "equation = A - pi*r**2\n",
        "solutions = solve(equation, r)\n",
        "print(f\"Using sympy solver, when isolated, r = {solutions[0]}\") # Should be r = sqrt(A/pi)\n",
        "\n",
        "A = 20\n",
        "r = sqrt(A/pi)\n",
        "print(f\"The radius of the circle when the area is 20 square centimeters is r = {r}\")\n"
      ],
      "metadata": {
        "colab": {
          "base_uri": "https://localhost:8080/"
        },
        "id": "luSjsJzRib1c",
        "outputId": "4a2fa3b2-aedb-469a-a7fd-c232d350ffc4"
      },
      "execution_count": null,
      "outputs": [
        {
          "output_type": "stream",
          "name": "stdout",
          "text": [
            "Using sympy solver, when isolated, F = 9*C/5 + 32\n",
            "Using the formula, when C = 21 degrees, F = 69.8\n",
            "Using sympy solver, when isolated, r = -sqrt(A)/sqrt(pi)\n",
            "The radius of the circle when the area is 20 square centimeters is r = 2*sqrt(5)/sqrt(pi)\n"
          ]
        }
      ]
    },
    {
      "cell_type": "markdown",
      "source": [
        "# Worked Example 5"
      ],
      "metadata": {
        "id": "OVMxCp6rkobp"
      }
    },
    {
      "cell_type": "code",
      "source": [
        "# Worked Example 05\n",
        "\n",
        "# Calculate the gradient of the line passing through the points (-2, 0) and (0, 14)\n",
        "\n",
        "x1 = -2\n",
        "y1 = 0\n",
        "\n",
        "x2 = 0\n",
        "y2 = 14\n",
        "\n",
        "# Gradient (m) formula: (y2 - y1) / (x2 - x1)\n",
        "rise = y2 - y1\n",
        "run = x2 - x1\n",
        "m = rise / run\n",
        "print(f\"The gradient of the line passing through the points (-2, 0) and (0, 14) is m = {m}\")\n",
        "\n",
        "# Draw the line passing through the points (-2, 0) and (0, 14)\n",
        "plt.plot([x1, x2], [y1, y2], color='red')\n",
        "\n",
        "# Label the x and y axis\n",
        "plt.xlabel('x')\n",
        "plt.ylabel('y')\n",
        "plt.title('Line passing through (-2, 0) and (0, 14)')\n",
        "\n",
        "# Specify the x and y axis limits\n",
        "plt.xlim(-5, 5)\n",
        "plt.ylim(-5, 20)\n",
        "\n",
        "# Make x and y axis equal\n",
        "plt.axis('equal')\n",
        "\n",
        "# Make x and y a axis line in BOLD and BLACK\n",
        "plt.axhline(0, color='black', lw=2)\n",
        "plt.axvline(0, color='black', lw=2)\n",
        "\n",
        "plt.grid(True)\n",
        "\n",
        "# TODO\n",
        "plt.show()"
      ],
      "metadata": {
        "colab": {
          "base_uri": "https://localhost:8080/",
          "height": 490
        },
        "id": "ZaWXE3jBif86",
        "outputId": "5cd65985-244a-445e-8306-4d4541b2bd5d"
      },
      "execution_count": null,
      "outputs": [
        {
          "output_type": "stream",
          "name": "stdout",
          "text": [
            "The gradient of the line passing through the points (-2, 0) and (0, 14) is m = 7.0\n"
          ]
        },
        {
          "output_type": "display_data",
          "data": {
            "text/plain": [
              "<Figure size 640x480 with 1 Axes>"
            ],
            "image/png": "[encoded data removed]"
          },
          "metadata": {}
        }
      ]
    },
    {
      "cell_type": "markdown",
      "source": [
        "# Worked Example 6"
      ],
      "metadata": {
        "id": "11cHJDGkkxFh"
      }
    },
    {
      "cell_type": "code",
      "source": [
        "# Worked Example 06\n",
        "\n",
        "# Find the gradient (accurate to 3 decial places) of a line make an angle of 40 degress with the positive x-axis.\n",
        "\n",
        "angle = 40\n",
        "radians = math.radians(angle)\n",
        "m = math.tan(radians)\n",
        "\n",
        "print(f\"The gradient of the line making an angle of 40 degrees with the positive x-axis is m = {m:.3f}\") # should be 0.839\n",
        "\n",
        "# Find the gradient of the line making an angle of 60 degrees with the *negative* x-axis. Express the answer to 2 decimal places.\n",
        "\n",
        "angle = 60\n",
        "radians = math.radians(180 - angle)\n",
        "m = math.tan(radians)\n",
        "print(f\"The gradient of the line making an angle of 60 degrees with the negative x-axis is m = {m:.2f}\") # should be -1.73\n",
        "\n",
        "# TODO Draw a line on 2D plane that makes an angle of 60 degrees to the negative x-axis\n"
      ],
      "metadata": {
        "colab": {
          "base_uri": "https://localhost:8080/"
        },
        "id": "vnqa2hooikMt",
        "outputId": "5234aac2-2145-4cab-bee5-7ffd41029f4b"
      },
      "execution_count": null,
      "outputs": [
        {
          "output_type": "stream",
          "name": "stdout",
          "text": [
            "The gradient of the line making an angle of 40 degrees with the positive x-axis is m = 0.839\n",
            "The gradient of the line making an angle of 60 degrees with the negative x-axis is m = -1.73\n"
          ]
        }
      ]
    },
    {
      "cell_type": "markdown",
      "source": [
        "# Worked Example 7"
      ],
      "metadata": {
        "id": "MTpN7O8DnOT9"
      }
    },
    {
      "cell_type": "code",
      "source": [
        "# Worked Example 07\n",
        "\n",
        "# Sketch the graph of the linear equation y = -6*x + 15\n",
        "\n",
        "# Define the linear equation\n",
        "# def example7(x):\n",
        "def linear_eq(x):\n",
        "    return -6 * x + 15\n",
        "\n",
        "# Generate x values\n",
        "x_values = np.linspace(-1, 4, 400)\n",
        "# Generate y values\n",
        "y_values = linear_eq(x_values)\n",
        "\n",
        "# Plot the linear equation\n",
        "plt.plot(x_values, y_values, label='y = -6*x + 15')\n",
        "\n",
        "# Label the x and y axis\n",
        "plt.xlabel('x')\n",
        "plt.ylabel('y')\n",
        "plt.title('Graph of y = -6*x + 15')\n",
        "\n",
        "# Specify the x and y axis limits\n",
        "plt.xlim(-1, 4)\n",
        "plt.ylim(-2, 17)\n",
        "\n",
        "# Make x and y axis equal\n",
        "plt.axis('equal')\n",
        "\n",
        "# Make x and y axis line in BOLD and BLACK\n",
        "plt.axhline(0, color='black', lw=2)\n",
        "plt.axvline(0, color='black', lw=2)\n",
        "\n",
        "# Show x-intercept and y-intercept on the graph\n",
        "plt.plot(2.5, 0, 'ro') # x-intercept\n",
        "plt.plot(0, 15, 'ro') # y-intercept\n",
        "\n",
        "# Annotate the x-intercept and y-intercept\n",
        "plt.annotate('x-intercept (2.5, 0)', xy=(2.5, 0), xytext=(2, 2),\n",
        "             arrowprops=dict(facecolor='black', shrink=0.05))\n",
        "plt.annotate('y-intercept (0, 15)', xy=(0, 15), xytext=(0.5, 10),\n",
        "             arrowprops=dict(facecolor='black', shrink=0.05))\n",
        "\n",
        "plt.grid(True)\n",
        "plt.legend()\n",
        "plt.show()\n"
      ],
      "metadata": {
        "colab": {
          "base_uri": "https://localhost:8080/",
          "height": 472
        },
        "id": "084EqP1xinE1",
        "outputId": "45f0da2b-72c3-4984-fd0c-e5f5c6f0be3c"
      },
      "execution_count": null,
      "outputs": [
        {
          "output_type": "display_data",
          "data": {
            "text/plain": [
              "<Figure size 640x480 with 1 Axes>"
            ],
            "image/png": "[encoded data removed]"
          },
          "metadata": {}
        }
      ]
    },
    {
      "cell_type": "markdown",
      "source": [
        "# Worked Example 8"
      ],
      "metadata": {
        "id": "7atyfWqknXGv"
      }
    },
    {
      "cell_type": "code",
      "source": [
        "# Worked Example 08\n",
        "\n",
        "# Sketch the graph of the linear equation 3*x - 2*y = 12\n",
        "\n",
        "# Define the linear equation\n",
        "def linear_eq(x):\n",
        "    return (3 * x - 12) / 2\n",
        "\n",
        "x1 = 0\n",
        "y1 = linear_eq(x1)\n",
        "\n",
        "x2 = 4\n",
        "y2 = linear_eq(x2)\n",
        "\n",
        "# Plot the linear equation\n",
        "plt.plot([x1, x2], [y1, y2], label='3*x - 2*y = 12')\n",
        "\n",
        "# Label the x and y axis\n",
        "plt.xlabel('x')\n",
        "plt.ylabel('y')\n",
        "plt.title('Graph of 3*x - 2*y = 12')\n",
        "\n",
        "# Specify the x and y axis limits\n",
        "plt.xlim(-1, 5)\n",
        "plt.ylim(-10, 10)\n",
        "\n",
        "# Make x and y axis equal\n",
        "plt.axis('equal')\n",
        "\n",
        "# Make x and y axis line in BOLD and BLACK\n",
        "plt.axhline(0, color='black', lw=2)\n",
        "plt.axvline(0, color='black', lw=2)\n",
        "\n",
        "# Show x-intercept and y-intercept on the graph\n",
        "x_intercept = 4  # When y = 0, 3*x - 2*0 = 12 => x = 4\n",
        "y_intercept = -6  # When x = 0, 3*0 - 2*y = 12 => y = -6\n",
        "plt.plot(x_intercept, 0, 'ro')  # x-intercept\n",
        "plt.plot(0, y_intercept, 'ro')  # y-intercept\n",
        "\n",
        "# Annotate the x-intercept and y-intercept\n",
        "plt.annotate('x-intercept (4, 0)', xy=(x_intercept, 0), xytext=(3, 2),\n",
        "             arrowprops=dict(facecolor='black', shrink=0.05))\n",
        "plt.annotate('y-intercept (0, -6)', xy=(0, y_intercept), xytext=(0.5, -8),\n",
        "             arrowprops=dict(facecolor='black', shrink=0.05))\n",
        "\n",
        "plt.grid(True)\n",
        "plt.legend()\n",
        "plt.show()"
      ],
      "metadata": {
        "colab": {
          "base_uri": "https://localhost:8080/",
          "height": 611
        },
        "id": "q4hbBlQ6iqXW",
        "outputId": "d125e555-a77c-4e92-d02c-4d6213c4e1cf"
      },
      "execution_count": null,
      "outputs": [
        {
          "output_type": "display_data",
          "data": {
            "text/plain": [
              "<Figure size 640x480 with 1 Axes>"
            ],
            "image/png": "[encoded data removed]"
          },
          "metadata": {}
        }
      ]
    },
    {
      "cell_type": "markdown",
      "source": [
        "# Worked Example 9"
      ],
      "metadata": {
        "id": "6aoJ9ifinaMw"
      }
    },
    {
      "cell_type": "code",
      "source": [
        "# Worked Example 09\n",
        "\n",
        "# Sketch the graph of the linear equation 4*x - 3*y = 0\n",
        "\n",
        "x1 = 0\n",
        "y1 = 0\n",
        "\n",
        "x2 = 1\n",
        "y2 = 4/3\n",
        "\n",
        "# Plot the linear equation\n",
        "plt.plot([x1, x2], [y1, y2], label='4*x - 3*y = 0')\n",
        "\n",
        "# Label the x and y axis\n",
        "plt.xlabel('x')\n",
        "plt.ylabel('y')\n",
        "plt.title('Graph of 4*x - 3*y = 0')\n",
        "\n",
        "# Specify the x and y axis limits\n",
        "plt.xlim(-1, 2)\n",
        "plt.ylim(-1, 2)\n",
        "\n",
        "# Make x and y axis equal\n",
        "plt.axis('equal')\n",
        "\n",
        "# Make x and y axis line in BOLD and BLACK\n",
        "plt.axhline(0, color='black', lw=2)\n",
        "plt.axvline(0, color='black', lw=2)\n",
        "\n",
        "# Show x-intercept and y-intercept on the graph\n",
        "x_intercept = 0  # When y = 0, 4*x - 3*0 = 0 => x = 0\n",
        "y_intercept = 0  # When x = 0, 4*0 - 3*y = 0 => y = 0\n",
        "plt.plot(x_intercept, 0, 'ro')  # x-intercept\n",
        "plt.plot(0, y_intercept, 'ro')  # y-intercept\n",
        "\n",
        "# Annotate the x-intercept and y-intercept\n",
        "plt.annotate('x-intercept (0, 0)', xy=(x_intercept, 0), xytext=(0.5, 0.5),\n",
        "             arrowprops=dict(facecolor='black', shrink=0.05))\n",
        "plt.annotate('y-intercept (0, 0)', xy=(0, y_intercept), xytext=(0.5, 0.5),\n",
        "             arrowprops=dict(facecolor='black', shrink=0.05))\n",
        "\n",
        "# Annotate the point (x2, y2)\n",
        "plt.plot(x2, y2, 'bo')  # point (x2, y2)\n",
        "plt.annotate(f'point ({x2}, {y2:.2f})', xy=(x2, y2), xytext=(x2 + 0.2, y2 - 0.2),\n",
        "             arrowprops=dict(facecolor='blue', shrink=0.05))\n",
        "\n",
        "plt.grid(True)\n",
        "plt.legend()\n",
        "plt.show()"
      ],
      "metadata": {
        "colab": {
          "base_uri": "https://localhost:8080/",
          "height": 472
        },
        "id": "cDiC4kvfitRq",
        "outputId": "5d3b9610-1d80-4e9a-8e22-85d48e7771e0"
      },
      "execution_count": null,
      "outputs": [
        {
          "output_type": "display_data",
          "data": {
            "text/plain": [
              "<Figure size 640x480 with 1 Axes>"
            ],
            "image/png": "[encoded data removed]"
          },
          "metadata": {}
        }
      ]
    },
    {
      "cell_type": "markdown",
      "source": [
        "# Worked Example 10"
      ],
      "metadata": {
        "id": "OI-1hEQenfcJ"
      }
    },
    {
      "cell_type": "code",
      "source": [
        "# Worked Example 10\n",
        "\n",
        "# Use the substitution method to solve the following system of equations:\n",
        "# -2*x + 7*y = 8\n",
        "# y = 3*x - 1\n",
        "\n",
        "# Define the symbols\n",
        "x = Symbol('x')\n",
        "y = Symbol('y')\n",
        "\n",
        "# Define the equations\n",
        "equation1 = -2*x + 7*y - 8\n",
        "equation2 = y - (3*x - 1)\n",
        "\n",
        "# Solve the system of equations\n",
        "solutions = solve((equation1, equation2), (x, y))\n",
        "print(f\"Using sympy solver, the solution to the system of equations is x = {solutions[x]}, y = {solutions[y]}\") # Should be x = 15/19, y = 26/19\n",
        "\n",
        "# Verify the solution\n",
        "# Substitute the values of x and y into the equations\n",
        "x_val = solutions[x]\n",
        "y_val = solutions[y]\n",
        "\n",
        "equation1_val = -2*x_val + 7*y_val -8\n",
        "equation2_val = y_val - (3*x_val - 1)\n",
        "\n",
        "print(f\"Verification: -2*{x_val} + 7*{y_val} = {equation1_val}\")\n",
        "print(f\"Verification: {y_val} - (3*{x_val} - 1) = {equation2_val}\")"
      ],
      "metadata": {
        "colab": {
          "base_uri": "https://localhost:8080/"
        },
        "id": "L0z2AL2JiwZ4",
        "outputId": "e10a2e95-7733-4c69-b971-ca3ff1386b8f"
      },
      "execution_count": null,
      "outputs": [
        {
          "output_type": "stream",
          "name": "stdout",
          "text": [
            "Using sympy solver, the solution to the system of equations is x = 15/19, y = 26/19\n",
            "Verification: -2*15/19 + 7*26/19 = 0\n",
            "Verification: 26/19 - (3*15/19 - 1) = 0\n"
          ]
        }
      ]
    },
    {
      "cell_type": "markdown",
      "source": [
        "# Worked Example 11"
      ],
      "metadata": {
        "id": "7E2ZqD3enwBb"
      }
    },
    {
      "cell_type": "code",
      "source": [
        "# Worked Example 11\n",
        "\n",
        "# Use the elimination method to solve the following system of equations:\n",
        "# 2*x + 9*y = -5\n",
        "# 5*x - 2*y -12 = 0\n",
        "\n",
        "# Define the symbols\n",
        "x = Symbol('x')\n",
        "y = Symbol('y')\n",
        "\n",
        "# Define the equations\n",
        "equation1 = 2*x + 9*y + 5\n",
        "equation2 = 5*x - 2*y - 12\n",
        "\n",
        "# Multiply the first equation by 5 and the second equation by 2 to align the coefficients of x\n",
        "equation1_multiplied = 5 * equation1\n",
        "equation2_multiplied = 2 * equation2\n",
        "\n",
        "# Subtract the second equation from the first to eliminate x\n",
        "elimination_equation = equation1_multiplied - equation2_multiplied\n",
        "\n",
        "# Solve for y\n",
        "solutions_y = solve(elimination_equation, y)\n",
        "y_val = solutions_y[0]\n",
        "\n",
        "# Substitute y back into one of the original equations to solve for x\n",
        "equation1_substituted = equation1.subs(y, y_val)\n",
        "solutions_x = solve(equation1_substituted, x)\n",
        "x_val = solutions_x[0]\n",
        "\n",
        "print(f\"Using the elimination method, the solution to the system of equations is x = {x_val}, y = {y_val}\")\n",
        "\n",
        "# TODO/NOTE: We can also use solve() directly on the system of equations to get the solution"
      ],
      "metadata": {
        "colab": {
          "base_uri": "https://localhost:8080/"
        },
        "id": "UZUbsx_Ai0uK",
        "outputId": "ac3bf066-34aa-4ba0-b614-e93c3319cafd"
      },
      "execution_count": null,
      "outputs": [
        {
          "output_type": "stream",
          "name": "stdout",
          "text": [
            "Using the elimination method, the solution to the system of equations is x = 2, y = -1\n"
          ]
        }
      ]
    },
    {
      "cell_type": "markdown",
      "source": [
        "# Worked Example 12"
      ],
      "metadata": {
        "id": "-I5KjyCdnyf_"
      }
    },
    {
      "cell_type": "code",
      "source": [
        "# Worked Example 12\n",
        "\n",
        "# Two shoppers buy the following at a fruit shop, paying the amount given.\n",
        "# What was the cost of each apple and each banana?\n",
        "# Shopper 1: 4 apples and 3 bananas for $2.59\n",
        "# Shopper 2: 6 apples and 5 bananas for $4.11\n",
        "\n",
        "# The cost of apples (in cents)\n",
        "a = Symbol('a')\n",
        "# The cost of bananas (in cents)\n",
        "b = Symbol('b')\n",
        "\n",
        "# Define the equations\n",
        "equation1 = 4*a + 3*b - 259\n",
        "equation2 = 6*a + 5*b - 411\n",
        "solutions = solve((equation1, equation2), (a, b))\n",
        "\n",
        "print(f\"Using sympy solver, the cost of each apple is {solutions[a]} cents and the cost of each banana is {solutions[b]} cents\") # Should be a = 31, b = 45\n"
      ],
      "metadata": {
        "colab": {
          "base_uri": "https://localhost:8080/"
        },
        "id": "gsrgAeQui5dl",
        "outputId": "4530c79e-12d4-4c65-e49a-8135b0a9fcdc"
      },
      "execution_count": null,
      "outputs": [
        {
          "output_type": "stream",
          "name": "stdout",
          "text": [
            "Using sympy solver, the cost of each apple is 31 cents and the cost of each banana is 45 cents\n"
          ]
        }
      ]
    },
    {
      "cell_type": "markdown",
      "source": [
        "# Worked Example 13"
      ],
      "metadata": {
        "id": "OsmK-p0Hn03X"
      }
    },
    {
      "cell_type": "code",
      "source": [
        "# Worked Example 13\n",
        "\n",
        "# Find the midpoint of the line segment joining the points (5, 9) and (-3, 11)\n",
        "\n",
        "x1 = 5\n",
        "y1 = 9\n",
        "\n",
        "x2 = -3\n",
        "y2 = 11\n",
        "\n",
        "# Midpoint formula: ((x1 + x2) / 2, (y1 + y2) / 2)\n",
        "midpoint_x = (x1 + x2) / 2\n",
        "midpoint_y = (y1 + y2) / 2\n",
        "\n",
        "print(f\"The midpoint of the line segment joining the points (5, 9) and (-3, 11) is ({midpoint_x}, {midpoint_y})\")\n"
      ],
      "metadata": {
        "colab": {
          "base_uri": "https://localhost:8080/"
        },
        "id": "anvqbtRHi92w",
        "outputId": "3c213b11-ecea-44fa-dad0-821c49089375"
      },
      "execution_count": null,
      "outputs": [
        {
          "output_type": "stream",
          "name": "stdout",
          "text": [
            "The midpoint of the line segment joining the points (5, 9) and (-3, 11) is (1.0, 10.0)\n"
          ]
        }
      ]
    },
    {
      "cell_type": "markdown",
      "source": [
        "# Worked Example 14"
      ],
      "metadata": {
        "id": "X5Joc6Idn20W"
      }
    },
    {
      "cell_type": "markdown",
      "source": [],
      "metadata": {
        "id": "r4gdCdsbn4-y"
      }
    },
    {
      "cell_type": "code",
      "source": [
        "# Worked Example 14\n",
        "\n",
        "# y = f(x) = 2*x*2 + 3*x - 10\n",
        "\n",
        "# Define the function\n",
        "def f(x):\n",
        "    return 2*x**2 + 3*x - 10\n",
        "\n",
        "# Evaluate the discriminant\n",
        "a = 2\n",
        "b = 3\n",
        "c = -10\n",
        "\n",
        "discriminant = b**2 - 4*a*c\n",
        "print(f\"The discriminant of the quadratic function 2*x**2 + 3*x - 10 is {discriminant}\")\n",
        "\n",
        "if discriminant > 0:\n",
        "    print(\"The discriminant is positive, so the quadratic function has two real roots.\")\n",
        "elif discriminant == 0:\n",
        "    print(\"The discriminant is zero, so the quadratic function has one real root.\")\n",
        "else:\n",
        "    print(\"The discriminant is negative, so the quadratic function has two complex roots.\")\n",
        "\n",
        "\n",
        "# Find the x-intercepts\n",
        "x1 = (-b + sqrt(discriminant)) / (2*a)\n",
        "x2 = (-b - sqrt(discriminant)) / (2*a)\n",
        "\n",
        "print(f\"The x-intercepts of the quadratic function 2*x**2 + 3*x - 10 are x = {x1} and x = {x2}\")\n"
      ],
      "metadata": {
        "colab": {
          "base_uri": "https://localhost:8080/"
        },
        "id": "sRgAW2E6jChQ",
        "outputId": "f02ca40c-61f5-4e7d-9aed-32628dee86a3"
      },
      "execution_count": null,
      "outputs": [
        {
          "output_type": "stream",
          "name": "stdout",
          "text": [
            "The discriminant of the quadratic function 2*x**2 + 3*x - 10 is -23\n",
            "The discriminant is negative, so the quadratic function has two complex roots.\n",
            "The x-intercepts of the quadratic function 2*x**2 + 3*x - 10 are x = -3/4 + sqrt(23)*I/4 and x = -3/4 - sqrt(23)*I/4\n"
          ]
        }
      ]
    },
    {
      "cell_type": "markdown",
      "source": [
        "# Worked Example 15"
      ],
      "metadata": {
        "id": "8CIQE5uxn_7T"
      }
    },
    {
      "cell_type": "code",
      "source": [
        "# Worked Example 15\n",
        "\n",
        "# Define the function\n",
        "def f15(x):\n",
        "    return 12 - 5*x - 2*x**2\n",
        "\n",
        "# Evaluate the discriminant\n",
        "a = -2\n",
        "b = -5\n",
        "c = 12\n",
        "\n",
        "discriminant = b**2 - 4*a*c\n",
        "print(f\"The discriminant of the quadratic function 12 - 5*x - 2*x**2 is {discriminant}\")\n",
        "\n",
        "if discriminant > 0:\n",
        "    print(\"The discriminant is positive, so the quadratic function has two real roots.\")\n",
        "elif discriminant == 0:\n",
        "    print(\"The discriminant is zero, so the quadratic function has one real root.\")\n",
        "else:\n",
        "    print(\"The discriminant is negative, so the quadratic function has two complex roots.\")\n",
        "\n",
        "# Find the x-intercepts\n",
        "x1 = (-b + sqrt(discriminant)) / (2*a)\n",
        "x2 = (-b - sqrt(discriminant)) / (2*a)\n",
        "\n",
        "print(f\"The x-intercepts of the quadratic function 12 - 5*x - 2*x**2 are x = {x1} and x = {x2}\")\n",
        "\n",
        "\"\"\"\n",
        "Prompt: Draw f15() on the graph. Range for x from -6 to 4. Range for y from -2 to 16.\n",
        "Express all x-interceptors and y-interceptros on the graph.\n",
        "\"\"\"\n",
        "# Generate x values\n",
        "x_values = np.linspace(-6, 3, 100)\n",
        "# Generate y values\n",
        "y_values = f15(x_values)\n",
        "\n",
        "# Plot the quadratic function\n",
        "plt.plot(x_values, y_values, label='12 - 5*x - 2*x**2')\n",
        "\n",
        "# Label the x and y axis\n",
        "plt.xlabel('x')\n",
        "plt.ylabel('y')\n",
        "plt.title('Graph of 12 - 5*x - 2*x**2')\n",
        "\n",
        "# Specify the x and y axis limits\n",
        "# TDOD: Change the x and y axis limits to match the range\n",
        "\n",
        "plt.xlim(-6, 4)\n",
        "plt.ylim(-2, 16)\n",
        "\n",
        "# Make x and y axis equal\n",
        "plt.axis('equal')\n",
        "\n",
        "# Make x and y axis line in BOLD and BLACK\n",
        "plt.axhline(0, color='black', lw=2)\n",
        "plt.axvline(0, color='black', lw=2)\n",
        "\n",
        "# Show x-intercepts and y-intercept on the graph\n",
        "plt.plot(x1, 0, 'ro')  # x-intercept 1\n",
        "plt.plot(x2, 0, 'ro')  # x-intercept 2\n",
        "plt.plot(0, f15(0), 'ro')  # y-intercept\n",
        "\n",
        "# Annotate the x-intercepts and y-intercept\n",
        "plt.annotate(f'x-intercept ({x1:.2f}, 0)', xy=(x1, 0), xytext=(x1, 2),\n",
        "             arrowprops=dict(facecolor='black', shrink=0.05))\n",
        "plt.annotate(f'x-intercept ({x2:.2f}, 0)', xy=(x2, 0), xytext=(x2, 2),\n",
        "             arrowprops=dict(facecolor='black', shrink=0.05))\n",
        "plt.annotate(f'y-intercept (0, {f15(0):.2f})', xy=(0, f15(0)), xytext=(1, f15(0) - 2),\n",
        "             arrowprops=dict(facecolor='black', shrink=0.05))\n",
        "\n",
        "plt.grid(True)\n",
        "plt.legend()\n",
        "plt.show()"
      ],
      "metadata": {
        "colab": {
          "base_uri": "https://localhost:8080/",
          "height": 527
        },
        "id": "ih_waJwSjFFI",
        "outputId": "f6008c54-cae8-4d41-c1a9-e3f7aaecf5e4"
      },
      "execution_count": null,
      "outputs": [
        {
          "output_type": "stream",
          "name": "stdout",
          "text": [
            "The discriminant of the quadratic function 12 - 5*x - 2*x**2 is 121\n",
            "The discriminant is positive, so the quadratic function has two real roots.\n",
            "The x-intercepts of the quadratic function 12 - 5*x - 2*x**2 are x = -4 and x = 3/2\n"
          ]
        },
        {
          "output_type": "display_data",
          "data": {
            "text/plain": [
              "<Figure size 640x480 with 1 Axes>"
            ],
            "image/png": "[encoded data removed]"
          },
          "metadata": {}
        }
      ]
    },
    {
      "cell_type": "markdown",
      "source": [
        "# Worked Example 16"
      ],
      "metadata": {
        "id": "4c8859KpoEkK"
      }
    },
    {
      "cell_type": "code",
      "source": [
        "# Worked Example 16\n",
        "\n",
        "# Find the turning point of the function f15(x) = 12 - 5*x - 2*x**2\n",
        "\n",
        "# The turning point of a quadratic function occurs at the vertex of the parabola.\n",
        "# The x-coordinate of the turning point is given by -b / (2*a)\n",
        "# That is the midpoint of the x-intercepts\n",
        "# The y-coordinate of the turning point is given by f15(-b / (2*a))\n",
        "\n",
        "x_turning_point = -b / (2*a)\n",
        "y_turning_point = f15(x_turning_point)\n",
        "\n",
        "print(f\"The turning point of the quadratic function 12 - 5*x - 2*x**2 is ({x_turning_point}, {y_turning_point})\")\n",
        "\n",
        "# Sketch the graph of the quadratic function and mark the turning point"
      ],
      "metadata": {
        "colab": {
          "base_uri": "https://localhost:8080/"
        },
        "id": "jw896AcPjI0p",
        "outputId": "c48a3c96-66a7-41fc-da2f-acdaae639176"
      },
      "execution_count": null,
      "outputs": [
        {
          "output_type": "stream",
          "name": "stdout",
          "text": [
            "The turning point of the quadratic function 12 - 5*x - 2*x**2 is (-1.25, 15.125)\n"
          ]
        }
      ]
    },
    {
      "cell_type": "markdown",
      "source": [
        "# Worked Example 17"
      ],
      "metadata": {
        "id": "R2z4RbbpoK1d"
      }
    },
    {
      "cell_type": "markdown",
      "source": [
        "# Worked Example 18"
      ],
      "metadata": {
        "id": "XH9yokTzsYoM"
      }
    },
    {
      "cell_type": "code",
      "source": [
        "# Worked Example 18\n",
        "\n",
        "# f18(x) = 3 + 8*x - 2*x**2\n",
        "# Sketch the graph of the function and find the x-intercepts, y-intercept, and turning point.\n",
        "\n",
        "# Define the function\n",
        "def f18(x):\n",
        "    return 3 + 8*x - 2*x**2\n",
        "\n",
        "# Evaluate the discriminant\n",
        "a = -2\n",
        "b = 8\n",
        "c = 3\n",
        "\n",
        "discriminant = b**2 - 4*a*c\n",
        "print(f\"The discriminant of the quadratic function 3 + 8*x - 2*x**2 is {discriminant}\")\n",
        "\n",
        "if discriminant > 0:\n",
        "    print(\"The discriminant is positive, so the quadratic function has two real roots.\")\n",
        "elif discriminant == 0:\n",
        "    print(\"The discriminant is zero, so the quadratic function has one real root.\")\n",
        "else:\n",
        "    print(\"The discriminant is negative, so the quadratic function has two complex roots.\")\n",
        "\n",
        "# Find the x-intercepts\n",
        "x1 = (-b + sqrt(discriminant)) / (2*a)\n",
        "x2 = (-b - sqrt(discriminant)) / (2*a)\n",
        "\n",
        "print(f\"The x-intercepts of the quadratic function 3 + 8*x - 2*x**2 are x = {x1} and x = {x2}\")\n",
        "\n",
        "# Find the y-intercept\n",
        "y_intercept = f18(0)\n",
        "print(f\"The y-intercept of the quadratic function 3 + 8*x - 2*x**2 is y = {y_intercept}\")\n",
        "\n",
        "# Find the turning point\n",
        "x_turning_point = -b / (2*a)\n",
        "y_turning_point = f18(x_turning_point)\n",
        "print(f\"The turning point of the quadratic function 3 + 8*x - 2*x**2 is ({x_turning_point}, {y_turning_point})\")\n",
        "\n",
        "# Generate x values\n",
        "x_values = np.linspace(-2, 5, 400)\n",
        "# Generate y values\n",
        "y_values = f18(x_values)\n",
        "\n",
        "# Plot the quadratic function\n",
        "plt.plot(x_values, y_values, label='3 + 8*x - 2*x**2')\n",
        "\n",
        "# Label the x and y axis\n",
        "plt.xlabel('x')\n",
        "plt.ylabel('y')\n",
        "plt.title('Graph of 3 + 8*x - 2*x**2')\n",
        "\n",
        "# Specify the x and y axis limits\n",
        "plt.xlim(-2, 5)\n",
        "plt.ylim(-10, 20)\n",
        "\n",
        "# Make x and y axis equal\n",
        "plt.axis('equal')\n",
        "\n",
        "# Make x and y axis line in BOLD and BLACK\n",
        "plt.axhline(0, color='black', lw=2)\n",
        "plt.axvline(0, color='black', lw=2)\n",
        "\n",
        "# Show x-intercepts and y-intercept on the graph\n",
        "plt.plot(x1, 0, 'ro')  # x-intercept 1\n",
        "plt.plot(x2, 0, 'ro')  # x-intercept 2\n",
        "plt.plot(0, y_intercept, 'ro')  # y-intercept\n",
        "\n",
        "# Annotate the x-intercepts and y-intercept\n",
        "plt.annotate(f'x-intercept ({x1:.2f}, 0)', xy=(x1, 0), xytext=(x1, 2),\n",
        "             arrowprops=dict(facecolor='black', shrink=0.05))\n",
        "plt.annotate(f'x-intercept ({x2:.2f}, 0)', xy=(x2, 0), xytext=(x2, 2),\n",
        "             arrowprops=dict(facecolor='black', shrink=0.05))\n",
        "plt.annotate(f'y-intercept (0, {y_intercept:.2f})', xy=(0, y_intercept), xytext=(1, y_intercept - 2),\n",
        "             arrowprops=dict(facecolor='black', shrink=0.05))\n",
        "\n",
        "# Show the turning point on the graph\n",
        "plt.plot(x_turning_point, y_turning_point, 'bo')  # turning point\n",
        "plt.annotate(f'turning point ({x_turning_point:.2f}, {y_turning_point:.2f})', xy=(x_turning_point, y_turning_point), xytext=(x_turning_point + 0.5, y_turning_point - 2),\n",
        "             arrowprops=dict(facecolor='blue', shrink=0.05))\n",
        "\n",
        "plt.grid(True)\n",
        "plt.legend()\n",
        "plt.show()"
      ],
      "metadata": {
        "id": "thrQLXHpsg5H",
        "colab": {
          "base_uri": "https://localhost:8080/",
          "height": 563
        },
        "outputId": "34eb7f72-7b2b-43d2-a558-adb08853c36a"
      },
      "execution_count": null,
      "outputs": [
        {
          "output_type": "stream",
          "name": "stdout",
          "text": [
            "The discriminant of the quadratic function 3 + 8*x - 2*x**2 is 88\n",
            "The discriminant is positive, so the quadratic function has two real roots.\n",
            "The x-intercepts of the quadratic function 3 + 8*x - 2*x**2 are x = 2 - sqrt(22)/2 and x = 2 + sqrt(22)/2\n",
            "The y-intercept of the quadratic function 3 + 8*x - 2*x**2 is y = 3\n",
            "The turning point of the quadratic function 3 + 8*x - 2*x**2 is (2.0, 11.0)\n"
          ]
        },
        {
          "output_type": "display_data",
          "data": {
            "text/plain": [
              "<Figure size 640x480 with 1 Axes>"
            ],
            "image/png": "[encoded data removed]"
          },
          "metadata": {}
        }
      ]
    },
    {
      "cell_type": "markdown",
      "source": [
        "# Worked Example 19"
      ],
      "metadata": {
        "id": "JwKTaLjxseGc"
      }
    },
    {
      "cell_type": "code",
      "source": [],
      "metadata": {
        "id": "fzJ2qzXAsUhM"
      },
      "execution_count": null,
      "outputs": []
    },
    {
      "cell_type": "code",
      "source": [],
      "metadata": {
        "id": "k-5Cu5b5jNVC"
      },
      "execution_count": null,
      "outputs": []
    },
    {
      "cell_type": "code",
      "source": [
        "# Worked Example 19\n",
        "\n",
        "# The weight of a person t months after a gymnasium program is given by the function:\n",
        "# W(t) = 0.5*t**2 - 3*t + 80\n",
        "# where t in [0, 8] and W is in kilograms.\n",
        "# Find\n",
        "# a) The minimum weight of the person\n",
        "# b) The maximum weight of the person\n",
        "\n",
        "# Define the function\n",
        "def W(t):\n",
        "    return 0.5*t**2 - 3*t + 80\n",
        "\n",
        "# Generate t values\n",
        "t_values = np.linspace(0, 8, 100)\n",
        "# Generate W values\n",
        "W_values = W(t_values)\n",
        "\n",
        "W_min = min(W_values)\n",
        "W_max = max(W_values)\n",
        "\n",
        "print(f\"The minimum weight of the person is {W_min} kg\")\n",
        "print(f\"The maximum weight of the person is {W_max} kg\")\n",
        "\n",
        "# plot the graph of the function\n",
        "plt.plot(t_values, W_values, label='0.5*t**2 - 3*t + 80')\n",
        "\n",
        "# Label the x and y axis\n",
        "plt.xlabel('t')\n",
        "plt.ylabel('W')\n",
        "plt.title('Weight of a person t months after a gymnasium program')\n",
        "\n",
        "# Specify the x and y axis limits\n",
        "plt.xlim(0, 8)\n",
        "plt.ylim(0, 100)\n",
        "\n",
        "# Make x and y axis equal\n",
        "plt.axis('equal')\n",
        "\n",
        "# Make x and y axis line in BOLD and BLACK\n",
        "\n",
        "plt.axhline(0, color='black', lw=2)\n",
        "plt.axvline(0, color='black', lw=2)\n",
        "\n",
        "plt.grid(True)\n",
        "plt.legend()\n",
        "plt.show()"
      ],
      "metadata": {
        "colab": {
          "base_uri": "https://localhost:8080/",
          "height": 509
        },
        "id": "YZc2_VNQjREH",
        "outputId": "f044a740-7dfc-401e-c943-54757bccf740"
      },
      "execution_count": null,
      "outputs": [
        {
          "output_type": "stream",
          "name": "stdout",
          "text": [
            "The minimum weight of the person is 75.50005101520253 kg\n",
            "The maximum weight of the person is 88.0 kg\n"
          ]
        },
        {
          "output_type": "display_data",
          "data": {
            "text/plain": [
              "<Figure size 640x480 with 1 Axes>"
            ],
            "image/png": "[encoded data removed]"
          },
          "metadata": {}
        }
      ]
    },
    {
      "cell_type": "markdown",
      "source": [
        "No Worked example 19"
      ],
      "metadata": {
        "id": "DqVlnwE4jOat"
      }
    },
    {
      "cell_type": "markdown",
      "source": [
        "# Worked Example 20"
      ],
      "metadata": {
        "id": "vK8GnkOdoRcE"
      }
    },
    {
      "cell_type": "code",
      "source": [
        "# Worked Example 20\n",
        "\n",
        "# Solve the quadratic equation x**2 - 2*x + 2 = 0 over C (complex numbers)\n",
        "\n",
        "# Define the coefficients\n",
        "a = 1\n",
        "b = -2\n",
        "c = 2\n",
        "\n",
        "# Calculate the discriminant\n",
        "discriminant = b**2 - 4*a*c\n",
        "\n",
        "# Calculate the roots\n",
        "root1 = (-b + cmath.sqrt(discriminant)) / (2*a)\n",
        "\n",
        "root2 = (-b - cmath.sqrt(discriminant)) / (2*a)\n",
        "\n",
        "print(f\"The roots of the quadratic equation x**2 - 2*x + 2 = 0 are x = {root1} and x = {root2}\")"
      ],
      "metadata": {
        "colab": {
          "base_uri": "https://localhost:8080/"
        },
        "id": "SZzaT9ByjWms",
        "outputId": "6e3744fd-05b4-4388-c003-780c8f30ae90"
      },
      "execution_count": null,
      "outputs": [
        {
          "output_type": "stream",
          "name": "stdout",
          "text": [
            "The roots of the quadratic equation x**2 - 2*x + 2 = 0 are x = (1+1j) and x = (1-1j)\n"
          ]
        }
      ]
    }
  ]
}